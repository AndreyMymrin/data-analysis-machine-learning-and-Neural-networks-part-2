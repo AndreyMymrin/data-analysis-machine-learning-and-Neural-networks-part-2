{
 "cells": [
  {
   "cell_type": "markdown",
   "id": "39f63c43",
   "metadata": {
    "id": "JYLSkWtOs48n",
    "pycharm": {
     "name": "#%% md\n"
    }
   },
   "source": [
    "# <a href=\"https://miptstats.github.io/courses/ad_mipt.html\">Phystech@DataScience</a>\n",
    "## Домашнее задание 8\n",
    "\n",
    "**Правила, <font color=\"red\">прочитайте внимательно</font>:**\n",
    "\n",
    "* Выполненную работу нужно отправить телеграм-боту `@miptstats_pds_bot`. Для начала работы с ботом каждый раз отправляйте `/start`. **Работы, присланные иным способом, не принимаются.**\n",
    "* Дедлайн см. в боте. После дедлайна работы не принимаются кроме случаев наличия уважительной причины.\n",
    "* Прислать нужно ноутбук в формате `ipynb`.\n",
    "* Выполнять задание необходимо полностью самостоятельно. **При обнаружении списывания все участники списывания будут сдавать устный зачет.**\n",
    "* Решения, размещенные на каких-либо интернет-ресурсах, не принимаются. Кроме того, публикация решения в открытом доступе может быть приравнена к предоставлении возможности списать.\n",
    "* Для выполнения задания используйте этот ноутбук в качестве основы, ничего не удаляя из него. Можно добавлять необходимое количество ячеек.\n",
    "* Комментарии к решению пишите в markdown-ячейках.\n",
    "* Выполнение задания (ход решения, выводы и пр.) должно быть осуществлено на русском языке.\n",
    "* Если код будет не понятен проверяющему, оценка может быть снижена.\n",
    "* Никакой код из данного задания при проверке запускаться не будет. *Если код студента не выполнен, недописан и т.д., то он не оценивается.*\n",
    "* **Код из рассказанных на занятиях ноутбуков можно использовать без ограничений.**\n",
    "\n",
    "**Правила оформления теоретических задач:**\n",
    "\n",
    "* Решения необходимо прислать одним из следующих способов:\n",
    "  * фотографией в правильной ориентации, где все четко видно, а почерк разборчив,\n",
    "    * отправив ее как файл боту вместе с ноутбуком *или*\n",
    "    * вставив ее в ноутбук посредством `Edit -> Insert Image` (<font color=\"red\">фото, вставленные ссылкой, не принимаются</font>);\n",
    "  * в виде $\\LaTeX$ в markdown-ячейках.\n",
    "* Решения не проверяются, если какое-то требование не выполнено. Особенно внимательно все проверьте в случае выбора второго пункта (вставки фото в ноутбук). <font color=\"red\"><b>Неправильно вставленные фотографии могут не передаться при отправке.</b></font> Для проверки попробуйте переместить `ipynb` в другую папку и открыть его там.\n",
    "* В решениях поясняйте, чем вы пользуетесь, хотя бы кратко. Например, если пользуетесь независимостью, то достаточно подписи вида \"*X и Y незав.*\"\n",
    "* Решение, в котором есть только ответ, и отсутствуют вычисления, оценивается в 0 баллов.\n",
    "\n",
    "**Баллы за задание:**\n",
    "\n",
    "* Задача 1 &mdash;  40 баллов\n",
    "\n",
    "\n",
    "\n",
    "\n",
    "\n",
    "\n",
    "-----"
   ]
  },
  {
   "cell_type": "code",
   "execution_count": null,
   "id": "8b36c456",
   "metadata": {},
   "outputs": [],
   "source": [
    "# Bot check\n",
    "\n",
    "# HW_ID: phds_hw8\n",
    "# Бот проверит этот ID и предупредит, если случайно сдать что-то не то.\n",
    "\n",
    "# Status: final\n",
    "# Перед отправкой в финальном решении удали \"not\" в строчке выше.\n",
    "# Так бот проверит, что ты отправляешь финальную версию, а не промежуточную.\n",
    "# Никакие значения в этой ячейке не влияют на факт сдачи работы."
   ]
  },
  {
   "cell_type": "code",
   "execution_count": 1,
   "id": "69110754",
   "metadata": {
    "id": "lQJgbOfCqTo0",
    "pycharm": {
     "name": "#%%\n"
    }
   },
   "outputs": [],
   "source": [
    "import numpy as np\n",
    "import pandas as pd\n",
    "\n",
    "import matplotlib.pyplot as plt\n",
    "import seaborn as sns\n",
    "sns.set(font_scale=1.3)\n",
    "%matplotlib inline\n",
    "\n",
    "from sklearn.ensemble import RandomForestClassifier\n",
    "from sklearn.metrics import accuracy_score\n",
    "from sklearn.preprocessing import LabelEncoder, OneHotEncoder\n",
    "\n",
    "\n",
    "from sklearn.model_selection import train_test_split"
   ]
  },
  {
   "cell_type": "markdown",
   "id": "1ff50b12749539ae",
   "metadata": {},
   "source": [
    "## Задача 1\n",
    "\n",
    "Попробуем поработать с категориальными признаками в задаче бинарной классификации.\n",
    "\n",
    "В качестве данных возьмем следующиq датасет:\n",
    "\n",
    "<https://www.kaggle.com/datasets/devzohaib/mushroom-edibility-classification?select=secondary_data.csv>. Будем предсказывать, является гриб съедобным или ядовитым."
   ]
  },
  {
   "cell_type": "markdown",
   "id": "3fbb6d4ddcabb91",
   "metadata": {},
   "source": [
    "#### Загрузка данных:"
   ]
  },
  {
   "cell_type": "code",
   "execution_count": 2,
   "id": "69ecb581b272e991",
   "metadata": {},
   "outputs": [],
   "source": [
    "data = pd.read_csv('secondary_data.csv', sep=';').drop(['spore-print-color', 'gill-spacing', 'cap-surface', 'gill-attachment', 'stem-root', 'stem-surface', 'veil-type', 'veil-color'], axis=1).dropna()"
   ]
  },
  {
   "cell_type": "code",
   "execution_count": 3,
   "id": "2042e81c27b207da",
   "metadata": {},
   "outputs": [],
   "source": [
    "X = data.drop('class', axis=1)\n",
    "y =  (data['class'] == 'p').astype('int')\n",
    "X_train, X_test, y_train, y_test = train_test_split(X, y, test_size=0.25, random_state=0)"
   ]
  },
  {
   "cell_type": "markdown",
   "id": "817da02ea1efef0b",
   "metadata": {},
   "source": [
    "Найдем категориальные столбцы:"
   ]
  },
  {
   "cell_type": "code",
   "execution_count": 4,
   "id": "591ef1f4",
   "metadata": {},
   "outputs": [
    {
     "data": {
      "text/html": [
       "<div>\n",
       "<style scoped>\n",
       "    .dataframe tbody tr th:only-of-type {\n",
       "        vertical-align: middle;\n",
       "    }\n",
       "\n",
       "    .dataframe tbody tr th {\n",
       "        vertical-align: top;\n",
       "    }\n",
       "\n",
       "    .dataframe thead th {\n",
       "        text-align: right;\n",
       "    }\n",
       "</style>\n",
       "<table border=\"1\" class=\"dataframe\">\n",
       "  <thead>\n",
       "    <tr style=\"text-align: right;\">\n",
       "      <th></th>\n",
       "      <th>cap-diameter</th>\n",
       "      <th>cap-shape</th>\n",
       "      <th>cap-color</th>\n",
       "      <th>does-bruise-or-bleed</th>\n",
       "      <th>gill-color</th>\n",
       "      <th>stem-height</th>\n",
       "      <th>stem-width</th>\n",
       "      <th>stem-color</th>\n",
       "      <th>has-ring</th>\n",
       "      <th>ring-type</th>\n",
       "      <th>habitat</th>\n",
       "      <th>season</th>\n",
       "    </tr>\n",
       "  </thead>\n",
       "  <tbody>\n",
       "    <tr>\n",
       "      <th>0</th>\n",
       "      <td>15.26</td>\n",
       "      <td>x</td>\n",
       "      <td>o</td>\n",
       "      <td>f</td>\n",
       "      <td>w</td>\n",
       "      <td>16.95</td>\n",
       "      <td>17.09</td>\n",
       "      <td>w</td>\n",
       "      <td>t</td>\n",
       "      <td>g</td>\n",
       "      <td>d</td>\n",
       "      <td>w</td>\n",
       "    </tr>\n",
       "    <tr>\n",
       "      <th>1</th>\n",
       "      <td>16.60</td>\n",
       "      <td>x</td>\n",
       "      <td>o</td>\n",
       "      <td>f</td>\n",
       "      <td>w</td>\n",
       "      <td>17.99</td>\n",
       "      <td>18.19</td>\n",
       "      <td>w</td>\n",
       "      <td>t</td>\n",
       "      <td>g</td>\n",
       "      <td>d</td>\n",
       "      <td>u</td>\n",
       "    </tr>\n",
       "    <tr>\n",
       "      <th>2</th>\n",
       "      <td>14.07</td>\n",
       "      <td>x</td>\n",
       "      <td>o</td>\n",
       "      <td>f</td>\n",
       "      <td>w</td>\n",
       "      <td>17.80</td>\n",
       "      <td>17.74</td>\n",
       "      <td>w</td>\n",
       "      <td>t</td>\n",
       "      <td>g</td>\n",
       "      <td>d</td>\n",
       "      <td>w</td>\n",
       "    </tr>\n",
       "    <tr>\n",
       "      <th>3</th>\n",
       "      <td>14.17</td>\n",
       "      <td>f</td>\n",
       "      <td>e</td>\n",
       "      <td>f</td>\n",
       "      <td>w</td>\n",
       "      <td>15.77</td>\n",
       "      <td>15.98</td>\n",
       "      <td>w</td>\n",
       "      <td>t</td>\n",
       "      <td>p</td>\n",
       "      <td>d</td>\n",
       "      <td>w</td>\n",
       "    </tr>\n",
       "    <tr>\n",
       "      <th>4</th>\n",
       "      <td>14.64</td>\n",
       "      <td>x</td>\n",
       "      <td>o</td>\n",
       "      <td>f</td>\n",
       "      <td>w</td>\n",
       "      <td>16.53</td>\n",
       "      <td>17.20</td>\n",
       "      <td>w</td>\n",
       "      <td>t</td>\n",
       "      <td>p</td>\n",
       "      <td>d</td>\n",
       "      <td>w</td>\n",
       "    </tr>\n",
       "  </tbody>\n",
       "</table>\n",
       "</div>"
      ],
      "text/plain": [
       "   cap-diameter cap-shape cap-color does-bruise-or-bleed gill-color  \\\n",
       "0         15.26         x         o                    f          w   \n",
       "1         16.60         x         o                    f          w   \n",
       "2         14.07         x         o                    f          w   \n",
       "3         14.17         f         e                    f          w   \n",
       "4         14.64         x         o                    f          w   \n",
       "\n",
       "   stem-height  stem-width stem-color has-ring ring-type habitat season  \n",
       "0        16.95       17.09          w        t         g       d      w  \n",
       "1        17.99       18.19          w        t         g       d      u  \n",
       "2        17.80       17.74          w        t         g       d      w  \n",
       "3        15.77       15.98          w        t         p       d      w  \n",
       "4        16.53       17.20          w        t         p       d      w  "
      ]
     },
     "execution_count": 4,
     "metadata": {},
     "output_type": "execute_result"
    }
   ],
   "source": [
    "X.head()"
   ]
  },
  {
   "cell_type": "code",
   "execution_count": 5,
   "id": "f4965f1b87a1950",
   "metadata": {},
   "outputs": [],
   "source": [
    "cat_features = np.array(['cap-shape','cap-color','does-bruise-or-bleed','gill-color','stem-color',\\\n",
    "                'has-ring','ring-type','habitat','season'])"
   ]
  },
  {
   "cell_type": "markdown",
   "id": "aa287407b6e5227b",
   "metadata": {},
   "source": [
    "Сравните качество получаемых моделей в двух случаях: первую модель обучите на данных без учета категориальных признаков, а для обучения второй модели каждый категориальный признак преобразуйте наиболее подходящим методом: OneHotEncoding'ом, LabelEncoding'ом или MeanEncoding'ом, объясните свой выбор. В качестве модели используйте случайный лес. Для оценки качества выберите подходящую метрику.\n",
    "\n",
    "Не забывайте в процессе решения пояснять что вы делаете. "
   ]
  },
  {
   "cell_type": "code",
   "execution_count": 6,
   "id": "57557b9e",
   "metadata": {},
   "outputs": [],
   "source": [
    "X_train_no_cat = X_train.drop(cat_features, axis = 1)\n",
    "X_test_no_cat = X_test.drop(cat_features, axis = 1)"
   ]
  },
  {
   "cell_type": "code",
   "execution_count": 7,
   "id": "45a3dc32",
   "metadata": {},
   "outputs": [
    {
     "data": {
      "text/plain": [
       "RandomForestClassifier()"
      ]
     },
     "execution_count": 7,
     "metadata": {},
     "output_type": "execute_result"
    }
   ],
   "source": [
    "forest = RandomForestClassifier()\n",
    "forest.fit(X_train_no_cat, y_train)"
   ]
  },
  {
   "cell_type": "code",
   "execution_count": 8,
   "id": "90f1ad40",
   "metadata": {},
   "outputs": [],
   "source": [
    "predict_no_cat = forest.predict(X_test_no_cat)"
   ]
  },
  {
   "cell_type": "code",
   "execution_count": 32,
   "id": "46075f3b",
   "metadata": {},
   "outputs": [
    {
     "name": "stdout",
     "output_type": "stream",
     "text": [
      "accuracy score for model without categorial fiture = 79.60000000000001%\n",
      "\n"
     ]
    }
   ],
   "source": [
    "print(f\"accuracy score for model without categorial fiture = {accuracy_score(y_test,predict_no_cat).round(3)*100}%\\n\")"
   ]
  },
  {
   "cell_type": "markdown",
   "id": "f112e955",
   "metadata": {},
   "source": [
    "Каждый пятый умрёт))"
   ]
  },
  {
   "cell_type": "markdown",
   "id": "cbe02dd7",
   "metadata": {},
   "source": [
    "# Вторая модель"
   ]
  },
  {
   "cell_type": "code",
   "execution_count": 17,
   "id": "716fb823",
   "metadata": {},
   "outputs": [],
   "source": [
    "model = RandomForestClassifier()"
   ]
  },
  {
   "cell_type": "code",
   "execution_count": 18,
   "id": "991bd4c7",
   "metadata": {},
   "outputs": [
    {
     "name": "stdout",
     "output_type": "stream",
     "text": [
      "cap-shape: ['p' 's' 'x' 'f' 'o' 'c' 'b']\n",
      "cap-color: ['n' 'y' 'w' 'g' 'e' 'u' 'r' 'o' 'p' 'l' 'b' 'k']\n",
      "does-bruise-or-bleed: ['f' 't']\n",
      "gill-color: ['g' 'f' 'w' 'y' 'n' 'p' 'u' 'o' 'r' 'b' 'k' 'e']\n",
      "stem-color: ['y' 'o' 'w' 'n' 'g' 'f' 'e' 'u' 'k' 'l' 'p' 'r' 'b']\n",
      "has-ring: ['t' 'f']\n",
      "ring-type: ['e' 'f' 'r' 'l' 'p' 'g' 'z' 'm']\n",
      "habitat: ['m' 'd' 'l' 'h' 'g' 'u' 'w' 'p']\n",
      "season: ['a' 'w' 'u' 's']\n"
     ]
    }
   ],
   "source": [
    "for column in cat_features:\n",
    "    print(f'{column}: {X_train[column].unique()}')"
   ]
  },
  {
   "cell_type": "markdown",
   "id": "01d63e26",
   "metadata": {},
   "source": [
    "Мы не спектр изучаем, поэтому порядок цвета нам не очень важен. Также мы не хотим создавать много новых признаков для one-hot. Плюс цвет может быть очень важным признаком, а деревья плохо обращают внимание на one-hot признаки. Поэтому испоьзую LabelEncoder"
   ]
  },
  {
   "cell_type": "code",
   "execution_count": 19,
   "id": "9b1270f4",
   "metadata": {},
   "outputs": [
    {
     "data": {
      "text/plain": [
       "LabelEncoder()"
      ]
     },
     "execution_count": 19,
     "metadata": {},
     "output_type": "execute_result"
    }
   ],
   "source": [
    "label_encoder_color = LabelEncoder()\n",
    "label_encoder_color.fit(X_train[\"stem-color\"])"
   ]
  },
  {
   "cell_type": "code",
   "execution_count": 20,
   "id": "35b3cbbf",
   "metadata": {},
   "outputs": [],
   "source": [
    "X_train_enc = X_train.copy()\n",
    "X_test_enc = X_test.copy()"
   ]
  },
  {
   "cell_type": "code",
   "execution_count": 21,
   "id": "5d9bf2b8",
   "metadata": {},
   "outputs": [],
   "source": [
    "X_train_enc['cap-color'] = label_encoder_color.transform(X_train['cap-color'])\n",
    "X_train_enc['gill-color'] = label_encoder_color.transform(X_train['gill-color'])\n",
    "X_train_enc['stem-color'] = label_encoder_color.transform(X_train['stem-color'])\n",
    "\n",
    "X_test_enc['cap-color'] = label_encoder_color.transform(X_test['cap-color'])\n",
    "X_test_enc['gill-color'] = label_encoder_color.transform(X_test['gill-color'])\n",
    "X_test_enc['stem-color'] = label_encoder_color.transform(X_test['stem-color'])"
   ]
  },
  {
   "cell_type": "code",
   "execution_count": 22,
   "id": "8c26b646",
   "metadata": {},
   "outputs": [],
   "source": [
    "label_encoder = LabelEncoder()"
   ]
  },
  {
   "cell_type": "code",
   "execution_count": 23,
   "id": "8bff7a37",
   "metadata": {},
   "outputs": [],
   "source": [
    "label_labels = ['has-ring','does-bruise-or-bleed']"
   ]
  },
  {
   "cell_type": "code",
   "execution_count": 24,
   "id": "b97e8c8b",
   "metadata": {},
   "outputs": [],
   "source": [
    "label_encoder.fit(X_train['has-ring'])\n",
    "X_train_enc['has-ring'] = label_encoder.transform(X_train['has-ring'])\n",
    "X_test_enc['has-ring'] = label_encoder.transform(X_test['has-ring'])\n",
    "\n",
    "label_encoder.fit(X_train['does-bruise-or-bleed'])\n",
    "X_train_enc['does-bruise-or-bleed'] = label_encoder.transform(X_train['does-bruise-or-bleed'])\n",
    "X_test_enc['does-bruise-or-bleed'] = label_encoder.transform(X_test['does-bruise-or-bleed'])"
   ]
  },
  {
   "cell_type": "code",
   "execution_count": 25,
   "id": "a1a81dbc",
   "metadata": {},
   "outputs": [],
   "source": [
    "one_hot = OneHotEncoder()"
   ]
  },
  {
   "cell_type": "code",
   "execution_count": 26,
   "id": "a3fd8bc4",
   "metadata": {},
   "outputs": [],
   "source": [
    "one_hot_labels = ['cap-shape','ring-type','habitat','season']"
   ]
  },
  {
   "cell_type": "code",
   "execution_count": 27,
   "id": "7cec381b",
   "metadata": {},
   "outputs": [],
   "source": [
    "X_train_enc = pd.get_dummies(X_train_enc, columns = one_hot_labels)\n",
    "X_test_enc = pd.get_dummies(X_test_enc, columns = one_hot_labels)"
   ]
  },
  {
   "cell_type": "code",
   "execution_count": 29,
   "id": "dcab1ac8",
   "metadata": {},
   "outputs": [
    {
     "data": {
      "text/plain": [
       "RandomForestClassifier()"
      ]
     },
     "execution_count": 29,
     "metadata": {},
     "output_type": "execute_result"
    }
   ],
   "source": [
    "model.fit(X_train_enc, y_train)"
   ]
  },
  {
   "cell_type": "code",
   "execution_count": 30,
   "id": "a6ff11aa",
   "metadata": {},
   "outputs": [],
   "source": [
    "predict = model.predict(X_test_enc)"
   ]
  },
  {
   "cell_type": "code",
   "execution_count": 33,
   "id": "22435469",
   "metadata": {},
   "outputs": [
    {
     "name": "stdout",
     "output_type": "stream",
     "text": [
      "accuracy score for model with categorial fiture = 99.6%\n"
     ]
    }
   ],
   "source": [
    "print(f\"accuracy score for model with categorial fiture = {accuracy_score(y_test,predict).round(3)*100}%\")"
   ]
  },
  {
   "cell_type": "markdown",
   "id": "7d953503",
   "metadata": {},
   "source": [
    "Умрёт каждый 250й))"
   ]
  },
  {
   "cell_type": "markdown",
   "id": "b410ad4c",
   "metadata": {},
   "source": [
    "**Вывод**\n",
    "\n",
    "Очевидно, лучше преобразовать данные в понятные модели, чем попросту их выкинуть"
   ]
  }
 ],
 "metadata": {
  "kernelspec": {
   "display_name": "Python 3 (ipykernel)",
   "language": "python",
   "name": "python3"
  },
  "language_info": {
   "codemirror_mode": {
    "name": "ipython",
    "version": 3
   },
   "file_extension": ".py",
   "mimetype": "text/x-python",
   "name": "python",
   "nbconvert_exporter": "python",
   "pygments_lexer": "ipython3",
   "version": "3.9.13"
  }
 },
 "nbformat": 4,
 "nbformat_minor": 5
}
