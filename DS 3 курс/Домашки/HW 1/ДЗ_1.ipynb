{
  "cells": [
    {
      "cell_type": "markdown",
      "metadata": {
        "id": "9FPTr3p2DL4B"
      },
      "source": [
        "# <a href=\"https://miptstats.github.io/courses/ad_mipt.html\">Phystech@DataScience</a>\n",
        "## Домашнее задание 1\n",
        "\n",
        "**Правила, <font color=\"red\">прочитайте внимательно</font>:**\n",
        "\n",
        "* Выполненную работу нужно отправить телеграм-боту `@miptstats_pds_bot`. Для начала работы с ботом каждый раз отправляйте `/start`. **Работы, присланные иным способом, не принимаются.**\n",
        "* Дедлайн см. в боте. После дедлайна работы не принимаются кроме случаев наличия уважительной причины.\n",
        "* Прислать нужно ноутбук в формате `ipynb`.\n",
        "* Выполнять задание необходимо полностью самостоятельно. **При обнаружении списывания все участники списывания будут сдавать устный зачет.**\n",
        "* Решения, размещенные на каких-либо интернет-ресурсах, не принимаются. Кроме того, публикация решения в открытом доступе может быть приравнена к предоставлении возможности списать.\n",
        "* Для выполнения задания используйте этот ноутбук в качестве основы, ничего не удаляя из него. Можно добавлять необходимое количество ячеек.\n",
        "* Комментарии к решению пишите в markdown-ячейках.\n",
        "* Выполнение задания (ход решения, выводы и пр.) должно быть осуществлено на русском языке.\n",
        "* Если код будет не понятен проверяющему, оценка может быть снижена.\n",
        "* Никакой код из данного задания при проверке запускаться не будет. *Если код студента не выполнен, недописан и т.д., то он не оценивается.*\n",
        "* **Код из рассказанных на занятиях ноутбуков можно использовать без ограничений.**\n",
        "\n",
        "**Правила оформления теоретических задач:**\n",
        "\n",
        "* Решения необходимо прислать одним из следующих способов:\n",
        "  * фотографией в правильной ориентации, где все четко видно, а почерк разборчив,\n",
        "    * отправив ее как файл боту вместе с ноутбуком *или*\n",
        "    * вставив ее в ноутбук посредством `Edit -> Insert Image` (<font color=\"red\">фото, вставленные ссылкой, не принимаются</font>);\n",
        "  * в виде $\\LaTeX$ в markdown-ячейках.\n",
        "* Решения не проверяются, если какое-то требование не выполнено. Особенно внимательно все проверьте в случае выбора второго пункта (вставки фото в ноутбук). <font color=\"red\"><b>Неправильно вставленные фотографии могут не передаться при отправке.</b></font> Для проверки попробуйте переместить `ipynb` в другую папку и открыть его там.\n",
        "* В решениях поясняйте, чем вы пользуетесь, хотя бы кратко. Например, если пользуетесь независимостью, то достаточно подписи вида \"*X и Y незав.*\"\n",
        "* Решение, в котором есть только ответ, и отсутствуют вычисления, оценивается в 0 баллов.\n",
        "\n",
        "**Баллы за задание:**\n",
        "\n",
        "<b><font color=\"blue\">Легкая часть</font></b> (достаточно на \"хор\"):\n",
        "* Задача 1 &mdash;  10 баллов\n",
        "\n",
        "<b><font color=\"orange\">Сложная часть</font></b> (необходимо на \"отл\"):\n",
        "* Задача 2 &mdash;  50 баллов\n",
        "\n",
        "\n",
        "\n",
        "\n",
        "\n",
        "\n",
        "\n",
        "-----"
      ]
    },
    {
      "cell_type": "code",
      "execution_count": null,
      "metadata": {
        "id": "fZ8oK9W9z5Ei"
      },
      "outputs": [],
      "source": [
        "# Bot check\n",
        "\n",
        "# HW_ID: phds_hw1\n",
        "# Бот проверит этот ID и предупредит, если случайно сдать что-то не то.\n",
        "\n",
        "# Status: not final\n",
        "# Перед отправкой в финальном решении удали \"not\" в строчке выше.\n",
        "# Так бот проверит, что ты отправляешь финальную версию, а не промежуточную.\n",
        "# Никакие значения в этой ячейке не влияют на факт сдачи работы."
      ]
    },
    {
      "cell_type": "code",
      "execution_count": 1,
      "metadata": {
        "id": "rap_H2mSVrSx",
        "colab": {
          "base_uri": "https://localhost:8080/"
        },
        "outputId": "33bf49b6-8ad0-43f7-ea55-99fa815b52ae"
      },
      "outputs": [
        {
          "output_type": "stream",
          "name": "stdout",
          "text": [
            "Collecting torchviz\n",
            "  Downloading torchviz-0.0.2.tar.gz (4.9 kB)\n",
            "  Preparing metadata (setup.py) ... \u001b[?25l\u001b[?25hdone\n",
            "Requirement already satisfied: torch in /usr/local/lib/python3.10/dist-packages (from torchviz) (2.0.1+cu118)\n",
            "Requirement already satisfied: graphviz in /usr/local/lib/python3.10/dist-packages (from torchviz) (0.20.1)\n",
            "Requirement already satisfied: filelock in /usr/local/lib/python3.10/dist-packages (from torch->torchviz) (3.12.2)\n",
            "Requirement already satisfied: typing-extensions in /usr/local/lib/python3.10/dist-packages (from torch->torchviz) (4.5.0)\n",
            "Requirement already satisfied: sympy in /usr/local/lib/python3.10/dist-packages (from torch->torchviz) (1.12)\n",
            "Requirement already satisfied: networkx in /usr/local/lib/python3.10/dist-packages (from torch->torchviz) (3.1)\n",
            "Requirement already satisfied: jinja2 in /usr/local/lib/python3.10/dist-packages (from torch->torchviz) (3.1.2)\n",
            "Requirement already satisfied: triton==2.0.0 in /usr/local/lib/python3.10/dist-packages (from torch->torchviz) (2.0.0)\n",
            "Requirement already satisfied: cmake in /usr/local/lib/python3.10/dist-packages (from triton==2.0.0->torch->torchviz) (3.27.4.1)\n",
            "Requirement already satisfied: lit in /usr/local/lib/python3.10/dist-packages (from triton==2.0.0->torch->torchviz) (16.0.6)\n",
            "Requirement already satisfied: MarkupSafe>=2.0 in /usr/local/lib/python3.10/dist-packages (from jinja2->torch->torchviz) (2.1.3)\n",
            "Requirement already satisfied: mpmath>=0.19 in /usr/local/lib/python3.10/dist-packages (from sympy->torch->torchviz) (1.3.0)\n",
            "Building wheels for collected packages: torchviz\n",
            "  Building wheel for torchviz (setup.py) ... \u001b[?25l\u001b[?25hdone\n",
            "  Created wheel for torchviz: filename=torchviz-0.0.2-py3-none-any.whl size=4130 sha256=59dbd3452a6df147fa203bf5b660698bdce57ec3e96966ca28ce4de9fbf87bfd\n",
            "  Stored in directory: /root/.cache/pip/wheels/4c/97/88/a02973217949e0db0c9f4346d154085f4725f99c4f15a87094\n",
            "Successfully built torchviz\n",
            "Installing collected packages: torchviz\n",
            "Successfully installed torchviz-0.0.2\n"
          ]
        }
      ],
      "source": [
        "!pip install torchviz"
      ]
    },
    {
      "cell_type": "code",
      "execution_count": 2,
      "metadata": {
        "id": "ESGsfTQiMZ2a"
      },
      "outputs": [],
      "source": [
        "import torchviz\n",
        "\n",
        "import numpy as np\n",
        "import pandas as pd\n",
        "import matplotlib.pyplot as plt\n",
        "import seaborn as sns\n",
        "\n",
        "import torch\n",
        "from torch.autograd import grad\n",
        "from torch import nn\n",
        "from torch.utils.data import Dataset\n",
        "from sklearn.metrics import precision_recall_fscore_support as all_metrics\n",
        "from sklearn.metrics import accuracy_score\n",
        "\n",
        "from collections import defaultdict\n",
        "\n",
        "from sklearn.preprocessing import LabelBinarizer, StandardScaler\n",
        "from sklearn.model_selection import train_test_split\n",
        "\n",
        "from IPython.display import clear_output"
      ]
    },
    {
      "cell_type": "code",
      "execution_count": 3,
      "metadata": {
        "id": "8Wh6SdHK56xF"
      },
      "outputs": [],
      "source": [
        "sns.set(palette='Set2', font_scale=1.2)\n",
        "%matplotlib inline"
      ]
    },
    {
      "cell_type": "markdown",
      "metadata": {
        "id": "8NAj6T0XMX_i"
      },
      "source": [
        "### Задача 1. Дифференцирование\n",
        "\n",
        "Для функции\n",
        "\n",
        "$$ f(x, y, z)=\\left(\\frac{y^4}{1+e^{-x}}\\right)^3 + z$$\n",
        "\n",
        "С помощью Pytorch:\n",
        "\n",
        "- постройте вычислительный граф с возможностью считать производные по x, y.\n",
        "\n",
        "- выведите все узлы полученного графа и их атрибуты (рассмотренные на лекции)\n",
        "\n",
        "- объясните, почему атрибуты принимают такие значения\n",
        "\n",
        "Для точки (1, 3, 2):\n",
        "\n",
        "- посчитайте для функции все возможные первые частные производные методом backward()\n",
        "\n",
        "- посчитайте для функции все возможные вторые частные производные"
      ]
    },
    {
      "cell_type": "code",
      "source": [
        "from torchviz import make_dot"
      ],
      "metadata": {
        "id": "AbemAcnu1ErJ"
      },
      "execution_count": 4,
      "outputs": []
    },
    {
      "cell_type": "code",
      "source": [
        "x = torch.tensor(1, requires_grad=True, dtype=torch.float)\n",
        "y = torch.tensor(3, requires_grad=True, dtype=torch.float)\n",
        "z = torch.tensor(2, requires_grad=False, dtype=torch.float)\n",
        "f = ((y**4)/(1 + torch.exp(-x))**3 + z)"
      ],
      "metadata": {
        "id": "skp47xaez4U7"
      },
      "execution_count": null,
      "outputs": []
    },
    {
      "cell_type": "code",
      "source": [
        "make_dot(f, params={'x': x, 'y': y, 'z': z, 'f': f})"
      ],
      "metadata": {
        "colab": {
          "base_uri": "https://localhost:8080/",
          "height": 688
        },
        "id": "FxNZG67g0pVw",
        "outputId": "38736096-3324-482d-f4cf-95b117d88a18"
      },
      "execution_count": null,
      "outputs": [
        {
          "output_type": "execute_result",
          "data": {
            "image/svg+xml": "<?xml version=\"1.0\" encoding=\"UTF-8\" standalone=\"no\"?>\n<!DOCTYPE svg PUBLIC \"-//W3C//DTD SVG 1.1//EN\"\n \"http://www.w3.org/Graphics/SVG/1.1/DTD/svg11.dtd\">\n<!-- Generated by graphviz version 2.43.0 (0)\n -->\n<!-- Title: %3 Pages: 1 -->\n<svg width=\"222pt\" height=\"500pt\"\n viewBox=\"0.00 0.00 222.00 500.00\" xmlns=\"http://www.w3.org/2000/svg\" xmlns:xlink=\"http://www.w3.org/1999/xlink\">\n<g id=\"graph0\" class=\"graph\" transform=\"scale(1 1) rotate(0) translate(4 496)\">\n<title>%3</title>\n<polygon fill=\"white\" stroke=\"transparent\" points=\"-4,4 -4,-496 218,-496 218,4 -4,4\"/>\n<!-- 139745595494208 -->\n<g id=\"node1\" class=\"node\">\n<title>139745595494208</title>\n<polygon fill=\"#caff70\" stroke=\"black\" points=\"133.5,-30 79.5,-30 79.5,0 133.5,0 133.5,-30\"/>\n<text text-anchor=\"middle\" x=\"106.5\" y=\"-18\" font-family=\"monospace\" font-size=\"10.00\">f</text>\n<text text-anchor=\"middle\" x=\"106.5\" y=\"-7\" font-family=\"monospace\" font-size=\"10.00\"> ()</text>\n</g>\n<!-- 139745736339232 -->\n<g id=\"node2\" class=\"node\">\n<title>139745736339232</title>\n<polygon fill=\"lightgrey\" stroke=\"black\" points=\"151,-85 62,-85 62,-66 151,-66 151,-85\"/>\n<text text-anchor=\"middle\" x=\"106.5\" y=\"-73\" font-family=\"monospace\" font-size=\"10.00\">AddBackward0</text>\n</g>\n<!-- 139745736339232&#45;&gt;139745595494208 -->\n<g id=\"edge11\" class=\"edge\">\n<title>139745736339232&#45;&gt;139745595494208</title>\n<path fill=\"none\" stroke=\"black\" d=\"M106.5,-65.87C106.5,-59.11 106.5,-49.35 106.5,-40.26\"/>\n<polygon fill=\"black\" stroke=\"black\" points=\"110,-40.11 106.5,-30.11 103,-40.11 110,-40.11\"/>\n</g>\n<!-- 139745597927680 -->\n<g id=\"node3\" class=\"node\">\n<title>139745597927680</title>\n<polygon fill=\"lightgrey\" stroke=\"black\" points=\"151,-140 62,-140 62,-121 151,-121 151,-140\"/>\n<text text-anchor=\"middle\" x=\"106.5\" y=\"-128\" font-family=\"monospace\" font-size=\"10.00\">DivBackward0</text>\n</g>\n<!-- 139745597927680&#45;&gt;139745736339232 -->\n<g id=\"edge1\" class=\"edge\">\n<title>139745597927680&#45;&gt;139745736339232</title>\n<path fill=\"none\" stroke=\"black\" d=\"M106.5,-120.75C106.5,-113.8 106.5,-103.85 106.5,-95.13\"/>\n<polygon fill=\"black\" stroke=\"black\" points=\"110,-95.09 106.5,-85.09 103,-95.09 110,-95.09\"/>\n</g>\n<!-- 139745597926240 -->\n<g id=\"node4\" class=\"node\">\n<title>139745597926240</title>\n<polygon fill=\"lightgrey\" stroke=\"black\" points=\"98,-195 9,-195 9,-176 98,-176 98,-195\"/>\n<text text-anchor=\"middle\" x=\"53.5\" y=\"-183\" font-family=\"monospace\" font-size=\"10.00\">PowBackward0</text>\n</g>\n<!-- 139745597926240&#45;&gt;139745597927680 -->\n<g id=\"edge2\" class=\"edge\">\n<title>139745597926240&#45;&gt;139745597927680</title>\n<path fill=\"none\" stroke=\"black\" d=\"M62.25,-175.75C69.97,-168.03 81.4,-156.6 90.72,-147.28\"/>\n<polygon fill=\"black\" stroke=\"black\" points=\"93.31,-149.64 97.91,-140.09 88.36,-144.69 93.31,-149.64\"/>\n</g>\n<!-- 139745597917024 -->\n<g id=\"node5\" class=\"node\">\n<title>139745597917024</title>\n<polygon fill=\"lightgrey\" stroke=\"black\" points=\"101,-250 0,-250 0,-231 101,-231 101,-250\"/>\n<text text-anchor=\"middle\" x=\"50.5\" y=\"-238\" font-family=\"monospace\" font-size=\"10.00\">AccumulateGrad</text>\n</g>\n<!-- 139745597917024&#45;&gt;139745597926240 -->\n<g id=\"edge3\" class=\"edge\">\n<title>139745597917024&#45;&gt;139745597926240</title>\n<path fill=\"none\" stroke=\"black\" d=\"M51,-230.75C51.39,-223.8 51.95,-213.85 52.45,-205.13\"/>\n<polygon fill=\"black\" stroke=\"black\" points=\"55.94,-205.27 53.01,-195.09 48.95,-204.88 55.94,-205.27\"/>\n</g>\n<!-- 139745595499648 -->\n<g id=\"node6\" class=\"node\">\n<title>139745595499648</title>\n<polygon fill=\"lightblue\" stroke=\"black\" points=\"77.5,-316 23.5,-316 23.5,-286 77.5,-286 77.5,-316\"/>\n<text text-anchor=\"middle\" x=\"50.5\" y=\"-304\" font-family=\"monospace\" font-size=\"10.00\">y</text>\n<text text-anchor=\"middle\" x=\"50.5\" y=\"-293\" font-family=\"monospace\" font-size=\"10.00\"> ()</text>\n</g>\n<!-- 139745595499648&#45;&gt;139745597917024 -->\n<g id=\"edge4\" class=\"edge\">\n<title>139745595499648&#45;&gt;139745597917024</title>\n<path fill=\"none\" stroke=\"black\" d=\"M50.5,-285.84C50.5,-278.21 50.5,-268.7 50.5,-260.45\"/>\n<polygon fill=\"black\" stroke=\"black\" points=\"54,-260.27 50.5,-250.27 47,-260.27 54,-260.27\"/>\n</g>\n<!-- 139745597918128 -->\n<g id=\"node7\" class=\"node\">\n<title>139745597918128</title>\n<polygon fill=\"lightgrey\" stroke=\"black\" points=\"206,-195 117,-195 117,-176 206,-176 206,-195\"/>\n<text text-anchor=\"middle\" x=\"161.5\" y=\"-183\" font-family=\"monospace\" font-size=\"10.00\">PowBackward0</text>\n</g>\n<!-- 139745597918128&#45;&gt;139745597927680 -->\n<g id=\"edge5\" class=\"edge\">\n<title>139745597918128&#45;&gt;139745597927680</title>\n<path fill=\"none\" stroke=\"black\" d=\"M152.42,-175.75C144.41,-168.03 132.54,-156.6 122.88,-147.28\"/>\n<polygon fill=\"black\" stroke=\"black\" points=\"125.04,-144.51 115.41,-140.09 120.19,-149.55 125.04,-144.51\"/>\n</g>\n<!-- 139745597919952 -->\n<g id=\"node8\" class=\"node\">\n<title>139745597919952</title>\n<polygon fill=\"lightgrey\" stroke=\"black\" points=\"208,-250 119,-250 119,-231 208,-231 208,-250\"/>\n<text text-anchor=\"middle\" x=\"163.5\" y=\"-238\" font-family=\"monospace\" font-size=\"10.00\">AddBackward0</text>\n</g>\n<!-- 139745597919952&#45;&gt;139745597918128 -->\n<g id=\"edge6\" class=\"edge\">\n<title>139745597919952&#45;&gt;139745597918128</title>\n<path fill=\"none\" stroke=\"black\" d=\"M163.17,-230.75C162.91,-223.8 162.53,-213.85 162.2,-205.13\"/>\n<polygon fill=\"black\" stroke=\"black\" points=\"165.7,-204.95 161.82,-195.09 158.7,-205.21 165.7,-204.95\"/>\n</g>\n<!-- 139745597929648 -->\n<g id=\"node9\" class=\"node\">\n<title>139745597929648</title>\n<polygon fill=\"lightgrey\" stroke=\"black\" points=\"208,-310.5 119,-310.5 119,-291.5 208,-291.5 208,-310.5\"/>\n<text text-anchor=\"middle\" x=\"163.5\" y=\"-298.5\" font-family=\"monospace\" font-size=\"10.00\">ExpBackward0</text>\n</g>\n<!-- 139745597929648&#45;&gt;139745597919952 -->\n<g id=\"edge7\" class=\"edge\">\n<title>139745597929648&#45;&gt;139745597919952</title>\n<path fill=\"none\" stroke=\"black\" d=\"M163.5,-291.37C163.5,-283.25 163.5,-270.81 163.5,-260.39\"/>\n<polygon fill=\"black\" stroke=\"black\" points=\"167,-260.17 163.5,-250.17 160,-260.17 167,-260.17\"/>\n</g>\n<!-- 139745597927392 -->\n<g id=\"node10\" class=\"node\">\n<title>139745597927392</title>\n<polygon fill=\"lightgrey\" stroke=\"black\" points=\"208,-371 119,-371 119,-352 208,-352 208,-371\"/>\n<text text-anchor=\"middle\" x=\"163.5\" y=\"-359\" font-family=\"monospace\" font-size=\"10.00\">NegBackward0</text>\n</g>\n<!-- 139745597927392&#45;&gt;139745597929648 -->\n<g id=\"edge8\" class=\"edge\">\n<title>139745597927392&#45;&gt;139745597929648</title>\n<path fill=\"none\" stroke=\"black\" d=\"M163.5,-351.87C163.5,-343.75 163.5,-331.31 163.5,-320.89\"/>\n<polygon fill=\"black\" stroke=\"black\" points=\"167,-320.67 163.5,-310.67 160,-320.67 167,-320.67\"/>\n</g>\n<!-- 139745597919376 -->\n<g id=\"node11\" class=\"node\">\n<title>139745597919376</title>\n<polygon fill=\"lightgrey\" stroke=\"black\" points=\"214,-426 113,-426 113,-407 214,-407 214,-426\"/>\n<text text-anchor=\"middle\" x=\"163.5\" y=\"-414\" font-family=\"monospace\" font-size=\"10.00\">AccumulateGrad</text>\n</g>\n<!-- 139745597919376&#45;&gt;139745597927392 -->\n<g id=\"edge9\" class=\"edge\">\n<title>139745597919376&#45;&gt;139745597927392</title>\n<path fill=\"none\" stroke=\"black\" d=\"M163.5,-406.75C163.5,-399.8 163.5,-389.85 163.5,-381.13\"/>\n<polygon fill=\"black\" stroke=\"black\" points=\"167,-381.09 163.5,-371.09 160,-381.09 167,-381.09\"/>\n</g>\n<!-- 139745595502528 -->\n<g id=\"node12\" class=\"node\">\n<title>139745595502528</title>\n<polygon fill=\"lightblue\" stroke=\"black\" points=\"190.5,-492 136.5,-492 136.5,-462 190.5,-462 190.5,-492\"/>\n<text text-anchor=\"middle\" x=\"163.5\" y=\"-480\" font-family=\"monospace\" font-size=\"10.00\">x</text>\n<text text-anchor=\"middle\" x=\"163.5\" y=\"-469\" font-family=\"monospace\" font-size=\"10.00\"> ()</text>\n</g>\n<!-- 139745595502528&#45;&gt;139745597919376 -->\n<g id=\"edge10\" class=\"edge\">\n<title>139745595502528&#45;&gt;139745597919376</title>\n<path fill=\"none\" stroke=\"black\" d=\"M163.5,-461.84C163.5,-454.21 163.5,-444.7 163.5,-436.45\"/>\n<polygon fill=\"black\" stroke=\"black\" points=\"167,-436.27 163.5,-426.27 160,-436.27 167,-436.27\"/>\n</g>\n</g>\n</svg>\n",
            "text/plain": [
              "<graphviz.graphs.Digraph at 0x7f1916f938b0>"
            ]
          },
          "metadata": {},
          "execution_count": 60
        }
      ]
    },
    {
      "cell_type": "markdown",
      "source": [
        "Ну тут просто вложенные функции. Например Х мы сначала берем со знаком \"-\", далее берем exp, складываем с 1 и используем далее в качестве знаменателя. Всё это отражено в схеме"
      ],
      "metadata": {
        "id": "B0WJXvRSVrpR"
      }
    },
    {
      "cell_type": "code",
      "source": [
        "f.backward()"
      ],
      "metadata": {
        "id": "V9GJYaVM1716"
      },
      "execution_count": null,
      "outputs": []
    },
    {
      "cell_type": "code",
      "source": [
        "print(\"df/dx = \", x.grad)\n",
        "print(\"df/dy = \", y.grad)"
      ],
      "metadata": {
        "colab": {
          "base_uri": "https://localhost:8080/"
        },
        "id": "EPuap743Wu7D",
        "outputId": "b21165ca-d46d-40da-ebf5-56bd8227c766"
      },
      "execution_count": null,
      "outputs": [
        {
          "output_type": "stream",
          "name": "stdout",
          "text": [
            "df/dx =  tensor(25.5341)\n",
            "df/dy =  tensor(42.1969)\n"
          ]
        }
      ]
    },
    {
      "cell_type": "code",
      "source": [
        "x.grad.zero_()\n",
        "y.grad.zero_()"
      ],
      "metadata": {
        "colab": {
          "base_uri": "https://localhost:8080/"
        },
        "id": "Vks0iT5yf9N8",
        "outputId": "f46d9132-0bd3-42d0-fc47-e6ece274e9dd"
      },
      "execution_count": null,
      "outputs": [
        {
          "output_type": "execute_result",
          "data": {
            "text/plain": [
              "tensor(0.)"
            ]
          },
          "metadata": {},
          "execution_count": 102
        }
      ]
    },
    {
      "cell_type": "code",
      "source": [
        "d_x, d_y = torch.autograd.grad(f, [x,y], create_graph=True)"
      ],
      "metadata": {
        "id": "BcYRbno3dVkH"
      },
      "execution_count": null,
      "outputs": []
    },
    {
      "cell_type": "code",
      "source": [
        "d2_x, d2_y, dxdy = torch.autograd.grad([d_x,d_y,d_y], [x,y,x], create_graph=True)"
      ],
      "metadata": {
        "id": "N_7KtXGXdxzp"
      },
      "execution_count": null,
      "outputs": []
    },
    {
      "cell_type": "code",
      "source": [
        "print(\"d^2f/dx^2 = \", d2_x.item())\n",
        "print(\"d^2f/dy^2 = \", d2_y.item())\n",
        "print(\"d^2f/dxdy = \", dxdy.item())"
      ],
      "metadata": {
        "colab": {
          "base_uri": "https://localhost:8080/"
        },
        "id": "OV6T_BI-fr_m",
        "outputId": "3a222fd5-471f-4652-c1de-8b76656629f5"
      },
      "execution_count": null,
      "outputs": [
        {
          "output_type": "stream",
          "name": "stdout",
          "text": [
            "d^2f/dx^2 =  70.02555847167969\n",
            "d^2f/dy^2 =  118.43923950195312\n",
            "d^2f/dxdy =  70.02555847167969\n"
          ]
        }
      ]
    },
    {
      "cell_type": "markdown",
      "metadata": {
        "id": "QgHTXFWmbN12"
      },
      "source": [
        "### Задача 2.\n",
        "#### Профиль физика\n",
        "\n",
        "Скачайте [датасет](https://drive.google.com/file/d/1QqYK7Go96vR4l66MShlUuXxY0_FaBcYB/view?usp=sharing), описывающий распады Z-бозонов двух типов: `Zee`и `Zmumu`. Создайте и обучите нейросеть, разделяющую эти два класса.\n",
        "\n",
        "[Описание датасета](https://www.kaggle.com/datasets/omidbaghchehsaraei/identification-of-two-modes-of-z-boson?resource=download)"
      ]
    },
    {
      "cell_type": "code",
      "execution_count": 6,
      "metadata": {
        "id": "vI9D4y7c5DDZ",
        "colab": {
          "base_uri": "https://localhost:8080/",
          "height": 423
        },
        "outputId": "bb1a101f-e294-47b3-e353-30afb393707d"
      },
      "outputs": [
        {
          "output_type": "execute_result",
          "data": {
            "text/plain": [
              "       Unnamed: 0     Run      Event      pt1    eta1    phi1  Q1      pt2  \\\n",
              "0               0  166784   20257329  42.9130 -1.3248 -3.0057  -1  42.2897   \n",
              "1               1  163261   64679856  39.8744 -0.0057 -0.7744  -1  36.3997   \n",
              "2               2  165570  196860468  72.9296 -0.4162  0.9198   1  39.5410   \n",
              "3               3  172163  497791581  33.4436  0.3063 -1.6034   1  27.2395   \n",
              "4               4  173692  550966077  43.9826  0.4276 -0.3876  -1  29.7856   \n",
              "...           ...     ...        ...      ...     ...     ...  ..      ...   \n",
              "19995       19995  163589   25170371  39.1588  0.0434  2.8371  -1  48.0734   \n",
              "19996       19996  166033  486199311  38.4240 -1.3922 -1.9531  -1  30.3328   \n",
              "19997       19997  173389  687651225  35.2640 -2.2673 -0.3794  -1  37.2768   \n",
              "19998       19998  172163  191162958  38.9526 -2.2869  1.4960  -1  48.5297   \n",
              "19999       19999  166895  158156605  37.9928 -1.3286 -2.3479  -1  42.4471   \n",
              "\n",
              "         eta2    phi2  Q2  class  \n",
              "0     -0.6624  0.3485   1  Zmumu  \n",
              "1      1.3710  2.2952   1    Zee  \n",
              "2     -0.2680 -1.4629   1    Zee  \n",
              "3     -1.6182  1.5315  -1    Zee  \n",
              "4     -0.3080  2.8965   1  Zmumu  \n",
              "...       ...     ...  ..    ...  \n",
              "19995 -0.8716 -0.7647   1  Zmumu  \n",
              "19996 -0.9045  0.8390   1  Zmumu  \n",
              "19997 -1.8151  2.9126  -1    Zee  \n",
              "19998 -2.1804 -1.0817   1    Zee  \n",
              "19999  0.0332  0.6631   1  Zmumu  \n",
              "\n",
              "[20000 rows x 12 columns]"
            ],
            "text/html": [
              "\n",
              "  <div id=\"df-0caaab33-7fe3-483b-9310-68aeada17198\" class=\"colab-df-container\">\n",
              "    <div>\n",
              "<style scoped>\n",
              "    .dataframe tbody tr th:only-of-type {\n",
              "        vertical-align: middle;\n",
              "    }\n",
              "\n",
              "    .dataframe tbody tr th {\n",
              "        vertical-align: top;\n",
              "    }\n",
              "\n",
              "    .dataframe thead th {\n",
              "        text-align: right;\n",
              "    }\n",
              "</style>\n",
              "<table border=\"1\" class=\"dataframe\">\n",
              "  <thead>\n",
              "    <tr style=\"text-align: right;\">\n",
              "      <th></th>\n",
              "      <th>Unnamed: 0</th>\n",
              "      <th>Run</th>\n",
              "      <th>Event</th>\n",
              "      <th>pt1</th>\n",
              "      <th>eta1</th>\n",
              "      <th>phi1</th>\n",
              "      <th>Q1</th>\n",
              "      <th>pt2</th>\n",
              "      <th>eta2</th>\n",
              "      <th>phi2</th>\n",
              "      <th>Q2</th>\n",
              "      <th>class</th>\n",
              "    </tr>\n",
              "  </thead>\n",
              "  <tbody>\n",
              "    <tr>\n",
              "      <th>0</th>\n",
              "      <td>0</td>\n",
              "      <td>166784</td>\n",
              "      <td>20257329</td>\n",
              "      <td>42.9130</td>\n",
              "      <td>-1.3248</td>\n",
              "      <td>-3.0057</td>\n",
              "      <td>-1</td>\n",
              "      <td>42.2897</td>\n",
              "      <td>-0.6624</td>\n",
              "      <td>0.3485</td>\n",
              "      <td>1</td>\n",
              "      <td>Zmumu</td>\n",
              "    </tr>\n",
              "    <tr>\n",
              "      <th>1</th>\n",
              "      <td>1</td>\n",
              "      <td>163261</td>\n",
              "      <td>64679856</td>\n",
              "      <td>39.8744</td>\n",
              "      <td>-0.0057</td>\n",
              "      <td>-0.7744</td>\n",
              "      <td>-1</td>\n",
              "      <td>36.3997</td>\n",
              "      <td>1.3710</td>\n",
              "      <td>2.2952</td>\n",
              "      <td>1</td>\n",
              "      <td>Zee</td>\n",
              "    </tr>\n",
              "    <tr>\n",
              "      <th>2</th>\n",
              "      <td>2</td>\n",
              "      <td>165570</td>\n",
              "      <td>196860468</td>\n",
              "      <td>72.9296</td>\n",
              "      <td>-0.4162</td>\n",
              "      <td>0.9198</td>\n",
              "      <td>1</td>\n",
              "      <td>39.5410</td>\n",
              "      <td>-0.2680</td>\n",
              "      <td>-1.4629</td>\n",
              "      <td>1</td>\n",
              "      <td>Zee</td>\n",
              "    </tr>\n",
              "    <tr>\n",
              "      <th>3</th>\n",
              "      <td>3</td>\n",
              "      <td>172163</td>\n",
              "      <td>497791581</td>\n",
              "      <td>33.4436</td>\n",
              "      <td>0.3063</td>\n",
              "      <td>-1.6034</td>\n",
              "      <td>1</td>\n",
              "      <td>27.2395</td>\n",
              "      <td>-1.6182</td>\n",
              "      <td>1.5315</td>\n",
              "      <td>-1</td>\n",
              "      <td>Zee</td>\n",
              "    </tr>\n",
              "    <tr>\n",
              "      <th>4</th>\n",
              "      <td>4</td>\n",
              "      <td>173692</td>\n",
              "      <td>550966077</td>\n",
              "      <td>43.9826</td>\n",
              "      <td>0.4276</td>\n",
              "      <td>-0.3876</td>\n",
              "      <td>-1</td>\n",
              "      <td>29.7856</td>\n",
              "      <td>-0.3080</td>\n",
              "      <td>2.8965</td>\n",
              "      <td>1</td>\n",
              "      <td>Zmumu</td>\n",
              "    </tr>\n",
              "    <tr>\n",
              "      <th>...</th>\n",
              "      <td>...</td>\n",
              "      <td>...</td>\n",
              "      <td>...</td>\n",
              "      <td>...</td>\n",
              "      <td>...</td>\n",
              "      <td>...</td>\n",
              "      <td>...</td>\n",
              "      <td>...</td>\n",
              "      <td>...</td>\n",
              "      <td>...</td>\n",
              "      <td>...</td>\n",
              "      <td>...</td>\n",
              "    </tr>\n",
              "    <tr>\n",
              "      <th>19995</th>\n",
              "      <td>19995</td>\n",
              "      <td>163589</td>\n",
              "      <td>25170371</td>\n",
              "      <td>39.1588</td>\n",
              "      <td>0.0434</td>\n",
              "      <td>2.8371</td>\n",
              "      <td>-1</td>\n",
              "      <td>48.0734</td>\n",
              "      <td>-0.8716</td>\n",
              "      <td>-0.7647</td>\n",
              "      <td>1</td>\n",
              "      <td>Zmumu</td>\n",
              "    </tr>\n",
              "    <tr>\n",
              "      <th>19996</th>\n",
              "      <td>19996</td>\n",
              "      <td>166033</td>\n",
              "      <td>486199311</td>\n",
              "      <td>38.4240</td>\n",
              "      <td>-1.3922</td>\n",
              "      <td>-1.9531</td>\n",
              "      <td>-1</td>\n",
              "      <td>30.3328</td>\n",
              "      <td>-0.9045</td>\n",
              "      <td>0.8390</td>\n",
              "      <td>1</td>\n",
              "      <td>Zmumu</td>\n",
              "    </tr>\n",
              "    <tr>\n",
              "      <th>19997</th>\n",
              "      <td>19997</td>\n",
              "      <td>173389</td>\n",
              "      <td>687651225</td>\n",
              "      <td>35.2640</td>\n",
              "      <td>-2.2673</td>\n",
              "      <td>-0.3794</td>\n",
              "      <td>-1</td>\n",
              "      <td>37.2768</td>\n",
              "      <td>-1.8151</td>\n",
              "      <td>2.9126</td>\n",
              "      <td>-1</td>\n",
              "      <td>Zee</td>\n",
              "    </tr>\n",
              "    <tr>\n",
              "      <th>19998</th>\n",
              "      <td>19998</td>\n",
              "      <td>172163</td>\n",
              "      <td>191162958</td>\n",
              "      <td>38.9526</td>\n",
              "      <td>-2.2869</td>\n",
              "      <td>1.4960</td>\n",
              "      <td>-1</td>\n",
              "      <td>48.5297</td>\n",
              "      <td>-2.1804</td>\n",
              "      <td>-1.0817</td>\n",
              "      <td>1</td>\n",
              "      <td>Zee</td>\n",
              "    </tr>\n",
              "    <tr>\n",
              "      <th>19999</th>\n",
              "      <td>19999</td>\n",
              "      <td>166895</td>\n",
              "      <td>158156605</td>\n",
              "      <td>37.9928</td>\n",
              "      <td>-1.3286</td>\n",
              "      <td>-2.3479</td>\n",
              "      <td>-1</td>\n",
              "      <td>42.4471</td>\n",
              "      <td>0.0332</td>\n",
              "      <td>0.6631</td>\n",
              "      <td>1</td>\n",
              "      <td>Zmumu</td>\n",
              "    </tr>\n",
              "  </tbody>\n",
              "</table>\n",
              "<p>20000 rows × 12 columns</p>\n",
              "</div>\n",
              "    <div class=\"colab-df-buttons\">\n",
              "\n",
              "  <div class=\"colab-df-container\">\n",
              "    <button class=\"colab-df-convert\" onclick=\"convertToInteractive('df-0caaab33-7fe3-483b-9310-68aeada17198')\"\n",
              "            title=\"Convert this dataframe to an interactive table.\"\n",
              "            style=\"display:none;\">\n",
              "\n",
              "  <svg xmlns=\"http://www.w3.org/2000/svg\" height=\"24px\" viewBox=\"0 -960 960 960\">\n",
              "    <path d=\"M120-120v-720h720v720H120Zm60-500h600v-160H180v160Zm220 220h160v-160H400v160Zm0 220h160v-160H400v160ZM180-400h160v-160H180v160Zm440 0h160v-160H620v160ZM180-180h160v-160H180v160Zm440 0h160v-160H620v160Z\"/>\n",
              "  </svg>\n",
              "    </button>\n",
              "\n",
              "  <style>\n",
              "    .colab-df-container {\n",
              "      display:flex;\n",
              "      gap: 12px;\n",
              "    }\n",
              "\n",
              "    .colab-df-convert {\n",
              "      background-color: #E8F0FE;\n",
              "      border: none;\n",
              "      border-radius: 50%;\n",
              "      cursor: pointer;\n",
              "      display: none;\n",
              "      fill: #1967D2;\n",
              "      height: 32px;\n",
              "      padding: 0 0 0 0;\n",
              "      width: 32px;\n",
              "    }\n",
              "\n",
              "    .colab-df-convert:hover {\n",
              "      background-color: #E2EBFA;\n",
              "      box-shadow: 0px 1px 2px rgba(60, 64, 67, 0.3), 0px 1px 3px 1px rgba(60, 64, 67, 0.15);\n",
              "      fill: #174EA6;\n",
              "    }\n",
              "\n",
              "    .colab-df-buttons div {\n",
              "      margin-bottom: 4px;\n",
              "    }\n",
              "\n",
              "    [theme=dark] .colab-df-convert {\n",
              "      background-color: #3B4455;\n",
              "      fill: #D2E3FC;\n",
              "    }\n",
              "\n",
              "    [theme=dark] .colab-df-convert:hover {\n",
              "      background-color: #434B5C;\n",
              "      box-shadow: 0px 1px 3px 1px rgba(0, 0, 0, 0.15);\n",
              "      filter: drop-shadow(0px 1px 2px rgba(0, 0, 0, 0.3));\n",
              "      fill: #FFFFFF;\n",
              "    }\n",
              "  </style>\n",
              "\n",
              "    <script>\n",
              "      const buttonEl =\n",
              "        document.querySelector('#df-0caaab33-7fe3-483b-9310-68aeada17198 button.colab-df-convert');\n",
              "      buttonEl.style.display =\n",
              "        google.colab.kernel.accessAllowed ? 'block' : 'none';\n",
              "\n",
              "      async function convertToInteractive(key) {\n",
              "        const element = document.querySelector('#df-0caaab33-7fe3-483b-9310-68aeada17198');\n",
              "        const dataTable =\n",
              "          await google.colab.kernel.invokeFunction('convertToInteractive',\n",
              "                                                    [key], {});\n",
              "        if (!dataTable) return;\n",
              "\n",
              "        const docLinkHtml = 'Like what you see? Visit the ' +\n",
              "          '<a target=\"_blank\" href=https://colab.research.google.com/notebooks/data_table.ipynb>data table notebook</a>'\n",
              "          + ' to learn more about interactive tables.';\n",
              "        element.innerHTML = '';\n",
              "        dataTable['output_type'] = 'display_data';\n",
              "        await google.colab.output.renderOutput(dataTable, element);\n",
              "        const docLink = document.createElement('div');\n",
              "        docLink.innerHTML = docLinkHtml;\n",
              "        element.appendChild(docLink);\n",
              "      }\n",
              "    </script>\n",
              "  </div>\n",
              "\n",
              "\n",
              "<div id=\"df-746981d2-316c-4a6f-9439-5ae765469a7c\">\n",
              "  <button class=\"colab-df-quickchart\" onclick=\"quickchart('df-746981d2-316c-4a6f-9439-5ae765469a7c')\"\n",
              "            title=\"Suggest charts.\"\n",
              "            style=\"display:none;\">\n",
              "\n",
              "<svg xmlns=\"http://www.w3.org/2000/svg\" height=\"24px\"viewBox=\"0 0 24 24\"\n",
              "     width=\"24px\">\n",
              "    <g>\n",
              "        <path d=\"M19 3H5c-1.1 0-2 .9-2 2v14c0 1.1.9 2 2 2h14c1.1 0 2-.9 2-2V5c0-1.1-.9-2-2-2zM9 17H7v-7h2v7zm4 0h-2V7h2v10zm4 0h-2v-4h2v4z\"/>\n",
              "    </g>\n",
              "</svg>\n",
              "  </button>\n",
              "\n",
              "<style>\n",
              "  .colab-df-quickchart {\n",
              "      --bg-color: #E8F0FE;\n",
              "      --fill-color: #1967D2;\n",
              "      --hover-bg-color: #E2EBFA;\n",
              "      --hover-fill-color: #174EA6;\n",
              "      --disabled-fill-color: #AAA;\n",
              "      --disabled-bg-color: #DDD;\n",
              "  }\n",
              "\n",
              "  [theme=dark] .colab-df-quickchart {\n",
              "      --bg-color: #3B4455;\n",
              "      --fill-color: #D2E3FC;\n",
              "      --hover-bg-color: #434B5C;\n",
              "      --hover-fill-color: #FFFFFF;\n",
              "      --disabled-bg-color: #3B4455;\n",
              "      --disabled-fill-color: #666;\n",
              "  }\n",
              "\n",
              "  .colab-df-quickchart {\n",
              "    background-color: var(--bg-color);\n",
              "    border: none;\n",
              "    border-radius: 50%;\n",
              "    cursor: pointer;\n",
              "    display: none;\n",
              "    fill: var(--fill-color);\n",
              "    height: 32px;\n",
              "    padding: 0;\n",
              "    width: 32px;\n",
              "  }\n",
              "\n",
              "  .colab-df-quickchart:hover {\n",
              "    background-color: var(--hover-bg-color);\n",
              "    box-shadow: 0 1px 2px rgba(60, 64, 67, 0.3), 0 1px 3px 1px rgba(60, 64, 67, 0.15);\n",
              "    fill: var(--button-hover-fill-color);\n",
              "  }\n",
              "\n",
              "  .colab-df-quickchart-complete:disabled,\n",
              "  .colab-df-quickchart-complete:disabled:hover {\n",
              "    background-color: var(--disabled-bg-color);\n",
              "    fill: var(--disabled-fill-color);\n",
              "    box-shadow: none;\n",
              "  }\n",
              "\n",
              "  .colab-df-spinner {\n",
              "    border: 2px solid var(--fill-color);\n",
              "    border-color: transparent;\n",
              "    border-bottom-color: var(--fill-color);\n",
              "    animation:\n",
              "      spin 1s steps(1) infinite;\n",
              "  }\n",
              "\n",
              "  @keyframes spin {\n",
              "    0% {\n",
              "      border-color: transparent;\n",
              "      border-bottom-color: var(--fill-color);\n",
              "      border-left-color: var(--fill-color);\n",
              "    }\n",
              "    20% {\n",
              "      border-color: transparent;\n",
              "      border-left-color: var(--fill-color);\n",
              "      border-top-color: var(--fill-color);\n",
              "    }\n",
              "    30% {\n",
              "      border-color: transparent;\n",
              "      border-left-color: var(--fill-color);\n",
              "      border-top-color: var(--fill-color);\n",
              "      border-right-color: var(--fill-color);\n",
              "    }\n",
              "    40% {\n",
              "      border-color: transparent;\n",
              "      border-right-color: var(--fill-color);\n",
              "      border-top-color: var(--fill-color);\n",
              "    }\n",
              "    60% {\n",
              "      border-color: transparent;\n",
              "      border-right-color: var(--fill-color);\n",
              "    }\n",
              "    80% {\n",
              "      border-color: transparent;\n",
              "      border-right-color: var(--fill-color);\n",
              "      border-bottom-color: var(--fill-color);\n",
              "    }\n",
              "    90% {\n",
              "      border-color: transparent;\n",
              "      border-bottom-color: var(--fill-color);\n",
              "    }\n",
              "  }\n",
              "</style>\n",
              "\n",
              "  <script>\n",
              "    async function quickchart(key) {\n",
              "      const quickchartButtonEl =\n",
              "        document.querySelector('#' + key + ' button');\n",
              "      quickchartButtonEl.disabled = true;  // To prevent multiple clicks.\n",
              "      quickchartButtonEl.classList.add('colab-df-spinner');\n",
              "      try {\n",
              "        const charts = await google.colab.kernel.invokeFunction(\n",
              "            'suggestCharts', [key], {});\n",
              "      } catch (error) {\n",
              "        console.error('Error during call to suggestCharts:', error);\n",
              "      }\n",
              "      quickchartButtonEl.classList.remove('colab-df-spinner');\n",
              "      quickchartButtonEl.classList.add('colab-df-quickchart-complete');\n",
              "    }\n",
              "    (() => {\n",
              "      let quickchartButtonEl =\n",
              "        document.querySelector('#df-746981d2-316c-4a6f-9439-5ae765469a7c button');\n",
              "      quickchartButtonEl.style.display =\n",
              "        google.colab.kernel.accessAllowed ? 'block' : 'none';\n",
              "    })();\n",
              "  </script>\n",
              "</div>\n",
              "    </div>\n",
              "  </div>\n"
            ]
          },
          "metadata": {},
          "execution_count": 6
        }
      ],
      "source": [
        "data = pd.read_csv('Z_boson.csv')\n",
        "data"
      ]
    },
    {
      "cell_type": "markdown",
      "metadata": {
        "id": "4E3mrI6BNF4r"
      },
      "source": [
        "Удалите столбцы 'Unnamed: 0\t', 'Run' и 'Event', так как это не физические величины. Удалите строки, где есть пропуски, если таковые имеются."
      ]
    },
    {
      "cell_type": "code",
      "execution_count": 7,
      "metadata": {
        "id": "tzeizPZ_5EJm"
      },
      "outputs": [],
      "source": [
        "data.drop(['Unnamed: 0', 'Run', 'Event'], axis= 1 , inplace= True)"
      ]
    },
    {
      "cell_type": "code",
      "source": [
        "data.isnull().sum()"
      ],
      "metadata": {
        "colab": {
          "base_uri": "https://localhost:8080/"
        },
        "id": "m7-KRJxumCKY",
        "outputId": "e587cea1-2dce-4670-b535-9e26012bd68f"
      },
      "execution_count": 8,
      "outputs": [
        {
          "output_type": "execute_result",
          "data": {
            "text/plain": [
              "pt1      0\n",
              "eta1     0\n",
              "phi1     0\n",
              "Q1       0\n",
              "pt2      0\n",
              "eta2     0\n",
              "phi2     0\n",
              "Q2       0\n",
              "class    0\n",
              "dtype: int64"
            ]
          },
          "metadata": {},
          "execution_count": 8
        }
      ]
    },
    {
      "cell_type": "markdown",
      "metadata": {
        "id": "n_o6oH0yPiAp"
      },
      "source": [
        "Убедитесь, что классы сбалансированны."
      ]
    },
    {
      "cell_type": "code",
      "execution_count": 9,
      "metadata": {
        "id": "5hlQ_2zNN8E4",
        "colab": {
          "base_uri": "https://localhost:8080/"
        },
        "outputId": "01303951-bf3d-4e38-cbb9-41c38f87d0ba"
      },
      "outputs": [
        {
          "output_type": "execute_result",
          "data": {
            "text/plain": [
              "10000"
            ]
          },
          "metadata": {},
          "execution_count": 9
        }
      ],
      "source": [
        "(data['class'] == 'Zmumu').sum()"
      ]
    },
    {
      "cell_type": "markdown",
      "source": [
        "Идеальный баланс"
      ],
      "metadata": {
        "id": "SC0c9l4dnKcr"
      }
    },
    {
      "cell_type": "markdown",
      "metadata": {
        "id": "QzhmUYMtSWnx"
      },
      "source": [
        "Также можно как-нибудь взглянуть на признаки. Возможно, не все они вносят вклад в разделение классов. Не забудьте преобразовать таргет (столбец 'class') к формату 0 и 1. Вам может пригодиться `sklearn.preprocessing.LabelBinarizer`."
      ]
    },
    {
      "cell_type": "code",
      "execution_count": 10,
      "metadata": {
        "id": "1n3nydGn95LD"
      },
      "outputs": [],
      "source": [
        "data['class'] = data['class'].replace({'Zee': 0, 'Zmumu': 1})"
      ]
    },
    {
      "cell_type": "code",
      "source": [
        "data"
      ],
      "metadata": {
        "colab": {
          "base_uri": "https://localhost:8080/",
          "height": 423
        },
        "id": "NkBIDgi-gihR",
        "outputId": "1a4b56b5-4131-43e9-a26f-682d784880f4"
      },
      "execution_count": 11,
      "outputs": [
        {
          "output_type": "execute_result",
          "data": {
            "text/plain": [
              "           pt1    eta1    phi1  Q1      pt2    eta2    phi2  Q2  class\n",
              "0      42.9130 -1.3248 -3.0057  -1  42.2897 -0.6624  0.3485   1      1\n",
              "1      39.8744 -0.0057 -0.7744  -1  36.3997  1.3710  2.2952   1      0\n",
              "2      72.9296 -0.4162  0.9198   1  39.5410 -0.2680 -1.4629   1      0\n",
              "3      33.4436  0.3063 -1.6034   1  27.2395 -1.6182  1.5315  -1      0\n",
              "4      43.9826  0.4276 -0.3876  -1  29.7856 -0.3080  2.8965   1      1\n",
              "...        ...     ...     ...  ..      ...     ...     ...  ..    ...\n",
              "19995  39.1588  0.0434  2.8371  -1  48.0734 -0.8716 -0.7647   1      1\n",
              "19996  38.4240 -1.3922 -1.9531  -1  30.3328 -0.9045  0.8390   1      1\n",
              "19997  35.2640 -2.2673 -0.3794  -1  37.2768 -1.8151  2.9126  -1      0\n",
              "19998  38.9526 -2.2869  1.4960  -1  48.5297 -2.1804 -1.0817   1      0\n",
              "19999  37.9928 -1.3286 -2.3479  -1  42.4471  0.0332  0.6631   1      1\n",
              "\n",
              "[20000 rows x 9 columns]"
            ],
            "text/html": [
              "\n",
              "  <div id=\"df-1e64514b-c8fc-4dba-aad5-288db277ee61\" class=\"colab-df-container\">\n",
              "    <div>\n",
              "<style scoped>\n",
              "    .dataframe tbody tr th:only-of-type {\n",
              "        vertical-align: middle;\n",
              "    }\n",
              "\n",
              "    .dataframe tbody tr th {\n",
              "        vertical-align: top;\n",
              "    }\n",
              "\n",
              "    .dataframe thead th {\n",
              "        text-align: right;\n",
              "    }\n",
              "</style>\n",
              "<table border=\"1\" class=\"dataframe\">\n",
              "  <thead>\n",
              "    <tr style=\"text-align: right;\">\n",
              "      <th></th>\n",
              "      <th>pt1</th>\n",
              "      <th>eta1</th>\n",
              "      <th>phi1</th>\n",
              "      <th>Q1</th>\n",
              "      <th>pt2</th>\n",
              "      <th>eta2</th>\n",
              "      <th>phi2</th>\n",
              "      <th>Q2</th>\n",
              "      <th>class</th>\n",
              "    </tr>\n",
              "  </thead>\n",
              "  <tbody>\n",
              "    <tr>\n",
              "      <th>0</th>\n",
              "      <td>42.9130</td>\n",
              "      <td>-1.3248</td>\n",
              "      <td>-3.0057</td>\n",
              "      <td>-1</td>\n",
              "      <td>42.2897</td>\n",
              "      <td>-0.6624</td>\n",
              "      <td>0.3485</td>\n",
              "      <td>1</td>\n",
              "      <td>1</td>\n",
              "    </tr>\n",
              "    <tr>\n",
              "      <th>1</th>\n",
              "      <td>39.8744</td>\n",
              "      <td>-0.0057</td>\n",
              "      <td>-0.7744</td>\n",
              "      <td>-1</td>\n",
              "      <td>36.3997</td>\n",
              "      <td>1.3710</td>\n",
              "      <td>2.2952</td>\n",
              "      <td>1</td>\n",
              "      <td>0</td>\n",
              "    </tr>\n",
              "    <tr>\n",
              "      <th>2</th>\n",
              "      <td>72.9296</td>\n",
              "      <td>-0.4162</td>\n",
              "      <td>0.9198</td>\n",
              "      <td>1</td>\n",
              "      <td>39.5410</td>\n",
              "      <td>-0.2680</td>\n",
              "      <td>-1.4629</td>\n",
              "      <td>1</td>\n",
              "      <td>0</td>\n",
              "    </tr>\n",
              "    <tr>\n",
              "      <th>3</th>\n",
              "      <td>33.4436</td>\n",
              "      <td>0.3063</td>\n",
              "      <td>-1.6034</td>\n",
              "      <td>1</td>\n",
              "      <td>27.2395</td>\n",
              "      <td>-1.6182</td>\n",
              "      <td>1.5315</td>\n",
              "      <td>-1</td>\n",
              "      <td>0</td>\n",
              "    </tr>\n",
              "    <tr>\n",
              "      <th>4</th>\n",
              "      <td>43.9826</td>\n",
              "      <td>0.4276</td>\n",
              "      <td>-0.3876</td>\n",
              "      <td>-1</td>\n",
              "      <td>29.7856</td>\n",
              "      <td>-0.3080</td>\n",
              "      <td>2.8965</td>\n",
              "      <td>1</td>\n",
              "      <td>1</td>\n",
              "    </tr>\n",
              "    <tr>\n",
              "      <th>...</th>\n",
              "      <td>...</td>\n",
              "      <td>...</td>\n",
              "      <td>...</td>\n",
              "      <td>...</td>\n",
              "      <td>...</td>\n",
              "      <td>...</td>\n",
              "      <td>...</td>\n",
              "      <td>...</td>\n",
              "      <td>...</td>\n",
              "    </tr>\n",
              "    <tr>\n",
              "      <th>19995</th>\n",
              "      <td>39.1588</td>\n",
              "      <td>0.0434</td>\n",
              "      <td>2.8371</td>\n",
              "      <td>-1</td>\n",
              "      <td>48.0734</td>\n",
              "      <td>-0.8716</td>\n",
              "      <td>-0.7647</td>\n",
              "      <td>1</td>\n",
              "      <td>1</td>\n",
              "    </tr>\n",
              "    <tr>\n",
              "      <th>19996</th>\n",
              "      <td>38.4240</td>\n",
              "      <td>-1.3922</td>\n",
              "      <td>-1.9531</td>\n",
              "      <td>-1</td>\n",
              "      <td>30.3328</td>\n",
              "      <td>-0.9045</td>\n",
              "      <td>0.8390</td>\n",
              "      <td>1</td>\n",
              "      <td>1</td>\n",
              "    </tr>\n",
              "    <tr>\n",
              "      <th>19997</th>\n",
              "      <td>35.2640</td>\n",
              "      <td>-2.2673</td>\n",
              "      <td>-0.3794</td>\n",
              "      <td>-1</td>\n",
              "      <td>37.2768</td>\n",
              "      <td>-1.8151</td>\n",
              "      <td>2.9126</td>\n",
              "      <td>-1</td>\n",
              "      <td>0</td>\n",
              "    </tr>\n",
              "    <tr>\n",
              "      <th>19998</th>\n",
              "      <td>38.9526</td>\n",
              "      <td>-2.2869</td>\n",
              "      <td>1.4960</td>\n",
              "      <td>-1</td>\n",
              "      <td>48.5297</td>\n",
              "      <td>-2.1804</td>\n",
              "      <td>-1.0817</td>\n",
              "      <td>1</td>\n",
              "      <td>0</td>\n",
              "    </tr>\n",
              "    <tr>\n",
              "      <th>19999</th>\n",
              "      <td>37.9928</td>\n",
              "      <td>-1.3286</td>\n",
              "      <td>-2.3479</td>\n",
              "      <td>-1</td>\n",
              "      <td>42.4471</td>\n",
              "      <td>0.0332</td>\n",
              "      <td>0.6631</td>\n",
              "      <td>1</td>\n",
              "      <td>1</td>\n",
              "    </tr>\n",
              "  </tbody>\n",
              "</table>\n",
              "<p>20000 rows × 9 columns</p>\n",
              "</div>\n",
              "    <div class=\"colab-df-buttons\">\n",
              "\n",
              "  <div class=\"colab-df-container\">\n",
              "    <button class=\"colab-df-convert\" onclick=\"convertToInteractive('df-1e64514b-c8fc-4dba-aad5-288db277ee61')\"\n",
              "            title=\"Convert this dataframe to an interactive table.\"\n",
              "            style=\"display:none;\">\n",
              "\n",
              "  <svg xmlns=\"http://www.w3.org/2000/svg\" height=\"24px\" viewBox=\"0 -960 960 960\">\n",
              "    <path d=\"M120-120v-720h720v720H120Zm60-500h600v-160H180v160Zm220 220h160v-160H400v160Zm0 220h160v-160H400v160ZM180-400h160v-160H180v160Zm440 0h160v-160H620v160ZM180-180h160v-160H180v160Zm440 0h160v-160H620v160Z\"/>\n",
              "  </svg>\n",
              "    </button>\n",
              "\n",
              "  <style>\n",
              "    .colab-df-container {\n",
              "      display:flex;\n",
              "      gap: 12px;\n",
              "    }\n",
              "\n",
              "    .colab-df-convert {\n",
              "      background-color: #E8F0FE;\n",
              "      border: none;\n",
              "      border-radius: 50%;\n",
              "      cursor: pointer;\n",
              "      display: none;\n",
              "      fill: #1967D2;\n",
              "      height: 32px;\n",
              "      padding: 0 0 0 0;\n",
              "      width: 32px;\n",
              "    }\n",
              "\n",
              "    .colab-df-convert:hover {\n",
              "      background-color: #E2EBFA;\n",
              "      box-shadow: 0px 1px 2px rgba(60, 64, 67, 0.3), 0px 1px 3px 1px rgba(60, 64, 67, 0.15);\n",
              "      fill: #174EA6;\n",
              "    }\n",
              "\n",
              "    .colab-df-buttons div {\n",
              "      margin-bottom: 4px;\n",
              "    }\n",
              "\n",
              "    [theme=dark] .colab-df-convert {\n",
              "      background-color: #3B4455;\n",
              "      fill: #D2E3FC;\n",
              "    }\n",
              "\n",
              "    [theme=dark] .colab-df-convert:hover {\n",
              "      background-color: #434B5C;\n",
              "      box-shadow: 0px 1px 3px 1px rgba(0, 0, 0, 0.15);\n",
              "      filter: drop-shadow(0px 1px 2px rgba(0, 0, 0, 0.3));\n",
              "      fill: #FFFFFF;\n",
              "    }\n",
              "  </style>\n",
              "\n",
              "    <script>\n",
              "      const buttonEl =\n",
              "        document.querySelector('#df-1e64514b-c8fc-4dba-aad5-288db277ee61 button.colab-df-convert');\n",
              "      buttonEl.style.display =\n",
              "        google.colab.kernel.accessAllowed ? 'block' : 'none';\n",
              "\n",
              "      async function convertToInteractive(key) {\n",
              "        const element = document.querySelector('#df-1e64514b-c8fc-4dba-aad5-288db277ee61');\n",
              "        const dataTable =\n",
              "          await google.colab.kernel.invokeFunction('convertToInteractive',\n",
              "                                                    [key], {});\n",
              "        if (!dataTable) return;\n",
              "\n",
              "        const docLinkHtml = 'Like what you see? Visit the ' +\n",
              "          '<a target=\"_blank\" href=https://colab.research.google.com/notebooks/data_table.ipynb>data table notebook</a>'\n",
              "          + ' to learn more about interactive tables.';\n",
              "        element.innerHTML = '';\n",
              "        dataTable['output_type'] = 'display_data';\n",
              "        await google.colab.output.renderOutput(dataTable, element);\n",
              "        const docLink = document.createElement('div');\n",
              "        docLink.innerHTML = docLinkHtml;\n",
              "        element.appendChild(docLink);\n",
              "      }\n",
              "    </script>\n",
              "  </div>\n",
              "\n",
              "\n",
              "<div id=\"df-72c9bbf1-efe2-4215-91fc-3053eee2877c\">\n",
              "  <button class=\"colab-df-quickchart\" onclick=\"quickchart('df-72c9bbf1-efe2-4215-91fc-3053eee2877c')\"\n",
              "            title=\"Suggest charts.\"\n",
              "            style=\"display:none;\">\n",
              "\n",
              "<svg xmlns=\"http://www.w3.org/2000/svg\" height=\"24px\"viewBox=\"0 0 24 24\"\n",
              "     width=\"24px\">\n",
              "    <g>\n",
              "        <path d=\"M19 3H5c-1.1 0-2 .9-2 2v14c0 1.1.9 2 2 2h14c1.1 0 2-.9 2-2V5c0-1.1-.9-2-2-2zM9 17H7v-7h2v7zm4 0h-2V7h2v10zm4 0h-2v-4h2v4z\"/>\n",
              "    </g>\n",
              "</svg>\n",
              "  </button>\n",
              "\n",
              "<style>\n",
              "  .colab-df-quickchart {\n",
              "      --bg-color: #E8F0FE;\n",
              "      --fill-color: #1967D2;\n",
              "      --hover-bg-color: #E2EBFA;\n",
              "      --hover-fill-color: #174EA6;\n",
              "      --disabled-fill-color: #AAA;\n",
              "      --disabled-bg-color: #DDD;\n",
              "  }\n",
              "\n",
              "  [theme=dark] .colab-df-quickchart {\n",
              "      --bg-color: #3B4455;\n",
              "      --fill-color: #D2E3FC;\n",
              "      --hover-bg-color: #434B5C;\n",
              "      --hover-fill-color: #FFFFFF;\n",
              "      --disabled-bg-color: #3B4455;\n",
              "      --disabled-fill-color: #666;\n",
              "  }\n",
              "\n",
              "  .colab-df-quickchart {\n",
              "    background-color: var(--bg-color);\n",
              "    border: none;\n",
              "    border-radius: 50%;\n",
              "    cursor: pointer;\n",
              "    display: none;\n",
              "    fill: var(--fill-color);\n",
              "    height: 32px;\n",
              "    padding: 0;\n",
              "    width: 32px;\n",
              "  }\n",
              "\n",
              "  .colab-df-quickchart:hover {\n",
              "    background-color: var(--hover-bg-color);\n",
              "    box-shadow: 0 1px 2px rgba(60, 64, 67, 0.3), 0 1px 3px 1px rgba(60, 64, 67, 0.15);\n",
              "    fill: var(--button-hover-fill-color);\n",
              "  }\n",
              "\n",
              "  .colab-df-quickchart-complete:disabled,\n",
              "  .colab-df-quickchart-complete:disabled:hover {\n",
              "    background-color: var(--disabled-bg-color);\n",
              "    fill: var(--disabled-fill-color);\n",
              "    box-shadow: none;\n",
              "  }\n",
              "\n",
              "  .colab-df-spinner {\n",
              "    border: 2px solid var(--fill-color);\n",
              "    border-color: transparent;\n",
              "    border-bottom-color: var(--fill-color);\n",
              "    animation:\n",
              "      spin 1s steps(1) infinite;\n",
              "  }\n",
              "\n",
              "  @keyframes spin {\n",
              "    0% {\n",
              "      border-color: transparent;\n",
              "      border-bottom-color: var(--fill-color);\n",
              "      border-left-color: var(--fill-color);\n",
              "    }\n",
              "    20% {\n",
              "      border-color: transparent;\n",
              "      border-left-color: var(--fill-color);\n",
              "      border-top-color: var(--fill-color);\n",
              "    }\n",
              "    30% {\n",
              "      border-color: transparent;\n",
              "      border-left-color: var(--fill-color);\n",
              "      border-top-color: var(--fill-color);\n",
              "      border-right-color: var(--fill-color);\n",
              "    }\n",
              "    40% {\n",
              "      border-color: transparent;\n",
              "      border-right-color: var(--fill-color);\n",
              "      border-top-color: var(--fill-color);\n",
              "    }\n",
              "    60% {\n",
              "      border-color: transparent;\n",
              "      border-right-color: var(--fill-color);\n",
              "    }\n",
              "    80% {\n",
              "      border-color: transparent;\n",
              "      border-right-color: var(--fill-color);\n",
              "      border-bottom-color: var(--fill-color);\n",
              "    }\n",
              "    90% {\n",
              "      border-color: transparent;\n",
              "      border-bottom-color: var(--fill-color);\n",
              "    }\n",
              "  }\n",
              "</style>\n",
              "\n",
              "  <script>\n",
              "    async function quickchart(key) {\n",
              "      const quickchartButtonEl =\n",
              "        document.querySelector('#' + key + ' button');\n",
              "      quickchartButtonEl.disabled = true;  // To prevent multiple clicks.\n",
              "      quickchartButtonEl.classList.add('colab-df-spinner');\n",
              "      try {\n",
              "        const charts = await google.colab.kernel.invokeFunction(\n",
              "            'suggestCharts', [key], {});\n",
              "      } catch (error) {\n",
              "        console.error('Error during call to suggestCharts:', error);\n",
              "      }\n",
              "      quickchartButtonEl.classList.remove('colab-df-spinner');\n",
              "      quickchartButtonEl.classList.add('colab-df-quickchart-complete');\n",
              "    }\n",
              "    (() => {\n",
              "      let quickchartButtonEl =\n",
              "        document.querySelector('#df-72c9bbf1-efe2-4215-91fc-3053eee2877c button');\n",
              "      quickchartButtonEl.style.display =\n",
              "        google.colab.kernel.accessAllowed ? 'block' : 'none';\n",
              "    })();\n",
              "  </script>\n",
              "</div>\n",
              "    </div>\n",
              "  </div>\n"
            ]
          },
          "metadata": {},
          "execution_count": 11
        }
      ]
    },
    {
      "cell_type": "markdown",
      "metadata": {
        "id": "xuPQOf5HAUIA"
      },
      "source": [
        "#### Общая часть"
      ]
    },
    {
      "cell_type": "code",
      "execution_count": 12,
      "metadata": {
        "id": "dPrD9dlrEKLL"
      },
      "outputs": [],
      "source": [
        "class_lim_proba = 0.5 # критерий принадлежности к тому или иному классу\n",
        "device = 'cuda'"
      ]
    },
    {
      "cell_type": "markdown",
      "metadata": {
        "id": "dW6vXt5FHnW3"
      },
      "source": [
        "Стандартизируйте данные"
      ]
    },
    {
      "cell_type": "code",
      "source": [
        "X = data[['pt1',\t'eta1',\t'phi1',\t'Q1',\t'pt2',\t'eta2',\t'phi2', 'Q2']]\n",
        "y = data['class']"
      ],
      "metadata": {
        "id": "KP6qUbVTmjA-"
      },
      "execution_count": 13,
      "outputs": []
    },
    {
      "cell_type": "code",
      "source": [
        "scaler = StandardScaler()\n",
        "scaler.fit(X)\n",
        "X_std = scaler.transform(X)"
      ],
      "metadata": {
        "id": "Vi5oggUzknoS"
      },
      "execution_count": 14,
      "outputs": []
    },
    {
      "cell_type": "code",
      "execution_count": 15,
      "metadata": {
        "id": "gS-c8qg5-jqT"
      },
      "outputs": [],
      "source": [
        "X_train0, X_val0, y_train0, y_val0 = train_test_split(X_std,y.values, test_size=0.2, random_state=42)"
      ]
    },
    {
      "cell_type": "markdown",
      "metadata": {
        "id": "wQ7gceuzqa3X"
      },
      "source": [
        "Далее сформируйте датасет в pytorch-обертке"
      ]
    },
    {
      "cell_type": "code",
      "execution_count": 16,
      "metadata": {
        "id": "1LpeESL0-xDy"
      },
      "outputs": [],
      "source": [
        "X_train = torch.tensor(X_train0).to(torch.float)\n",
        "X_val = torch.tensor(X_val0).to(torch.float)\n",
        "y_train = torch.tensor(y_train0)\n",
        "y_val = torch.tensor(y_val0)"
      ]
    },
    {
      "cell_type": "markdown",
      "metadata": {
        "id": "ayu3JfBzsqC6"
      },
      "source": [
        "Напишите вспомогательные функции, в одной из которых будет проходить обучение, а во вторй - валидация. Также в отдельной функцией можно описать отрисовку кривых обучения. На одном графике расположите значение функции потерь на трейне и валидации, а на другом -- значение метрики качества на ваш выбор, также для трейна и валидации)"
      ]
    },
    {
      "cell_type": "code",
      "source": [
        "criterion = nn.CrossEntropyLoss()"
      ],
      "metadata": {
        "id": "9FxwHrr2aVYP"
      },
      "execution_count": 17,
      "outputs": []
    },
    {
      "cell_type": "code",
      "source": [
        "def batch_generator(X, y, batchsize, device, shuffle=True):\n",
        "\n",
        "    indices = np.arange(len(X))\n",
        "\n",
        "    if shuffle:\n",
        "        indices = np.random.permutation(indices)\n",
        "\n",
        "    for start in range(0, len(indices), batchsize):\n",
        "        ix = indices[start: start + batchsize]\n",
        "\n",
        "        yield torch.FloatTensor(X[ix]).to(device), torch.LongTensor(y[ix]).to(device)"
      ],
      "metadata": {
        "id": "6rSpcvo4ZqrS"
      },
      "execution_count": 18,
      "outputs": []
    },
    {
      "cell_type": "code",
      "execution_count": 49,
      "metadata": {
        "id": "YJFrPQRAsjGz"
      },
      "outputs": [],
      "source": [
        "def plot_learning_curves(history):\n",
        "    \"\"\"\n",
        "    Построение графиков\n",
        "    \"\"\"\n",
        "    fig = plt.figure(figsize=(20,7))\n",
        "\n",
        "    plt.subplot(1,2,1)\n",
        "    plt.title('Лосс', fontsize=15)\n",
        "    plt.plot(history['loss']['train'], label='train')\n",
        "    plt.plot(history['loss']['val'], label='val')\n",
        "    plt.xlabel('эпоха', fontsize=15)\n",
        "    plt.legend()\n",
        "\n",
        "    plt.subplot(1,2,2)\n",
        "    plt.title('Точность', fontsize=15)\n",
        "    plt.plot(history['acc']['train'], label='train')\n",
        "    plt.plot(history['acc']['val'], label='val')\n",
        "    plt.xlabel('эпоха', fontsize=15)\n",
        "    plt.legend()\n",
        "\n",
        "\n",
        "def train_epoch(model, criterion, opt, X_train, y_train, batch_size=64):\n",
        "    '''\n",
        "    Проход по данным для обучения в одной эпохе\n",
        "    '''\n",
        "    train_loss = 0\n",
        "    train_acc = 0\n",
        "\n",
        "    model.train(True)  # устанавливаем поведение dropout / batch_norm  в обучение\n",
        "\n",
        "    for X_batch, y_batch in batch_generator(X_train, y_train, batch_size, device=device):\n",
        "\n",
        "            # Обучаемся на батче (одна \"итерация\" обучения нейросети)\n",
        "            logits = model(X_batch)\n",
        "\n",
        "            loss = criterion(logits, y_batch)\n",
        "\n",
        "            loss.backward()\n",
        "            optimizer.step()\n",
        "            optimizer.zero_grad()\n",
        "\n",
        "            train_loss += loss.detach().cpu().numpy()\n",
        "            y_pred_np = np.argmax(logits.detach().cpu().numpy(), axis=1)\n",
        "            y_batch_np = y_batch.cpu().numpy()\n",
        "            train_acc += (y_batch_np == y_pred_np).sum()\n",
        "    return train_loss, train_acc\n",
        "\n",
        "\n",
        "\n",
        "def test_epoch(model, criterion, opt, X_val, y_val, data_loader,  batch_size=64):\n",
        "    '''\n",
        "    Валидация на одной эпохе\n",
        "    '''\n",
        "    val_loss = 0\n",
        "    val_acc = 0\n",
        "\n",
        "    model.eval()        # Устанавливаем поведение dropout / batch_norm  в тестирование\n",
        "\n",
        "    with torch.no_grad():\n",
        "            for X_batch, y_batch in batch_generator(X_val, y_val, batch_size, device=device):\n",
        "                logits = model(X_batch)\n",
        "                loss = criterion(logits, y_batch)\n",
        "\n",
        "                val_loss += loss.cpu().numpy()\n",
        "                y_pred_np = np.argmax(logits.cpu().numpy(), axis=1)\n",
        "                y_batch_np = y_batch.cpu().numpy()\n",
        "                val_acc += (y_batch_np == y_pred_np).sum()\n",
        "    return val_loss, val_acc\n"
      ]
    },
    {
      "cell_type": "code",
      "source": [
        "\n",
        "def train(\n",
        "    model,\n",
        "    criterion,\n",
        "    optimizer,\n",
        "    X_train, y_train,\n",
        "    X_val, y_val,\n",
        "    num_epochs=100,\n",
        "    batch_size=64,\n",
        "    model_path='model.pth'\n",
        "):\n",
        "    \"\"\"\n",
        "    # Обучение модели\n",
        "    \"\"\"\n",
        "\n",
        "    num_train_batches = len(X_train) // batch_size\n",
        "    num_val_batches = len(X_val) // batch_size\n",
        "\n",
        "    history = defaultdict(lambda: defaultdict(list))\n",
        "\n",
        "    best_val_acc = 0.\n",
        "\n",
        "    for epoch in range(num_epochs):\n",
        "\n",
        "\n",
        "        # На каждой \"эпохе\" делаем полный проход по данным\n",
        "        train_loss, train_acc = train_epoch(model, criterion, optimizer, X_train, y_train)\n",
        "\n",
        "        # Подсчитываем лоссы и сохраням в \"историю\"\n",
        "        train_loss /= num_train_batches\n",
        "        train_acc /= num_train_batches * batch_size\n",
        "        history['loss']['train'].append(train_loss)\n",
        "        history['acc']['train'].append(train_acc)\n",
        "\n",
        "        # Полный проход по валидации\n",
        "        val_loss, val_acc = train_epoch(model, criterion, optimizer, X_val, y_val)\n",
        "\n",
        "        # Подсчитываем лоссы и сохраням в \"историю\"\n",
        "        val_loss /= num_val_batches\n",
        "        val_acc /= num_val_batches * batch_size\n",
        "        history['loss']['val'].append(val_loss)\n",
        "        history['acc']['val'].append(val_acc)\n",
        "\n",
        "        # Сохраняем лучшую модель по метрике на валидации\n",
        "        if val_acc > best_val_acc:\n",
        "            torch.save(model.state_dict(), model_path)\n",
        "\n",
        "    return model, history"
      ],
      "metadata": {
        "id": "QpCLsbX_ZPv9"
      },
      "execution_count": 20,
      "outputs": []
    },
    {
      "cell_type": "markdown",
      "metadata": {
        "id": "-KRqsqFXrOj_"
      },
      "source": [
        "Создание модели"
      ]
    },
    {
      "cell_type": "code",
      "execution_count": 72,
      "metadata": {
        "id": "0TgKtRfVrLpb"
      },
      "outputs": [],
      "source": [
        "class SimpleModel(nn.Module):\n",
        "    def __init__(self):\n",
        "        '''\n",
        "        Здесь объявляем все слои, которые будем использовать\n",
        "        '''\n",
        "        super(SimpleModel, self).__init__()\n",
        "        self.linear1 = nn.Linear(8, 16)\n",
        "        self.linear2 = nn.Linear(16, 16)\n",
        "        self.linear3 = nn.Linear(16, 2)\n",
        "\n",
        "    def forward(self, x):\n",
        "        '''\n",
        "        Здесь пишем в коде, в каком порядке какой слой будет применяться\n",
        "        '''\n",
        "        x = self.linear1(nn.Flatten()(x))\n",
        "        x = self.linear2(nn.ReLU()(x))\n",
        "        x = self.linear3(nn.ReLU()(x))\n",
        "        return x"
      ]
    },
    {
      "cell_type": "markdown",
      "metadata": {
        "id": "EllEx8_atGPX"
      },
      "source": [
        "Обучение"
      ]
    },
    {
      "cell_type": "code",
      "execution_count": 80,
      "metadata": {
        "id": "7Xz9XaHl_7eK"
      },
      "outputs": [],
      "source": [
        "model = SimpleModel().to(device)\n",
        "\n",
        "criterion = nn.CrossEntropyLoss()\n",
        "\n",
        "optimizer = torch.optim.SGD(model.parameters(), lr=0.01)\n",
        "\n",
        "model, history = train(\n",
        "    model, criterion, optimizer,\n",
        "    X_train, y_train,\n",
        "    X_val, y_val,\n",
        "    num_epochs=100,\n",
        "    batch_size=50,\n",
        "    model_path='simple_model.pth'\n",
        ")"
      ]
    },
    {
      "cell_type": "code",
      "source": [
        "plot_learning_curves(history)"
      ],
      "metadata": {
        "colab": {
          "base_uri": "https://localhost:8080/",
          "height": 568
        },
        "id": "f7NJdofvjgB_",
        "outputId": "2dc87b94-78a5-4e97-c47b-f90cd7794a90"
      },
      "execution_count": 81,
      "outputs": [
        {
          "output_type": "display_data",
          "data": {
            "text/plain": [
              "<Figure size 2000x700 with 2 Axes>"
            ],
            "image/png": "[encoded data removed]"
          },
          "metadata": {}
        }
      ]
    },
    {
      "cell_type": "markdown",
      "metadata": {
        "id": "DkW1-Qjd_-dN"
      },
      "source": [
        "Тестирование"
      ]
    },
    {
      "cell_type": "code",
      "execution_count": 82,
      "metadata": {
        "id": "TkZtkmbD4PHI",
        "colab": {
          "base_uri": "https://localhost:8080/"
        },
        "outputId": "8a64f847-4dfd-42eb-9e57-032614270074"
      },
      "outputs": [
        {
          "output_type": "execute_result",
          "data": {
            "text/plain": [
              "SimpleModel(\n",
              "  (linear1): Linear(in_features=8, out_features=16, bias=True)\n",
              "  (linear2): Linear(in_features=16, out_features=16, bias=True)\n",
              "  (linear3): Linear(in_features=16, out_features=2, bias=True)\n",
              ")"
            ]
          },
          "metadata": {},
          "execution_count": 82
        }
      ],
      "source": [
        "model.eval()\n",
        "model.cpu()"
      ]
    },
    {
      "cell_type": "code",
      "source": [
        "print('Точность на валидации: ', (history['acc']['val'][-1] * 100).round(2), '%')"
      ],
      "metadata": {
        "colab": {
          "base_uri": "https://localhost:8080/"
        },
        "id": "EXix9nuJjyUC",
        "outputId": "cc1062ad-9488-42a6-a5d2-f2c967f0b917"
      },
      "execution_count": 83,
      "outputs": [
        {
          "output_type": "stream",
          "name": "stdout",
          "text": [
            "Точность на валидации:  78.92 %\n"
          ]
        }
      ]
    },
    {
      "cell_type": "markdown",
      "metadata": {
        "id": "AKaxR5ClAEzS"
      },
      "source": [
        "**Выводы:**"
      ]
    },
    {
      "cell_type": "markdown",
      "source": [
        "1) Даже простая модель демонстрирует хорошую точность\n",
        "\n",
        "2) По графикам видно, что переобучения не происходило, поэтому в Dropout слое нет особого  смысла\n",
        "\n",
        "3) Так как это задача бинарной классификации, легче было сделать NN классификации с использованием CrossEntropy, чем делать регрессию со своей функцией потерь, а потом сравнивать предикт модели с 0.5. Поэтому я нигде не использовал параметр class_lim_proba"
      ],
      "metadata": {
        "id": "y_4QJsOeHifO"
      }
    }
  ],
  "metadata": {
    "accelerator": "GPU",
    "colab": {
      "gpuType": "T4",
      "provenance": []
    },
    "kernelspec": {
      "display_name": "Python 3",
      "name": "python3"
    },
    "language_info": {
      "name": "python"
    }
  },
  "nbformat": 4,
  "nbformat_minor": 0
}