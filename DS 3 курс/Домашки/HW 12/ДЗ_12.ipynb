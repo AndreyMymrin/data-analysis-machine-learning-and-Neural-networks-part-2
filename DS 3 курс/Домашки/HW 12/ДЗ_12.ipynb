{
 "cells": [
  {
   "cell_type": "markdown",
   "metadata": {},
   "source": [
    "# <a href=\"https://miptstats.github.io/courses/ad_mipt.html\">Phystech@DataScience</a>\n",
    "## Домашнее задание 12\n",
    "\n",
    "**Правила, <font color=\"red\">прочитайте внимательно</font>:**\n",
    "\n",
    "* Выполненную работу нужно отправить телеграм-боту `@miptstats_pds_bot`. Для начала работы с ботом каждый раз отправляйте `/start`. **Работы, присланные иным способом, не принимаются.**\n",
    "* Дедлайн см. в боте. После дедлайна работы не принимаются кроме случаев наличия уважительной причины.\n",
    "* Прислать нужно ноутбук в формате `ipynb`.\n",
    "* Выполнять задание необходимо полностью самостоятельно. **При обнаружении списывания все участники списывания будут сдавать устный зачет.**\n",
    "* Решения, размещенные на каких-либо интернет-ресурсах, не принимаются. Кроме того, публикация решения в открытом доступе может быть приравнена к предоставлении возможности списать.\n",
    "* Для выполнения задания используйте этот ноутбук в качестве основы, ничего не удаляя из него. Можно добавлять необходимое количество ячеек.\n",
    "* Комментарии к решению пишите в markdown-ячейках.\n",
    "* Выполнение задания (ход решения, выводы и пр.) должно быть осуществлено на русском языке.\n",
    "* Если код будет не понятен проверяющему, оценка может быть снижена.\n",
    "* Никакой код из данного задания при проверке запускаться не будет. *Если код студента не выполнен, недописан и т.д., то он не оценивается.*\n",
    "* **Код из рассказанных на занятиях ноутбуков можно использовать без ограничений.**\n",
    "\n",
    "**Правила оформления теоретических задач:**\n",
    "\n",
    "* Решения необходимо прислать одним из следующих способов:\n",
    "  * фотографией в правильной ориентации, где все четко видно, а почерк разборчив,\n",
    "    * отправив ее как файл боту вместе с ноутбуком *или*\n",
    "    * вставив ее в ноутбук посредством `Edit -> Insert Image` (<font color=\"red\">фото, вставленные ссылкой, не принимаются</font>);\n",
    "  * в виде $\\LaTeX$ в markdown-ячейках.\n",
    "* Решения не проверяются, если какое-то требование не выполнено. Особенно внимательно все проверьте в случае выбора второго пункта (вставки фото в ноутбук). <font color=\"red\"><b>Неправильно вставленные фотографии могут не передаться при отправке.</b></font> Для проверки попробуйте переместить `ipynb` в другую папку и открыть его там.\n",
    "* В решениях поясняйте, чем вы пользуетесь, хотя бы кратко. Например, если пользуетесь независимостью, то достаточно подписи вида \"*X и Y незав.*\"\n",
    "* Решение, в котором есть только ответ, и отсутствуют вычисления, оценивается в 0 баллов.\n",
    "\n",
    "\n",
    "**Баллы за задание:**\n",
    "\n",
    "* Задача 1 &mdash; 60 баллов\n",
    "\n",
    "\n",
    "\n",
    "\n",
    "\n",
    "\n",
    "-----"
   ]
  },
  {
   "cell_type": "code",
   "execution_count": null,
   "metadata": {},
   "outputs": [],
   "source": [
    "# Bot check\n",
    "\n",
    "# HW_ID: phds_hw12\n",
    "# Бот проверит этот ID и предупредит, если случайно сдать что-то не то.\n",
    "\n",
    "# Status: not final\n",
    "# Перед отправкой в финальном решении удали \"not\" в строчке выше.\n",
    "# Так бот проверит, что ты отправляешь финальную версию, а не промежуточную.\n",
    "# Никакие значения в этой ячейке не влияют на факт сдачи работы."
   ]
  },
  {
   "cell_type": "code",
   "execution_count": 1,
   "metadata": {
    "id": "ZLOO201gOIGl"
   },
   "outputs": [],
   "source": [
    "import numpy as np\n",
    "import scipy.stats as sps\n",
    "import pandas as pd\n",
    "import matplotlib.pyplot as plt\n",
    "import seaborn as sns\n",
    "from tqdm import tqdm\n",
    "\n",
    "from statsmodels.stats.proportion import proportion_confint\n",
    "import statsmodels.formula.api as smf\n",
    "import statsmodels.stats.api as sms\n",
    "from statsmodels.compat import lzip\n",
    "import statsmodels.datasets as smd\n",
    "import statsmodels.api as sm\n",
    "\n",
    "from sklearn.ensemble import GradientBoostingRegressor\n",
    "from sklearn.linear_model import Ridge\n",
    "\n",
    "sns.set(palette='Set2', style='whitegrid', font_scale=1.3)\n",
    "\n",
    "pd.options.mode.chained_assignment = None"
   ]
  },
  {
   "cell_type": "code",
   "execution_count": null,
   "metadata": {
    "colab": {
     "base_uri": "https://localhost:8080/"
    },
    "id": "q3SvgOOGD5t5",
    "outputId": "f7b4f81c-b3f1-4e02-8bda-beaf7a5dca85"
   },
   "outputs": [
    {
     "name": "stdout",
     "output_type": "stream",
     "text": [
      "Drive already mounted at /content/drive; to attempt to forcibly remount, call drive.mount(\"/content/drive\", force_remount=True).\n"
     ]
    }
   ],
   "source": [
    "# from google.colab import drive\n",
    "# drive.mount('/content/drive')"
   ]
  },
  {
   "cell_type": "code",
   "execution_count": 25,
   "metadata": {
    "id": "sot3bUfhdcc5"
   },
   "outputs": [],
   "source": [
    "alpha = 0.05\n",
    "sample_size = 1000\n",
    "n_iter = 10_000"
   ]
  },
  {
   "cell_type": "markdown",
   "metadata": {
    "id": "psWmpHzyD8oj"
   },
   "source": [
    "# Задача 1 \n",
    "\n",
    "Рассмотрим [данные по пациентам](https://www.kaggle.com/datasets/jillanisofttech/diabetes-disease-updated-dataset?select=diabetes.csv), страдающим диабетом.\n",
    "\n",
    "Скачайте файл и оставьте колонки:\n",
    "* `Age` &mdash; возраст;\n",
    "* `BloodPressure` &mdash; диастолическое давление;\n",
    "* `Insulin` &mdash; уровень инсулина;\n",
    "* `Outcome` &mdash; целевая переменная;\n",
    "\n",
    "Задача состоит в том, чтобы исследовать работоспособность различных видов A/B тестирования с использованием метода CUPED на распределении уровня инсулина (признак `Insulin`)"
   ]
  },
  {
   "cell_type": "code",
   "execution_count": 26,
   "metadata": {
    "id": "88lvK-_5uNKN"
   },
   "outputs": [],
   "source": [
    "DATA_PATH = 'diabetes.csv'"
   ]
  },
  {
   "cell_type": "code",
   "execution_count": 27,
   "metadata": {
    "id": "JAFInnll66oG"
   },
   "outputs": [],
   "source": [
    "data = pd.read_csv(DATA_PATH)"
   ]
  },
  {
   "cell_type": "code",
   "execution_count": 28,
   "metadata": {},
   "outputs": [
    {
     "data": {
      "text/plain": [
       "Index(['Pregnancies', 'Glucose', 'BloodPressure', 'SkinThickness', 'Insulin',\n",
       "       'BMI', 'DiabetesPedigreeFunction', 'Age', 'Outcome'],\n",
       "      dtype='object')"
      ]
     },
     "execution_count": 28,
     "metadata": {},
     "output_type": "execute_result"
    }
   ],
   "source": [
    "data.columns"
   ]
  },
  {
   "cell_type": "code",
   "execution_count": 29,
   "metadata": {
    "id": "I16fRLfO4_bO"
   },
   "outputs": [
    {
     "data": {
      "text/html": [
       "<div>\n",
       "<style scoped>\n",
       "    .dataframe tbody tr th:only-of-type {\n",
       "        vertical-align: middle;\n",
       "    }\n",
       "\n",
       "    .dataframe tbody tr th {\n",
       "        vertical-align: top;\n",
       "    }\n",
       "\n",
       "    .dataframe thead th {\n",
       "        text-align: right;\n",
       "    }\n",
       "</style>\n",
       "<table border=\"1\" class=\"dataframe\">\n",
       "  <thead>\n",
       "    <tr style=\"text-align: right;\">\n",
       "      <th></th>\n",
       "      <th>BloodPressure</th>\n",
       "      <th>Insulin</th>\n",
       "      <th>Age</th>\n",
       "      <th>Outcome</th>\n",
       "    </tr>\n",
       "  </thead>\n",
       "  <tbody>\n",
       "    <tr>\n",
       "      <th>0</th>\n",
       "      <td>72</td>\n",
       "      <td>0</td>\n",
       "      <td>50</td>\n",
       "      <td>1</td>\n",
       "    </tr>\n",
       "    <tr>\n",
       "      <th>1</th>\n",
       "      <td>66</td>\n",
       "      <td>0</td>\n",
       "      <td>31</td>\n",
       "      <td>0</td>\n",
       "    </tr>\n",
       "    <tr>\n",
       "      <th>2</th>\n",
       "      <td>64</td>\n",
       "      <td>0</td>\n",
       "      <td>32</td>\n",
       "      <td>1</td>\n",
       "    </tr>\n",
       "    <tr>\n",
       "      <th>3</th>\n",
       "      <td>66</td>\n",
       "      <td>94</td>\n",
       "      <td>21</td>\n",
       "      <td>0</td>\n",
       "    </tr>\n",
       "    <tr>\n",
       "      <th>4</th>\n",
       "      <td>40</td>\n",
       "      <td>168</td>\n",
       "      <td>33</td>\n",
       "      <td>1</td>\n",
       "    </tr>\n",
       "    <tr>\n",
       "      <th>...</th>\n",
       "      <td>...</td>\n",
       "      <td>...</td>\n",
       "      <td>...</td>\n",
       "      <td>...</td>\n",
       "    </tr>\n",
       "    <tr>\n",
       "      <th>763</th>\n",
       "      <td>76</td>\n",
       "      <td>180</td>\n",
       "      <td>63</td>\n",
       "      <td>0</td>\n",
       "    </tr>\n",
       "    <tr>\n",
       "      <th>764</th>\n",
       "      <td>70</td>\n",
       "      <td>0</td>\n",
       "      <td>27</td>\n",
       "      <td>0</td>\n",
       "    </tr>\n",
       "    <tr>\n",
       "      <th>765</th>\n",
       "      <td>72</td>\n",
       "      <td>112</td>\n",
       "      <td>30</td>\n",
       "      <td>0</td>\n",
       "    </tr>\n",
       "    <tr>\n",
       "      <th>766</th>\n",
       "      <td>60</td>\n",
       "      <td>0</td>\n",
       "      <td>47</td>\n",
       "      <td>1</td>\n",
       "    </tr>\n",
       "    <tr>\n",
       "      <th>767</th>\n",
       "      <td>70</td>\n",
       "      <td>0</td>\n",
       "      <td>23</td>\n",
       "      <td>0</td>\n",
       "    </tr>\n",
       "  </tbody>\n",
       "</table>\n",
       "<p>768 rows × 4 columns</p>\n",
       "</div>"
      ],
      "text/plain": [
       "     BloodPressure  Insulin  Age  Outcome\n",
       "0               72        0   50        1\n",
       "1               66        0   31        0\n",
       "2               64        0   32        1\n",
       "3               66       94   21        0\n",
       "4               40      168   33        1\n",
       "..             ...      ...  ...      ...\n",
       "763             76      180   63        0\n",
       "764             70        0   27        0\n",
       "765             72      112   30        0\n",
       "766             60        0   47        1\n",
       "767             70        0   23        0\n",
       "\n",
       "[768 rows x 4 columns]"
      ]
     },
     "execution_count": 29,
     "metadata": {},
     "output_type": "execute_result"
    }
   ],
   "source": [
    "#data.columns = \n",
    "data = data.drop(['Pregnancies', 'Glucose', 'SkinThickness','BMI', 'DiabetesPedigreeFunction'], axis = 1)\n",
    "data"
   ]
  },
  {
   "cell_type": "code",
   "execution_count": 30,
   "metadata": {
    "code_folding": [
     0,
     3,
     31
    ],
    "id": "h5-jCiN48PFm"
   },
   "outputs": [],
   "source": [
    "def draw_interval(\n",
    "    real_alpha, left_alpha, right_alpha,\n",
    "    alpha=0.05, figsize=(7, 2)\n",
    "):\n",
    "    '''\n",
    "    Отрисовка интервала для реального уровня значимости\n",
    "    real_alpha -- оценка уровня значимости\n",
    "    left_alpha, right_alpha -- границы доверительного интервала\n",
    "    alpha -- теоретический уровень значимости\n",
    "    figsize -- размер фигуры matplotlib\n",
    "    '''\n",
    "\n",
    "    with sns.axes_style(\"whitegrid\"):\n",
    "        plt.figure(figsize=(6, 2))\n",
    "        plt.hlines(0, 0, 1, color='black', lw=2, alpha=0.6)\n",
    "        plt.vlines(alpha, -1, 1, color='red', lw=5, linestyle='--', alpha=0.6)\n",
    "        plt.fill_between(\n",
    "            [left_alpha, right_alpha], [0.15]*2, [-0.15]*2,\n",
    "            color='green', alpha=0.6\n",
    "        )\n",
    "        plt.scatter(real_alpha, 0, s=300, marker='*', color='red')\n",
    "        plt.xlim((min(alpha, left_alpha)-1e-3, max(alpha, right_alpha)+1e-3))\n",
    "        plt.title(\n",
    "            f'Доля отвержений = {100*real_alpha:.2f}%, '\n",
    "            f'интервал ({100*left_alpha:.2f}%, {100*right_alpha:.2f}%)'\n",
    "        )\n",
    "        plt.ylim((-0.5, 0.5))\n",
    "        plt.yticks([])\n",
    "        plt.tight_layout()\n",
    "        plt.show()\n",
    "\n",
    "def calculate_real_alpha(n_errors, n_iter):\n",
    "    '''\n",
    "    Оценка реального уровня значимости и его дов. интервала.\n",
    "\n",
    "    Аргументы:\n",
    "    n_errors -- количество ошибок в эксперименте\n",
    "    n_iter -- количество экспериментов\n",
    "\n",
    "    Возвращает:\n",
    "    real_alpha -- оценка реального уровня значимости\n",
    "    left_alpha, right_alpha -- границы соотв. дов. интервала\n",
    "    '''\n",
    "\n",
    "    real_alpha = n_errors / n_iter\n",
    "    left_alpha, right_alpha = proportion_confint(n_errors, n_iter, method='wilson')\n",
    "\n",
    "    return real_alpha, left_alpha, right_alpha"
   ]
  },
  {
   "cell_type": "code",
   "execution_count": 31,
   "metadata": {
    "id": "dDJ2Bt2d8PFo"
   },
   "outputs": [],
   "source": [
    "def AA_test(\n",
    "    test, x_data, y_data=None,\n",
    "    n_iter=10000, sample_size=1000, effect=0, relative_effect=True, alpha=0.05\n",
    "):\n",
    "    '''\n",
    "    Проведение серии AA-тестов на искусственных выборках.\n",
    "\n",
    "    Аргументы:\n",
    "    test -- статистический критерий\n",
    "    x_data, y_data -- данные, из которых будут семплирповаться выборки\n",
    "    n_iter -- количество итераций\n",
    "    sample_size -- размер выборок\n",
    "    effect -- размер добавляемого эффекта (для оценки мощности)\n",
    "    relative_effect -- является ли эффект относительным или абсолютным\n",
    "    alpha -- теоретический уровень значимости\n",
    "    '''\n",
    "\n",
    "    if y_data is None:\n",
    "        y_data = x_data\n",
    "\n",
    "    n_errors = 0  # количество отвержений H_0\n",
    "\n",
    "    # Проведение экспериментов\n",
    "    for _ in tqdm(range(n_iter)):\n",
    "        # Генерируем выборки\n",
    "        x_sample = x_data.sample(sample_size, replace=True)\n",
    "        y_sample = y_data.sample(sample_size, replace=True)\n",
    "\n",
    "        # Добавляем эффект, если хотим оценить мощность\n",
    "        if relative_effect:\n",
    "            x_data *= 1 + effect\n",
    "        else:\n",
    "            x_data += effect\n",
    "\n",
    "        # Применяем критерий\n",
    "        n_errors += test(x_sample, y_sample)[-1] < alpha\n",
    "\n",
    "    # Реальный уровень значимости\n",
    "    real_alpha, left_alpha, right_alpha = calculate_real_alpha(n_errors, n_iter)\n",
    "    draw_interval(real_alpha, left_alpha, right_alpha, alpha=alpha)"
   ]
  },
  {
   "cell_type": "markdown",
   "metadata": {
    "id": "J3VjT9h_4hwC"
   },
   "source": [
    "## 1. Обычный t-тест\n",
    "\n",
    "Начнём с применения обычного t-теста. Оцените реальный уровень значимости критерия и его мощность на ваших данных"
   ]
  },
  {
   "cell_type": "code",
   "execution_count": 36,
   "metadata": {},
   "outputs": [
    {
     "name": "stderr",
     "output_type": "stream",
     "text": [
      "100%|██████████████████████████████████████████████████████████████████████████| 10000/10000 [00:06<00:00, 1628.48it/s]\n"
     ]
    },
    {
     "data": {
      "image/png": "[encoded data removed]",
      "text/plain": [
       "<Figure size 600x200 with 1 Axes>"
      ]
     },
     "metadata": {},
     "output_type": "display_data"
    }
   ],
   "source": [
    "AA_test(sps.ttest_ind,data['Outcome'])"
   ]
  },
  {
   "cell_type": "code",
   "execution_count": 37,
   "metadata": {},
   "outputs": [
    {
     "name": "stderr",
     "output_type": "stream",
     "text": [
      "100%|██████████████████████████████████████████████████████████████████████████| 10000/10000 [00:06<00:00, 1617.85it/s]\n"
     ]
    },
    {
     "data": {
      "image/png": "[encoded data removed]",
      "text/plain": [
       "<Figure size 600x200 with 1 Axes>"
      ]
     },
     "metadata": {},
     "output_type": "display_data"
    }
   ],
   "source": [
    "AA_test(sps.ttest_ind,data['Outcome'], effect=40)"
   ]
  },
  {
   "cell_type": "markdown",
   "metadata": {},
   "source": [
    "WTF?"
   ]
  },
  {
   "cell_type": "markdown",
   "metadata": {
    "id": "kBjZZxYGNQtb"
   },
   "source": [
    "## 2. Линейные модели на основе ковариат\n",
    "Перейдём к использованию линейных моделей. Построим следующую модель:\n",
    "\n",
    "$$\n",
    "Y = \\theta_0 + \\theta_1 \\cdot \\text{type} + X^T\\Theta\n",
    "$$\n",
    "\n",
    "где $X$ - это признаки, влияющие на целевую переменную.\n",
    "\n",
    "Если будет иметься значимое отклонение значения параметра $\\theta_1$, то можно считать, что среднее двух групп различается. Для проверки этого требуется критерий Стьюдента."
   ]
  },
  {
   "cell_type": "code",
   "execution_count": 35,
   "metadata": {
    "id": "cIkoqE3nNkZ8"
   },
   "outputs": [
    {
     "ename": "SyntaxError",
     "evalue": "invalid syntax (4259975341.py, line 12)",
     "output_type": "error",
     "traceback": [
      "\u001b[1;36m  File \u001b[1;32m\"C:\\Users\\AsusPro\\AppData\\Local\\Temp\\ipykernel_13528\\4259975341.py\"\u001b[1;36m, line \u001b[1;32m12\u001b[0m\n\u001b[1;33m    <...>\u001b[0m\n\u001b[1;37m    ^\u001b[0m\n\u001b[1;31mSyntaxError\u001b[0m\u001b[1;31m:\u001b[0m invalid syntax\n"
     ]
    }
   ],
   "source": [
    "def lin_ttest(x_data, y_data, condition):\n",
    "    '''\n",
    "    Абсолютный t-test.\n",
    "\n",
    "    :param x_data: данные тестовой группы\n",
    "    :param y_data: данные контрольной группы\n",
    "    :param condition: формула, описывающая модель\n",
    "    :return: статистика критерия, p-value\n",
    "    '''\n",
    "\n",
    "    # Обучите модель на объединённых данных\n",
    "    <...>\n",
    "\n",
    "    # проверьте критерий Стьюдента\n",
    "    <...>\n",
    "\n",
    "    return <...>"
   ]
  },
  {
   "cell_type": "markdown",
   "metadata": {
    "id": "LTP8KaydN3dR"
   },
   "source": [
    "Поэкспериментируйте с выбором ковариат. Проведите оценку реального уровня значимости и мощности критерия"
   ]
  },
  {
   "cell_type": "code",
   "execution_count": null,
   "metadata": {
    "id": "IMXHBBOjN74m"
   },
   "outputs": [],
   "source": [
    "# ваш код"
   ]
  },
  {
   "cell_type": "markdown",
   "metadata": {
    "id": "YCstc-XecNTW"
   },
   "source": [
    "## 3. Создание признака с помощью сторонних моделей"
   ]
  },
  {
   "cell_type": "markdown",
   "metadata": {
    "id": "zGRxK3d3csZ-"
   },
   "source": [
    "В качестве ковариаты можно использовать предсказания модели машинного обучения для интересующего признака. Обучите две модели Ridge и градиентный бустинг предсказывать значение `Insulin` по выбранным вами признакам. Далее испульзуйте предсказание в качестве ковариаты. Проведите те же исследования для реального уровня значимости и мощности критерия"
   ]
  },
  {
   "cell_type": "markdown",
   "metadata": {
    "id": "hDcn5lHL6wAp"
   },
   "source": [
    "#### Ridge"
   ]
  },
  {
   "cell_type": "code",
   "execution_count": null,
   "metadata": {
    "id": "4hHfH4RNeXe-"
   },
   "outputs": [],
   "source": [
    "# ваш код"
   ]
  },
  {
   "cell_type": "markdown",
   "metadata": {
    "id": "aIRUvRpG7GC7"
   },
   "source": [
    "#### Gradient Boosting"
   ]
  },
  {
   "cell_type": "code",
   "execution_count": null,
   "metadata": {
    "id": "OYXRAhQ8gKX1"
   },
   "outputs": [],
   "source": [
    "# ваш код"
   ]
  },
  {
   "cell_type": "markdown",
   "metadata": {
    "id": "WUAb4QBsqT9Z"
   },
   "source": [
    "Сделайте вывод о получившихся результатах. Какой тест препочтительнее для данной задачи и почему?"
   ]
  },
  {
   "cell_type": "markdown",
   "metadata": {
    "id": "GDS1T5EyvMzr"
   },
   "source": [
    "**Вывод:**"
   ]
  }
 ],
 "metadata": {
  "colab": {
   "provenance": [],
   "toc_visible": true
  },
  "kernelspec": {
   "display_name": "Python 3 (ipykernel)",
   "language": "python",
   "name": "python3"
  },
  "language_info": {
   "codemirror_mode": {
    "name": "ipython",
    "version": 3
   },
   "file_extension": ".py",
   "mimetype": "text/x-python",
   "name": "python",
   "nbconvert_exporter": "python",
   "pygments_lexer": "ipython3",
   "version": "3.9.13"
  }
 },
 "nbformat": 4,
 "nbformat_minor": 1
}
