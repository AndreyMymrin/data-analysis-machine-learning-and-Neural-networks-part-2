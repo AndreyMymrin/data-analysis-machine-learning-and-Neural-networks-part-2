{
 "cells": [
  {
   "cell_type": "code",
   "execution_count": null,
   "metadata": {},
   "outputs": [],
   "source": []
  },
  {
   "cell_type": "code",
   "execution_count": null,
   "metadata": {},
   "outputs": [],
   "source": []
  },
  {
   "cell_type": "markdown",
   "metadata": {},
   "source": [
    "# <a href=\"https://miptstats.github.io/courses/ad_mipt.html\">Phystech@DataScience</a>\n",
    "## Домашнее задание 11\n",
    "\n",
    "**Правила, <font color=\"red\">прочитайте внимательно</font>:**\n",
    "\n",
    "* Выполненную работу нужно отправить телеграм-боту `@miptstats_pds_bot`. Для начала работы с ботом каждый раз отправляйте `/start`. **Работы, присланные иным способом, не принимаются.**\n",
    "* Дедлайн см. в боте. После дедлайна работы не принимаются кроме случаев наличия уважительной причины.\n",
    "* Прислать нужно ноутбук в формате `ipynb`.\n",
    "* Выполнять задание необходимо полностью самостоятельно. **При обнаружении списывания все участники списывания будут сдавать устный зачет.**\n",
    "* Решения, размещенные на каких-либо интернет-ресурсах, не принимаются. Кроме того, публикация решения в открытом доступе может быть приравнена к предоставлении возможности списать.\n",
    "* Для выполнения задания используйте этот ноутбук в качестве основы, ничего не удаляя из него. Можно добавлять необходимое количество ячеек.\n",
    "* Комментарии к решению пишите в markdown-ячейках.\n",
    "* Выполнение задания (ход решения, выводы и пр.) должно быть осуществлено на русском языке.\n",
    "* Если код будет не понятен проверяющему, оценка может быть снижена.\n",
    "* Никакой код из данного задания при проверке запускаться не будет. *Если код студента не выполнен, недописан и т.д., то он не оценивается.*\n",
    "* **Код из рассказанных на занятиях ноутбуков можно использовать без ограничений.**\n",
    "\n",
    "**Правила оформления теоретических задач:**\n",
    "\n",
    "* Решения необходимо прислать одним из следующих способов:\n",
    "  * фотографией в правильной ориентации, где все четко видно, а почерк разборчив,\n",
    "    * отправив ее как файл боту вместе с ноутбуком *или*\n",
    "    * вставив ее в ноутбук посредством `Edit -> Insert Image` (<font color=\"red\">фото, вставленные ссылкой, не принимаются</font>);\n",
    "  * в виде $\\LaTeX$ в markdown-ячейках.\n",
    "* Решения не проверяются, если какое-то требование не выполнено. Особенно внимательно все проверьте в случае выбора второго пункта (вставки фото в ноутбук). <font color=\"red\"><b>Неправильно вставленные фотографии могут не передаться при отправке.</b></font> Для проверки попробуйте переместить `ipynb` в другую папку и открыть его там.\n",
    "* В решениях поясняйте, чем вы пользуетесь, хотя бы кратко. Например, если пользуетесь независимостью, то достаточно подписи вида \"*X и Y незав.*\"\n",
    "* Решение, в котором есть только ответ, и отсутствуют вычисления, оценивается в 0 баллов.\n",
    "\n",
    "\n",
    "**Баллы за задание:**\n",
    "\n",
    "* Задача 1 &mdash; 20 баллов\n",
    "* Задача 2 &mdash; 30 баллов\n",
    "* Задача 3 &mdash; 60 баллов\n",
    "* Задача 4 &mdash; 50 баллов\n",
    "* Задача 5 &mdash; 50 баллов\n",
    "\n",
    "\n",
    "\n",
    "\n",
    "\n",
    "-----"
   ]
  },
  {
   "cell_type": "code",
   "execution_count": 3,
   "metadata": {
    "id": "aBIdxQNbG2SV"
   },
   "outputs": [],
   "source": [
    "import scipy.stats as sps\n",
    "import numpy as np\n",
    "import pandas as pd\n",
    "from tqdm import tqdm\n",
    "from datetime import datetime, timedelta\n",
    "from IPython.display import Image\n",
    "from statsmodels.stats.proportion import proportion_confint\n",
    "\n",
    "import warnings\n",
    "warnings.filterwarnings(\"ignore\")\n",
    "\n",
    "import matplotlib.pyplot as plt\n",
    "import seaborn as sns\n",
    "sns.set(style='whitegrid', font_scale=1.3, palette='Set2')"
   ]
  },
  {
   "cell_type": "code",
   "execution_count": 2,
   "metadata": {},
   "outputs": [],
   "source": [
    "# Bot check\n",
    "\n",
    "# HW_ID: phds_hw8\n",
    "# Бот проверит этот ID и предупредит, если случайно сдать что-то не то.\n",
    "\n",
    "# Status: not final\n",
    "# Перед отправкой в финальном решении удали \"not\" в строчке выше.\n",
    "# Так бот проверит, что ты отправляешь финальную версию, а не промежуточную.\n",
    "# Никакие значения в этой ячейке не влияют на факт сдачи работы."
   ]
  },
  {
   "cell_type": "markdown",
   "metadata": {
    "id": "chtQXPGHHSrl"
   },
   "source": [
    "---\n",
    "### Задача 1\n",
    "#### **Профиль физика**\n",
    "\n",
    "Рассмотрим [данные](https://drive.google.com/file/d/1qGNN9pcSg6safgxqvWeimQEPtlyggOYc/view?usp=share_link) из первой задачи прошлого домашнего задания, нам понадобится только поперечный импульс `pT` мюона $\\pi^+$ (`id = 211`). В предположении, что дисперсия значений не зависит от типа мюона, посчитайте с помощью формулы `MDE`, сколько мюонов каждого из двух исследуемых типов надо измерить, чтобы задетектировать разницу в средних импульсах равной 0.02? Можно ли снизить это число и из каких соображений? Сделайте соотвветсвующие вычисления"
   ]
  },
  {
   "cell_type": "markdown",
   "metadata": {
    "id": "uT2xyIMLqCog"
   },
   "source": [
    "Выгрузим данные."
   ]
  },
  {
   "cell_type": "code",
   "execution_count": 3,
   "metadata": {
    "id": "yDtPWy_cWuFD"
   },
   "outputs": [
    {
     "data": {
      "text/html": [
       "<div>\n",
       "<style scoped>\n",
       "    .dataframe tbody tr th:only-of-type {\n",
       "        vertical-align: middle;\n",
       "    }\n",
       "\n",
       "    .dataframe tbody tr th {\n",
       "        vertical-align: top;\n",
       "    }\n",
       "\n",
       "    .dataframe thead th {\n",
       "        text-align: right;\n",
       "    }\n",
       "</style>\n",
       "<table border=\"1\" class=\"dataframe\">\n",
       "  <thead>\n",
       "    <tr style=\"text-align: right;\">\n",
       "      <th></th>\n",
       "      <th>id</th>\n",
       "      <th>pT</th>\n",
       "      <th>xF</th>\n",
       "      <th>E</th>\n",
       "    </tr>\n",
       "  </thead>\n",
       "  <tbody>\n",
       "    <tr>\n",
       "      <th>0</th>\n",
       "      <td>211</td>\n",
       "      <td>0.996910</td>\n",
       "      <td>1.861209</td>\n",
       "      <td>16.103207</td>\n",
       "    </tr>\n",
       "    <tr>\n",
       "      <th>1</th>\n",
       "      <td>211</td>\n",
       "      <td>0.837641</td>\n",
       "      <td>9.728960</td>\n",
       "      <td>84.014754</td>\n",
       "    </tr>\n",
       "    <tr>\n",
       "      <th>2</th>\n",
       "      <td>-211</td>\n",
       "      <td>0.540523</td>\n",
       "      <td>0.173407</td>\n",
       "      <td>1.598068</td>\n",
       "    </tr>\n",
       "    <tr>\n",
       "      <th>3</th>\n",
       "      <td>-211</td>\n",
       "      <td>0.746933</td>\n",
       "      <td>0.708969</td>\n",
       "      <td>6.168992</td>\n",
       "    </tr>\n",
       "    <tr>\n",
       "      <th>4</th>\n",
       "      <td>-211</td>\n",
       "      <td>0.272212</td>\n",
       "      <td>0.431071</td>\n",
       "      <td>3.734888</td>\n",
       "    </tr>\n",
       "  </tbody>\n",
       "</table>\n",
       "</div>"
      ],
      "text/plain": [
       "    id        pT        xF          E\n",
       "0  211  0.996910  1.861209  16.103207\n",
       "1  211  0.837641  9.728960  84.014754\n",
       "2 -211  0.540523  0.173407   1.598068\n",
       "3 -211  0.746933  0.708969   6.168992\n",
       "4 -211  0.272212  0.431071   3.734888"
      ]
     },
     "execution_count": 3,
     "metadata": {},
     "output_type": "execute_result"
    }
   ],
   "source": [
    "df = pd.read_csv('pi.csv')\n",
    "df.head()"
   ]
  },
  {
   "cell_type": "markdown",
   "metadata": {
    "id": "v8Z0PE3AqGaU"
   },
   "source": [
    "Выделим нужные нам."
   ]
  },
  {
   "cell_type": "code",
   "execution_count": 4,
   "metadata": {
    "id": "ZDTjij-qWyy1"
   },
   "outputs": [],
   "source": [
    "pT_plus = df['pT']"
   ]
  },
  {
   "cell_type": "markdown",
   "metadata": {
    "id": "iy9iGQ1uqOh6"
   },
   "source": [
    "Посмотрим на гистограмму."
   ]
  },
  {
   "cell_type": "code",
   "execution_count": 5,
   "metadata": {
    "id": "2BZFd7tgW0Ux"
   },
   "outputs": [
    {
     "data": {
      "image/png": "[encoded data removed]",
      "text/plain": [
       "<Figure size 1000x500 with 1 Axes>"
      ]
     },
     "metadata": {},
     "output_type": "display_data"
    }
   ],
   "source": [
    "plt.figure(figsize=(10, 5))\n",
    "\n",
    "plt.hist(pT_plus, alpha=0.5, bins=100, density=True, label='$\\pi^+$')\n",
    "\n",
    "plt.legend()\n",
    "plt.show()"
   ]
  },
  {
   "cell_type": "markdown",
   "metadata": {
    "id": "ASXCwx42oleq"
   },
   "source": [
    "По формуле для `MDE` вычислите необходимый размер выборки."
   ]
  },
  {
   "cell_type": "code",
   "execution_count": 25,
   "metadata": {
    "id": "NqOgHZ3cXM76"
   },
   "outputs": [],
   "source": [
    "alpha = 0.05  # уровень значимости\n",
    "beta = 0.8  # мощности\n",
    "eps = 0.02  # размер эффекта\n",
    "\n",
    "# сумма квантилей\n",
    "q = sps.norm.ppf(1 - alpha) + sps.norm.ppf(beta)"
   ]
  },
  {
   "cell_type": "code",
   "execution_count": 7,
   "metadata": {
    "id": "2Df8ErH1XSZm"
   },
   "outputs": [
    {
     "data": {
      "text/plain": [
       "(2059, 0.0665891491273772)"
      ]
     },
     "execution_count": 7,
     "metadata": {},
     "output_type": "execute_result"
    }
   ],
   "source": [
    "var_0 = pT_plus.var()\n",
    "n_0 = np.ceil((q ** 2) * (var_0 + var_0) / (eps * eps)).astype(int)\n",
    "\n",
    "n_0, var_0"
   ]
  },
  {
   "cell_type": "code",
   "execution_count": 8,
   "metadata": {
    "id": "st_2JzOVXSgj"
   },
   "outputs": [
    {
     "data": {
      "text/plain": [
       "count    20000.000000\n",
       "mean         0.362518\n",
       "std          0.258049\n",
       "min          0.002288\n",
       "25%          0.178141\n",
       "50%          0.302974\n",
       "75%          0.482752\n",
       "max          3.007426\n",
       "Name: pT, dtype: float64"
      ]
     },
     "execution_count": 8,
     "metadata": {},
     "output_type": "execute_result"
    }
   ],
   "source": [
    "pT_plus.describe()"
   ]
  },
  {
   "cell_type": "markdown",
   "metadata": {
    "id": "cP3kFU8IMN85"
   },
   "source": [
    "Обрежем выбросы, чтобы уменьшить дисперсию\n",
    "\n",
    "**Внимание! Удалять выбросы можно только на основе данных до эксперимента. Например, не рассматривать в эксперименте пользователя, на котором произошел выброс. Удаление пользователей по выбросам по экспериментальным данных может привести к большим ошибкам.**"
   ]
  },
  {
   "cell_type": "code",
   "execution_count": 9,
   "metadata": {
    "id": "qvzb5xBXYk9m"
   },
   "outputs": [],
   "source": [
    "pT_plus = pT_plus[pT_plus < 1.5]"
   ]
  },
  {
   "cell_type": "code",
   "execution_count": 10,
   "metadata": {
    "id": "1e6aVP7wYlU6"
   },
   "outputs": [
    {
     "data": {
      "text/plain": [
       "(1846, 0.05969393602336547)"
      ]
     },
     "execution_count": 10,
     "metadata": {},
     "output_type": "execute_result"
    }
   ],
   "source": [
    "var_0 = pT_plus.var()\n",
    "n_0 = np.ceil((q ** 2) * (var_0 + var_0) / (eps * eps)).astype(int)\n",
    "\n",
    "n_0, var_0"
   ]
  },
  {
   "cell_type": "markdown",
   "metadata": {
    "id": "sLOUF3-AlfUz"
   },
   "source": [
    "Посмотрим на зависимость размера выборки в исследовании от размера эффекта. Какой минимальный эффект можно зафиксировать с нашей выборкой?"
   ]
  },
  {
   "cell_type": "code",
   "execution_count": 11,
   "metadata": {
    "id": "QQlWDCI5lfcC"
   },
   "outputs": [
    {
     "data": {
      "image/png": "[encoded data removed]",
      "text/plain": [
       "<Figure size 640x480 with 1 Axes>"
      ]
     },
     "metadata": {},
     "output_type": "display_data"
    }
   ],
   "source": [
    "eps = np.linspace(0.01, 0.1, 100)\n",
    "n = np.ceil((q ** 2) * (var_0 + var_0) / (eps * eps)).astype(int)\n",
    "\n",
    "plt.plot(eps, n, lw=3)\n",
    "plt.xlabel('Размер эффекта (MDE)')\n",
    "plt.ylabel('Размер выборки');"
   ]
  },
  {
   "cell_type": "code",
   "execution_count": 23,
   "metadata": {
    "id": "ns9aw2F5rbcX"
   },
   "outputs": [
    {
     "name": "stdout",
     "output_type": "stream",
     "text": [
      "минимальный эффект, который можно задетектировать с данной выборкой:  0.006085089236259568\n"
     ]
    }
   ],
   "source": [
    "q_sum = sps.norm.ppf(1 - alpha) + sps.norm.ppf(beta)\n",
    "effect = q_sum / np.sqrt(pT_plus.values.shape[0]) * np.sqrt(var_0 + var_0) \n",
    "print('минимальный эффект, который можно задетектировать с данной выборкой: ', effect)"
   ]
  },
  {
   "cell_type": "code",
   "execution_count": 24,
   "metadata": {},
   "outputs": [
    {
     "data": {
      "text/plain": [
       "0.3577552294598086"
      ]
     },
     "execution_count": 24,
     "metadata": {},
     "output_type": "execute_result"
    }
   ],
   "source": [
    "pT_plus.mean()"
   ]
  },
  {
   "cell_type": "markdown",
   "metadata": {
    "id": "eiFXFeQZnbGY"
   },
   "source": [
    "**Вывод**\n",
    "\n",
    "Чем меньше размер выборки, там больше MDE"
   ]
  },
  {
   "cell_type": "markdown",
   "metadata": {
    "id": "BWHyQSBBHQ70"
   },
   "source": [
    "---\n",
    "### Задача 2\n",
    "\n",
    "Выведите формулу `MDE` для относительного t-теста."
   ]
  },
  {
   "cell_type": "markdown",
   "metadata": {},
   "source": [
    ":("
   ]
  },
  {
   "cell_type": "markdown",
   "metadata": {
    "id": "cYzZ2rrH74__"
   },
   "source": [
    "---\n",
    "### Задача 3\n",
    "#### **Профиль физика**\n",
    "\n",
    "\n",
    "Квантовые компьтеры состоят из кубитов, каждый из которых по-отдельности можно представить в виде единичного вектора на сфере. Считывание состояние кубита — это получение проекции этого вектора на ось $z$, причём считав состояние один раз мы получаем детерменированное значение: 0 или 1. Таким образом для получения значения проекции с определённой точностью мы усредняем некоторое количество считываний.\n",
    "\n",
    "В данной задаче мы будем генерировать выборку из распределения Бернулли, симулируя проекции, получаемые от кубита. Наша задача — исследовать минимальный размер выборки для разных значений разделения состояний.\n",
    "\n",
    "\n",
    "Выберите или оцените каким-нибудь способом:\n",
    "\n",
    "1. Статистический критерий (название / односторонний или двусторонний / связные или независимые выборки);\n",
    "\n",
    "2. Размеры A и B групп;\n",
    "\n",
    "3. Желаемый минимальный детектируемый эффект;\n",
    "\n",
    "4. Мощность критерия.\n",
    "\n",
    "Обоснуйте свой выбор в каждом из пунктов.\n"
   ]
  },
  {
   "cell_type": "markdown",
   "metadata": {
    "id": "1j_1uMQy36Ul"
   },
   "source": [
    "> Статистический критерий (название / односторонний или двусторонний / связные или независимые выборки);\n",
    "\n",
    "**Ответ:**\n",
    "\n",
    "абсолютный ttest односторонний, независимые выборки \n"
   ]
  },
  {
   "cell_type": "markdown",
   "metadata": {
    "id": "QEjaOFrq36hW"
   },
   "source": [
    "> Мощность критерия\n",
    "\n",
    "**Ответ:** $\\beta = 0.8$"
   ]
  },
  {
   "cell_type": "markdown",
   "metadata": {
    "id": "aSqepdWI75AA"
   },
   "source": [
    "> Желаемый минимальный детектируемый эффект;\n",
    "\n",
    "> Размер А и В групп;"
   ]
  },
  {
   "cell_type": "markdown",
   "metadata": {
    "id": "oOZW2EwV75AA"
   },
   "source": [
    "Будем подбирать по таблице `MDE`-мощность-размер выборки"
   ]
  },
  {
   "cell_type": "code",
   "execution_count": 26,
   "metadata": {
    "id": "NTH64mCa75AA"
   },
   "outputs": [],
   "source": [
    "def get_mde(alpha, beta, sample_size, var_R, two_sided=False):\n",
    "    '''Расчитывает MDE\n",
    "\n",
    "    :param alpha: желаемая ошибка первого рода\n",
    "    :param beta: желаемая мощность\n",
    "    :param sample_size: размер выборок\n",
    "    :param var_R: оценка дисперсии выборок\n",
    "    :param two_sided: двусторонний ли критерий\n",
    "    :returns: теоретический MDE\n",
    "    '''\n",
    "\n",
    "    a = sps.norm.ppf(1 - alpha) + sps.norm.ppf(beta)\n",
    "    return a / np.sqrt(sample_size) * np.sqrt(var_R + var_R)\n",
    "\n",
    "\n",
    "def get_sample_size(alpha, beta, mde, var_R, two_sided=False):\n",
    "    '''Расчитывает размер выборки для детектирование MDE\n",
    "\n",
    "    :param alpha: желаемая ошибка первого рода\n",
    "    :param beta: желаемая мощность\n",
    "    :param mde: необходимый эффект\n",
    "    :param var_R: дисперсии выборок\n",
    "    :returns: необходимый размер выборки\n",
    "    '''\n",
    "\n",
    "    a = sps.norm.ppf(1 - alpha) + sps.norm.ppf(beta)\n",
    "    return np.ceil((a ** 2) * (var_R + var_R) / (mde * mde)).astype(int)"
   ]
  },
  {
   "cell_type": "markdown",
   "metadata": {
    "id": "Tlj64Unn8NQJ"
   },
   "source": [
    "Создадим датасеты для разных значений проекций. Задайте размер выборок size=2000."
   ]
  },
  {
   "cell_type": "code",
   "execution_count": 83,
   "metadata": {},
   "outputs": [],
   "source": [
    "data = np.array([sps.bernoulli.rvs(p=i,size = 2000) for i in np.linspace(0.3, 0.8, 6)]) # возьмём центральные значения проекций"
   ]
  },
  {
   "cell_type": "markdown",
   "metadata": {
    "id": "IArUb9y98T42"
   },
   "source": [
    "Вычислим значения таблицы."
   ]
  },
  {
   "cell_type": "code",
   "execution_count": 89,
   "metadata": {
    "id": "yYSa1h7-75AB"
   },
   "outputs": [],
   "source": [
    "mde_grid = np.arange(0.01, 0.1, 0.01).reshape(-1, 1)  # абсолютный MDE\n",
    "beta_grid = np.arange(0.6, 1, 0.05)  # мощность\n",
    "alpha = 0.05\n",
    "var = data.var(axis = 1) # дисперсия\n",
    "sample_sizes = []\n",
    "for i in range(6):\n",
    "    sample_sizes.append(get_sample_size(alpha,beta_grid, mde_grid, var[i]))\n",
    "sample_sizes = np.array(sample_sizes)"
   ]
  },
  {
   "cell_type": "code",
   "execution_count": 90,
   "metadata": {},
   "outputs": [
    {
     "data": {
      "text/plain": [
       "(6, 9, 8)"
      ]
     },
     "execution_count": 90,
     "metadata": {},
     "output_type": "execute_result"
    }
   ],
   "source": [
    "sample_sizes.shape"
   ]
  },
  {
   "cell_type": "markdown",
   "metadata": {
    "id": "rD7OoNBNzrWo"
   },
   "source": [
    "Посмотрим для крайних и центрального значений, как выглядит таблица."
   ]
  },
  {
   "cell_type": "code",
   "execution_count": 92,
   "metadata": {
    "id": "CBbZyo-4z5De"
   },
   "outputs": [
    {
     "data": {
      "text/html": [
       "<div>\n",
       "<style scoped>\n",
       "    .dataframe tbody tr th:only-of-type {\n",
       "        vertical-align: middle;\n",
       "    }\n",
       "\n",
       "    .dataframe tbody tr th {\n",
       "        vertical-align: top;\n",
       "    }\n",
       "\n",
       "    .dataframe thead th {\n",
       "        text-align: right;\n",
       "    }\n",
       "</style>\n",
       "<table border=\"1\" class=\"dataframe\">\n",
       "  <thead>\n",
       "    <tr style=\"text-align: right;\">\n",
       "      <th></th>\n",
       "      <th>0.60</th>\n",
       "      <th>0.65</th>\n",
       "      <th>0.70</th>\n",
       "      <th>0.75</th>\n",
       "      <th>0.80</th>\n",
       "      <th>0.85</th>\n",
       "      <th>0.90</th>\n",
       "      <th>0.95</th>\n",
       "    </tr>\n",
       "  </thead>\n",
       "  <tbody>\n",
       "    <tr>\n",
       "      <th>0.01</th>\n",
       "      <td>15205</td>\n",
       "      <td>17393</td>\n",
       "      <td>19858</td>\n",
       "      <td>22701</td>\n",
       "      <td>26090</td>\n",
       "      <td>30338</td>\n",
       "      <td>36139</td>\n",
       "      <td>45669</td>\n",
       "    </tr>\n",
       "    <tr>\n",
       "      <th>0.02</th>\n",
       "      <td>3802</td>\n",
       "      <td>4349</td>\n",
       "      <td>4965</td>\n",
       "      <td>5676</td>\n",
       "      <td>6523</td>\n",
       "      <td>7585</td>\n",
       "      <td>9035</td>\n",
       "      <td>11418</td>\n",
       "    </tr>\n",
       "    <tr>\n",
       "      <th>0.03</th>\n",
       "      <td>1690</td>\n",
       "      <td>1933</td>\n",
       "      <td>2207</td>\n",
       "      <td>2523</td>\n",
       "      <td>2899</td>\n",
       "      <td>3371</td>\n",
       "      <td>4016</td>\n",
       "      <td>5075</td>\n",
       "    </tr>\n",
       "    <tr>\n",
       "      <th>0.04</th>\n",
       "      <td>951</td>\n",
       "      <td>1088</td>\n",
       "      <td>1242</td>\n",
       "      <td>1419</td>\n",
       "      <td>1631</td>\n",
       "      <td>1897</td>\n",
       "      <td>2259</td>\n",
       "      <td>2855</td>\n",
       "    </tr>\n",
       "    <tr>\n",
       "      <th>0.05</th>\n",
       "      <td>609</td>\n",
       "      <td>696</td>\n",
       "      <td>795</td>\n",
       "      <td>909</td>\n",
       "      <td>1044</td>\n",
       "      <td>1214</td>\n",
       "      <td>1446</td>\n",
       "      <td>1827</td>\n",
       "    </tr>\n",
       "    <tr>\n",
       "      <th>0.06</th>\n",
       "      <td>423</td>\n",
       "      <td>484</td>\n",
       "      <td>552</td>\n",
       "      <td>631</td>\n",
       "      <td>725</td>\n",
       "      <td>843</td>\n",
       "      <td>1004</td>\n",
       "      <td>1269</td>\n",
       "    </tr>\n",
       "    <tr>\n",
       "      <th>0.07</th>\n",
       "      <td>311</td>\n",
       "      <td>355</td>\n",
       "      <td>406</td>\n",
       "      <td>464</td>\n",
       "      <td>533</td>\n",
       "      <td>620</td>\n",
       "      <td>738</td>\n",
       "      <td>933</td>\n",
       "    </tr>\n",
       "    <tr>\n",
       "      <th>0.08</th>\n",
       "      <td>238</td>\n",
       "      <td>272</td>\n",
       "      <td>311</td>\n",
       "      <td>355</td>\n",
       "      <td>408</td>\n",
       "      <td>475</td>\n",
       "      <td>565</td>\n",
       "      <td>714</td>\n",
       "    </tr>\n",
       "    <tr>\n",
       "      <th>0.09</th>\n",
       "      <td>188</td>\n",
       "      <td>215</td>\n",
       "      <td>246</td>\n",
       "      <td>281</td>\n",
       "      <td>323</td>\n",
       "      <td>375</td>\n",
       "      <td>447</td>\n",
       "      <td>564</td>\n",
       "    </tr>\n",
       "  </tbody>\n",
       "</table>\n",
       "</div>"
      ],
      "text/plain": [
       "       0.60   0.65   0.70   0.75   0.80   0.85   0.90   0.95\n",
       "0.01  15205  17393  19858  22701  26090  30338  36139  45669\n",
       "0.02   3802   4349   4965   5676   6523   7585   9035  11418\n",
       "0.03   1690   1933   2207   2523   2899   3371   4016   5075\n",
       "0.04    951   1088   1242   1419   1631   1897   2259   2855\n",
       "0.05    609    696    795    909   1044   1214   1446   1827\n",
       "0.06    423    484    552    631    725    843   1004   1269\n",
       "0.07    311    355    406    464    533    620    738    933\n",
       "0.08    238    272    311    355    408    475    565    714\n",
       "0.09    188    215    246    281    323    375    447    564"
      ]
     },
     "execution_count": 92,
     "metadata": {},
     "output_type": "execute_result"
    }
   ],
   "source": [
    "pd.DataFrame(sample_sizes[0], columns=beta_grid.reshape(-1), index=mde_grid.reshape(-1))"
   ]
  },
  {
   "cell_type": "code",
   "execution_count": 94,
   "metadata": {
    "id": "5H7Z8GrVzHZX"
   },
   "outputs": [
    {
     "data": {
      "text/html": [
       "<div>\n",
       "<style scoped>\n",
       "    .dataframe tbody tr th:only-of-type {\n",
       "        vertical-align: middle;\n",
       "    }\n",
       "\n",
       "    .dataframe tbody tr th {\n",
       "        vertical-align: top;\n",
       "    }\n",
       "\n",
       "    .dataframe thead th {\n",
       "        text-align: right;\n",
       "    }\n",
       "</style>\n",
       "<table border=\"1\" class=\"dataframe\">\n",
       "  <thead>\n",
       "    <tr style=\"text-align: right;\">\n",
       "      <th></th>\n",
       "      <th>0.60</th>\n",
       "      <th>0.65</th>\n",
       "      <th>0.70</th>\n",
       "      <th>0.75</th>\n",
       "      <th>0.80</th>\n",
       "      <th>0.85</th>\n",
       "      <th>0.90</th>\n",
       "      <th>0.95</th>\n",
       "    </tr>\n",
       "  </thead>\n",
       "  <tbody>\n",
       "    <tr>\n",
       "      <th>0.01</th>\n",
       "      <td>18007</td>\n",
       "      <td>20598</td>\n",
       "      <td>23516</td>\n",
       "      <td>26883</td>\n",
       "      <td>30897</td>\n",
       "      <td>35928</td>\n",
       "      <td>42797</td>\n",
       "      <td>54083</td>\n",
       "    </tr>\n",
       "    <tr>\n",
       "      <th>0.02</th>\n",
       "      <td>4502</td>\n",
       "      <td>5150</td>\n",
       "      <td>5879</td>\n",
       "      <td>6721</td>\n",
       "      <td>7725</td>\n",
       "      <td>8982</td>\n",
       "      <td>10700</td>\n",
       "      <td>13521</td>\n",
       "    </tr>\n",
       "    <tr>\n",
       "      <th>0.03</th>\n",
       "      <td>2001</td>\n",
       "      <td>2289</td>\n",
       "      <td>2613</td>\n",
       "      <td>2987</td>\n",
       "      <td>3433</td>\n",
       "      <td>3992</td>\n",
       "      <td>4756</td>\n",
       "      <td>6010</td>\n",
       "    </tr>\n",
       "    <tr>\n",
       "      <th>0.04</th>\n",
       "      <td>1126</td>\n",
       "      <td>1288</td>\n",
       "      <td>1470</td>\n",
       "      <td>1681</td>\n",
       "      <td>1932</td>\n",
       "      <td>2246</td>\n",
       "      <td>2675</td>\n",
       "      <td>3381</td>\n",
       "    </tr>\n",
       "    <tr>\n",
       "      <th>0.05</th>\n",
       "      <td>721</td>\n",
       "      <td>824</td>\n",
       "      <td>941</td>\n",
       "      <td>1076</td>\n",
       "      <td>1236</td>\n",
       "      <td>1438</td>\n",
       "      <td>1712</td>\n",
       "      <td>2164</td>\n",
       "    </tr>\n",
       "    <tr>\n",
       "      <th>0.06</th>\n",
       "      <td>501</td>\n",
       "      <td>573</td>\n",
       "      <td>654</td>\n",
       "      <td>747</td>\n",
       "      <td>859</td>\n",
       "      <td>998</td>\n",
       "      <td>1189</td>\n",
       "      <td>1503</td>\n",
       "    </tr>\n",
       "    <tr>\n",
       "      <th>0.07</th>\n",
       "      <td>368</td>\n",
       "      <td>421</td>\n",
       "      <td>480</td>\n",
       "      <td>549</td>\n",
       "      <td>631</td>\n",
       "      <td>734</td>\n",
       "      <td>874</td>\n",
       "      <td>1104</td>\n",
       "    </tr>\n",
       "    <tr>\n",
       "      <th>0.08</th>\n",
       "      <td>282</td>\n",
       "      <td>322</td>\n",
       "      <td>368</td>\n",
       "      <td>421</td>\n",
       "      <td>483</td>\n",
       "      <td>562</td>\n",
       "      <td>669</td>\n",
       "      <td>846</td>\n",
       "    </tr>\n",
       "    <tr>\n",
       "      <th>0.09</th>\n",
       "      <td>223</td>\n",
       "      <td>255</td>\n",
       "      <td>291</td>\n",
       "      <td>332</td>\n",
       "      <td>382</td>\n",
       "      <td>444</td>\n",
       "      <td>529</td>\n",
       "      <td>668</td>\n",
       "    </tr>\n",
       "  </tbody>\n",
       "</table>\n",
       "</div>"
      ],
      "text/plain": [
       "       0.60   0.65   0.70   0.75   0.80   0.85   0.90   0.95\n",
       "0.01  18007  20598  23516  26883  30897  35928  42797  54083\n",
       "0.02   4502   5150   5879   6721   7725   8982  10700  13521\n",
       "0.03   2001   2289   2613   2987   3433   3992   4756   6010\n",
       "0.04   1126   1288   1470   1681   1932   2246   2675   3381\n",
       "0.05    721    824    941   1076   1236   1438   1712   2164\n",
       "0.06    501    573    654    747    859    998   1189   1503\n",
       "0.07    368    421    480    549    631    734    874   1104\n",
       "0.08    282    322    368    421    483    562    669    846\n",
       "0.09    223    255    291    332    382    444    529    668"
      ]
     },
     "execution_count": 94,
     "metadata": {},
     "output_type": "execute_result"
    }
   ],
   "source": [
    "pd.DataFrame(sample_sizes[2], columns=beta_grid.reshape(-1), index=mde_grid.reshape(-1))"
   ]
  },
  {
   "cell_type": "code",
   "execution_count": 95,
   "metadata": {
    "id": "iLY2k58QkyJM"
   },
   "outputs": [
    {
     "data": {
      "text/html": [
       "<div>\n",
       "<style scoped>\n",
       "    .dataframe tbody tr th:only-of-type {\n",
       "        vertical-align: middle;\n",
       "    }\n",
       "\n",
       "    .dataframe tbody tr th {\n",
       "        vertical-align: top;\n",
       "    }\n",
       "\n",
       "    .dataframe thead th {\n",
       "        text-align: right;\n",
       "    }\n",
       "</style>\n",
       "<table border=\"1\" class=\"dataframe\">\n",
       "  <thead>\n",
       "    <tr style=\"text-align: right;\">\n",
       "      <th></th>\n",
       "      <th>0.60</th>\n",
       "      <th>0.65</th>\n",
       "      <th>0.70</th>\n",
       "      <th>0.75</th>\n",
       "      <th>0.80</th>\n",
       "      <th>0.85</th>\n",
       "      <th>0.90</th>\n",
       "      <th>0.95</th>\n",
       "    </tr>\n",
       "  </thead>\n",
       "  <tbody>\n",
       "    <tr>\n",
       "      <th>0.01</th>\n",
       "      <td>11509</td>\n",
       "      <td>13165</td>\n",
       "      <td>15030</td>\n",
       "      <td>17182</td>\n",
       "      <td>19748</td>\n",
       "      <td>22963</td>\n",
       "      <td>27353</td>\n",
       "      <td>34566</td>\n",
       "    </tr>\n",
       "    <tr>\n",
       "      <th>0.02</th>\n",
       "      <td>2878</td>\n",
       "      <td>3292</td>\n",
       "      <td>3758</td>\n",
       "      <td>4296</td>\n",
       "      <td>4937</td>\n",
       "      <td>5741</td>\n",
       "      <td>6839</td>\n",
       "      <td>8642</td>\n",
       "    </tr>\n",
       "    <tr>\n",
       "      <th>0.03</th>\n",
       "      <td>1279</td>\n",
       "      <td>1463</td>\n",
       "      <td>1670</td>\n",
       "      <td>1910</td>\n",
       "      <td>2195</td>\n",
       "      <td>2552</td>\n",
       "      <td>3040</td>\n",
       "      <td>3841</td>\n",
       "    </tr>\n",
       "    <tr>\n",
       "      <th>0.04</th>\n",
       "      <td>720</td>\n",
       "      <td>823</td>\n",
       "      <td>940</td>\n",
       "      <td>1074</td>\n",
       "      <td>1235</td>\n",
       "      <td>1436</td>\n",
       "      <td>1710</td>\n",
       "      <td>2161</td>\n",
       "    </tr>\n",
       "    <tr>\n",
       "      <th>0.05</th>\n",
       "      <td>461</td>\n",
       "      <td>527</td>\n",
       "      <td>602</td>\n",
       "      <td>688</td>\n",
       "      <td>790</td>\n",
       "      <td>919</td>\n",
       "      <td>1095</td>\n",
       "      <td>1383</td>\n",
       "    </tr>\n",
       "    <tr>\n",
       "      <th>0.06</th>\n",
       "      <td>320</td>\n",
       "      <td>366</td>\n",
       "      <td>418</td>\n",
       "      <td>478</td>\n",
       "      <td>549</td>\n",
       "      <td>638</td>\n",
       "      <td>760</td>\n",
       "      <td>961</td>\n",
       "    </tr>\n",
       "    <tr>\n",
       "      <th>0.07</th>\n",
       "      <td>235</td>\n",
       "      <td>269</td>\n",
       "      <td>307</td>\n",
       "      <td>351</td>\n",
       "      <td>404</td>\n",
       "      <td>469</td>\n",
       "      <td>559</td>\n",
       "      <td>706</td>\n",
       "    </tr>\n",
       "    <tr>\n",
       "      <th>0.08</th>\n",
       "      <td>180</td>\n",
       "      <td>206</td>\n",
       "      <td>235</td>\n",
       "      <td>269</td>\n",
       "      <td>309</td>\n",
       "      <td>359</td>\n",
       "      <td>428</td>\n",
       "      <td>541</td>\n",
       "    </tr>\n",
       "    <tr>\n",
       "      <th>0.09</th>\n",
       "      <td>143</td>\n",
       "      <td>163</td>\n",
       "      <td>186</td>\n",
       "      <td>213</td>\n",
       "      <td>244</td>\n",
       "      <td>284</td>\n",
       "      <td>338</td>\n",
       "      <td>427</td>\n",
       "    </tr>\n",
       "  </tbody>\n",
       "</table>\n",
       "</div>"
      ],
      "text/plain": [
       "       0.60   0.65   0.70   0.75   0.80   0.85   0.90   0.95\n",
       "0.01  11509  13165  15030  17182  19748  22963  27353  34566\n",
       "0.02   2878   3292   3758   4296   4937   5741   6839   8642\n",
       "0.03   1279   1463   1670   1910   2195   2552   3040   3841\n",
       "0.04    720    823    940   1074   1235   1436   1710   2161\n",
       "0.05    461    527    602    688    790    919   1095   1383\n",
       "0.06    320    366    418    478    549    638    760    961\n",
       "0.07    235    269    307    351    404    469    559    706\n",
       "0.08    180    206    235    269    309    359    428    541\n",
       "0.09    143    163    186    213    244    284    338    427"
      ]
     },
     "execution_count": 95,
     "metadata": {},
     "output_type": "execute_result"
    }
   ],
   "source": [
    "pd.DataFrame(sample_sizes[5], columns=beta_grid.reshape(-1), index=mde_grid.reshape(-1))"
   ]
  },
  {
   "cell_type": "markdown",
   "metadata": {
    "id": "dmTkmq8L2oJ-"
   },
   "source": [
    "Какой размер детектируемого эффекта мы возьмём и какой для него размер выборок?"
   ]
  },
  {
   "cell_type": "markdown",
   "metadata": {
    "id": "4g0Os9Oc75AC"
   },
   "source": [
    "**Ответ:**\n",
    "\n",
    "Для mde = 0.02 возьмём N = 8000"
   ]
  },
  {
   "cell_type": "markdown",
   "metadata": {
    "id": "08x_Jg3e75AC"
   },
   "source": [
    "Для выбранного критерия проведите АА-тест по сгенерированным данным."
   ]
  },
  {
   "cell_type": "code",
   "execution_count": 96,
   "metadata": {
    "id": "seAn6OXo1M3R"
   },
   "outputs": [],
   "source": [
    "new_data = sps.bernoulli.rvs(0.5, size=8000)"
   ]
  },
  {
   "cell_type": "code",
   "execution_count": 106,
   "metadata": {
    "id": "pJCHuRhp75AC"
   },
   "outputs": [],
   "source": [
    "sample_size = 4000\n",
    "mde = 0.02\n",
    "alpha = 0.05"
   ]
  },
  {
   "cell_type": "code",
   "execution_count": 27,
   "metadata": {
    "id": "jJUAGEGj75AC"
   },
   "outputs": [],
   "source": [
    "def absolute_ttest(x, y, alpha=0.05):\n",
    "    '''\n",
    "    Абсолютный t-test.\n",
    "\n",
    "    Аргументы:\n",
    "    x, y -- выборки одинакового размера\n",
    "    alpha -- уровень значимости\n",
    "\n",
    "    Возвращает:\n",
    "    stat -- статистика критерия\n",
    "    left_bound, right_bound -- границы дов. интервала\n",
    "    pvalue\n",
    "    '''\n",
    "\n",
    "    n = len(x)\n",
    "    x_mean = x.mean()\n",
    "    y_mean = y.mean()\n",
    "\n",
    "    \n",
    "    var = np.var(x)/n + np.var(y)/len(y)\n",
    "    std = np.sqrt(var)\n",
    "    stat = (x_mean - y_mean)/std\n",
    "\n",
    "    z_stat = np.sqrt(n) * stat / std\n",
    "    pvalue = 2*sps.norm.sf(np.abs(z_stat))\n",
    "\n",
    "    q = sps.norm.ppf(1 - alpha/2)\n",
    "    left_bound = stat - q*std\n",
    "    right_bound = stat + q*std\n",
    "\n",
    "    return stat, left_bound, right_bound, pvalue"
   ]
  },
  {
   "cell_type": "code",
   "execution_count": 133,
   "metadata": {
    "id": "t-Xhz1_o75AC"
   },
   "outputs": [
    {
     "name": "stderr",
     "output_type": "stream",
     "text": [
      "100%|████████████████████████████████████████████████████████████████████████████| 2000/2000 [00:01<00:00, 1596.62it/s]\n"
     ]
    }
   ],
   "source": [
    "p_vals = []\n",
    "\n",
    "for i in tqdm(range(2000)):\n",
    "\n",
    "    sample1, sample2 = np.random.choice(new_data, (2, sample_size), replace=False)\n",
    "\n",
    "    p_val = absolute_ttest(sample1,sample2, alpha=alpha)[3]\n",
    "    p_vals.append(p_val)\n",
    "\n",
    "p_vals = np.array(p_vals)"
   ]
  },
  {
   "cell_type": "code",
   "execution_count": 28,
   "metadata": {
    "id": "qc73I5D075AC"
   },
   "outputs": [],
   "source": [
    "def draw_interval(\n",
    "    real_alpha, left_alpha, right_alpha,\n",
    "    alpha=0.05, figsize=(7, 2)\n",
    "):\n",
    "    '''\n",
    "    Отрисовка интервала для реального уровня значимости\n",
    "    real_alpha -- оценка уровня значимости\n",
    "    left_alpha, right_alpha -- границы доверительного интервала\n",
    "    alpha -- теоретический уровень значимости\n",
    "    figsize -- размер фигуры matplotlib\n",
    "    '''\n",
    "\n",
    "    with sns.axes_style(\"whitegrid\"):\n",
    "        plt.figure(figsize=(6, 2))\n",
    "        plt.hlines(0, 0, 1, color='black', lw=2, alpha=0.6)\n",
    "        plt.vlines(alpha, -1, 1, color='red', lw=5, linestyle='--', alpha=0.6)\n",
    "        plt.fill_between(\n",
    "            [left_alpha, right_alpha], [0.15]*2, [-0.15]*2,\n",
    "            color='green', alpha=0.6\n",
    "        )\n",
    "        plt.scatter(real_alpha, 0, s=300, marker='*', color='red')\n",
    "        plt.xlim((min(alpha, left_alpha)-1e-3, max(alpha, right_alpha)+1e-3))\n",
    "        plt.title(\n",
    "            f'Доля отвержений = {100*real_alpha:.2f}%, '\n",
    "            f'интервал ({100*left_alpha:.2f}%, {100*right_alpha:.2f}%)'\n",
    "        )\n",
    "        plt.ylim((-0.5, 0.5))\n",
    "        plt.yticks([])\n",
    "        plt.tight_layout()\n",
    "        plt.show()"
   ]
  },
  {
   "cell_type": "code",
   "execution_count": 135,
   "metadata": {
    "id": "EG18ZJjd75AC"
   },
   "outputs": [
    {
     "name": "stdout",
     "output_type": "stream",
     "text": [
      "Реальный уровень значимости: 0.98\n"
     ]
    },
    {
     "data": {
      "image/png": "[encoded data removed]",
      "text/plain": [
       "<Figure size 600x200 with 1 Axes>"
      ]
     },
     "metadata": {},
     "output_type": "display_data"
    }
   ],
   "source": [
    "real_alpha = (p_vals < alpha).mean()\n",
    "print(f'Реальный уровень значимости: {real_alpha.round(2)}')\n",
    "left_alpha, right_alpha = proportion_confint((p_vals < alpha).sum(), len(p_vals), method='wilson')\n",
    "draw_interval(real_alpha, left_alpha, right_alpha, alpha=alpha)"
   ]
  },
  {
   "cell_type": "markdown",
   "metadata": {
    "id": "pRT2uQUp3fVy"
   },
   "source": [
    "Посмотрите на гистограмму pvalue."
   ]
  },
  {
   "cell_type": "code",
   "execution_count": 136,
   "metadata": {
    "id": "ChSdghWf75AD"
   },
   "outputs": [
    {
     "data": {
      "image/png": "[encoded data removed]",
      "text/plain": [
       "<Figure size 640x480 with 1 Axes>"
      ]
     },
     "metadata": {},
     "output_type": "display_data"
    }
   ],
   "source": [
    "plt.hist(p_vals,bins = 100);"
   ]
  },
  {
   "cell_type": "code",
   "execution_count": 137,
   "metadata": {},
   "outputs": [
    {
     "name": "stdout",
     "output_type": "stream",
     "text": [
      "(2000,)   (1969,)\n"
     ]
    }
   ],
   "source": [
    "print(p_vals.shape, ' ', p_vals[p_vals < 0.01].shape)"
   ]
  },
  {
   "cell_type": "markdown",
   "metadata": {
    "id": "kOnRQF5D75AD"
   },
   "source": [
    "Какие выводы о валидности выбранного критерия вы можете сделать?\n",
    "\n",
    "**Ответ:**\n",
    "\n",
    "Доля отвержений на АА тесте 98%)) Определенно что-то здесь не так"
   ]
  },
  {
   "cell_type": "code",
   "execution_count": 138,
   "metadata": {
    "id": "FVqqmzE_75AD"
   },
   "outputs": [
    {
     "name": "stderr",
     "output_type": "stream",
     "text": [
      "100%|████████████████████████████████████████████████████████████████████████████| 2000/2000 [00:01<00:00, 1253.17it/s]\n"
     ]
    }
   ],
   "source": [
    "pvals = []\n",
    "\n",
    "for _ in tqdm(range(2000)):\n",
    "    sample1, sample2 = np.random.choice(new_data, (2, sample_size), replace=False)\n",
    "\n",
    "    sample2 = sample2 + 0.03\n",
    "    sample2 += sps.norm.rvs(size=len(sample2), scale=0.1)\n",
    "\n",
    "    pvals.append(absolute_ttest(sample1,sample2, alpha = alpha)[3])\n",
    "\n",
    "pvals = np.array(pvals)"
   ]
  },
  {
   "cell_type": "code",
   "execution_count": 129,
   "metadata": {
    "id": "0_qiffXg75AD"
   },
   "outputs": [
    {
     "name": "stdout",
     "output_type": "stream",
     "text": [
      "Реальная мощность критерия: 1.0\n"
     ]
    }
   ],
   "source": [
    "print(f'Реальная мощность критерия: {(pvals < alpha).mean().round(3)}')"
   ]
  },
  {
   "cell_type": "markdown",
   "metadata": {
    "id": "uPwu4VYSUfHT"
   },
   "source": [
    "**Вывод**"
   ]
  },
  {
   "cell_type": "code",
   "execution_count": 5,
   "metadata": {},
   "outputs": [
    {
     "data": {
      "text/html": [
       "<img src=\"https://www.meme-arsenal.com/memes/774f15dbc9f179945a40a39b472682a3.jpg\"/>"
      ],
      "text/plain": [
       "<IPython.core.display.Image object>"
      ]
     },
     "execution_count": 5,
     "metadata": {},
     "output_type": "execute_result"
    }
   ],
   "source": [
    "Image(url='https://www.meme-arsenal.com/memes/774f15dbc9f179945a40a39b472682a3.jpg')"
   ]
  },
  {
   "cell_type": "markdown",
   "metadata": {
    "id": "7rzDzIlMHlvw"
   },
   "source": [
    "---\n",
    "\n",
    "### Задача 4\n",
    "#### **Профиль физика**\n",
    "\n",
    "\n",
    "Рассмотрим [данные о звездах](https://www.kaggle.com/datasets/fernandolima23/classification-in-asteroseismology?select=classification_in_asteroseismology.csv) из предыдущего домашнего задания:\n",
    "\n",
    "Датасет содержит информацию о звездах, где `POP` - разделяет звёзды по классам. Нас будeт интересовать столбец `Dnu`."
   ]
  },
  {
   "cell_type": "markdown",
   "metadata": {
    "id": "A9C2t7KnRbRd"
   },
   "source": [
    "Считайте данные."
   ]
  },
  {
   "cell_type": "code",
   "execution_count": 174,
   "metadata": {
    "id": "Kreg06DpWy8L"
   },
   "outputs": [],
   "source": [
    "df = pd.read_csv(\"classification_in_asteroseismology.csv\")"
   ]
  },
  {
   "cell_type": "code",
   "execution_count": 175,
   "metadata": {
    "id": "3gSBpZWvRHtN"
   },
   "outputs": [
    {
     "data": {
      "text/html": [
       "<div>\n",
       "<style scoped>\n",
       "    .dataframe tbody tr th:only-of-type {\n",
       "        vertical-align: middle;\n",
       "    }\n",
       "\n",
       "    .dataframe tbody tr th {\n",
       "        vertical-align: top;\n",
       "    }\n",
       "\n",
       "    .dataframe thead th {\n",
       "        text-align: right;\n",
       "    }\n",
       "</style>\n",
       "<table border=\"1\" class=\"dataframe\">\n",
       "  <thead>\n",
       "    <tr style=\"text-align: right;\">\n",
       "      <th></th>\n",
       "      <th>POP</th>\n",
       "      <th>Dnu</th>\n",
       "      <th>numax</th>\n",
       "      <th>epsilon</th>\n",
       "    </tr>\n",
       "  </thead>\n",
       "  <tbody>\n",
       "    <tr>\n",
       "      <th>0</th>\n",
       "      <td>1</td>\n",
       "      <td>4.44780</td>\n",
       "      <td>43.06289</td>\n",
       "      <td>0.985</td>\n",
       "    </tr>\n",
       "    <tr>\n",
       "      <th>1</th>\n",
       "      <td>0</td>\n",
       "      <td>6.94399</td>\n",
       "      <td>74.07646</td>\n",
       "      <td>0.150</td>\n",
       "    </tr>\n",
       "    <tr>\n",
       "      <th>2</th>\n",
       "      <td>1</td>\n",
       "      <td>2.64571</td>\n",
       "      <td>21.57891</td>\n",
       "      <td>0.855</td>\n",
       "    </tr>\n",
       "    <tr>\n",
       "      <th>3</th>\n",
       "      <td>1</td>\n",
       "      <td>4.24168</td>\n",
       "      <td>32.13189</td>\n",
       "      <td>0.840</td>\n",
       "    </tr>\n",
       "    <tr>\n",
       "      <th>4</th>\n",
       "      <td>0</td>\n",
       "      <td>10.44719</td>\n",
       "      <td>120.37356</td>\n",
       "      <td>0.275</td>\n",
       "    </tr>\n",
       "    <tr>\n",
       "      <th>...</th>\n",
       "      <td>...</td>\n",
       "      <td>...</td>\n",
       "      <td>...</td>\n",
       "      <td>...</td>\n",
       "    </tr>\n",
       "    <tr>\n",
       "      <th>996</th>\n",
       "      <td>0</td>\n",
       "      <td>5.51582</td>\n",
       "      <td>49.99920</td>\n",
       "      <td>0.060</td>\n",
       "    </tr>\n",
       "    <tr>\n",
       "      <th>997</th>\n",
       "      <td>1</td>\n",
       "      <td>4.14823</td>\n",
       "      <td>32.09069</td>\n",
       "      <td>0.930</td>\n",
       "    </tr>\n",
       "    <tr>\n",
       "      <th>998</th>\n",
       "      <td>1</td>\n",
       "      <td>3.98294</td>\n",
       "      <td>30.90257</td>\n",
       "      <td>0.880</td>\n",
       "    </tr>\n",
       "    <tr>\n",
       "      <th>999</th>\n",
       "      <td>1</td>\n",
       "      <td>4.33893</td>\n",
       "      <td>45.62183</td>\n",
       "      <td>0.975</td>\n",
       "    </tr>\n",
       "    <tr>\n",
       "      <th>1000</th>\n",
       "      <td>1</td>\n",
       "      <td>3.74869</td>\n",
       "      <td>37.94907</td>\n",
       "      <td>0.205</td>\n",
       "    </tr>\n",
       "  </tbody>\n",
       "</table>\n",
       "<p>1001 rows × 4 columns</p>\n",
       "</div>"
      ],
      "text/plain": [
       "      POP       Dnu      numax  epsilon\n",
       "0       1   4.44780   43.06289    0.985\n",
       "1       0   6.94399   74.07646    0.150\n",
       "2       1   2.64571   21.57891    0.855\n",
       "3       1   4.24168   32.13189    0.840\n",
       "4       0  10.44719  120.37356    0.275\n",
       "...   ...       ...        ...      ...\n",
       "996     0   5.51582   49.99920    0.060\n",
       "997     1   4.14823   32.09069    0.930\n",
       "998     1   3.98294   30.90257    0.880\n",
       "999     1   4.33893   45.62183    0.975\n",
       "1000    1   3.74869   37.94907    0.205\n",
       "\n",
       "[1001 rows x 4 columns]"
      ]
     },
     "execution_count": 175,
     "metadata": {},
     "output_type": "execute_result"
    }
   ],
   "source": [
    "df"
   ]
  },
  {
   "cell_type": "markdown",
   "metadata": {
    "id": "kl5v4Kt_rinG"
   },
   "source": [
    "Получите таблицу `MDE`-мощности-размера выборки для параметра `Dnu` как в 3-м задании, но теперь проведя относительный ttest и написав его функцию."
   ]
  },
  {
   "cell_type": "code",
   "execution_count": 29,
   "metadata": {
    "id": "wF2EtTo-a4_1"
   },
   "outputs": [],
   "source": [
    "def relative_ttest(x, y, alpha=0.05):\n",
    "    '''\n",
    "    Относительный t-test.\n",
    "\n",
    "    Аргументы:\n",
    "    x, y -- выборки одинакового размера\n",
    "    alpha -- уровень значимости\n",
    "\n",
    "    Возвращает:\n",
    "    stat -- статистика критерия\n",
    "    left_bound, right_bound -- границы дов. интервала\n",
    "    pvalue\n",
    "    '''\n",
    "\n",
    "    n = len(x)\n",
    "    x_mean = x.mean()\n",
    "    y_mean = y.mean()\n",
    "\n",
    "    stat = (x_mean - y_mean)/y_mean\n",
    "    var = (x.var()/y_mean)**2 + (x_mean*y.var()/y_mean**2)**2\n",
    "    std = np.sqrt(var)\n",
    "\n",
    "    z_stat = np.sqrt(n) * stat / std\n",
    "    pvalue = 2*sps.norm.sf(np.abs(z_stat))\n",
    "\n",
    "    q = sps.norm.ppf(1 - alpha/2)\n",
    "    left_bound = stat - q * std\n",
    "    right_bound = stat + q * std\n",
    "\n",
    "    return stat, left_bound, right_bound, pvalue"
   ]
  },
  {
   "cell_type": "code",
   "execution_count": 177,
   "metadata": {
    "id": "60RVXZxHqAhb"
   },
   "outputs": [
    {
     "data": {
      "text/html": [
       "<div>\n",
       "<style scoped>\n",
       "    .dataframe tbody tr th:only-of-type {\n",
       "        vertical-align: middle;\n",
       "    }\n",
       "\n",
       "    .dataframe tbody tr th {\n",
       "        vertical-align: top;\n",
       "    }\n",
       "\n",
       "    .dataframe thead th {\n",
       "        text-align: right;\n",
       "    }\n",
       "</style>\n",
       "<table border=\"1\" class=\"dataframe\">\n",
       "  <thead>\n",
       "    <tr style=\"text-align: right;\">\n",
       "      <th></th>\n",
       "      <th>0.60</th>\n",
       "      <th>0.65</th>\n",
       "      <th>0.70</th>\n",
       "      <th>0.75</th>\n",
       "      <th>0.80</th>\n",
       "      <th>0.85</th>\n",
       "      <th>0.90</th>\n",
       "      <th>0.95</th>\n",
       "    </tr>\n",
       "  </thead>\n",
       "  <tbody>\n",
       "    <tr>\n",
       "      <th>0.01</th>\n",
       "      <td>38848</td>\n",
       "      <td>44437</td>\n",
       "      <td>50734</td>\n",
       "      <td>57998</td>\n",
       "      <td>66658</td>\n",
       "      <td>77512</td>\n",
       "      <td>92331</td>\n",
       "      <td>116679</td>\n",
       "    </tr>\n",
       "    <tr>\n",
       "      <th>0.02</th>\n",
       "      <td>9712</td>\n",
       "      <td>11110</td>\n",
       "      <td>12684</td>\n",
       "      <td>14500</td>\n",
       "      <td>16665</td>\n",
       "      <td>19378</td>\n",
       "      <td>23083</td>\n",
       "      <td>29170</td>\n",
       "    </tr>\n",
       "    <tr>\n",
       "      <th>0.03</th>\n",
       "      <td>4317</td>\n",
       "      <td>4938</td>\n",
       "      <td>5638</td>\n",
       "      <td>6445</td>\n",
       "      <td>7407</td>\n",
       "      <td>8613</td>\n",
       "      <td>10259</td>\n",
       "      <td>12965</td>\n",
       "    </tr>\n",
       "    <tr>\n",
       "      <th>0.04</th>\n",
       "      <td>2428</td>\n",
       "      <td>2778</td>\n",
       "      <td>3171</td>\n",
       "      <td>3625</td>\n",
       "      <td>4167</td>\n",
       "      <td>4845</td>\n",
       "      <td>5771</td>\n",
       "      <td>7293</td>\n",
       "    </tr>\n",
       "    <tr>\n",
       "      <th>0.05</th>\n",
       "      <td>1554</td>\n",
       "      <td>1778</td>\n",
       "      <td>2030</td>\n",
       "      <td>2320</td>\n",
       "      <td>2667</td>\n",
       "      <td>3101</td>\n",
       "      <td>3694</td>\n",
       "      <td>4668</td>\n",
       "    </tr>\n",
       "    <tr>\n",
       "      <th>0.06</th>\n",
       "      <td>1080</td>\n",
       "      <td>1235</td>\n",
       "      <td>1410</td>\n",
       "      <td>1612</td>\n",
       "      <td>1852</td>\n",
       "      <td>2154</td>\n",
       "      <td>2565</td>\n",
       "      <td>3242</td>\n",
       "    </tr>\n",
       "    <tr>\n",
       "      <th>0.07</th>\n",
       "      <td>793</td>\n",
       "      <td>907</td>\n",
       "      <td>1036</td>\n",
       "      <td>1184</td>\n",
       "      <td>1361</td>\n",
       "      <td>1582</td>\n",
       "      <td>1885</td>\n",
       "      <td>2382</td>\n",
       "    </tr>\n",
       "    <tr>\n",
       "      <th>0.08</th>\n",
       "      <td>607</td>\n",
       "      <td>695</td>\n",
       "      <td>793</td>\n",
       "      <td>907</td>\n",
       "      <td>1042</td>\n",
       "      <td>1212</td>\n",
       "      <td>1443</td>\n",
       "      <td>1824</td>\n",
       "    </tr>\n",
       "    <tr>\n",
       "      <th>0.09</th>\n",
       "      <td>480</td>\n",
       "      <td>549</td>\n",
       "      <td>627</td>\n",
       "      <td>717</td>\n",
       "      <td>823</td>\n",
       "      <td>957</td>\n",
       "      <td>1140</td>\n",
       "      <td>1441</td>\n",
       "    </tr>\n",
       "  </tbody>\n",
       "</table>\n",
       "</div>"
      ],
      "text/plain": [
       "       0.60   0.65   0.70   0.75   0.80   0.85   0.90    0.95\n",
       "0.01  38848  44437  50734  57998  66658  77512  92331  116679\n",
       "0.02   9712  11110  12684  14500  16665  19378  23083   29170\n",
       "0.03   4317   4938   5638   6445   7407   8613  10259   12965\n",
       "0.04   2428   2778   3171   3625   4167   4845   5771    7293\n",
       "0.05   1554   1778   2030   2320   2667   3101   3694    4668\n",
       "0.06   1080   1235   1410   1612   1852   2154   2565    3242\n",
       "0.07    793    907   1036   1184   1361   1582   1885    2382\n",
       "0.08    607    695    793    907   1042   1212   1443    1824\n",
       "0.09    480    549    627    717    823    957   1140    1441"
      ]
     },
     "execution_count": 177,
     "metadata": {},
     "output_type": "execute_result"
    }
   ],
   "source": [
    "mde_grid = np.arange(0.01, 0.1, 0.01).reshape(-1, 1) # относительный MDE\n",
    "beta_grid = np.arange(0.6, 1, 0.05)  # мощность\n",
    "alpha = 0.05\n",
    "var = df['Dnu'].var() * 2 / (df['Dnu'].mean()**2)  # относительная дисперсия\n",
    "\n",
    "sample_sizes = get_sample_size(alpha,beta_grid, mde_grid, var)\n",
    "pd.DataFrame(sample_sizes, columns=beta_grid.reshape(-1), index=mde_grid.reshape(-1))"
   ]
  },
  {
   "cell_type": "markdown",
   "metadata": {
    "id": "VHJ42g36p_5p"
   },
   "source": [
    "Какие значения `MDE`, достоверности и размера выборки стоит выбрать?"
   ]
  },
  {
   "cell_type": "markdown",
   "metadata": {
    "id": "RzO-i0NfquGP"
   },
   "source": [
    "**Ответ:**\n",
    "Так как размер выборки равен 1000, а replace = False, то берём 0.09, 0.6, 500 "
   ]
  },
  {
   "cell_type": "markdown",
   "metadata": {
    "id": "sEXye15lrabq"
   },
   "source": [
    "Далее как в 3-й задаче по физике посмотрим на реальный уровень значимости, гистограмму p_value и реальный уровень значимости."
   ]
  },
  {
   "cell_type": "code",
   "execution_count": 178,
   "metadata": {
    "id": "W3Jpjr8NJ6cQ"
   },
   "outputs": [],
   "source": [
    "sample_size = 500\n",
    "mde = 0.09\n",
    "alpha = 0.6"
   ]
  },
  {
   "cell_type": "code",
   "execution_count": 179,
   "metadata": {
    "id": "Lg9cF2KGra0Z"
   },
   "outputs": [
    {
     "name": "stderr",
     "output_type": "stream",
     "text": [
      "100%|████████████████████████████████████████████████████████████████████████████| 2000/2000 [00:00<00:00, 2227.99it/s]\n"
     ]
    }
   ],
   "source": [
    "p_vals = []\n",
    "\n",
    "for i in tqdm(range(2000)):\n",
    "\n",
    "    sample1, sample2 = np.random.choice(df['Dnu'], (2, sample_size), replace=False)\n",
    "\n",
    "    p_val = relative_ttest(sample1, sample2, alpha = alpha)\n",
    "    p_vals.append(p_val)\n",
    "\n",
    "p_vals = np.array(p_vals)"
   ]
  },
  {
   "cell_type": "code",
   "execution_count": 180,
   "metadata": {
    "id": "mjVIM9vZra0Z"
   },
   "outputs": [
    {
     "name": "stdout",
     "output_type": "stream",
     "text": [
      "Реальный уровень значимости: 0.53\n"
     ]
    },
    {
     "data": {
      "image/png": "[encoded data removed]",
      "text/plain": [
       "<Figure size 600x200 with 1 Axes>"
      ]
     },
     "metadata": {},
     "output_type": "display_data"
    }
   ],
   "source": [
    "real_alpha = (p_vals < alpha).mean()\n",
    "print(f'Реальный уровень значимости: {real_alpha.round(2)}')\n",
    "left_alpha, right_alpha = proportion_confint((p_vals < alpha).sum(), len(p_vals), method='wilson')\n",
    "draw_interval(real_alpha, left_alpha, right_alpha, alpha=alpha)"
   ]
  },
  {
   "cell_type": "markdown",
   "metadata": {
    "id": "ZC6K_vJFra0a"
   },
   "source": [
    "Посмотрите также на гистограмму p-value."
   ]
  },
  {
   "cell_type": "code",
   "execution_count": 181,
   "metadata": {
    "id": "wVZGAZOKra0a"
   },
   "outputs": [
    {
     "data": {
      "image/png": "[encoded data removed]",
      "text/plain": [
       "<Figure size 1000x400 with 1 Axes>"
      ]
     },
     "metadata": {},
     "output_type": "display_data"
    }
   ],
   "source": [
    "sns.set_style(\"whitegrid\")\n",
    "\n",
    "plt.figure(figsize=(10, 4))\n",
    "plt.title('Гистограмма pvalue')\n",
    "sns.histplot(p_vals)\n",
    "plt.show()"
   ]
  },
  {
   "cell_type": "markdown",
   "metadata": {
    "id": "cOfErnmPra0a"
   },
   "source": [
    "Что можно сказать о валидности критерия?\n",
    "\n",
    "**Ответ:**"
   ]
  },
  {
   "cell_type": "markdown",
   "metadata": {
    "id": "q4LkXlT5JQmb"
   },
   "source": [
    "Проверьте также мощность критерия на выбранном `MDE`.\n"
   ]
  },
  {
   "cell_type": "code",
   "execution_count": 182,
   "metadata": {
    "id": "REjnKzsfra0a"
   },
   "outputs": [
    {
     "name": "stderr",
     "output_type": "stream",
     "text": [
      "100%|████████████████████████████████████████████████████████████████████████████| 2000/2000 [00:01<00:00, 1964.52it/s]\n"
     ]
    }
   ],
   "source": [
    "pvals = []\n",
    "\n",
    "for _ in tqdm(range(2000)):\n",
    "    sample1, sample2 = np.random.choice(df['Dnu'], (2, sample_size), replace=False)\n",
    "\n",
    "    sample2 = sample2 + 0.09\n",
    "    sample2 += sps.norm.rvs(size=len(sample2), scale=0.1)\n",
    "\n",
    "    pvals.append(relative_ttest(sample1, sample2, alpha = alpha))\n",
    "\n",
    "pvals = np.array(pvals)"
   ]
  },
  {
   "cell_type": "code",
   "execution_count": 183,
   "metadata": {
    "id": "0gXG9UwRra0a"
   },
   "outputs": [
    {
     "name": "stdout",
     "output_type": "stream",
     "text": [
      "Реальная мощность критерия: 0.54\n"
     ]
    }
   ],
   "source": [
    "print(f'Реальная мощность критерия: {(pvals < alpha).mean().round(3)}')"
   ]
  },
  {
   "cell_type": "markdown",
   "metadata": {
    "id": "YqbgiEWHTQsV"
   },
   "source": [
    "Теперь воспользуемся стратификацией. Будем разбивать на страты по параметру `POP` выборки."
   ]
  },
  {
   "cell_type": "markdown",
   "metadata": {
    "id": "FXToCwz3NoOA"
   },
   "source": [
    "Реализуйте функции для стратифицированного семплирования и стратифицированного относительного t-test. Заранее вспомните с семинара, какое семплирование какому тесту подходит. Не забудьте о возможности пост-стратификации. Какие методы подойдут вам, учитывая количество страт и размер выборки?\n",
    "\n",
    "**Ответ:** У нас небольшой дисбаланс классов, а при нём нельзя пользоваться формулами дисперсии для стратифицированного среднего"
   ]
  },
  {
   "cell_type": "code",
   "execution_count": 30,
   "metadata": {
    "id": "lg9tOvfDWzEu"
   },
   "outputs": [],
   "source": [
    "def calculate_strata_weights(data):\n",
    "    '''\n",
    "    Вычисляет веса страт.\n",
    "\n",
    "    :param data: исходные данные\n",
    "    :return: веса страт\n",
    "    '''\n",
    "\n",
    "    strata_weights = data.groupby(by='strata')['sample'].count()\n",
    "    strata_weights = strata_weights / strata_weights.sum()\n",
    "    return strata_weights\n",
    "\n",
    "\n",
    "def weighted_mean(data, weights):\n",
    "    '''\n",
    "    Вычисляет взвешенное среднее.\n",
    "\n",
    "    :param data: данные\n",
    "    :param weights: веса страт\n",
    "    :return: взвешенное среднее\n",
    "    '''\n",
    "\n",
    "    strata_means = data.groupby(by='strata')['sample'].mean()\n",
    "    return (strata_means * weights).sum()\n",
    "\n",
    "\n",
    "def simple_mean(data, weights):\n",
    "    '''\n",
    "    Вычисляет обычное выборочное среднее\n",
    "\n",
    "    :param data: данные\n",
    "    :param weights: не используется, нужен для совместимости\n",
    "    :return: выборочное среднее\n",
    "    '''\n",
    "\n",
    "    return data['sample'].mean()\n",
    "\n",
    "\n",
    "def random_sampler(data, sample_size):\n",
    "    '''\n",
    "    Случайное семплирование двух групп одного размера из данных.\n",
    "\n",
    "    :param data: исходные данные\n",
    "    :param sample_size: размер группы\n",
    "    :return: две группы данных\n",
    "    '''\n",
    "\n",
    "    choiced = data.sample(n=2 * sample_size)\n",
    "    return choiced.iloc[:sample_size], choiced.iloc[sample_size:]\n",
    "\n",
    "def stratified_sampler(data, sample_size):\n",
    "    '''\n",
    "    Стратифицированное семплирование выборок.\n",
    "\n",
    "    :param data: данные\n",
    "    :param sample_size: размер выборки\n",
    "    :return: две выборки\n",
    "    '''\n",
    "    # Сгруппируйте данные по стратам с помощью метода groupby()\n",
    "    groupped = data.groupby(by = 'strata')\n",
    "\n",
    "    # Посчитайте веса страт (посчитайте количество элемеентов каждой страты и поделите на размер датасета)\n",
    "    strata_weights = calculate_strata_weights(data)\n",
    "\n",
    "    # Посчитайте размер выборок (умножьте размер сэмпла на веса страт и округлите)\n",
    "    strata_sample_size = sample_size*strata_weights.round(0).astype(int)\n",
    "\n",
    "    a_group, b_group = [], []\n",
    "\n",
    "    # Генерируем выборки для каждой страты отдельно\n",
    "    for i, strata in enumerate(groupped):\n",
    "\n",
    "        # Сгенерирйте две выборки из strata[1] с размером strata_sample_size[i]\n",
    "        a, b = strata[1].sample(n = strata_sample_size[i]), strata[1].sample(n = strata_sample_size[i])\n",
    "\n",
    "        a_group.append(a)\n",
    "        b_group.append(b)\n",
    "\n",
    "    return pd.concat(a_group), pd.concat(b_group)\n",
    "\n",
    "def weighted_var(data, strata_weights):\n",
    "    '''\n",
    "    Вычисляет взвешенную дисперсию при стратификации.\n",
    "\n",
    "    :param data: данные\n",
    "    :param strata_weights: веса страт\n",
    "    :return: дисперсия\n",
    "    '''\n",
    "\n",
    "    strata_vars = data.groupby(by='strata')['sample'].var()\n",
    "    return (strata_vars * strata_weights).sum() / len(data)\n",
    "\n",
    "def weighted_post_var(data, strata_weights):\n",
    "    '''\n",
    "    Вычисляет взвешенную дисперсию при постстратификации.\n",
    "\n",
    "    :param data: данные\n",
    "    :param strata_weights: веса страт\n",
    "    :return: дисперсия\n",
    "    '''\n",
    "\n",
    "    strata_vars = data.groupby(by='strata')['sample'].var()\n",
    "    weighted_var = (strata_vars * strata_weights).sum() / len(data)\n",
    "    post_addition = (strata_vars * (1-strata_weights)).sum() / (len(data)**2)\n",
    "    return weighted_var + post_addition\n",
    "\n",
    "\n",
    "\n",
    "def simple_var(data, strata_weights):\n",
    "    '''\n",
    "    Вычисляет обычную дисперсию при случайном семплировании.\n",
    "\n",
    "    :param data: данные\n",
    "    :param strata_weights: веса страт, не используется, нужен для совместимости\n",
    "    :return: дисперсия\n",
    "    '''\n",
    "\n",
    "    return data['sample'].var() / len(data)"
   ]
  },
  {
   "cell_type": "code",
   "execution_count": 36,
   "metadata": {
    "id": "wysNrCaymVd4"
   },
   "outputs": [],
   "source": [
    "def stratified_ttest(x_data, y_data, strata_weights, method='random', alpha=0.05):\n",
    "    '''\n",
    "    Стратифицированный абсолютный t-test.\n",
    "\n",
    "    :param x_data: выборка вместе с информацией о стратах\n",
    "    :param y_data: выборка вместе с информацией о стратах\n",
    "    :param strata_weights: веса страт\n",
    "    :param method: метод 'random', 'stratified', 'post_stratified'\n",
    "    :param alpha: уровень значимости\n",
    "    :return: статистика критерия, границы доверительного интервала, p-value\n",
    "    '''\n",
    "\n",
    "    if method == 'random':\n",
    "        mean_function = simple_mean\n",
    "        var_function = simple_var\n",
    "    elif method == 'stratified':\n",
    "        mean_function = weighted_mean\n",
    "        var_function = weighted_var\n",
    "    elif method == 'post_stratified':\n",
    "        mean_function = weighted_mean\n",
    "        var_function = weighted_post_var\n",
    "\n",
    "    x_mean = mean_function(x_data, strata_weights)\n",
    "    y_mean = mean_function(y_data, strata_weights)\n",
    "    x_var  =  var_function(x_data, strata_weights)\n",
    "    y_var  =  var_function(y_data, strata_weights)\n",
    "\n",
    "    stat = x_mean - y_mean\n",
    "    std = np.sqrt(x_var + y_var)\n",
    "\n",
    "    t_stat = stat / std\n",
    "    pvalue = 2*sps.norm.sf(np.abs(t_stat))\n",
    "\n",
    "    q = sps.norm.ppf(1 - alpha/2)\n",
    "    left_bound = stat - q*std\n",
    "    right_bound = stat + q*std\n",
    "\n",
    "    return stat, left_bound, right_bound, pvalue"
   ]
  },
  {
   "cell_type": "markdown",
   "metadata": {
    "id": "Xssc8jgQYprM"
   },
   "source": [
    "Теперь проверим корректность применения стратификации в нашем случае.\n",
    "\n",
    "Сначала создадим отдельный датасет для более удобной проверки. У него будет две колонки: `sample`, `strata`, которые соответствуют данным и разделением на страты у исходного датасета."
   ]
  },
  {
   "cell_type": "code",
   "execution_count": 186,
   "metadata": {
    "id": "nBYVVJYAzXlk"
   },
   "outputs": [
    {
     "data": {
      "text/html": [
       "<div>\n",
       "<style scoped>\n",
       "    .dataframe tbody tr th:only-of-type {\n",
       "        vertical-align: middle;\n",
       "    }\n",
       "\n",
       "    .dataframe tbody tr th {\n",
       "        vertical-align: top;\n",
       "    }\n",
       "\n",
       "    .dataframe thead th {\n",
       "        text-align: right;\n",
       "    }\n",
       "</style>\n",
       "<table border=\"1\" class=\"dataframe\">\n",
       "  <thead>\n",
       "    <tr style=\"text-align: right;\">\n",
       "      <th></th>\n",
       "      <th>strata</th>\n",
       "      <th>sample</th>\n",
       "    </tr>\n",
       "  </thead>\n",
       "  <tbody>\n",
       "    <tr>\n",
       "      <th>0</th>\n",
       "      <td>1</td>\n",
       "      <td>4.44780</td>\n",
       "    </tr>\n",
       "    <tr>\n",
       "      <th>1</th>\n",
       "      <td>0</td>\n",
       "      <td>6.94399</td>\n",
       "    </tr>\n",
       "    <tr>\n",
       "      <th>2</th>\n",
       "      <td>1</td>\n",
       "      <td>2.64571</td>\n",
       "    </tr>\n",
       "    <tr>\n",
       "      <th>3</th>\n",
       "      <td>1</td>\n",
       "      <td>4.24168</td>\n",
       "    </tr>\n",
       "    <tr>\n",
       "      <th>4</th>\n",
       "      <td>0</td>\n",
       "      <td>10.44719</td>\n",
       "    </tr>\n",
       "    <tr>\n",
       "      <th>...</th>\n",
       "      <td>...</td>\n",
       "      <td>...</td>\n",
       "    </tr>\n",
       "    <tr>\n",
       "      <th>996</th>\n",
       "      <td>0</td>\n",
       "      <td>5.51582</td>\n",
       "    </tr>\n",
       "    <tr>\n",
       "      <th>997</th>\n",
       "      <td>1</td>\n",
       "      <td>4.14823</td>\n",
       "    </tr>\n",
       "    <tr>\n",
       "      <th>998</th>\n",
       "      <td>1</td>\n",
       "      <td>3.98294</td>\n",
       "    </tr>\n",
       "    <tr>\n",
       "      <th>999</th>\n",
       "      <td>1</td>\n",
       "      <td>4.33893</td>\n",
       "    </tr>\n",
       "    <tr>\n",
       "      <th>1000</th>\n",
       "      <td>1</td>\n",
       "      <td>3.74869</td>\n",
       "    </tr>\n",
       "  </tbody>\n",
       "</table>\n",
       "<p>1001 rows × 2 columns</p>\n",
       "</div>"
      ],
      "text/plain": [
       "      strata    sample\n",
       "0          1   4.44780\n",
       "1          0   6.94399\n",
       "2          1   2.64571\n",
       "3          1   4.24168\n",
       "4          0  10.44719\n",
       "...      ...       ...\n",
       "996        0   5.51582\n",
       "997        1   4.14823\n",
       "998        1   3.98294\n",
       "999        1   4.33893\n",
       "1000       1   3.74869\n",
       "\n",
       "[1001 rows x 2 columns]"
      ]
     },
     "execution_count": 186,
     "metadata": {},
     "output_type": "execute_result"
    }
   ],
   "source": [
    "data = pd.DataFrame()\n",
    "data['strata'] = df['POP']\n",
    "data['sample'] = df['Dnu']\n",
    "data = data[['strata', 'sample']]\n",
    "data"
   ]
  },
  {
   "cell_type": "markdown",
   "metadata": {
    "id": "uY5Ny9Z9A85U"
   },
   "source": [
    "Посмотрите на `boxplot` для двух подгрупп."
   ]
  },
  {
   "cell_type": "code",
   "execution_count": 193,
   "metadata": {
    "id": "GcuSmRaLA85a"
   },
   "outputs": [
    {
     "data": {
      "text/plain": [
       "<AxesSubplot:xlabel='strata', ylabel='sample'>"
      ]
     },
     "execution_count": 193,
     "metadata": {},
     "output_type": "execute_result"
    },
    {
     "data": {
      "image/png": "[encoded data removed]",
      "text/plain": [
       "<Figure size 640x480 with 1 Axes>"
      ]
     },
     "metadata": {},
     "output_type": "display_data"
    }
   ],
   "source": [
    "sns.boxplot(data = data, x='strata', y='sample')"
   ]
  },
  {
   "cell_type": "code",
   "execution_count": 194,
   "metadata": {
    "id": "fvdvd8S0A85a"
   },
   "outputs": [
    {
     "data": {
      "text/plain": [
       "713"
      ]
     },
     "execution_count": 194,
     "metadata": {},
     "output_type": "execute_result"
    }
   ],
   "source": [
    "data['strata'].sum()"
   ]
  },
  {
   "cell_type": "markdown",
   "metadata": {
    "id": "Y8Z4qz7LBFdx"
   },
   "source": [
    "Что вы можете сказать уже сейчас о том, повлияет ли стратификация на результаты теста?"
   ]
  },
  {
   "cell_type": "markdown",
   "metadata": {
    "id": "8Nqks4_oA85a"
   },
   "source": [
    "**Ответ:**\n",
    "\n",
    "Как я уже отметил, у нас есть дисбаланс классов, поэтому может плохо сработать"
   ]
  },
  {
   "cell_type": "code",
   "execution_count": 198,
   "metadata": {
    "id": "EgHIkNQiMoPL"
   },
   "outputs": [
    {
     "name": "stderr",
     "output_type": "stream",
     "text": [
      "100%|██████████████████████████████████████████████████████████████████████████████| 2000/2000 [00:22<00:00, 89.86it/s]\n"
     ]
    }
   ],
   "source": [
    "p_vals = []\n",
    "\n",
    "for i in tqdm(range(2000)):\n",
    "\n",
    "    control_sample, test_sample = stratified_sampler(data, (2, sample_size))\n",
    "    strata_weights = calculate_strata_weights(data)\n",
    "    p_val = stratified_ttest(control_sample, test_sample,strata_weights,method='random', alpha = alpha)[3]\n",
    "    p_vals.append(p_val)\n",
    "\n",
    "p_vals = np.array(p_vals)"
   ]
  },
  {
   "cell_type": "markdown",
   "metadata": {
    "id": "J3zVk4m5hL8v"
   },
   "source": [
    "Посмотрите также на реальный уровень значимости и гистограмму p-value"
   ]
  },
  {
   "cell_type": "code",
   "execution_count": 199,
   "metadata": {
    "id": "KTTC1qJyMoPM"
   },
   "outputs": [
    {
     "name": "stdout",
     "output_type": "stream",
     "text": [
      "Реальный уровень значимости: 0.34\n"
     ]
    }
   ],
   "source": [
    "real_alpha = (p_vals < alpha).mean()\n",
    "print(f'Реальный уровень значимости: {real_alpha.round(2)}')"
   ]
  },
  {
   "cell_type": "code",
   "execution_count": 204,
   "metadata": {},
   "outputs": [
    {
     "data": {
      "image/png": "[encoded data removed]",
      "text/plain": [
       "<Figure size 640x480 with 1 Axes>"
      ]
     },
     "metadata": {},
     "output_type": "display_data"
    }
   ],
   "source": [
    "plt.hist(p_vals, bins = 30);"
   ]
  },
  {
   "cell_type": "markdown",
   "metadata": {
    "id": "uKxLDWHNMoPM"
   },
   "source": [
    "Корректны ли выбранные методы?\n",
    "\n",
    "**Ответ:**\n",
    "\n",
    "Такое себе, очень 0.34 >> 0.05\n",
    "\n",
    "Посмотрите на мощность критерия. Улучшилась ли мощность по сравнению с обработкой без стратификации?"
   ]
  },
  {
   "cell_type": "code",
   "execution_count": 205,
   "metadata": {
    "id": "7FQTjjpIMoPM"
   },
   "outputs": [
    {
     "name": "stdout",
     "output_type": "stream",
     "text": [
      "Реальная мощность критерия: 0.54\n"
     ]
    }
   ],
   "source": [
    "print(f'Реальная мощность критерия: {(pvals < alpha).mean().round(3)}')"
   ]
  },
  {
   "cell_type": "markdown",
   "metadata": {
    "id": "K6j5qKaQMoPM"
   },
   "source": [
    "**Ответ на вопрос о мощности:**\n",
    "\n",
    "Не поменялась"
   ]
  },
  {
   "cell_type": "markdown",
   "metadata": {
    "id": "k2KUOGp0Yp7V"
   },
   "source": [
    "**Вывод:**\n",
    "\n",
    "Что-то я определённо неправильно делаю"
   ]
  },
  {
   "cell_type": "markdown",
   "metadata": {
    "id": "mVULcgSUGK7U"
   },
   "source": [
    "---\n",
    "### Задача 5\n",
    "\n",
    "Рассмотренные нами методы стратификации работают в случае стратифицированного семплирования, либо же случайного семплирования. Во втором случае метод называется постстратификацией. Однако, как мы видели на занятии, при наличии сильных перекосов в соотношении между стратами вероятность ошибки 1 рода может сильно увеличиваться.\n",
    "\n",
    "Промоделируйте распределение разности\n",
    "* обычного среднего\n",
    "* стратифицированного среднего\n",
    "\n",
    "при наличии сильных перекосов в соотношении между стратами и проинтерпретируйте результаты.\n",
    "\n",
    "Код для семплирования перекошенных данных и для семплирования разности средних есть в ноутбуке с занятия."
   ]
  },
  {
   "cell_type": "code",
   "execution_count": 37,
   "metadata": {},
   "outputs": [],
   "source": [
    "def AA_test(\n",
    "    generate_data, sampler, total_size=20000,\n",
    "    methods=['random', 'stratified', 'post_stratified'],\n",
    "    n_iter=10000, sample_size=200, alpha=0.05, effect=0, show=False\n",
    "):\n",
    "    n_errors = np.zeros(len(methods))  # количество отвержений H_0\n",
    "\n",
    "    # Проведение экспериментов\n",
    "    for _ in tqdm(range(n_iter)):\n",
    "        data = generate_data(total_size)\n",
    "        strata_weights = calculate_strata_weights(data)\n",
    "        x, y = sampler(data, sample_size)\n",
    "        y['sample'] += effect\n",
    "\n",
    "        for i in range(len(methods)):\n",
    "            n_errors[i] += stratified_ttest(x, y, strata_weights, method=methods[i])[-1] < alpha\n",
    "            \n",
    "    if show:\n",
    "        # Реальный уровень значимости\n",
    "        real_alphas = np.zeros((len(methods), 3))\n",
    "        for i in range(len(methods)):\n",
    "            real_alphas[i] = calculate_real_alpha(n_errors[i], n_iter)\n",
    "        draw_interval(\n",
    "            real_alphas[:, 0], real_alphas[:, 1], real_alphas[:, 2],\n",
    "            methods, alpha=alpha\n",
    "        )\n",
    "\n",
    "    return n_errors / n_iter\n",
    "\n",
    "def generate_data(size, p=0.6, shift=5, scale_factor=1):\n",
    "    data = pd.DataFrame()\n",
    "    data['strata'] = sps.bernoulli(p=p).rvs(size=size)\n",
    "    data['sample'] = sps.norm.rvs(size=size) * (1 + scale_factor * data['strata']) \\\n",
    "                        + shift*data['strata']\n",
    "    return data\n",
    "\n",
    "def weighted_sampler(data, sample_size, strata_weights='default'):\n",
    "\n",
    "    groupped = data.groupby(by='strata')\n",
    "\n",
    "    if strata_weights == 'default':\n",
    "        # Веса страт определяем по данным\n",
    "        strata_weights = groupped['sample'].count()\n",
    "        strata_weights = strata_weights / strata_weights.sum()\n",
    "    else:\n",
    "        # Веса страт заданы\n",
    "        strata_weights = np.array(strata_weights)\n",
    "\n",
    "    # Размер выборок по стратам\n",
    "    strata_sample_size = np.floor(sample_size * strata_weights + 0.5).astype(int)\n",
    "\n",
    "    a_group, b_group = [], []\n",
    "    # Генерируем отдельно из каждой страты\n",
    "    for i, strata in enumerate(groupped):\n",
    "        a, b = random_sampler(strata[1], strata_sample_size[i])\n",
    "        a_group.append(a)\n",
    "        b_group.append(b)\n",
    "\n",
    "    return pd.concat(a_group), pd.concat(b_group)\n",
    "def weighted_mean(data, weights):\n",
    "    strata_means = data.groupby(by='strata')['sample'].mean()\n",
    "    return (strata_means * weights).sum()\n",
    "\n",
    "\n",
    "def simple_mean(data, weights):\n",
    "\n",
    "    return data['sample'].mean()\n",
    "\n",
    "# Напишите функцию стратифицированного семплирования\n",
    "def stratified_sampler(data, sample_size):\n",
    "    # Сгруппируйте данные по стратам с помощью метода groupby()\n",
    "    groupped = data.groupby(by = 'strata')\n",
    "\n",
    "    # Посчитайте веса страт (посчитайте количество элемеентов каждой страты и поделите на размер датасета)\n",
    "    strata_weights = calculate_strata_weights(data)\n",
    "\n",
    "    # Посчитайте размер выборок (умножьте размер сэмпла на веса страт и округлите)\n",
    "    strata_sample_size = sample_size*strata_weights.round(0).astype(int)\n",
    "\n",
    "    a_group, b_group = [], []\n",
    "\n",
    "    # Генерируем выборки для каждой страты отдельно\n",
    "    for i, strata in enumerate(groupped):\n",
    "\n",
    "        # Сгенерирйте две выборки из strata[1] с размером strata_sample_size[i]\n",
    "        a, b = strata[1].sample(n = strata_sample_size[i]), strata[1].sample(n = strata_sample_size[i])\n",
    "\n",
    "        a_group.append(a)\n",
    "        b_group.append(b)\n",
    "\n",
    "    return pd.concat(a_group), pd.concat(b_group)\n",
    "\n",
    "\n",
    "def sample_mean_diff(sampler, mean_function, data, sample_size, n_iter):\n",
    "    strata_weights = data.groupby(by='strata')['sample'].count()\n",
    "    strata_weights = strata_weights / strata_weights.sum()\n",
    "\n",
    "    mean_sample = np.zeros(n_iter)\n",
    "\n",
    "    for i in tqdm(range(n_iter)):\n",
    "        groups = sampler(data, sample_size)\n",
    "        mean_sample[i] = mean_function(groups[0], strata_weights) - mean_function(groups[1], strata_weights)\n",
    "\n",
    "    return mean_sample"
   ]
  },
  {
   "cell_type": "code",
   "execution_count": 40,
   "metadata": {
    "id": "xoifM4PlGK7U"
   },
   "outputs": [
    {
     "name": "stderr",
     "output_type": "stream",
     "text": [
      "100%|██████████████████████████████████████████████████████████████████████████████| 1000/1000 [00:13<00:00, 74.52it/s]\n",
      "100%|██████████████████████████████████████████████████████████████████████████████| 1000/1000 [00:13<00:00, 74.62it/s]\n",
      "100%|██████████████████████████████████████████████████████████████████████████████| 1000/1000 [00:13<00:00, 74.80it/s]\n",
      "100%|██████████████████████████████████████████████████████████████████████████████| 1000/1000 [00:13<00:00, 74.79it/s]\n",
      "100%|██████████████████████████████████████████████████████████████████████████████| 1000/1000 [00:13<00:00, 74.80it/s]\n",
      "100%|██████████████████████████████████████████████████████████████████████████████| 1000/1000 [00:13<00:00, 74.62it/s]\n",
      "100%|██████████████████████████████████████████████████████████████████████████████| 1000/1000 [00:13<00:00, 74.85it/s]\n",
      "100%|██████████████████████████████████████████████████████████████████████████████| 1000/1000 [00:13<00:00, 74.74it/s]\n",
      "100%|██████████████████████████████████████████████████████████████████████████████| 1000/1000 [00:13<00:00, 74.48it/s]\n",
      "100%|██████████████████████████████████████████████████████████████████████████████| 1000/1000 [00:13<00:00, 74.66it/s]\n"
     ]
    }
   ],
   "source": [
    "errors = []\n",
    "data = generate_data(2000)\n",
    "weights = np.linspace(0.05, 0.5, 10)\n",
    "for w in weights:\n",
    "    errors.append(AA_test(generate_data,lambda data, \n",
    "                          sample_size: weighted_sampler(data, 1000, strata_weights=[w, 1-w]),n_iter=1000))"
   ]
  },
  {
   "cell_type": "code",
   "execution_count": 58,
   "metadata": {},
   "outputs": [],
   "source": [
    "errors = np.array(errors)\n",
    "methods=np.array(['random', 'stratified', 'post_stratified'])"
   ]
  },
  {
   "cell_type": "code",
   "execution_count": 59,
   "metadata": {},
   "outputs": [
    {
     "data": {
      "text/plain": [
       "array([0.139, 0.077, 0.039, 0.043, 0.048, 0.054, 0.037, 0.048, 0.054,\n",
       "       0.083])"
      ]
     },
     "execution_count": 59,
     "metadata": {},
     "output_type": "execute_result"
    }
   ],
   "source": [
    "errors[:,2]"
   ]
  },
  {
   "cell_type": "code",
   "execution_count": 62,
   "metadata": {},
   "outputs": [
    {
     "data": {
      "text/plain": [
       "Text(0, 0.5, 'Error')"
      ]
     },
     "execution_count": 62,
     "metadata": {},
     "output_type": "execute_result"
    },
    {
     "data": {
      "image/png": "[encoded data removed]",
      "text/plain": [
       "<Figure size 1500x700 with 1 Axes>"
      ]
     },
     "metadata": {},
     "output_type": "display_data"
    }
   ],
   "source": [
    "plt.figure(figsize=(15,7))\n",
    "for i in range(3):\n",
    "    plt.plot(np.linspace(0.05, 0.5, 10), errors[:,i], label = methods[i])\n",
    "plt.legend()\n",
    "plt.xlabel(\"Сдвиг в классах\")\n",
    "plt.ylabel(\"Error\")"
   ]
  },
  {
   "cell_type": "markdown",
   "metadata": {
    "id": "ySPU4SPvGK7U"
   },
   "source": [
    "В чем же тогда проблема того, что стратифицированный t-test увеличивает вероятность ошибки 1 рода?\n",
    "\n",
    "Проблема в том, что мы не хотим ошибаться)\n",
    "\n",
    "Можно ли как-то исправить его с помощью некоторой универсальной статистической процедуры?\n",
    "\n",
    "..."
   ]
  },
  {
   "cell_type": "markdown",
   "metadata": {
    "id": "QqBrDESBGK7V"
   },
   "source": [
    "Реализуйте эту процедруру."
   ]
  },
  {
   "cell_type": "code",
   "execution_count": null,
   "metadata": {
    "id": "5DTWUCD2GK7V"
   },
   "outputs": [],
   "source": []
  },
  {
   "cell_type": "markdown",
   "metadata": {
    "id": "GQsxz3fLGK7V"
   },
   "source": [
    "Провалидируйте полученный тест, а также сравните его по мощности со стандартным t-test. Используйте код с занятий."
   ]
  },
  {
   "cell_type": "code",
   "execution_count": null,
   "metadata": {
    "id": "RCGRSL_sGK7V"
   },
   "outputs": [],
   "source": []
  }
 ],
 "metadata": {
  "colab": {
   "provenance": []
  },
  "kernelspec": {
   "display_name": "Python 3 (ipykernel)",
   "language": "python",
   "name": "python3"
  },
  "language_info": {
   "codemirror_mode": {
    "name": "ipython",
    "version": 3
   },
   "file_extension": ".py",
   "mimetype": "text/x-python",
   "name": "python",
   "nbconvert_exporter": "python",
   "pygments_lexer": "ipython3",
   "version": "3.9.13"
  }
 },
 "nbformat": 4,
 "nbformat_minor": 1
}
