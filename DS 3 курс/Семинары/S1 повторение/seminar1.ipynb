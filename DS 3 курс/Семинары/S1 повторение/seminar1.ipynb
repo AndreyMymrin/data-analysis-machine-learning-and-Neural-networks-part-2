{
 "cells": [
  {
   "cell_type": "markdown",
   "metadata": {
    "id": "JEFYtxdXQP1s"
   },
   "source": [
    "# <a href=\"https://miptstats.github.io/courses/ad_mipt.html\">Phystech@DataScience</a>\n",
    "\n",
    "\n",
    "## PyTorch и полносвязные нейронные сети\n",
    "\n",
    "![pytorch-logo.png](data:image/png;base64,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)"
   ]
  },
  {
   "cell_type": "markdown",
   "metadata": {
    "id": "hmmsgPQiH7A9"
   },
   "source": [
    "Обучение нейронной сети заключается в минимизации некоторой функции потерь, зависящей от значений активации нейронов. Так как мы знаем весь процесс построения этой функции, то для минимизации нам достоточно посчитать градиент от всех параметров функции (нейронов) и затем двигаться по нему, обновляя значения параметров. Однако современные нейронные сети могут содержать в себе миллиарды параметров (например, GPT-3 содержит 175 миллиардов, а гугловская PaLM 540 миллиардов!), что делает вычисление градиента вручную невозможным. К счастью, люди придумали как автоматизировать этот процесс с помощью вычислительного графа, и написали библиотеки (Keras, TensorFlow, PyTorch), которые занимаются этим за нас :)\n",
    "\n",
    "PyTorch - это один из фреймфорков для задач глубокого обучения, то есть библиотека, позволяющая:\n",
    "* Производить быстрые матричные вычисления с использованием видеопамяти\n",
    "* Строить вычислителный граф и дифференцировать его (то есть сможем поучать градиент функции потерь)"
   ]
  },
  {
   "cell_type": "code",
   "execution_count": 34,
   "metadata": {
    "colab": {
     "base_uri": "https://localhost:8080/"
    },
    "id": "Wp5-n1308hjM",
    "outputId": "5687d28d-cb65-44a1-ce6b-4b5bcc670f8e"
   },
   "outputs": [
    {
     "name": "stdout",
     "output_type": "stream",
     "text": [
      "2.0.1+cu118\n"
     ]
    }
   ],
   "source": [
    "import numpy as np\n",
    "import pandas as pd\n",
    "\n",
    "from collections import defaultdict\n",
    "from collections import OrderedDict\n",
    "\n",
    "import matplotlib.pyplot as plt\n",
    "# import seaborn as sns\n",
    "from IPython.display import clear_output\n",
    "# sns.set(palette='Set2', font_scale=1.5)\n",
    "\n",
    "import torch\n",
    "from torch import nn\n",
    "import torch.nn.functional as F\n",
    "\n",
    "print(torch.__version__)"
   ]
  },
  {
   "cell_type": "markdown",
   "metadata": {
    "id": "garaktUdSXDG"
   },
   "source": [
    "# Torch Tensor\n",
    "\n",
    "Основным объектом, с которым оперирует PyTorch, является `torch.tensor`. Он представляет собой многомерную матрицу с элементами одного типа данных. Работа с тензорами в PyTorch похолжа на работу с массивами в `numpy`. Посмотрим на некоторые методы `torch.tensor`"
   ]
  },
  {
   "cell_type": "markdown",
   "metadata": {
    "id": "Jv9tQc0OVTTp"
   },
   "source": [
    "### Инициализация"
   ]
  },
  {
   "cell_type": "markdown",
   "metadata": {
    "id": "wBIVi72lTT0O"
   },
   "source": [
    "Тензор можно создать из списка, кортежа, массива numpy или просто числа"
   ]
  },
  {
   "cell_type": "code",
   "execution_count": 35,
   "metadata": {
    "colab": {
     "base_uri": "https://localhost:8080/"
    },
    "id": "PPnSgi7ATTRA",
    "outputId": "7fd5797a-f7ff-4cb9-9c0f-0f2c0458c308"
   },
   "outputs": [
    {
     "name": "stdout",
     "output_type": "stream",
     "text": [
      "tensor([1, 2, 3]) тензор из списка\n",
      "tensor([1, 2, 3]) тензор из кортежа\n",
      "tensor([1, 2, 3]) тензор из массива numpy\n",
      "tensor(1) тензор из числа\n"
     ]
    }
   ],
   "source": [
    "print(torch.tensor([1, 2, 3]), 'тензор из списка')\n",
    "print(torch.tensor((1, 2, 3)), 'тензор из кортежа')\n",
    "print(torch.tensor(np.array([1, 2, 3])), 'тензор из массива numpy')\n",
    "print(torch.tensor((1)), 'тензор из числа')"
   ]
  },
  {
   "cell_type": "markdown",
   "metadata": {
    "id": "XXlfzxAgVJte"
   },
   "source": [
    "Так же, как и в `numpy`, тензор может быть создан произвольного размера. Узнать размер тензора можно вызвав метод `size()` или посмотрев атрибут `shape`."
   ]
  },
  {
   "cell_type": "code",
   "execution_count": 36,
   "metadata": {
    "colab": {
     "base_uri": "https://localhost:8080/"
    },
    "id": "DWVEeHiZVE-b",
    "outputId": "beec9fb4-2e2e-4271-9495-7558e3d1bfde"
   },
   "outputs": [
    {
     "name": "stdout",
     "output_type": "stream",
     "text": [
      "tensor([[1, 2, 3],\n",
      "        [2, 3, 4]])\n",
      "torch.Size([2, 3]) метод `size()`\n",
      "torch.Size([2, 3]) атрибут shape\n"
     ]
    }
   ],
   "source": [
    "t = torch.tensor([[1, 2, 3], [2, 3, 4]])\n",
    "\n",
    "print(t)\n",
    "print(t.size(), 'метод `size()`')\n",
    "print(t.shape, 'атрибут shape')"
   ]
  },
  {
   "cell_type": "markdown",
   "metadata": {
    "id": "EGhWo3cscy0h"
   },
   "source": [
    "Можно конкретизировать тип данных с помощью аргумент `dtype`."
   ]
  },
  {
   "cell_type": "code",
   "execution_count": 37,
   "metadata": {
    "colab": {
     "base_uri": "https://localhost:8080/"
    },
    "id": "62wv1czpc6dO",
    "outputId": "80b4b54d-dfa1-45dd-fcbc-0f11715a31df"
   },
   "outputs": [
    {
     "name": "stdout",
     "output_type": "stream",
     "text": [
      "tensor([[1., 2., 3.],\n",
      "        [2., 3., 4.]], dtype=torch.float64)\n"
     ]
    }
   ],
   "source": [
    "t = torch.tensor([[1, 2, 3], [2, 3, 4]], dtype=torch.float64)\n",
    "print(t)"
   ]
  },
  {
   "cell_type": "markdown",
   "metadata": {
    "id": "UpKUyGWvWiOE"
   },
   "source": [
    "Аналогично `numpy` есть методы создания матриц, заполненных нулями и единицами: `zeros()`, `ones()`."
   ]
  },
  {
   "cell_type": "markdown",
   "metadata": {
    "id": "-Tsk557SXF2Q"
   },
   "source": [
    "### Математические операции"
   ]
  },
  {
   "cell_type": "markdown",
   "metadata": {
    "id": "LZePxuu5W9jA"
   },
   "source": [
    "Над тензорами можно производить математические операции, так же как и в `numpy`. Например складывать с числом и умнажать на число"
   ]
  },
  {
   "cell_type": "code",
   "execution_count": 38,
   "metadata": {
    "colab": {
     "base_uri": "https://localhost:8080/"
    },
    "id": "1c624VRaXEiE",
    "outputId": "2014413f-246e-4131-f17a-dc47aa98e63e"
   },
   "outputs": [
    {
     "name": "stdout",
     "output_type": "stream",
     "text": [
      "tensor([[1., 1., 1.],\n",
      "        [1., 1., 1.]]) изначальный тензор A\n",
      "\n",
      "tensor([[2., 2., 2.],\n",
      "        [2., 2., 2.]]) A + 1\n",
      "\n",
      "tensor([[3., 3., 3.],\n",
      "        [3., 3., 3.]]) A * 3\n",
      "\n"
     ]
    }
   ],
   "source": [
    "a = torch.ones((2, 3))\n",
    "\n",
    "print(a, 'изначальный тензор A\\n')\n",
    "\n",
    "print(a + 1, 'A + 1\\n')\n",
    "\n",
    "print(a * 3, 'A * 3\\n')"
   ]
  },
  {
   "cell_type": "markdown",
   "metadata": {
    "id": "0q1O4T1rYQ74"
   },
   "source": [
    "Складывать и умножать два тезора (поэлементно)"
   ]
  },
  {
   "cell_type": "code",
   "execution_count": 39,
   "metadata": {
    "colab": {
     "base_uri": "https://localhost:8080/"
    },
    "id": "qOkP3vkVYC9n",
    "outputId": "6a844bf9-ff99-4210-b2e9-6206192e5325"
   },
   "outputs": [
    {
     "name": "stdout",
     "output_type": "stream",
     "text": [
      "A = tensor([[1., 1., 1.],\n",
      "        [1., 1., 1.]])\n",
      "\n",
      "B = tensor([[8, 8, 8],\n",
      "        [8, 8, 8]])\n",
      "\n",
      "A + B = tensor([[9., 9., 9.],\n",
      "        [9., 9., 9.]])\n",
      "\n",
      "A * B = tensor([[8., 8., 8.],\n",
      "        [8., 8., 8.]])\n"
     ]
    }
   ],
   "source": [
    "a = torch.ones((2, 3))\n",
    "b = torch.full((2, 3), 8)\n",
    "\n",
    "print(f'A = {a}\\n\\nB = {b}\\n\\nA + B = {a + b}\\n\\nA * B = {a * b}')"
   ]
  },
  {
   "cell_type": "markdown",
   "metadata": {
    "id": "u0H7nwDpZS6q"
   },
   "source": [
    "Умножать тензоры матрично"
   ]
  },
  {
   "cell_type": "code",
   "execution_count": 40,
   "metadata": {
    "colab": {
     "base_uri": "https://localhost:8080/"
    },
    "id": "V6qiT8_qZPHt",
    "outputId": "dff9cf6f-fafb-4b3b-9040-e6ff443e2034"
   },
   "outputs": [
    {
     "name": "stdout",
     "output_type": "stream",
     "text": [
      "A = tensor([[1., 1., 1.],\n",
      "        [1., 1., 1.]])\n",
      "\n",
      "B = tensor([[8., 8.],\n",
      "        [8., 8.],\n",
      "        [8., 8.]])\n",
      "\n",
      "A @ B = tensor([[24., 24.],\n",
      "        [24., 24.]])\n"
     ]
    }
   ],
   "source": [
    "a = torch.ones((2, 3))\n",
    "b = torch.full((3, 2), 8.)\n",
    "\n",
    "\n",
    "print(f'A = {a}\\n\\nB = {b}\\n\\nA @ B = {a @ b}')"
   ]
  },
  {
   "cell_type": "markdown",
   "metadata": {
    "id": "14QyAvo0a0gH"
   },
   "source": [
    "Применять агрегирующие функции"
   ]
  },
  {
   "cell_type": "code",
   "execution_count": 41,
   "metadata": {
    "colab": {
     "base_uri": "https://localhost:8080/"
    },
    "id": "VAQDgur3az96",
    "outputId": "211bb3e4-a62b-4692-bb60-4ee0946a85da"
   },
   "outputs": [
    {
     "name": "stdout",
     "output_type": "stream",
     "text": [
      "tensor([[1., 1., 1.],\n",
      "        [1., 1., 1.],\n",
      "        [1., 1., 1.],\n",
      "        [1., 1., 1.]]) Тензор A\n",
      "\n",
      "Усреденение по столбцам A  = tensor([1., 1., 1.])\n",
      "\n",
      "Сумма по строчкам A  = tensor([3., 3., 3., 3.])\n",
      "\n",
      "Кумулятивная сумма по столбцам A:\n",
      "tensor([[1., 1., 1.],\n",
      "        [2., 2., 2.],\n",
      "        [3., 3., 3.],\n",
      "        [4., 4., 4.]])\n"
     ]
    }
   ],
   "source": [
    "a = torch.ones((4, 3))\n",
    "\n",
    "\n",
    "print(a, 'Тензор A\\n')\n",
    "print(f'Усреденение по столбцам A  = {a.mean(dim=0)}\\n')\n",
    "print(f'Сумма по строчкам A  = {a.sum(dim=1)}\\n')\n",
    "print(f'Кумулятивная сумма по столбцам A:\\n{a.cumsum(dim=0)}')"
   ]
  },
  {
   "cell_type": "markdown",
   "metadata": {
    "id": "LdRB0Q0FebGd"
   },
   "source": [
    "### Переход от `torch.tensor` к `numpy.ndarray`"
   ]
  },
  {
   "cell_type": "markdown",
   "metadata": {
    "id": "K_qWGHnlezbP"
   },
   "source": [
    "Если вам требуется перевести тензор в массив numpy, то сделать это можно вызовом метода `numpy()`"
   ]
  },
  {
   "cell_type": "code",
   "execution_count": 42,
   "metadata": {
    "colab": {
     "base_uri": "https://localhost:8080/"
    },
    "id": "jG51VqSseadz",
    "outputId": "7169f776-0cbb-43a3-dbd3-5ed65caa1096"
   },
   "outputs": [
    {
     "name": "stdout",
     "output_type": "stream",
     "text": [
      "<class 'torch.Tensor'> t - тензор\n",
      "\n",
      "<class 'numpy.ndarray'> t стал массивом numpy\n"
     ]
    }
   ],
   "source": [
    "t = torch.ones((2, 3))\n",
    "\n",
    "print(type(t), 't - тензор\\n')\n",
    "print(type(t.numpy()), 't стал массивом numpy')"
   ]
  },
  {
   "cell_type": "markdown",
   "metadata": {
    "id": "iO5vz4TbH7BC"
   },
   "source": [
    "**ЗАДАЧА 1**\n",
    "\n",
    "Пользуясь функциями `torch.tensor` создайте **один** тензор, и посчитайте с его помощью сумму чисел от 1 до 100. Затем посчитайте суммы чисел в каждом десятке (от 1 до 10, от 11 до 20 и так далее)"
   ]
  },
  {
   "cell_type": "code",
   "execution_count": 43,
   "metadata": {
    "id": "f8_J6mPcMSh5"
   },
   "outputs": [],
   "source": [
    "# ваш код"
   ]
  },
  {
   "cell_type": "markdown",
   "metadata": {
    "id": "T4_b7OJL8hjX"
   },
   "source": [
    "Все же некоторые названия методов отличаются от `numpy`-евских. Полной совместимости с `numpy` пока нет, но от версии к версии разрыв сокращается, и придется снова запоминать новые названия для некоторых методов.\n",
    "\n",
    "Например, PyTorch имеет другое написание стандартных типов\n",
    " * `x.astype('int64') -> x.type(torch.LongTensor)`\n",
    "\n",
    "\n",
    "Для более подробного ознакомления можно посмотреть на <a href=\"https://github.com/torch/torch7/wiki/Torch-for-Numpy-users\" target=\"_blank\">табличку</a> перевода методов из `numpy` в `torch`, а также заглянуть в <a href=\"http://pytorch.org/docs/master/\" target=\"_blank\">документацию</a>. Также при возникновении проблем часто помогает зайти на <a href=\"https://discuss.pytorch.org/\" target=\"_blank\">pytorch forumns</a>. Можете также глянуть эту <a href=\"https://qudata.com/ml/ru/NN_Base_Torch.html\" target=\"_blank\">шпаргалку</a> по тензорам"
   ]
  },
  {
   "cell_type": "markdown",
   "metadata": {
    "id": "8kzxCLDZ8hjY"
   },
   "source": [
    "**ЗАДАЧА 2**\n",
    "\n",
    "Нарисуйте по сетке данную кривую на графике, используя `torch`:\n",
    "\n",
    "$$x(t) = 2 \\cos t + \\sin 2t \\cos 60t,$$\n",
    "\n",
    "$$y(t) = \\sin 2t + \\sin 60t.$$"
   ]
  },
  {
   "cell_type": "code",
   "execution_count": 44,
   "metadata": {
    "id": "gQ33m_TF8hjY"
   },
   "outputs": [],
   "source": [
    "# ваш код"
   ]
  },
  {
   "cell_type": "markdown",
   "metadata": {
    "id": "8RP7x-YIYvQL"
   },
   "source": [
    "Заметим, что библиотека `matplotlib` справляется с отображением `pytorch`-тензоров, и дополнительных преобразований делать не нужно.\n",
    "\n"
   ]
  },
  {
   "cell_type": "markdown",
   "metadata": {
    "id": "Tbm0PRJpBjzt"
   },
   "source": [
    "## Вычисление на видеокарте"
   ]
  },
  {
   "cell_type": "markdown",
   "metadata": {
    "id": "0z8qxbOyBxf2"
   },
   "source": [
    "Если, тензоры в PyTorch и массивы в NumPy так похожи, то зачем нам вообще нужен PyTorch? Для этого надо вспомнить, что нейросети бывают огромных размеров, а проводить операции над большими матрицами вычислетельно дорого. Давайте перемножим две матрицы размером 10000 на 10000 (слои трансформеры в GPT-3 содеражт матрицы ещё большего размера):"
   ]
  },
  {
   "cell_type": "code",
   "execution_count": 45,
   "metadata": {
    "id": "x9sbA49IFCOF"
   },
   "outputs": [],
   "source": [
    "import time\n",
    "\n",
    "n = 10000"
   ]
  },
  {
   "cell_type": "code",
   "execution_count": 46,
   "metadata": {
    "id": "NCmiw0AbE4zb"
   },
   "outputs": [],
   "source": [
    "a = np.ones((n, n))"
   ]
  },
  {
   "cell_type": "code",
   "execution_count": 47,
   "metadata": {
    "colab": {
     "base_uri": "https://localhost:8080/"
    },
    "id": "kvRKgxdgE_4h",
    "outputId": "57c34ead-a765-4fc0-f9cb-6cd76062b1ad"
   },
   "outputs": [
    {
     "name": "stdout",
     "output_type": "stream",
     "text": [
      "5.269050598144531e-05\n"
     ]
    }
   ],
   "source": [
    "start = time.time()\n",
    "\n",
    "#np.dot(a, a)\n",
    "\n",
    "end = time.time() - start\n",
    "\n",
    "print(end)"
   ]
  },
  {
   "cell_type": "markdown",
   "metadata": {
    "id": "xwQ_FYJQEVOf"
   },
   "source": [
    "Вроде бы терпимо. Теперь представьте, что данную операцию надо совершить десятки тысяч раз, и над несколькими матрицами. Уже ставится грустно. Однако, матричные вычисления хорошо распараллеливаются и тут на сцену выходит PyTorch. В нём реализовано распараллеливание вычислений с помощью видеокарт, что позволяет в разы ускорить работу с матрицами в разы"
   ]
  },
  {
   "cell_type": "markdown",
   "metadata": {
    "id": "8mwuBBBWG5b4"
   },
   "source": [
    "Стандартом является использование видеокарт NVidia и языка CUDA (хотя есть поддержка и других производителей). Для начала вычислений на видеокарте надо перенести на неё тензор, вызвав метод `cuda`:"
   ]
  },
  {
   "cell_type": "code",
   "execution_count": 48,
   "metadata": {
    "id": "1Op7oSiSBxSg"
   },
   "outputs": [],
   "source": [
    "t = torch.ones((n, n))\n",
    "\n",
    "device = 'cuda'\n",
    "t = t.to(device) #переносим тензор на видеокарту"
   ]
  },
  {
   "cell_type": "code",
   "execution_count": 49,
   "metadata": {
    "colab": {
     "base_uri": "https://localhost:8080/"
    },
    "id": "rKEyxIekH04P",
    "outputId": "0a72d81f-0e90-4acb-ba5d-e7620609231e"
   },
   "outputs": [
    {
     "data": {
      "text/plain": [
       "device(type='cuda', index=0)"
      ]
     },
     "execution_count": 49,
     "metadata": {},
     "output_type": "execute_result"
    }
   ],
   "source": [
    "t.device #проверим, что перенеслось"
   ]
  },
  {
   "cell_type": "markdown",
   "metadata": {
    "id": "lU4tcBrXIKI6"
   },
   "source": [
    "Теперь можно производить вычисления с использованием видеокарты"
   ]
  },
  {
   "cell_type": "code",
   "execution_count": 50,
   "metadata": {
    "colab": {
     "base_uri": "https://localhost:8080/"
    },
    "id": "rrN8LlwgICDf",
    "outputId": "6095a88a-9581-4cc7-a3ea-443ea85690dd"
   },
   "outputs": [
    {
     "name": "stdout",
     "output_type": "stream",
     "text": [
      "0.037168264389038086\n"
     ]
    }
   ],
   "source": [
    "start = time.time()\n",
    "\n",
    "torch.mul(t, t)\n",
    "\n",
    "end = time.time() - start\n",
    "\n",
    "print(end)"
   ]
  },
  {
   "cell_type": "markdown",
   "metadata": {
    "id": "lfJqAG0yIn4v"
   },
   "source": [
    "Как видите, ускорение в несколько тысяч раз!"
   ]
  },
  {
   "cell_type": "markdown",
   "metadata": {
    "id": "-ABkJg3WH7BF"
   },
   "source": [
    "## Дифференцирование"
   ]
  },
  {
   "cell_type": "markdown",
   "metadata": {
    "id": "_aXtxH9IS-Xc"
   },
   "source": [
    "\n",
    "\n",
    "Обучение нейронной сети опирается на алгоритм обратного распространения ошибки, для этого необходимо уметь строить граф вычислений и дифференцировать его. Как вы уже догодались, PyTorch с эти успешно справляется. Посмотрим как это происходит"
   ]
  },
  {
   "cell_type": "markdown",
   "metadata": {
    "id": "H5y3MSPgU14B"
   },
   "source": [
    "Установим библиеотек для визуализации графа"
   ]
  },
  {
   "cell_type": "code",
   "execution_count": 51,
   "metadata": {
    "colab": {
     "base_uri": "https://localhost:8080/"
    },
    "id": "DlXLt-0eaIc8",
    "outputId": "13c69e5b-81d4-4ff6-8e87-51b2bf4db2c7"
   },
   "outputs": [
    {
     "name": "stdout",
     "output_type": "stream",
     "text": [
      "Requirement already satisfied: torchviz in /usr/local/lib/python3.10/dist-packages (0.0.2)\n",
      "Requirement already satisfied: torch in /usr/local/lib/python3.10/dist-packages (from torchviz) (2.0.1+cu118)\n",
      "Requirement already satisfied: graphviz in /usr/local/lib/python3.10/dist-packages (from torchviz) (0.20.1)\n",
      "Requirement already satisfied: filelock in /usr/local/lib/python3.10/dist-packages (from torch->torchviz) (3.12.2)\n",
      "Requirement already satisfied: typing-extensions in /usr/local/lib/python3.10/dist-packages (from torch->torchviz) (4.5.0)\n",
      "Requirement already satisfied: sympy in /usr/local/lib/python3.10/dist-packages (from torch->torchviz) (1.12)\n",
      "Requirement already satisfied: networkx in /usr/local/lib/python3.10/dist-packages (from torch->torchviz) (3.1)\n",
      "Requirement already satisfied: jinja2 in /usr/local/lib/python3.10/dist-packages (from torch->torchviz) (3.1.2)\n",
      "Requirement already satisfied: triton==2.0.0 in /usr/local/lib/python3.10/dist-packages (from torch->torchviz) (2.0.0)\n",
      "Requirement already satisfied: cmake in /usr/local/lib/python3.10/dist-packages (from triton==2.0.0->torch->torchviz) (3.27.4.1)\n",
      "Requirement already satisfied: lit in /usr/local/lib/python3.10/dist-packages (from triton==2.0.0->torch->torchviz) (16.0.6)\n",
      "Requirement already satisfied: MarkupSafe>=2.0 in /usr/local/lib/python3.10/dist-packages (from jinja2->torch->torchviz) (2.1.3)\n",
      "Requirement already satisfied: mpmath>=0.19 in /usr/local/lib/python3.10/dist-packages (from sympy->torch->torchviz) (1.3.0)\n",
      "Requirement already satisfied: graphviz in /usr/local/lib/python3.10/dist-packages (0.20.1)\n"
     ]
    }
   ],
   "source": [
    "!pip install torchviz\n",
    "!pip install graphviz"
   ]
  },
  {
   "cell_type": "code",
   "execution_count": 52,
   "metadata": {
    "id": "S1XOEy4mVeT0"
   },
   "outputs": [],
   "source": [
    "from graphviz import Digraph\n",
    "import torch\n",
    "from torch.autograd import Variable\n",
    "\n",
    "from torchviz import make_dot"
   ]
  },
  {
   "cell_type": "markdown",
   "metadata": {
    "id": "502P2CBDWzPf"
   },
   "source": [
    "Для того, чтобы добавить тензор к вычислительному графу необходимо при его создании установить параметр `requires_grad=True`. Обратите внимание, что только тензоры вещественных числе  можно привязать к графу"
   ]
  },
  {
   "cell_type": "markdown",
   "metadata": {
    "id": "DMKPfdTrVnab"
   },
   "source": [
    "Построим вычислительный граф для следующей функции\n",
    "\n",
    "$$f(x, y)=x^2 * y + 10x^{\\sin(y)}$$\n",
    "\n"
   ]
  },
  {
   "cell_type": "code",
   "execution_count": 53,
   "metadata": {
    "id": "qpk1DuwBVnMB"
   },
   "outputs": [],
   "source": [
    "x = torch.tensor(1, requires_grad=True, dtype=torch.float)\n",
    "y = torch.tensor(1, requires_grad=True, dtype=torch.float)"
   ]
  },
  {
   "cell_type": "code",
   "execution_count": 54,
   "metadata": {
    "id": "uWm5OUVaX5-Q"
   },
   "outputs": [],
   "source": [
    "f = x ** 2 * y + 10 * x ** torch.sin(y)"
   ]
  },
  {
   "cell_type": "code",
   "execution_count": 55,
   "metadata": {
    "colab": {
     "base_uri": "https://localhost:8080/",
     "height": 542
    },
    "id": "4x5q7JM9X9d9",
    "outputId": "726900c2-e45a-471c-ba79-72bf96baadd8"
   },
   "outputs": [
    {
     "data": {
      "image/svg+xml": [
       "<?xml version=\"1.0\" encoding=\"UTF-8\" standalone=\"no\"?>\n",
       "<!DOCTYPE svg PUBLIC \"-//W3C//DTD SVG 1.1//EN\"\n",
       " \"http://www.w3.org/Graphics/SVG/1.1/DTD/svg11.dtd\">\n",
       "<!-- Generated by graphviz version 2.43.0 (0)\n",
       " -->\n",
       "<!-- Title: %3 Pages: 1 -->\n",
       "<svg width=\"255pt\" height=\"390pt\"\n",
       " viewBox=\"0.00 0.00 255.00 390.00\" xmlns=\"http://www.w3.org/2000/svg\" xmlns:xlink=\"http://www.w3.org/1999/xlink\">\n",
       "<g id=\"graph0\" class=\"graph\" transform=\"scale(1 1) rotate(0) translate(4 386)\">\n",
       "<title>%3</title>\n",
       "<polygon fill=\"white\" stroke=\"transparent\" points=\"-4,4 -4,-386 251,-386 251,4 -4,4\"/>\n",
       "<!-- 136681614305104 -->\n",
       "<g id=\"node1\" class=\"node\">\n",
       "<title>136681614305104</title>\n",
       "<polygon fill=\"#caff70\" stroke=\"black\" points=\"175.5,-30 121.5,-30 121.5,0 175.5,0 175.5,-30\"/>\n",
       "<text text-anchor=\"middle\" x=\"148.5\" y=\"-18\" font-family=\"monospace\" font-size=\"10.00\">f</text>\n",
       "<text text-anchor=\"middle\" x=\"148.5\" y=\"-7\" font-family=\"monospace\" font-size=\"10.00\"> ()</text>\n",
       "</g>\n",
       "<!-- 136681909958016 -->\n",
       "<g id=\"node2\" class=\"node\">\n",
       "<title>136681909958016</title>\n",
       "<polygon fill=\"lightgrey\" stroke=\"black\" points=\"193,-85 104,-85 104,-66 193,-66 193,-85\"/>\n",
       "<text text-anchor=\"middle\" x=\"148.5\" y=\"-73\" font-family=\"monospace\" font-size=\"10.00\">AddBackward0</text>\n",
       "</g>\n",
       "<!-- 136681909958016&#45;&gt;136681614305104 -->\n",
       "<g id=\"edge12\" class=\"edge\">\n",
       "<title>136681909958016&#45;&gt;136681614305104</title>\n",
       "<path fill=\"none\" stroke=\"black\" d=\"M148.5,-65.87C148.5,-59.11 148.5,-49.35 148.5,-40.26\"/>\n",
       "<polygon fill=\"black\" stroke=\"black\" points=\"152,-40.11 148.5,-30.11 145,-40.11 152,-40.11\"/>\n",
       "</g>\n",
       "<!-- 136681909952256 -->\n",
       "<g id=\"node3\" class=\"node\">\n",
       "<title>136681909952256</title>\n",
       "<polygon fill=\"lightgrey\" stroke=\"black\" points=\"140,-140 51,-140 51,-121 140,-121 140,-140\"/>\n",
       "<text text-anchor=\"middle\" x=\"95.5\" y=\"-128\" font-family=\"monospace\" font-size=\"10.00\">MulBackward0</text>\n",
       "</g>\n",
       "<!-- 136681909952256&#45;&gt;136681909958016 -->\n",
       "<g id=\"edge1\" class=\"edge\">\n",
       "<title>136681909952256&#45;&gt;136681909958016</title>\n",
       "<path fill=\"none\" stroke=\"black\" d=\"M104.25,-120.75C111.97,-113.03 123.4,-101.6 132.72,-92.28\"/>\n",
       "<polygon fill=\"black\" stroke=\"black\" points=\"135.31,-94.64 139.91,-85.09 130.36,-89.69 135.31,-94.64\"/>\n",
       "</g>\n",
       "<!-- 136681909945344 -->\n",
       "<g id=\"node4\" class=\"node\">\n",
       "<title>136681909945344</title>\n",
       "<polygon fill=\"lightgrey\" stroke=\"black\" points=\"98,-195 9,-195 9,-176 98,-176 98,-195\"/>\n",
       "<text text-anchor=\"middle\" x=\"53.5\" y=\"-183\" font-family=\"monospace\" font-size=\"10.00\">PowBackward0</text>\n",
       "</g>\n",
       "<!-- 136681909945344&#45;&gt;136681909952256 -->\n",
       "<g id=\"edge2\" class=\"edge\">\n",
       "<title>136681909945344&#45;&gt;136681909952256</title>\n",
       "<path fill=\"none\" stroke=\"black\" d=\"M60.44,-175.75C66.37,-168.26 75.07,-157.28 82.32,-148.13\"/>\n",
       "<polygon fill=\"black\" stroke=\"black\" points=\"85.23,-150.1 88.69,-140.09 79.74,-145.75 85.23,-150.1\"/>\n",
       "</g>\n",
       "<!-- 136681909949760 -->\n",
       "<g id=\"node5\" class=\"node\">\n",
       "<title>136681909949760</title>\n",
       "<polygon fill=\"lightgrey\" stroke=\"black\" points=\"101,-250 0,-250 0,-231 101,-231 101,-250\"/>\n",
       "<text text-anchor=\"middle\" x=\"50.5\" y=\"-238\" font-family=\"monospace\" font-size=\"10.00\">AccumulateGrad</text>\n",
       "</g>\n",
       "<!-- 136681909949760&#45;&gt;136681909945344 -->\n",
       "<g id=\"edge3\" class=\"edge\">\n",
       "<title>136681909949760&#45;&gt;136681909945344</title>\n",
       "<path fill=\"none\" stroke=\"black\" d=\"M51,-230.75C51.39,-223.8 51.95,-213.85 52.45,-205.13\"/>\n",
       "<polygon fill=\"black\" stroke=\"black\" points=\"55.94,-205.27 53.01,-195.09 48.95,-204.88 55.94,-205.27\"/>\n",
       "</g>\n",
       "<!-- 136681909949856 -->\n",
       "<g id=\"node10\" class=\"node\">\n",
       "<title>136681909949856</title>\n",
       "<polygon fill=\"lightgrey\" stroke=\"black\" points=\"247,-195 158,-195 158,-176 247,-176 247,-195\"/>\n",
       "<text text-anchor=\"middle\" x=\"202.5\" y=\"-183\" font-family=\"monospace\" font-size=\"10.00\">PowBackward1</text>\n",
       "</g>\n",
       "<!-- 136681909949760&#45;&gt;136681909949856 -->\n",
       "<g id=\"edge9\" class=\"edge\">\n",
       "<title>136681909949760&#45;&gt;136681909949856</title>\n",
       "<path fill=\"none\" stroke=\"black\" d=\"M74.92,-230.98C100.22,-222.16 139.95,-208.31 168.36,-198.41\"/>\n",
       "<polygon fill=\"black\" stroke=\"black\" points=\"169.6,-201.68 177.89,-195.08 167.29,-195.07 169.6,-201.68\"/>\n",
       "</g>\n",
       "<!-- 136681614298464 -->\n",
       "<g id=\"node6\" class=\"node\">\n",
       "<title>136681614298464</title>\n",
       "<polygon fill=\"lightblue\" stroke=\"black\" points=\"77.5,-316 23.5,-316 23.5,-286 77.5,-286 77.5,-316\"/>\n",
       "<text text-anchor=\"middle\" x=\"50.5\" y=\"-304\" font-family=\"monospace\" font-size=\"10.00\">x</text>\n",
       "<text text-anchor=\"middle\" x=\"50.5\" y=\"-293\" font-family=\"monospace\" font-size=\"10.00\"> ()</text>\n",
       "</g>\n",
       "<!-- 136681614298464&#45;&gt;136681909949760 -->\n",
       "<g id=\"edge4\" class=\"edge\">\n",
       "<title>136681614298464&#45;&gt;136681909949760</title>\n",
       "<path fill=\"none\" stroke=\"black\" d=\"M50.5,-285.84C50.5,-278.21 50.5,-268.7 50.5,-260.45\"/>\n",
       "<polygon fill=\"black\" stroke=\"black\" points=\"54,-260.27 50.5,-250.27 47,-260.27 54,-260.27\"/>\n",
       "</g>\n",
       "<!-- 136681909955328 -->\n",
       "<g id=\"node7\" class=\"node\">\n",
       "<title>136681909955328</title>\n",
       "<polygon fill=\"lightgrey\" stroke=\"black\" points=\"225,-310.5 124,-310.5 124,-291.5 225,-291.5 225,-310.5\"/>\n",
       "<text text-anchor=\"middle\" x=\"174.5\" y=\"-298.5\" font-family=\"monospace\" font-size=\"10.00\">AccumulateGrad</text>\n",
       "</g>\n",
       "<!-- 136681909955328&#45;&gt;136681909952256 -->\n",
       "<g id=\"edge5\" class=\"edge\">\n",
       "<title>136681909955328&#45;&gt;136681909952256</title>\n",
       "<path fill=\"none\" stroke=\"black\" d=\"M169.98,-291.2C164.89,-281.25 156.44,-264.54 149.5,-250 132.6,-214.62 113.81,-172.79 103.45,-149.49\"/>\n",
       "<polygon fill=\"black\" stroke=\"black\" points=\"106.58,-147.9 99.32,-140.17 100.18,-150.73 106.58,-147.9\"/>\n",
       "</g>\n",
       "<!-- 136681909945104 -->\n",
       "<g id=\"node11\" class=\"node\">\n",
       "<title>136681909945104</title>\n",
       "<polygon fill=\"lightgrey\" stroke=\"black\" points=\"247,-250 158,-250 158,-231 247,-231 247,-250\"/>\n",
       "<text text-anchor=\"middle\" x=\"202.5\" y=\"-238\" font-family=\"monospace\" font-size=\"10.00\">SinBackward0</text>\n",
       "</g>\n",
       "<!-- 136681909955328&#45;&gt;136681909945104 -->\n",
       "<g id=\"edge11\" class=\"edge\">\n",
       "<title>136681909955328&#45;&gt;136681909945104</title>\n",
       "<path fill=\"none\" stroke=\"black\" d=\"M178.63,-291.37C182.64,-282.99 188.85,-270.01 193.94,-259.39\"/>\n",
       "<polygon fill=\"black\" stroke=\"black\" points=\"197.19,-260.7 198.35,-250.17 190.88,-257.68 197.19,-260.7\"/>\n",
       "</g>\n",
       "<!-- 136681614304144 -->\n",
       "<g id=\"node8\" class=\"node\">\n",
       "<title>136681614304144</title>\n",
       "<polygon fill=\"lightblue\" stroke=\"black\" points=\"201.5,-382 147.5,-382 147.5,-352 201.5,-352 201.5,-382\"/>\n",
       "<text text-anchor=\"middle\" x=\"174.5\" y=\"-370\" font-family=\"monospace\" font-size=\"10.00\">y</text>\n",
       "<text text-anchor=\"middle\" x=\"174.5\" y=\"-359\" font-family=\"monospace\" font-size=\"10.00\"> ()</text>\n",
       "</g>\n",
       "<!-- 136681614304144&#45;&gt;136681909955328 -->\n",
       "<g id=\"edge6\" class=\"edge\">\n",
       "<title>136681614304144&#45;&gt;136681909955328</title>\n",
       "<path fill=\"none\" stroke=\"black\" d=\"M174.5,-351.8C174.5,-342.7 174.5,-330.79 174.5,-320.9\"/>\n",
       "<polygon fill=\"black\" stroke=\"black\" points=\"178,-320.84 174.5,-310.84 171,-320.84 178,-320.84\"/>\n",
       "</g>\n",
       "<!-- 136681909949520 -->\n",
       "<g id=\"node9\" class=\"node\">\n",
       "<title>136681909949520</title>\n",
       "<polygon fill=\"lightgrey\" stroke=\"black\" points=\"247,-140 158,-140 158,-121 247,-121 247,-140\"/>\n",
       "<text text-anchor=\"middle\" x=\"202.5\" y=\"-128\" font-family=\"monospace\" font-size=\"10.00\">MulBackward0</text>\n",
       "</g>\n",
       "<!-- 136681909949520&#45;&gt;136681909958016 -->\n",
       "<g id=\"edge7\" class=\"edge\">\n",
       "<title>136681909949520&#45;&gt;136681909958016</title>\n",
       "<path fill=\"none\" stroke=\"black\" d=\"M193.58,-120.75C185.72,-113.03 174.07,-101.6 164.58,-92.28\"/>\n",
       "<polygon fill=\"black\" stroke=\"black\" points=\"166.84,-89.6 157.25,-85.09 161.94,-94.59 166.84,-89.6\"/>\n",
       "</g>\n",
       "<!-- 136681909949856&#45;&gt;136681909949520 -->\n",
       "<g id=\"edge8\" class=\"edge\">\n",
       "<title>136681909949856&#45;&gt;136681909949520</title>\n",
       "<path fill=\"none\" stroke=\"black\" d=\"M202.5,-175.75C202.5,-168.8 202.5,-158.85 202.5,-150.13\"/>\n",
       "<polygon fill=\"black\" stroke=\"black\" points=\"206,-150.09 202.5,-140.09 199,-150.09 206,-150.09\"/>\n",
       "</g>\n",
       "<!-- 136681909945104&#45;&gt;136681909949856 -->\n",
       "<g id=\"edge10\" class=\"edge\">\n",
       "<title>136681909945104&#45;&gt;136681909949856</title>\n",
       "<path fill=\"none\" stroke=\"black\" d=\"M202.5,-230.75C202.5,-223.8 202.5,-213.85 202.5,-205.13\"/>\n",
       "<polygon fill=\"black\" stroke=\"black\" points=\"206,-205.09 202.5,-195.09 199,-205.09 206,-205.09\"/>\n",
       "</g>\n",
       "</g>\n",
       "</svg>\n"
      ],
      "text/plain": [
       "<graphviz.graphs.Digraph at 0x7c4fbcb086a0>"
      ]
     },
     "execution_count": 55,
     "metadata": {},
     "output_type": "execute_result"
    }
   ],
   "source": [
    "make_dot(f, params={'x': x, 'y': y, 'f': f})"
   ]
  },
  {
   "cell_type": "markdown",
   "metadata": {
    "id": "VyyQOTlCZVbU"
   },
   "source": [
    "Для того, чтобы посчитать градиент функции по всем параметрам, надо всего лишь вызвать метод `backward`"
   ]
  },
  {
   "cell_type": "code",
   "execution_count": 56,
   "metadata": {
    "id": "xlNRpdqijWr1"
   },
   "outputs": [],
   "source": [
    "f.backward()"
   ]
  },
  {
   "cell_type": "markdown",
   "metadata": {
    "id": "MKHlhRtjjrjC"
   },
   "source": [
    "Получившиеся градиенты являются атрибутами параметров функции. Чтобы посмотреть их надо посмотреть атрибут `grad`"
   ]
  },
  {
   "cell_type": "code",
   "execution_count": 57,
   "metadata": {
    "colab": {
     "base_uri": "https://localhost:8080/"
    },
    "id": "zO-IlyWDjrEf",
    "outputId": "3d5f5fad-4af6-408d-bcb3-46b770aa9fb9"
   },
   "outputs": [
    {
     "data": {
      "text/plain": [
       "tensor(1.)"
      ]
     },
     "execution_count": 57,
     "metadata": {},
     "output_type": "execute_result"
    }
   ],
   "source": [
    "y.grad"
   ]
  },
  {
   "cell_type": "code",
   "execution_count": 58,
   "metadata": {
    "colab": {
     "base_uri": "https://localhost:8080/"
    },
    "id": "xaktdT5CjqaD",
    "outputId": "3df4a295-8e14-49c1-b815-87cd62241ff2"
   },
   "outputs": [
    {
     "data": {
      "text/plain": [
       "tensor(10.4147)"
      ]
     },
     "execution_count": 58,
     "metadata": {},
     "output_type": "execute_result"
    }
   ],
   "source": [
    "x.grad"
   ]
  },
  {
   "cell_type": "markdown",
   "metadata": {
    "id": "qtEyzxQCncL3"
   },
   "source": [
    "PyTorch устроен так, что градиенты накапливаются"
   ]
  },
  {
   "cell_type": "code",
   "execution_count": 59,
   "metadata": {
    "id": "3xGlWEonnc3b"
   },
   "outputs": [],
   "source": [
    "f = x ** 2 * y + 10 * x ** torch.sin(y)\n",
    "f.backward()"
   ]
  },
  {
   "cell_type": "code",
   "execution_count": 60,
   "metadata": {
    "colab": {
     "base_uri": "https://localhost:8080/"
    },
    "id": "QXEGDzs1n6oG",
    "outputId": "795889d7-230a-45a5-d8c8-745aef0d12d3"
   },
   "outputs": [
    {
     "data": {
      "text/plain": [
       "tensor(2.)"
      ]
     },
     "execution_count": 60,
     "metadata": {},
     "output_type": "execute_result"
    }
   ],
   "source": [
    "y.grad"
   ]
  },
  {
   "cell_type": "code",
   "execution_count": 61,
   "metadata": {
    "colab": {
     "base_uri": "https://localhost:8080/"
    },
    "id": "HxL1m7gJn80p",
    "outputId": "55080e38-3113-42e9-e72b-871ffb98c369"
   },
   "outputs": [
    {
     "data": {
      "text/plain": [
       "tensor(20.8294)"
      ]
     },
     "execution_count": 61,
     "metadata": {},
     "output_type": "execute_result"
    }
   ],
   "source": [
    "x.grad"
   ]
  },
  {
   "cell_type": "markdown",
   "metadata": {
    "id": "atn99ek-ovhx"
   },
   "source": [
    "Поэтому прежде чем повторять процедуру дифференцирования необходиомо занулить градиенты"
   ]
  },
  {
   "cell_type": "code",
   "execution_count": 62,
   "metadata": {
    "colab": {
     "base_uri": "https://localhost:8080/"
    },
    "id": "QzQ4EcIao_Am",
    "outputId": "fe2c61f8-3a06-4289-e0f5-00e26dc5d029"
   },
   "outputs": [
    {
     "data": {
      "text/plain": [
       "tensor(0.)"
      ]
     },
     "execution_count": 62,
     "metadata": {},
     "output_type": "execute_result"
    }
   ],
   "source": [
    "x.grad.zero_()\n",
    "x.grad"
   ]
  },
  {
   "cell_type": "code",
   "execution_count": 63,
   "metadata": {
    "colab": {
     "base_uri": "https://localhost:8080/"
    },
    "id": "-TSpHR_GpMB2",
    "outputId": "31b6c5fc-4195-4018-f858-0d7f18218969"
   },
   "outputs": [
    {
     "data": {
      "text/plain": [
       "tensor(0.)"
      ]
     },
     "execution_count": 63,
     "metadata": {},
     "output_type": "execute_result"
    }
   ],
   "source": [
    "y.grad.zero_()\n",
    "y.grad"
   ]
  },
  {
   "cell_type": "markdown",
   "metadata": {
    "id": "i7Y8XPk9qkX-"
   },
   "source": [
    "Чтобы отсоеденить тензор от вычислительного графа и перестать накапливать градиенты воспользуйтесь методом `detach()`"
   ]
  },
  {
   "cell_type": "code",
   "execution_count": 64,
   "metadata": {
    "colab": {
     "base_uri": "https://localhost:8080/"
    },
    "id": "2Aaez18OqTHA",
    "outputId": "7ac6bb7b-ca39-45e4-d0fb-11df73a63154"
   },
   "outputs": [
    {
     "data": {
      "text/plain": [
       "tensor(1.)"
      ]
     },
     "execution_count": 64,
     "metadata": {},
     "output_type": "execute_result"
    }
   ],
   "source": [
    "x.detach()"
   ]
  },
  {
   "cell_type": "markdown",
   "metadata": {
    "id": "kYyO8KtJriLo"
   },
   "source": [
    "Чтобы создать копию тензора можно воспользоваться методом `clone()`, при этом склонированный тензор будет присоединён к графу."
   ]
  },
  {
   "cell_type": "code",
   "execution_count": 65,
   "metadata": {
    "colab": {
     "base_uri": "https://localhost:8080/"
    },
    "id": "jcKsZ6Tkrhhz",
    "outputId": "fa052f79-35fb-4659-ea90-1cdb0895bbe3"
   },
   "outputs": [
    {
     "data": {
      "text/plain": [
       "tensor(1., grad_fn=<CloneBackward0>)"
      ]
     },
     "execution_count": 65,
     "metadata": {},
     "output_type": "execute_result"
    }
   ],
   "source": [
    "a = y.clone()\n",
    "a"
   ]
  },
  {
   "cell_type": "markdown",
   "metadata": {
    "id": "hetC9Ei6L_27"
   },
   "source": [
    "**ЗАДАНИЕ 3**\n",
    "\n",
    "Посчитайте производную функции\n",
    "\n",
    "$$f(x, y, z)=\\frac{x^2 + y^2}{\\exp z}$$\n",
    "\n",
    "по переменной $x$ в точке (1, 1, 0)"
   ]
  },
  {
   "cell_type": "code",
   "execution_count": 66,
   "metadata": {
    "id": "fCVBqYbxOyMp"
   },
   "outputs": [],
   "source": [
    "#ваш код"
   ]
  },
  {
   "cell_type": "markdown",
   "metadata": {
    "id": "64Rj81Jy8hji"
   },
   "source": [
    "## Простой пример обучения нейронной сети"
   ]
  },
  {
   "cell_type": "markdown",
   "metadata": {
    "id": "JFPUqOB3pb4p"
   },
   "source": [
    "Теперь, можно приступить к самому главному назначению PyTorch и обучить нейросеть"
   ]
  },
  {
   "cell_type": "markdown",
   "metadata": {
    "id": "2WAHjImo8hjj"
   },
   "source": [
    "\n",
    "### Цикл обучения модели\n",
    "\n",
    "Посмотрим на общий процесс обучения. Пусть задана нейронная сеть $f(x)$, параметризуемая обучаемыми параметрами $\\theta$. Для входных данных $x$ модель возращает $\\widehat{y}=f(x)$. Для обучения модели необходимо задать оптимизируемую функцию (функцию ошибки, лосс) $L(y, \\widehat{y})$, которую следует минимизовать.\n",
    "\n",
    "\n",
    "Процесс обучения задается следующим образом.\n",
    " * **Прямой проход / Forward pass:** <br>\n",
    "     Считаем $\\widehat{y}=f(x)$ для входных данных $x$. <br>\n",
    " * **Вычисление оптимизируемой функции:**<br>\n",
    "     Вычисляем оптимизируемую функцию $L(y, \\widehat{y})$. <br>\n",
    " * **Обратный проход / Backward pass:** <br>\n",
    "     Считаем градиенты по всем обучаемым параметрам $\\frac{\\partial L}{\\partial \\theta}$. <br>\n",
    " * **Шаг оптимизации:** <br>\n",
    "     Делаем шаг градиентного спуска, обновляя все обучаемые параметры. <br>\n",
    "    "
   ]
  },
  {
   "cell_type": "markdown",
   "metadata": {
    "id": "02QbI8x9osL2"
   },
   "source": [
    "### Линейная регрессия"
   ]
  },
  {
   "cell_type": "markdown",
   "metadata": {
    "id": "MHtIECY8p9N3"
   },
   "source": [
    "В лекциях показано, что линейную регрессию можно представить как частный случай нейрона с тождественной функцией активации.\n",
    "\n",
    "Сделаем одномерную линейную регрессию на датасете <a href=\"http://lib.stat.cmu.edu/datasets/boston\" target=\"_blank\">boston</a>. Этот датасет представляет собой набор данных конца 70-х годов прошлого века для предсказания цены недвижимости в Бостоне.\n",
    "\n",
    "Скачиваем данные."
   ]
  },
  {
   "cell_type": "code",
   "execution_count": 67,
   "metadata": {
    "id": "KNM9p7z4rQvl"
   },
   "outputs": [],
   "source": [
    "def load_boston():\n",
    "    # ссылка для скачивания данных\n",
    "    data_url = \"http://lib.stat.cmu.edu/datasets/boston\"\n",
    "    # собираем таблицу данных\n",
    "    raw_df = pd.read_csv(data_url, sep=\"\\s+\", skiprows=22, header=None)\n",
    "    # выделяем признаки и таргет\n",
    "    data = np.hstack([raw_df.values[::2, :], raw_df.values[1::2, :2]])\n",
    "    target = raw_df.values[1::2, 2]\n",
    "    return data, target"
   ]
  },
  {
   "cell_type": "code",
   "execution_count": 68,
   "metadata": {
    "id": "H7Tbvoo6r5CK"
   },
   "outputs": [],
   "source": [
    "data, target = load_boston()"
   ]
  },
  {
   "cell_type": "markdown",
   "metadata": {
    "id": "lbxWbR8HdLIS"
   },
   "source": [
    "Будем рассматривать зависимость таргета, т.е. медианной стоимости домов в тысячах долларов, от последнего признака, т.е. процента населения людей с низким уровнем дохода."
   ]
  },
  {
   "cell_type": "code",
   "execution_count": 69,
   "metadata": {
    "colab": {
     "base_uri": "https://localhost:8080/",
     "height": 641
    },
    "collapsed": true,
    "id": "4_oACFuNtxxf",
    "outputId": "f32921b2-07e3-4dfe-97f3-4e9fb262ca7e"
   },
   "outputs": [
    {
     "data": {
      "image/png": "[encoded data removed]",
      "text/plain": [
       "<Figure size 1000x700 with 1 Axes>"
      ]
     },
     "metadata": {},
     "output_type": "display_data"
    }
   ],
   "source": [
    "plt.figure(figsize=(10, 7))\n",
    "plt.scatter(data[:, -1], target, alpha=0.7)\n",
    "plt.xlabel('% населения с низким уровнем дохода')\n",
    "plt.title('Медианная стоимость домов в тыс. $');"
   ]
  },
  {
   "cell_type": "markdown",
   "metadata": {
    "id": "qYOlvM88uxVw"
   },
   "source": [
    "В данном случае предсказание модели задается следующим образом: $$\\widehat{y}(x) = wx + b,$$\n",
    "где $w, b \\in \\mathbb{R}$ &mdash; обучаемые параметры модели. Это обычная линейная модель, и с ней мы уже работали <a href=\"https://miptstats.github.io/courses/ad_fivt/linreg_sklearn.html\" target=\"_blank\">ранее</a>.\n",
    "\n",
    "Объявляем обучаемые параметры. Также задаем признак $X$ и таргет $Y$ в виде `torch`-тензоров."
   ]
  },
  {
   "cell_type": "code",
   "execution_count": 70,
   "metadata": {
    "id": "BdC9gdtZuLM4"
   },
   "outputs": [],
   "source": [
    "# создаем два тензора размера 1 с заполнением нулями,\n",
    "# для которых будут вычисляться градиенты\n",
    "w = torch.zeros(1, requires_grad=True)\n",
    "b = torch.zeros(1, requires_grad=True)\n",
    "\n",
    "# Данные оборачиваем в тензоры, по которым не требуем вычисления градиента\n",
    "x = torch.FloatTensor(data[:, -1] / 10)\n",
    "y = torch.FloatTensor(target)\n",
    "\n",
    "# по-другому:\n",
    "# x = torch.tensor(boston.data[:, -1] / 10, dtype=torch.float32)\n",
    "# y = torch.tensor(boston.target, dtype=torch.float32)"
   ]
  },
  {
   "cell_type": "markdown",
   "metadata": {
    "id": "1lcCp-j3vqcK"
   },
   "source": [
    "Зададим оптимизируемую функцию / функцию ошибки / лосс &mdash; <a href=\"https://miptstats.github.io/courses/ad_fivt/linreg_sklearn.html#3.-Тестирование-и-оценка-качества\" target=\"_blank\">MSE</a>:\n",
    "\n",
    "$$\n",
    "\\mathrm{MSE}(\\widehat{y}, y) = \\frac{1}{n} \\sum_{i=1}^n \\left(\\widehat{y}_i - y_i\\right)^2.\n",
    "$$\n"
   ]
  },
  {
   "cell_type": "code",
   "execution_count": 71,
   "metadata": {
    "id": "h7yrmAEzv1_0"
   },
   "outputs": [],
   "source": [
    "def optim_func(y_pred, y_true):\n",
    "    return torch.mean((y_pred - y_true) ** 2)"
   ]
  },
  {
   "cell_type": "markdown",
   "metadata": {
    "id": "2mjeFLwadjhO"
   },
   "source": [
    "После того, как мы посчитаем результат применения этой функции к нашим данным, нам необходимо посчитать градиенты по всем обучаемым параметрам, чтобы затем сделать шаг градиентного спуска. В этом нам поможет функция `backward`. Вызвав `backward` для результата подсчета функции ошибки `loss`, мы сделаем обратный проход по всему графу вычислений и посчитаем градиенты лосса по всем обучаемым параметрам. Подробнее о том, как это работает будет рассказано на 3 курсе."
   ]
  },
  {
   "cell_type": "code",
   "execution_count": 72,
   "metadata": {
    "id": "DQ7erDUSdgw8"
   },
   "outputs": [],
   "source": [
    "# Прямой проход\n",
    "y_pred = w * x + b\n",
    "\n",
    "# Вычисление лосса\n",
    "loss = optim_func(y_pred, y)\n",
    "\n",
    "# Вычисление градиентов\n",
    "# с помощью обратного прохода по сети\n",
    "# и сохранение их в памяти сети\n",
    "loss.backward()"
   ]
  },
  {
   "cell_type": "markdown",
   "metadata": {
    "id": "LBVjjTu9dnr4"
   },
   "source": [
    "Здесь `loss` &mdash; значение функции MSE, вычисленное на этой итерации."
   ]
  },
  {
   "cell_type": "code",
   "execution_count": 73,
   "metadata": {
    "colab": {
     "base_uri": "https://localhost:8080/"
    },
    "id": "3cF5x-GhdgtA",
    "outputId": "0d62840e-99e4-4ae0-acef-3de6b44870c3"
   },
   "outputs": [
    {
     "data": {
      "text/plain": [
       "tensor(592.1469, grad_fn=<MeanBackward0>)"
      ]
     },
     "execution_count": 73,
     "metadata": {},
     "output_type": "execute_result"
    }
   ],
   "source": [
    "loss"
   ]
  },
  {
   "cell_type": "markdown",
   "metadata": {
    "id": "qQgYctV9dsd3"
   },
   "source": [
    "К градиентам для обучаемых параметров, которые требуют градиента (`requires_grad=True`), теперь можно обратиться следующим образом:"
   ]
  },
  {
   "cell_type": "code",
   "execution_count": 74,
   "metadata": {
    "colab": {
     "base_uri": "https://localhost:8080/"
    },
    "id": "Kn4q9G46dgqZ",
    "outputId": "91b993fa-764c-45e0-bd1f-6fc0114bfe30"
   },
   "outputs": [
    {
     "name": "stdout",
     "output_type": "stream",
     "text": [
      "dL/dw = tensor([-47.3514])\n",
      "dL/b = tensor([-45.0656])\n"
     ]
    }
   ],
   "source": [
    "print(\"dL/dw =\", w.grad)\n",
    "print(\"dL/b =\", b.grad)"
   ]
  },
  {
   "cell_type": "markdown",
   "metadata": {
    "id": "0JIOwcGWd0A8"
   },
   "source": [
    "Если мы посчитаем градиент $M$ раз, то есть $M$ раз вызовем `loss.backward()`, то градиент будет накапливаться (суммироваться) в параметрах, требующих градиента. Иногда это бывает удобно.\n",
    "\n",
    "Убедимся на примере, что именно так все и работает."
   ]
  },
  {
   "cell_type": "code",
   "execution_count": 75,
   "metadata": {
    "colab": {
     "base_uri": "https://localhost:8080/"
    },
    "id": "QpNTaOKqdgiY",
    "outputId": "c203e7c7-e298-44ec-de58-d5b48ecc7ca6"
   },
   "outputs": [
    {
     "name": "stdout",
     "output_type": "stream",
     "text": [
      "dL/dw = tensor([-94.7029])\n",
      "dL/b = tensor([-90.1312])\n"
     ]
    }
   ],
   "source": [
    "y_pred = w * x + b\n",
    "loss =  optim_func(y_pred, y)\n",
    "loss.backward()\n",
    "\n",
    "print(\"dL/dw =\", w.grad)\n",
    "print(\"dL/b =\", b.grad)"
   ]
  },
  {
   "cell_type": "markdown",
   "metadata": {
    "id": "fIwpQpACd5Lr"
   },
   "source": [
    "Видим, что значения градиентов стали в 2 раза больше, за счет того, что мы сложили одни и те же градиенты 2 раза."
   ]
  },
  {
   "cell_type": "markdown",
   "metadata": {
    "id": "lBFVSRF6d9sB"
   },
   "source": [
    "Если же мы не хотим, чтобы градиенты суммировались, то нужно **занулять\n",
    "градиенты** между итерациями после того как сделали шаг градиентного спуска.\n",
    "Это можно сделать с помощью функции `zero_` для градиентов."
   ]
  },
  {
   "cell_type": "code",
   "execution_count": 76,
   "metadata": {
    "colab": {
     "base_uri": "https://localhost:8080/"
    },
    "id": "Hh5zDZH8d6g1",
    "outputId": "482ac52d-d2a9-4aec-ac63-427bdc0cc637"
   },
   "outputs": [
    {
     "data": {
      "text/plain": [
       "(tensor([0.]), tensor([0.]))"
      ]
     },
     "execution_count": 76,
     "metadata": {},
     "output_type": "execute_result"
    }
   ],
   "source": [
    "w.grad.zero_()\n",
    "b.grad.zero_()\n",
    "w.grad, b.grad"
   ]
  },
  {
   "cell_type": "markdown",
   "metadata": {
    "id": "FDchenDBeCq-"
   },
   "source": [
    "Напишем функцию визуализации процесса обучения."
   ]
  },
  {
   "cell_type": "code",
   "execution_count": 77,
   "metadata": {
    "id": "GAsouKKUeENK"
   },
   "outputs": [],
   "source": [
    "def show_progress(x, y, y_pred, loss):\n",
    "    '''\n",
    "    Визуализация процесса обучения.\n",
    "\n",
    "    x, y -- объекты и таргеты обучающей выборки;\n",
    "    y_pred -- предсказания модели;\n",
    "    loss -- текущее значение ошибки модели.\n",
    "    '''\n",
    "\n",
    "    # Избавимся от градиентов перед отрисовкой графика\n",
    "    y_pred = y_pred.detach()\n",
    "\n",
    "    # Превратим тензор размерности 0 в число, для красивого отображения\n",
    "    loss = loss.item()\n",
    "\n",
    "    # Стираем предыдущий вывод в тот момент, когда появится следующий\n",
    "    clear_output(wait=True)\n",
    "\n",
    "    # Строим новый график\n",
    "    plt.figure(figsize=(10, 7))\n",
    "    plt.scatter(x, y, alpha=0.75)\n",
    "    plt.scatter(x, y_pred, color='orange', linewidth=5)\n",
    "    plt.xlabel('% населения с низким уровнем дохода')\n",
    "    plt.title('Медианная стоимость домов в тыс. $')\n",
    "    plt.show()\n",
    "\n",
    "    print(f\"MSE = {loss:.3f}\")"
   ]
  },
  {
   "cell_type": "markdown",
   "metadata": {
    "id": "P5FAvkdTeK3-"
   },
   "source": [
    "**ЗАДАЧА 4**\n",
    "\n",
    "Построем нейронную сеть из двух слоев:\n",
    "\n",
    "$$\\widehat{y}(x) = w_2u(x) + b_2,$$\n",
    "\n",
    "$$u(x) = \\sigma(w_1x + b_1),$$\n",
    "\n",
    "$$\\sigma(x) = \\text{ReLU}(x) = \\begin{equation*}\\begin{cases}x, \\; x \\ge 0, \\\\ 0, \\; \\text{иначе,} \\end{cases} \\end{equation*}$$\n",
    "\n",
    "$w_1, b_1 \\in \\mathbb{R}$ &mdash; обучаемые параметры первого слоя, $w_2, b_2 \\in \\mathbb{R}$ &mdash; обучаемые параметры второго слоя, $\\sigma(x)$ &mdash; функция активации, в данном случае мы выбрали `ReLU`. Можно заметить, что это функция не удовлетворяет условиям теоремы Цыбенко, тем не менее на практике она часто применяется для нейронных сетей."
   ]
  },
  {
   "cell_type": "code",
   "execution_count": 78,
   "metadata": {
    "colab": {
     "base_uri": "https://localhost:8080/",
     "height": 140
    },
    "id": "k9eOguSjeXeO",
    "outputId": "954b95e4-e355-4aca-fbc0-ad9f80b2f8ff"
   },
   "outputs": [
    {
     "ename": "SyntaxError",
     "evalue": "ignored",
     "output_type": "error",
     "traceback": [
      "\u001b[0;36m  File \u001b[0;32m\"<ipython-input-78-aee290131432>\"\u001b[0;36m, line \u001b[0;32m2\u001b[0m\n\u001b[0;31m    w0 = <...>\u001b[0m\n\u001b[0m         ^\u001b[0m\n\u001b[0;31mSyntaxError\u001b[0m\u001b[0;31m:\u001b[0m invalid syntax\n"
     ]
    }
   ],
   "source": [
    "# Инициализация параметров\n",
    "w0 = <...>\n",
    "b0 = <...>\n",
    "w1 = <...>\n",
    "b1 = <...>\n",
    "\n",
    "# Функция активации\n",
    "def act_func(x):\n",
    "    return x * (x >= 0)\n",
    "\n",
    "# Количество итераций\n",
    "num_iter = 1000\n",
    "\n",
    "# Скорость обучения для параметров\n",
    "lr_w = 0.01\n",
    "lr_b = 0.05\n",
    "\n",
    "for i in range(num_iter):\n",
    "\n",
    "    # Forward pass: предсказание модели\n",
    "    y_pred =  <...>\n",
    "\n",
    "    # Вычисление оптимизируемой функции (MSE)\n",
    "    loss = optim_func(y_pred, y)\n",
    "\n",
    "    # Bakcward pass: вычисление градиентов\n",
    "    loss.backward()\n",
    "\n",
    "    # Оптимизация: обновление параметров\n",
    "    <...>\n",
    "\n",
    "    # Зануление градиентов\n",
    "    <...>\n",
    "\n",
    "    # График + вывод MSE через каждые 5 итераций\n",
    "    if (i + 1) % 5 == 0:\n",
    "        show_progress(x, y, y_pred, loss)\n",
    "\n",
    "        if loss.item() < 33:\n",
    "            print(\"Готово!\")\n",
    "            break"
   ]
  },
  {
   "cell_type": "markdown",
   "metadata": {
    "id": "Sfdc03DaZ551"
   },
   "source": [
    "\n",
    "\n",
    "# Готовые модули из PyTorch\n",
    "\n"
   ]
  },
  {
   "cell_type": "markdown",
   "metadata": {
    "id": "BKSjnmGLZ552"
   },
   "source": [
    "Для ознакомления с высокоуровневым интерфейсом будем решать задачу классификации картинок на 10 классов на датасете CIFAR10 из 60k картинок размера 3x32x32.\n",
    "\n",
    "Скачаем картинки и посмотрим на них:"
   ]
  },
  {
   "cell_type": "code",
   "execution_count": 79,
   "metadata": {
    "colab": {
     "base_uri": "https://localhost:8080/"
    },
    "id": "EPjT_aB3Z552",
    "outputId": "a8285fd6-610e-4023-c8d5-c294e289e3ce"
   },
   "outputs": [
    {
     "name": "stdout",
     "output_type": "stream",
     "text": [
      "--2023-09-09 16:32:04--  https://raw.githubusercontent.com/riknel/ML_lectures/master/cifar.py\n",
      "Resolving raw.githubusercontent.com (raw.githubusercontent.com)... 185.199.108.133, 185.199.109.133, 185.199.110.133, ...\n",
      "Connecting to raw.githubusercontent.com (raw.githubusercontent.com)|185.199.108.133|:443... connected.\n",
      "HTTP request sent, awaiting response... 200 OK\n",
      "Length: 2397 (2.3K) [text/plain]\n",
      "Saving to: ‘cifar.py.1’\n",
      "\n",
      "\r",
      "cifar.py.1            0%[                    ]       0  --.-KB/s               \r",
      "cifar.py.1          100%[===================>]   2.34K  --.-KB/s    in 0s      \n",
      "\n",
      "2023-09-09 16:32:04 (33.1 MB/s) - ‘cifar.py.1’ saved [2397/2397]\n",
      "\n"
     ]
    }
   ],
   "source": [
    "!wget https://raw.githubusercontent.com/riknel/ML_lectures/master/cifar.py"
   ]
  },
  {
   "cell_type": "code",
   "execution_count": 80,
   "metadata": {
    "colab": {
     "base_uri": "https://localhost:8080/"
    },
    "id": "gvXdepehZ553",
    "outputId": "6ef521bc-5250-44f5-de48-f86b9df734ed"
   },
   "outputs": [
    {
     "name": "stdout",
     "output_type": "stream",
     "text": [
      "<class 'numpy.ndarray'> <class 'numpy.ndarray'>\n",
      "(40000, 3, 32, 32) (40000,)\n",
      "CPU times: user 350 ms, sys: 417 ms, total: 767 ms\n",
      "Wall time: 1.13 s\n"
     ]
    }
   ],
   "source": [
    "%%time\n",
    "from cifar import load_cifar10\n",
    "\n",
    "X_train, y_train, X_val, y_val, X_test, y_test = load_cifar10(\"cifar_data\")\n",
    "\n",
    "class_names = np.array([\n",
    "    'airplane', 'automobile', 'bird', 'cat', 'deer',\n",
    "    'dog', 'frog', 'horse', 'ship', 'truck'\n",
    "])\n",
    "\n",
    "print(type(X_train), type(y_train))\n",
    "print(X_train.shape, y_train.shape)"
   ]
  },
  {
   "cell_type": "code",
   "execution_count": 81,
   "metadata": {
    "colab": {
     "base_uri": "https://localhost:8080/",
     "height": 805
    },
    "id": "0nphUboMZ553",
    "outputId": "d0c02d5a-9f79-499e-d0cc-18b9992caee8"
   },
   "outputs": [
    {
     "data": {
      "image/png": "[encoded data removed]",
      "text/plain": [
       "<Figure size 1200x1000 with 12 Axes>"
      ]
     },
     "metadata": {},
     "output_type": "display_data"
    }
   ],
   "source": [
    "plt.figure(figsize=(12, 10))\n",
    "for i in range(12):\n",
    "    plt.subplot(3, 4, i + 1)\n",
    "    plt.axis('off')\n",
    "    plt.title(class_names[y_train[i]])\n",
    "    plt.imshow(np.transpose(X_train[i],[1, 2, 0]))"
   ]
  },
  {
   "cell_type": "markdown",
   "metadata": {
    "id": "uJTI8-xNuNn5"
   },
   "source": [
    "Обучение проходит по батчам. Поэтому нам нужно либо самим написать генератор для батчей, либо использовать уже написанный за нас класс `DataLoader`. `DataLoader` принимает в аргументах размер батча и также ему можно сказать, нужно ли перемешивать данные. Пока что сами напишем генератор:"
   ]
  },
  {
   "cell_type": "code",
   "execution_count": 82,
   "metadata": {
    "id": "1DsyODV9uSZZ"
   },
   "outputs": [],
   "source": [
    "def batch_generator(X, y, batchsize, device, shuffle=True):\n",
    "    '''\n",
    "        Генерирует tuple из батча объектов и их меток\n",
    "        X: np.ndarray -- выборка\n",
    "        y: np.ndarray -- таргет\n",
    "        batchsize: int -- размер батча\n",
    "        device: str -- утсройство, на котором будут производиться вычисления\n",
    "        shuffle: bool -- перемешивать выборку или нет\n",
    "    '''\n",
    "\n",
    "    indices = np.arange(len(X))\n",
    "\n",
    "    # Во время обучения перемешиваем, во время тестирования - нет\n",
    "    if shuffle:\n",
    "        indices = np.random.permutation(indices)\n",
    "\n",
    "    # Идем по всем данным с шагом batchsize.\n",
    "    # Возвращаем start: start + batchsize объектов на каждой итерации\n",
    "    for start in range(0, len(indices), batchsize):\n",
    "        ix = indices[start: start + batchsize]\n",
    "\n",
    "        # Переведем массивы в соотв. тензоры.\n",
    "        # Для удобства переместим выборку на наше устройство (GPU).\n",
    "        yield torch.FloatTensor(X[ix]).to(device), torch.LongTensor(y[ix]).to(device)"
   ]
  },
  {
   "cell_type": "markdown",
   "metadata": {
    "id": "QxylH-FguYwt"
   },
   "source": [
    "Главной абстракцией в PyTorch является `torch.nn.Module`.  \n",
    "По сути модуль можно понимать как нейронную сеть или ее какую-то часть. Каждый стандартный слой в PyTorch-е наследуются от `torch.nn.Module`.\n",
    "\n",
    "Модуль это нечто, что имеет метод `forward` и, возможно, `backward`. Но вообще `backward` является автоматическим (`autograd`).  Кроме того, модуль может содержать в себе другие модули."
   ]
  },
  {
   "cell_type": "code",
   "execution_count": 83,
   "metadata": {
    "colab": {
     "base_uri": "https://localhost:8080/"
    },
    "id": "MlOVxBbaub59",
    "outputId": "86f5d3f2-4683-4f71-9882-c2030eb2c055"
   },
   "outputs": [
    {
     "name": "stdout",
     "output_type": "stream",
     "text": [
      "Base class for all neural network modules.\n",
      "\n",
      "    Your models should also subclass this class.\n",
      "\n",
      "    Modules can also contain other Modules, allowing to nest them in\n",
      "    a tree structure. You can assign the submodules as regular attributes::\n",
      "\n",
      "        import torch.nn as nn\n",
      "        import torch.nn.functional as F\n",
      "\n",
      "        class Model(nn.Module):\n",
      "            def __init__(self):\n",
      "                super().__init__()\n",
      "                self.conv1 = nn.Conv2d(1, 20, 5)\n",
      "                self.conv2 = nn.Conv2d(20, 20, 5)\n",
      "\n",
      "            def forward(self, x):\n",
      "                x = F.relu(self.conv1(x))\n",
      "                return F.relu(self.conv2(x))\n",
      "\n",
      "    Submodules assigned in this way will be registered, and will have their\n",
      "    parameters converted too when you call :meth:`to`, etc.\n",
      "\n",
      "    .. note::\n",
      "        As per the example above, an ``__init__()`` call to the parent class\n",
      "        must be made before assignment on the child.\n",
      "\n",
      "    :ivar training: Boolean represents whether this module is in training or\n",
      "                    evaluation mode.\n",
      "    :vartype training: bool\n",
      "    \n"
     ]
    }
   ],
   "source": [
    "print(nn.Module.__doc__)"
   ]
  },
  {
   "cell_type": "markdown",
   "metadata": {
    "id": "qR-qt21aue1t"
   },
   "source": [
    "Часто, когда нейронная сеть не слишком сложная и последовательная, удобно пользоваться `nn.Sequential()` &mdash; последовательный контейнер из модулей. Модули, входящие в этот контейнер будут выполнятся последовательно один за другим, то есть выход одного подается на вход следующему."
   ]
  },
  {
   "cell_type": "markdown",
   "metadata": {
    "id": "4Qg_YEL_uif1"
   },
   "source": [
    "Теперь напишем саму модель, которая\n",
    "будет возвращать **логиты (logits)**. Логиты - это то, что получается **до применения SoftMax** для получения вероятностей в интервале 0-1. Они были у вас в логистической регрессии."
   ]
  },
  {
   "cell_type": "code",
   "execution_count": 84,
   "metadata": {
    "id": "vZRGN9ZCufWB"
   },
   "outputs": [],
   "source": [
    "# Создаем последовательную нейронную сеть\n",
    "model = nn.Sequential()\n",
    "\n",
    "# Преобразуем входной тензор размера batch_size x n1 x n2 x ... x nm\n",
    "# к виду batch_size x n, где  n = n1 x n2 x ... x nm\n",
    "model.add_module('flatten', nn.Flatten())\n",
    "\n",
    "# Добавляем линейный слой с выходным размером 64.\n",
    "# Размер входа равен произведению размерностей данных.\n",
    "model.add_module('linear_1', nn.Linear(3 * 32 * 32, 64))\n",
    "\n",
    "# Добавляем функцию активации ReLU\n",
    "model.add_module('relu', nn.ReLU())\n",
    "\n",
    "# Добавляем еще 1 линейный слой с выходным размером 10,\n",
    "# равным количеству классов, на выходе получаем логиты\n",
    "model.add_module('linear_2', nn.Linear(64, 10))"
   ]
  },
  {
   "cell_type": "code",
   "execution_count": 85,
   "metadata": {
    "id": "jfn18yV3uub4"
   },
   "outputs": [],
   "source": [
    "# По-другому с именами слоев\n",
    "model = nn.Sequential(OrderedDict([\n",
    "    ('flatten', nn.Flatten()),\n",
    "    ('linear_1', nn.Linear(3 * 32 * 32, 64)),\n",
    "    ('relu', nn.ReLU()),\n",
    "    ('linear_2', nn.Linear(64, 10))\n",
    "]))\n",
    "\n"
   ]
  },
  {
   "cell_type": "code",
   "execution_count": 86,
   "metadata": {
    "id": "Lmwg0o1KuymA"
   },
   "outputs": [],
   "source": [
    "# По-другому без имен слоев\n",
    "model = nn.Sequential(\n",
    "    nn.Flatten(),\n",
    "    nn.Linear(3 * 32 * 32, 64),  # 3072 x 64\n",
    "    nn.ReLU(),\n",
    "    nn.Linear(64, 10)\n",
    ")"
   ]
  },
  {
   "cell_type": "markdown",
   "metadata": {
    "id": "gU9J0q3OyZWx"
   },
   "source": []
  },
  {
   "cell_type": "code",
   "execution_count": 87,
   "metadata": {
    "colab": {
     "base_uri": "https://localhost:8080/"
    },
    "id": "aoglhMKJu1GK",
    "outputId": "edb7d1d6-b146-4587-a290-fbcf71cc7816"
   },
   "outputs": [
    {
     "data": {
      "text/plain": [
       "Sequential(\n",
       "  (0): Flatten(start_dim=1, end_dim=-1)\n",
       "  (1): Linear(in_features=3072, out_features=64, bias=True)\n",
       "  (2): ReLU()\n",
       "  (3): Linear(in_features=64, out_features=10, bias=True)\n",
       ")"
      ]
     },
     "execution_count": 87,
     "metadata": {},
     "output_type": "execute_result"
    }
   ],
   "source": [
    "model.cuda()"
   ]
  },
  {
   "cell_type": "markdown",
   "metadata": {
    "id": "WHW251CZvFVS"
   },
   "source": [
    "*Примечание:* Если вы используете имена для слоев при создании контейнера, то имена должны быть разными, иначе при встрече слоя с уже существующим именем, предыдущий слой с таким именем будет перезаписан на новый."
   ]
  },
  {
   "cell_type": "markdown",
   "metadata": {
    "id": "oXIJJ5h5vr8S"
   },
   "source": [
    "У полученной модели можно посмотреть на все ее обучаемые параметры : `model.parameters()`"
   ]
  },
  {
   "cell_type": "code",
   "execution_count": 88,
   "metadata": {
    "colab": {
     "base_uri": "https://localhost:8080/"
    },
    "id": "LeKktr6Hvt_0",
    "outputId": "a91cfdf5-b966-4802-c72b-272b6fbdcc98"
   },
   "outputs": [
    {
     "name": "stdout",
     "output_type": "stream",
     "text": [
      "Weight shapes: [torch.Size([64, 3072]), torch.Size([64]), torch.Size([10, 64]), torch.Size([10])]\n"
     ]
    }
   ],
   "source": [
    "print(\"Weight shapes:\", [w.shape for w in model.parameters()])"
   ]
  },
  {
   "cell_type": "markdown",
   "metadata": {
    "id": "V3xsqKZmvHQI"
   },
   "source": [
    "Мы создали модель, то есть научились по какому-либо входу получать выход модели. Чтобы обучить данную модель, нам нужно минимизировать эмпирический риск, то есть функцию потерь (\"лосс\"). Для этого определим его.\n",
    "\n",
    "### Объявление функции потерь (лосса)\n",
    "\n",
    "Для разных задач необходимо использовать разные функции поетрь.\n",
    "\n",
    "Пусть $n$ &mdash; размер выборки.\n",
    "- `LogLoss / BinaryCrossEntropy / BCE`: *бинарная классификация*.  \n",
    "Пусть $\\widehat{y_i} \\in (0,1), y \\in \\{0,1\\}$, тогда\n",
    "$$\n",
    "\\mathcal{L}(\\widehat{y}, y) = -\\frac{1}{n} \\sum_{i = 1}^n \\Big[ y_i \\log{\\widehat{y}_i} + (1 - y_i) \\log{(1 - \\widehat{y}_i)}\\Big]\n",
    "$$\n",
    "Обратите внимание, что в `pytorch` присутствует два варианта реализации этого лосса `BCELoss` и `BCEWithLogitsLoss`. Первый вариант принимает на вход предсказанную вероятность класса 1 (т. е. выход сети после применения сигмоиды), второй же - логит (т. е. выход сети до применения сигмоиды, а преобразование делается внутри). Второй вариант является более вычислительно стабильным.\n",
    "\n",
    "- `CrossEntropy`: *многоклассовая классификация*.  \n",
    "Пусть $\\widehat{y}_{ij} \\in (0,1)^n, y_{ij} \\in \\{0,1\\}^n$, $K$ $-$ количество классов, тогда\n",
    "$$\n",
    "\\mathcal{L}(\\widehat{y}, y) = -\\frac{1}{n} \\sum_{i = 1}^n  \\sum_{j=1}^K y_{ij} \\log\\widehat{y}_{ij}\n",
    "$$\n",
    "- `MSELoss`: *регрессия*  \n",
    "Пусть $\\widehat{y}, y \\in \\mathbb{R}$, тогда\n",
    "$$\n",
    "\\mathcal{L}(\\widehat{y}, y) = \\frac{1}{n} \\sum_{i = 1}^n  (\\widehat{y}-y)^2\n",
    "$$\n",
    "\n",
    "Мы имеем дело с многоклассовой классификацией, поэтому берем CrossEntropy."
   ]
  },
  {
   "cell_type": "code",
   "execution_count": 89,
   "metadata": {
    "id": "Rp43tfbJv2Yi"
   },
   "outputs": [],
   "source": [
    "criterion = nn.CrossEntropyLoss()"
   ]
  },
  {
   "cell_type": "markdown",
   "metadata": {
    "id": "Zofz9BZvv8T8"
   },
   "source": [
    "###  Подбираем оптимизатор\n",
    "\n",
    "В `torch.optim` лежит много разных уже готовых оптимизаторов таких как SGD, RMSprop, Adam и прочие. О них мы поговорим подробнее на следующей лекции.\n",
    "\n",
    "Оптимизатор принимает набор тензоров, по которым он будет считать градиенты и которые будет оптимизировать. Обычно это все параметры модели поэтому обычно передаем `model.parameters()`. <br>\n",
    "Сначала нам нужно сделать обратный проход посчитав все градиенты, потом мы делаем шаг и уже в конце зануляем градиенты."
   ]
  },
  {
   "cell_type": "code",
   "execution_count": 90,
   "metadata": {
    "id": "1UbTcdulwFvE"
   },
   "outputs": [],
   "source": [
    "opt = torch.optim.SGD(model.parameters(), lr=0.01)\n",
    "\n",
    "# loss.backward()      # обратный проход, считаем градиенты\n",
    "# opt.step()           # делаем шаг градиентного спуска\n",
    "# opt.zero_grad()      # зануляем градиенты"
   ]
  },
  {
   "cell_type": "markdown",
   "metadata": {
    "id": "JeoH96gZwQWf"
   },
   "source": [
    "Теперь у нас все готово для обучения.\n",
    "\n",
    "В фазе обучения мы вызываем метод `train(True)` у модели, чтобы перевести ее в фазу обучения: `model.train(True)`. В фазе тестирования ставим `model.train(False)` или `model.eval()`.\n",
    "Это влияет на:\n",
    "- поведение Dropout слоев\n",
    "- поведение BatchNorm слоев\n",
    "\n",
    "Сейчас эти слои мы не используем, но уже держим это в голове.\n",
    "\n",
    "В фазе тестирования будем использовать контекстный менеджр `torch.no_grad`, который отключает возможность подсчета градиентов. Это позволяет более экономно использовать память.\n",
    "\n",
    "По ходу обучения будем сохранять лучшую модель по метрике на валидации. Это просто делается с помощью метода `torch.save`. Рекомендуется сохранять не сам класс модели, а ее состояние (значения параметров). Подробности можно посмотреть [здесь](https://pytorch.org/tutorials/beginner/saving_loading_models.html).  Выгрузить модель можно с помощью метода `torch.load()`.\n",
    "\n"
   ]
  },
  {
   "cell_type": "code",
   "execution_count": 91,
   "metadata": {
    "colab": {
     "base_uri": "https://localhost:8080/"
    },
    "id": "fY128siTwrEX",
    "outputId": "43c56a36-3823-422f-9bde-78d82f6dd670"
   },
   "outputs": [
    {
     "name": "stdout",
     "output_type": "stream",
     "text": [
      "Epoch 1 of 100 took 1.582s\n",
      "  training loss (in-iteration): \t2.068452\n",
      "  validation loss (in-iteration): \t1.931862\n",
      "  training accuracy: \t\t\t26.41 %\n",
      "  validation accuracy: \t\t\t32.19 %\n",
      "Epoch 2 of 100 took 1.251s\n",
      "  training loss (in-iteration): \t1.892044\n",
      "  validation loss (in-iteration): \t1.856167\n",
      "  training accuracy: \t\t\t33.35 %\n",
      "  validation accuracy: \t\t\t36.14 %\n",
      "Epoch 3 of 100 took 1.066s\n",
      "  training loss (in-iteration): \t1.826419\n",
      "  validation loss (in-iteration): \t1.792377\n",
      "  training accuracy: \t\t\t35.97 %\n",
      "  validation accuracy: \t\t\t37.59 %\n",
      "Epoch 4 of 100 took 1.022s\n",
      "  training loss (in-iteration): \t1.780226\n",
      "  validation loss (in-iteration): \t1.756626\n",
      "  training accuracy: \t\t\t37.35 %\n",
      "  validation accuracy: \t\t\t38.92 %\n",
      "Epoch 5 of 100 took 1.018s\n",
      "  training loss (in-iteration): \t1.745728\n",
      "  validation loss (in-iteration): \t1.738295\n",
      "  training accuracy: \t\t\t38.60 %\n",
      "  validation accuracy: \t\t\t38.95 %\n",
      "Epoch 6 of 100 took 1.030s\n",
      "  training loss (in-iteration): \t1.713542\n",
      "  validation loss (in-iteration): \t1.696929\n",
      "  training accuracy: \t\t\t40.00 %\n",
      "  validation accuracy: \t\t\t41.09 %\n",
      "Epoch 7 of 100 took 1.041s\n",
      "  training loss (in-iteration): \t1.685622\n",
      "  validation loss (in-iteration): \t1.676359\n",
      "  training accuracy: \t\t\t40.91 %\n",
      "  validation accuracy: \t\t\t41.81 %\n",
      "Epoch 8 of 100 took 1.053s\n",
      "  training loss (in-iteration): \t1.660837\n",
      "  validation loss (in-iteration): \t1.649077\n",
      "  training accuracy: \t\t\t41.76 %\n",
      "  validation accuracy: \t\t\t42.91 %\n",
      "Epoch 9 of 100 took 1.068s\n",
      "  training loss (in-iteration): \t1.636729\n",
      "  validation loss (in-iteration): \t1.647020\n",
      "  training accuracy: \t\t\t42.73 %\n",
      "  validation accuracy: \t\t\t42.02 %\n",
      "Epoch 10 of 100 took 1.047s\n",
      "  training loss (in-iteration): \t1.618744\n",
      "  validation loss (in-iteration): \t1.609120\n",
      "  training accuracy: \t\t\t43.50 %\n",
      "  validation accuracy: \t\t\t44.31 %\n",
      "Epoch 11 of 100 took 1.065s\n",
      "  training loss (in-iteration): \t1.598108\n",
      "  validation loss (in-iteration): \t1.604498\n",
      "  training accuracy: \t\t\t43.93 %\n",
      "  validation accuracy: \t\t\t44.41 %\n",
      "Epoch 12 of 100 took 1.167s\n",
      "  training loss (in-iteration): \t1.580940\n",
      "  validation loss (in-iteration): \t1.636116\n",
      "  training accuracy: \t\t\t44.77 %\n",
      "  validation accuracy: \t\t\t42.42 %\n",
      "Epoch 13 of 100 took 1.214s\n",
      "  training loss (in-iteration): \t1.565949\n",
      "  validation loss (in-iteration): \t1.600616\n",
      "  training accuracy: \t\t\t45.12 %\n",
      "  validation accuracy: \t\t\t44.07 %\n",
      "Epoch 14 of 100 took 1.096s\n",
      "  training loss (in-iteration): \t1.552862\n",
      "  validation loss (in-iteration): \t1.562390\n",
      "  training accuracy: \t\t\t45.62 %\n",
      "  validation accuracy: \t\t\t45.79 %\n",
      "Epoch 15 of 100 took 1.031s\n",
      "  training loss (in-iteration): \t1.540070\n",
      "  validation loss (in-iteration): \t1.550867\n",
      "  training accuracy: \t\t\t46.15 %\n",
      "  validation accuracy: \t\t\t45.87 %\n",
      "Epoch 16 of 100 took 1.071s\n",
      "  training loss (in-iteration): \t1.528132\n",
      "  validation loss (in-iteration): \t1.556134\n",
      "  training accuracy: \t\t\t46.62 %\n",
      "  validation accuracy: \t\t\t46.13 %\n",
      "Epoch 17 of 100 took 1.046s\n",
      "  training loss (in-iteration): \t1.515927\n",
      "  validation loss (in-iteration): \t1.567556\n",
      "  training accuracy: \t\t\t46.81 %\n",
      "  validation accuracy: \t\t\t45.77 %\n",
      "Epoch 18 of 100 took 1.045s\n",
      "  training loss (in-iteration): \t1.507714\n",
      "  validation loss (in-iteration): \t1.531619\n",
      "  training accuracy: \t\t\t46.98 %\n",
      "  validation accuracy: \t\t\t46.52 %\n",
      "Epoch 19 of 100 took 1.060s\n",
      "  training loss (in-iteration): \t1.496792\n",
      "  validation loss (in-iteration): \t1.550375\n",
      "  training accuracy: \t\t\t47.41 %\n",
      "  validation accuracy: \t\t\t45.70 %\n",
      "Epoch 20 of 100 took 1.063s\n",
      "  training loss (in-iteration): \t1.485559\n",
      "  validation loss (in-iteration): \t1.540120\n",
      "  training accuracy: \t\t\t47.80 %\n",
      "  validation accuracy: \t\t\t46.02 %\n",
      "Epoch 21 of 100 took 1.061s\n",
      "  training loss (in-iteration): \t1.478339\n",
      "  validation loss (in-iteration): \t1.525580\n",
      "  training accuracy: \t\t\t48.14 %\n",
      "  validation accuracy: \t\t\t46.63 %\n",
      "Epoch 22 of 100 took 1.021s\n",
      "  training loss (in-iteration): \t1.469764\n",
      "  validation loss (in-iteration): \t1.527782\n",
      "  training accuracy: \t\t\t48.47 %\n",
      "  validation accuracy: \t\t\t46.90 %\n",
      "Epoch 23 of 100 took 1.133s\n",
      "  training loss (in-iteration): \t1.462165\n",
      "  validation loss (in-iteration): \t1.497514\n",
      "  training accuracy: \t\t\t48.63 %\n",
      "  validation accuracy: \t\t\t47.78 %\n",
      "Epoch 24 of 100 took 1.168s\n",
      "  training loss (in-iteration): \t1.455400\n",
      "  validation loss (in-iteration): \t1.515643\n",
      "  training accuracy: \t\t\t49.20 %\n",
      "  validation accuracy: \t\t\t46.81 %\n",
      "Epoch 25 of 100 took 1.167s\n",
      "  training loss (in-iteration): \t1.447929\n",
      "  validation loss (in-iteration): \t1.497904\n",
      "  training accuracy: \t\t\t49.22 %\n",
      "  validation accuracy: \t\t\t47.41 %\n",
      "Epoch 26 of 100 took 1.060s\n",
      "  training loss (in-iteration): \t1.440417\n",
      "  validation loss (in-iteration): \t1.540233\n",
      "  training accuracy: \t\t\t49.44 %\n",
      "  validation accuracy: \t\t\t45.93 %\n",
      "Epoch 27 of 100 took 1.051s\n",
      "  training loss (in-iteration): \t1.435009\n",
      "  validation loss (in-iteration): \t1.477183\n",
      "  training accuracy: \t\t\t49.54 %\n",
      "  validation accuracy: \t\t\t48.20 %\n",
      "Epoch 28 of 100 took 1.048s\n",
      "  training loss (in-iteration): \t1.428889\n",
      "  validation loss (in-iteration): \t1.483592\n",
      "  training accuracy: \t\t\t49.80 %\n",
      "  validation accuracy: \t\t\t48.32 %\n",
      "Epoch 29 of 100 took 1.034s\n",
      "  training loss (in-iteration): \t1.421088\n",
      "  validation loss (in-iteration): \t1.482485\n",
      "  training accuracy: \t\t\t50.02 %\n",
      "  validation accuracy: \t\t\t48.28 %\n",
      "Epoch 30 of 100 took 1.060s\n",
      "  training loss (in-iteration): \t1.416411\n",
      "  validation loss (in-iteration): \t1.487179\n",
      "  training accuracy: \t\t\t50.17 %\n",
      "  validation accuracy: \t\t\t48.04 %\n",
      "Epoch 31 of 100 took 1.025s\n",
      "  training loss (in-iteration): \t1.406565\n",
      "  validation loss (in-iteration): \t1.468694\n",
      "  training accuracy: \t\t\t50.68 %\n",
      "  validation accuracy: \t\t\t49.00 %\n",
      "Epoch 32 of 100 took 1.056s\n",
      "  training loss (in-iteration): \t1.402215\n",
      "  validation loss (in-iteration): \t1.466581\n",
      "  training accuracy: \t\t\t50.59 %\n",
      "  validation accuracy: \t\t\t48.60 %\n",
      "Epoch 33 of 100 took 1.056s\n",
      "  training loss (in-iteration): \t1.397704\n",
      "  validation loss (in-iteration): \t1.471150\n",
      "  training accuracy: \t\t\t50.77 %\n",
      "  validation accuracy: \t\t\t48.73 %\n",
      "Epoch 34 of 100 took 1.054s\n",
      "  training loss (in-iteration): \t1.393690\n",
      "  validation loss (in-iteration): \t1.478815\n",
      "  training accuracy: \t\t\t50.96 %\n",
      "  validation accuracy: \t\t\t48.38 %\n",
      "Epoch 35 of 100 took 1.177s\n",
      "  training loss (in-iteration): \t1.385553\n",
      "  validation loss (in-iteration): \t1.463773\n",
      "  training accuracy: \t\t\t51.27 %\n",
      "  validation accuracy: \t\t\t48.55 %\n",
      "Epoch 36 of 100 took 1.168s\n",
      "  training loss (in-iteration): \t1.381410\n",
      "  validation loss (in-iteration): \t1.492354\n",
      "  training accuracy: \t\t\t51.48 %\n",
      "  validation accuracy: \t\t\t47.43 %\n",
      "Epoch 37 of 100 took 1.084s\n",
      "  training loss (in-iteration): \t1.377499\n",
      "  validation loss (in-iteration): \t1.461011\n",
      "  training accuracy: \t\t\t51.78 %\n",
      "  validation accuracy: \t\t\t48.52 %\n",
      "Epoch 38 of 100 took 1.059s\n",
      "  training loss (in-iteration): \t1.370058\n",
      "  validation loss (in-iteration): \t1.463981\n",
      "  training accuracy: \t\t\t51.92 %\n",
      "  validation accuracy: \t\t\t48.30 %\n",
      "Epoch 39 of 100 took 1.053s\n",
      "  training loss (in-iteration): \t1.367366\n",
      "  validation loss (in-iteration): \t1.454801\n",
      "  training accuracy: \t\t\t52.02 %\n",
      "  validation accuracy: \t\t\t49.23 %\n",
      "Epoch 40 of 100 took 1.087s\n",
      "  training loss (in-iteration): \t1.359986\n",
      "  validation loss (in-iteration): \t1.454943\n",
      "  training accuracy: \t\t\t52.41 %\n",
      "  validation accuracy: \t\t\t48.99 %\n",
      "Epoch 41 of 100 took 1.089s\n",
      "  training loss (in-iteration): \t1.359423\n",
      "  validation loss (in-iteration): \t1.450228\n",
      "  training accuracy: \t\t\t52.30 %\n",
      "  validation accuracy: \t\t\t49.02 %\n",
      "Epoch 42 of 100 took 1.086s\n",
      "  training loss (in-iteration): \t1.352558\n",
      "  validation loss (in-iteration): \t1.441437\n",
      "  training accuracy: \t\t\t52.40 %\n",
      "  validation accuracy: \t\t\t49.05 %\n",
      "Epoch 43 of 100 took 1.050s\n",
      "  training loss (in-iteration): \t1.347964\n",
      "  validation loss (in-iteration): \t1.531904\n",
      "  training accuracy: \t\t\t52.75 %\n",
      "  validation accuracy: \t\t\t46.63 %\n",
      "Epoch 44 of 100 took 1.055s\n",
      "  training loss (in-iteration): \t1.342412\n",
      "  validation loss (in-iteration): \t1.427639\n",
      "  training accuracy: \t\t\t52.98 %\n",
      "  validation accuracy: \t\t\t49.66 %\n",
      "Epoch 45 of 100 took 1.060s\n",
      "  training loss (in-iteration): \t1.338792\n",
      "  validation loss (in-iteration): \t1.448312\n",
      "  training accuracy: \t\t\t53.15 %\n",
      "  validation accuracy: \t\t\t48.90 %\n",
      "Epoch 46 of 100 took 1.202s\n",
      "  training loss (in-iteration): \t1.332620\n",
      "  validation loss (in-iteration): \t1.454877\n",
      "  training accuracy: \t\t\t53.34 %\n",
      "  validation accuracy: \t\t\t48.82 %\n",
      "Epoch 47 of 100 took 1.228s\n",
      "  training loss (in-iteration): \t1.332341\n",
      "  validation loss (in-iteration): \t1.477173\n",
      "  training accuracy: \t\t\t53.23 %\n",
      "  validation accuracy: \t\t\t48.16 %\n",
      "Epoch 48 of 100 took 1.050s\n",
      "  training loss (in-iteration): \t1.327439\n",
      "  validation loss (in-iteration): \t1.429890\n",
      "  training accuracy: \t\t\t53.64 %\n",
      "  validation accuracy: \t\t\t49.57 %\n",
      "Epoch 49 of 100 took 1.068s\n",
      "  training loss (in-iteration): \t1.320364\n",
      "  validation loss (in-iteration): \t1.444798\n",
      "  training accuracy: \t\t\t53.83 %\n",
      "  validation accuracy: \t\t\t49.49 %\n",
      "Epoch 50 of 100 took 1.060s\n",
      "  training loss (in-iteration): \t1.316912\n",
      "  validation loss (in-iteration): \t1.442134\n",
      "  training accuracy: \t\t\t53.71 %\n",
      "  validation accuracy: \t\t\t49.63 %\n",
      "Epoch 51 of 100 took 1.063s\n",
      "  training loss (in-iteration): \t1.314151\n",
      "  validation loss (in-iteration): \t1.440538\n",
      "  training accuracy: \t\t\t54.00 %\n",
      "  validation accuracy: \t\t\t49.08 %\n",
      "Epoch 52 of 100 took 1.039s\n",
      "  training loss (in-iteration): \t1.310318\n",
      "  validation loss (in-iteration): \t1.459349\n",
      "  training accuracy: \t\t\t54.14 %\n",
      "  validation accuracy: \t\t\t48.56 %\n",
      "Epoch 53 of 100 took 1.064s\n",
      "  training loss (in-iteration): \t1.305135\n",
      "  validation loss (in-iteration): \t1.470947\n",
      "  training accuracy: \t\t\t54.30 %\n",
      "  validation accuracy: \t\t\t48.70 %\n",
      "Epoch 54 of 100 took 1.046s\n",
      "  training loss (in-iteration): \t1.303776\n",
      "  validation loss (in-iteration): \t1.472823\n",
      "  training accuracy: \t\t\t54.13 %\n",
      "  validation accuracy: \t\t\t48.04 %\n",
      "Epoch 55 of 100 took 1.054s\n",
      "  training loss (in-iteration): \t1.299451\n",
      "  validation loss (in-iteration): \t1.432953\n",
      "  training accuracy: \t\t\t54.59 %\n",
      "  validation accuracy: \t\t\t49.54 %\n",
      "Epoch 56 of 100 took 1.051s\n",
      "  training loss (in-iteration): \t1.294732\n",
      "  validation loss (in-iteration): \t1.421351\n",
      "  training accuracy: \t\t\t54.80 %\n",
      "  validation accuracy: \t\t\t50.26 %\n",
      "Epoch 57 of 100 took 1.162s\n",
      "  training loss (in-iteration): \t1.288703\n",
      "  validation loss (in-iteration): \t1.448272\n",
      "  training accuracy: \t\t\t54.78 %\n",
      "  validation accuracy: \t\t\t49.36 %\n",
      "Epoch 58 of 100 took 1.250s\n",
      "  training loss (in-iteration): \t1.293229\n",
      "  validation loss (in-iteration): \t1.478238\n",
      "  training accuracy: \t\t\t54.81 %\n",
      "  validation accuracy: \t\t\t47.95 %\n",
      "Epoch 59 of 100 took 1.099s\n",
      "  training loss (in-iteration): \t1.286892\n",
      "  validation loss (in-iteration): \t1.436652\n",
      "  training accuracy: \t\t\t54.91 %\n",
      "  validation accuracy: \t\t\t49.55 %\n",
      "Epoch 60 of 100 took 1.056s\n",
      "  training loss (in-iteration): \t1.285392\n",
      "  validation loss (in-iteration): \t1.423765\n",
      "  training accuracy: \t\t\t55.00 %\n",
      "  validation accuracy: \t\t\t50.07 %\n",
      "Epoch 61 of 100 took 1.085s\n",
      "  training loss (in-iteration): \t1.280064\n",
      "  validation loss (in-iteration): \t1.413054\n",
      "  training accuracy: \t\t\t55.17 %\n",
      "  validation accuracy: \t\t\t50.43 %\n",
      "Epoch 62 of 100 took 1.087s\n",
      "  training loss (in-iteration): \t1.273456\n",
      "  validation loss (in-iteration): \t1.421591\n",
      "  training accuracy: \t\t\t55.51 %\n",
      "  validation accuracy: \t\t\t49.86 %\n",
      "Epoch 63 of 100 took 1.393s\n",
      "  training loss (in-iteration): \t1.274815\n",
      "  validation loss (in-iteration): \t1.430076\n",
      "  training accuracy: \t\t\t55.40 %\n",
      "  validation accuracy: \t\t\t49.88 %\n",
      "Epoch 64 of 100 took 1.077s\n",
      "  training loss (in-iteration): \t1.268905\n",
      "  validation loss (in-iteration): \t1.436690\n",
      "  training accuracy: \t\t\t55.55 %\n",
      "  validation accuracy: \t\t\t49.86 %\n",
      "Epoch 65 of 100 took 1.044s\n",
      "  training loss (in-iteration): \t1.267099\n",
      "  validation loss (in-iteration): \t1.454182\n",
      "  training accuracy: \t\t\t55.57 %\n",
      "  validation accuracy: \t\t\t49.00 %\n",
      "Epoch 66 of 100 took 1.045s\n",
      "  training loss (in-iteration): \t1.263673\n",
      "  validation loss (in-iteration): \t1.423845\n",
      "  training accuracy: \t\t\t55.85 %\n",
      "  validation accuracy: \t\t\t50.20 %\n",
      "Epoch 67 of 100 took 1.042s\n",
      "  training loss (in-iteration): \t1.260421\n",
      "  validation loss (in-iteration): \t1.421551\n",
      "  training accuracy: \t\t\t55.81 %\n",
      "  validation accuracy: \t\t\t49.91 %\n",
      "Epoch 68 of 100 took 1.147s\n",
      "  training loss (in-iteration): \t1.257670\n",
      "  validation loss (in-iteration): \t1.423413\n",
      "  training accuracy: \t\t\t56.03 %\n",
      "  validation accuracy: \t\t\t50.28 %\n",
      "Epoch 69 of 100 took 1.199s\n",
      "  training loss (in-iteration): \t1.256266\n",
      "  validation loss (in-iteration): \t1.450702\n",
      "  training accuracy: \t\t\t56.00 %\n",
      "  validation accuracy: \t\t\t49.62 %\n",
      "Epoch 70 of 100 took 1.075s\n",
      "  training loss (in-iteration): \t1.252359\n",
      "  validation loss (in-iteration): \t1.431359\n",
      "  training accuracy: \t\t\t56.38 %\n",
      "  validation accuracy: \t\t\t49.70 %\n",
      "Epoch 71 of 100 took 1.040s\n",
      "  training loss (in-iteration): \t1.248424\n",
      "  validation loss (in-iteration): \t1.409919\n",
      "  training accuracy: \t\t\t56.20 %\n",
      "  validation accuracy: \t\t\t50.85 %\n",
      "Epoch 72 of 100 took 1.045s\n",
      "  training loss (in-iteration): \t1.244595\n",
      "  validation loss (in-iteration): \t1.445039\n",
      "  training accuracy: \t\t\t56.45 %\n",
      "  validation accuracy: \t\t\t49.37 %\n",
      "Epoch 73 of 100 took 1.035s\n",
      "  training loss (in-iteration): \t1.242636\n",
      "  validation loss (in-iteration): \t1.428605\n",
      "  training accuracy: \t\t\t56.47 %\n",
      "  validation accuracy: \t\t\t50.31 %\n",
      "Epoch 74 of 100 took 1.067s\n",
      "  training loss (in-iteration): \t1.239378\n",
      "  validation loss (in-iteration): \t1.427741\n",
      "  training accuracy: \t\t\t56.48 %\n",
      "  validation accuracy: \t\t\t50.56 %\n",
      "Epoch 75 of 100 took 1.089s\n",
      "  training loss (in-iteration): \t1.240784\n",
      "  validation loss (in-iteration): \t1.447438\n",
      "  training accuracy: \t\t\t56.77 %\n",
      "  validation accuracy: \t\t\t49.78 %\n",
      "Epoch 76 of 100 took 1.069s\n",
      "  training loss (in-iteration): \t1.239509\n",
      "  validation loss (in-iteration): \t1.480561\n",
      "  training accuracy: \t\t\t56.57 %\n",
      "  validation accuracy: \t\t\t47.89 %\n",
      "Epoch 77 of 100 took 1.048s\n",
      "  training loss (in-iteration): \t1.234941\n",
      "  validation loss (in-iteration): \t1.425936\n",
      "  training accuracy: \t\t\t56.87 %\n",
      "  validation accuracy: \t\t\t50.21 %\n",
      "Epoch 78 of 100 took 1.042s\n",
      "  training loss (in-iteration): \t1.232948\n",
      "  validation loss (in-iteration): \t1.417086\n",
      "  training accuracy: \t\t\t56.78 %\n",
      "  validation accuracy: \t\t\t50.74 %\n",
      "Epoch 79 of 100 took 1.112s\n",
      "  training loss (in-iteration): \t1.228772\n",
      "  validation loss (in-iteration): \t1.404467\n",
      "  training accuracy: \t\t\t56.99 %\n",
      "  validation accuracy: \t\t\t51.08 %\n",
      "Epoch 80 of 100 took 1.180s\n",
      "  training loss (in-iteration): \t1.226005\n",
      "  validation loss (in-iteration): \t1.422244\n",
      "  training accuracy: \t\t\t57.19 %\n",
      "  validation accuracy: \t\t\t50.21 %\n",
      "Epoch 81 of 100 took 1.124s\n",
      "  training loss (in-iteration): \t1.220400\n",
      "  validation loss (in-iteration): \t1.421410\n",
      "  training accuracy: \t\t\t57.66 %\n",
      "  validation accuracy: \t\t\t50.13 %\n",
      "Epoch 82 of 100 took 1.056s\n",
      "  training loss (in-iteration): \t1.220474\n",
      "  validation loss (in-iteration): \t1.438968\n",
      "  training accuracy: \t\t\t57.34 %\n",
      "  validation accuracy: \t\t\t50.23 %\n",
      "Epoch 83 of 100 took 1.044s\n",
      "  training loss (in-iteration): \t1.219708\n",
      "  validation loss (in-iteration): \t1.472140\n",
      "  training accuracy: \t\t\t57.00 %\n",
      "  validation accuracy: \t\t\t49.21 %\n",
      "Epoch 84 of 100 took 1.023s\n",
      "  training loss (in-iteration): \t1.214081\n",
      "  validation loss (in-iteration): \t1.453778\n",
      "  training accuracy: \t\t\t57.41 %\n",
      "  validation accuracy: \t\t\t50.11 %\n",
      "Epoch 85 of 100 took 1.060s\n",
      "  training loss (in-iteration): \t1.210479\n",
      "  validation loss (in-iteration): \t1.461913\n",
      "  training accuracy: \t\t\t57.74 %\n",
      "  validation accuracy: \t\t\t49.61 %\n",
      "Epoch 86 of 100 took 1.070s\n",
      "  training loss (in-iteration): \t1.211531\n",
      "  validation loss (in-iteration): \t1.404553\n",
      "  training accuracy: \t\t\t57.40 %\n",
      "  validation accuracy: \t\t\t50.87 %\n",
      "Epoch 87 of 100 took 1.049s\n",
      "  training loss (in-iteration): \t1.206494\n",
      "  validation loss (in-iteration): \t1.427476\n",
      "  training accuracy: \t\t\t57.61 %\n",
      "  validation accuracy: \t\t\t50.92 %\n",
      "Epoch 88 of 100 took 1.044s\n",
      "  training loss (in-iteration): \t1.202503\n",
      "  validation loss (in-iteration): \t1.463956\n",
      "  training accuracy: \t\t\t58.03 %\n",
      "  validation accuracy: \t\t\t49.59 %\n",
      "Epoch 89 of 100 took 1.037s\n",
      "  training loss (in-iteration): \t1.200619\n",
      "  validation loss (in-iteration): \t1.438645\n",
      "  training accuracy: \t\t\t58.07 %\n",
      "  validation accuracy: \t\t\t50.03 %\n",
      "Epoch 90 of 100 took 1.150s\n",
      "  training loss (in-iteration): \t1.202767\n",
      "  validation loss (in-iteration): \t1.420803\n",
      "  training accuracy: \t\t\t57.82 %\n",
      "  validation accuracy: \t\t\t51.07 %\n",
      "Epoch 91 of 100 took 2.668s\n",
      "  training loss (in-iteration): \t1.200317\n",
      "  validation loss (in-iteration): \t1.426990\n",
      "  training accuracy: \t\t\t58.05 %\n",
      "  validation accuracy: \t\t\t50.30 %\n",
      "Epoch 92 of 100 took 1.659s\n",
      "  training loss (in-iteration): \t1.196074\n",
      "  validation loss (in-iteration): \t1.452888\n",
      "  training accuracy: \t\t\t58.25 %\n",
      "  validation accuracy: \t\t\t49.46 %\n",
      "Epoch 93 of 100 took 1.654s\n",
      "  training loss (in-iteration): \t1.192344\n",
      "  validation loss (in-iteration): \t1.418227\n",
      "  training accuracy: \t\t\t58.35 %\n",
      "  validation accuracy: \t\t\t51.03 %\n",
      "Epoch 94 of 100 took 1.822s\n",
      "  training loss (in-iteration): \t1.190185\n",
      "  validation loss (in-iteration): \t1.435199\n",
      "  training accuracy: \t\t\t58.44 %\n",
      "  validation accuracy: \t\t\t50.11 %\n",
      "Epoch 95 of 100 took 1.621s\n",
      "  training loss (in-iteration): \t1.186055\n",
      "  validation loss (in-iteration): \t1.442507\n",
      "  training accuracy: \t\t\t58.56 %\n",
      "  validation accuracy: \t\t\t50.42 %\n",
      "Epoch 96 of 100 took 1.749s\n",
      "  training loss (in-iteration): \t1.188723\n",
      "  validation loss (in-iteration): \t1.441074\n",
      "  training accuracy: \t\t\t58.53 %\n",
      "  validation accuracy: \t\t\t49.82 %\n",
      "Epoch 97 of 100 took 2.214s\n",
      "  training loss (in-iteration): \t1.189557\n",
      "  validation loss (in-iteration): \t1.452575\n",
      "  training accuracy: \t\t\t58.59 %\n",
      "  validation accuracy: \t\t\t49.75 %\n",
      "Epoch 98 of 100 took 2.107s\n",
      "  training loss (in-iteration): \t1.180287\n",
      "  validation loss (in-iteration): \t1.486361\n",
      "  training accuracy: \t\t\t58.89 %\n",
      "  validation accuracy: \t\t\t48.80 %\n",
      "Epoch 99 of 100 took 2.021s\n",
      "  training loss (in-iteration): \t1.177958\n",
      "  validation loss (in-iteration): \t1.448807\n",
      "  training accuracy: \t\t\t58.67 %\n",
      "  validation accuracy: \t\t\t50.15 %\n",
      "Epoch 100 of 100 took 1.897s\n",
      "  training loss (in-iteration): \t1.177653\n",
      "  validation loss (in-iteration): \t1.430014\n",
      "  training accuracy: \t\t\t58.71 %\n",
      "  validation accuracy: \t\t\t50.77 %\n"
     ]
    }
   ],
   "source": [
    "num_epochs = 100  # общее кол-во полных проходов (\"эпох\") по обучаемым данным\n",
    "batch_size = 64  # кол-во объектов в одном батче\n",
    "\n",
    "num_train_batches = len(X_train) // batch_size\n",
    "num_val_batches = len(X_val) // batch_size\n",
    "\n",
    "history = defaultdict(lambda: defaultdict(list))\n",
    "\n",
    "best_val_acc = 0.\n",
    "\n",
    "for epoch in range(num_epochs):\n",
    "    train_loss = 0\n",
    "    train_acc = 0\n",
    "    val_loss = 0\n",
    "    val_acc = 0\n",
    "\n",
    "    start_time = time.time()\n",
    "\n",
    "    # Устанавливаем поведение dropout / batch_norm  в обучение\n",
    "    model.train(True)\n",
    "\n",
    "    # На каждой \"эпохе\" делаем полный проход по данным\n",
    "    for X_batch, y_batch in batch_generator(X_train, y_train, batch_size, device=device):\n",
    "\n",
    "        # Обучаемся на батче (одна \"итерация\" обучения нейросети)\n",
    "        logits = model(X_batch)\n",
    "        loss = criterion(logits, y_batch)\n",
    "        # Обратный проход, шаг оптимизатора и зануление градиентов\n",
    "        loss.backward()\n",
    "        opt.step()\n",
    "        opt.zero_grad()\n",
    "\n",
    "        # Используйте методы тензоров:\n",
    "        # detach -- для отключения подсчета градиентов\n",
    "        # cpu -- для перехода на cpu\n",
    "        # numpy -- чтобы получить numpy массив\n",
    "        train_loss += loss.detach().cpu().numpy()\n",
    "        y_pred_np = np.argmax(logits.detach().cpu().numpy(), axis=1)\n",
    "        y_batch_np = y_batch.cpu().numpy()\n",
    "        train_acc += (y_batch_np == y_pred_np).sum()\n",
    "\n",
    "    # Подсчитываем лоссы и сохраням в \"историю\"\n",
    "    train_loss /= num_train_batches\n",
    "    train_acc /= num_train_batches * batch_size\n",
    "    history['loss']['train'].append(train_loss)\n",
    "    history['acc']['train'].append(train_acc)\n",
    "\n",
    "    # Устанавливаем поведение dropout / batch_norm  в тестирование\n",
    "    model.eval()\n",
    "\n",
    "    # Полный проход по валидации\n",
    "    with torch.no_grad(): # Отключаем подсчет градиентов, то есть detach не нужен\n",
    "        for X_batch, y_batch in batch_generator(X_val, y_val, batch_size, device=device):\n",
    "            logits = model(X_batch)\n",
    "            loss = criterion(logits, y_batch)\n",
    "\n",
    "            val_loss += loss.cpu().numpy().sum()\n",
    "            y_pred_np = np.argmax(logits.cpu().numpy(), axis=1)\n",
    "            y_batch_np = y_batch.cpu().numpy()\n",
    "            val_acc += (y_batch_np == y_pred_np).sum()\n",
    "\n",
    "    # Подсчитываем лоссы и сохраням в \"историю\"\n",
    "    val_loss /= num_val_batches\n",
    "    val_acc /= num_val_batches * batch_size\n",
    "    history['loss']['val'].append(val_loss)\n",
    "    history['acc']['val'].append(val_acc)\n",
    "\n",
    "    # Сохраняем лучшую модель по метрике на валидации\n",
    "    if val_acc > best_val_acc:\n",
    "        torch.save(model.state_dict(), 'first_model.pth')\n",
    "\n",
    "    # Печатаем результаты после каждой эпохи\n",
    "    print(\"Epoch {} of {} took {:.3f}s\".format(\n",
    "        epoch + 1, num_epochs, time.time() - start_time))\n",
    "    print(\"  training loss (in-iteration): \\t{:.6f}\".format(train_loss))\n",
    "    print(\"  validation loss (in-iteration): \\t{:.6f}\".format(val_loss))\n",
    "    print(\"  training accuracy: \\t\\t\\t{:.2f} %\".format(train_acc * 100))\n",
    "    print(\"  validation accuracy: \\t\\t\\t{:.2f} %\".format(val_acc * 100))"
   ]
  },
  {
   "cell_type": "markdown",
   "metadata": {
    "id": "GXeZaO3Jwt19"
   },
   "source": [
    "Построим кривые обучения (learning curves):"
   ]
  },
  {
   "cell_type": "code",
   "execution_count": 92,
   "metadata": {
    "colab": {
     "base_uri": "https://localhost:8080/",
     "height": 573
    },
    "id": "icxbpRmGwvaN",
    "outputId": "47a4ea1e-5c35-42bf-f0c2-6c20a2cf2235"
   },
   "outputs": [
    {
     "data": {
      "image/png": "[encoded data removed]",
      "text/plain": [
       "<Figure size 2000x700 with 2 Axes>"
      ]
     },
     "metadata": {},
     "output_type": "display_data"
    }
   ],
   "source": [
    "fig = plt.figure(figsize=(20,7))\n",
    "\n",
    "plt.subplot(1,2,1)\n",
    "plt.title('Лосс', fontsize=15)\n",
    "plt.plot(history['loss']['train'], label='train')\n",
    "plt.plot(history['loss']['val'], label='val')\n",
    "plt.xlabel('эпоха', fontsize=15)\n",
    "plt.legend()\n",
    "\n",
    "plt.subplot(1,2,2)\n",
    "plt.title('Точность', fontsize=15)\n",
    "plt.plot(history['acc']['train'], label='train')\n",
    "plt.plot(history['acc']['val'], label='val')\n",
    "plt.xlabel('эпоха', fontsize=15)\n",
    "plt.legend();"
   ]
  },
  {
   "cell_type": "markdown",
   "metadata": {
    "id": "Up7Q1fQwwq5K"
   },
   "source": [
    "**Заметки**\n",
    "* Не забывайте **занулять градиенты** после каждой итерации.\n",
    "* Если ваш loss стал `nan`/`inf`, то повыводите то, что происходит на каждой итерации и поймите в каком именно месте проблема.\n",
    "* Если ваш loss уменьшался, а потом стал равен `nan`, то попробуйте уменьшить `learning rate`."
   ]
  },
  {
   "cell_type": "markdown",
   "metadata": {
    "id": "o3R3gWMWxFD3"
   },
   "source": [
    "Сделаем аналогичную модель, только с 3 слоями, вместо 2, и в виде модуля, а не Sequential-модели. Заметим, что здесь наша модель - это модуль, который наследуется от `nn.Module` и содержит в себе другие модули, такие как `nn.Linear`.\n",
    "\n",
    "Как было сказано выше, модуль должен обязательно иметь метод `forward()`, который мы сами определяем. Метод `backward()`является необязательным, PyTorch сможет сам понять, что делать при обратном проходе."
   ]
  },
  {
   "cell_type": "code",
   "execution_count": 93,
   "metadata": {
    "id": "JfJ__vpsxHr3"
   },
   "outputs": [],
   "source": [
    "class MySimpleModel(nn.Module):\n",
    "    def __init__(self):\n",
    "        '''\n",
    "        Здесь объявляем все слои, которые будем использовать\n",
    "        '''\n",
    "        super(MySimpleModel, self).__init__()\n",
    "        self.linear1 = nn.Linear(3 * 32 * 32, 256)\n",
    "        self.linear2 = nn.Linear(256, 64)\n",
    "        self.linear3 = nn.Linear(64, 10)\n",
    "\n",
    "    def forward(self, x):\n",
    "        '''\n",
    "        Здесь пишем в коде, в каком порядке какой слой будет применяться\n",
    "        '''\n",
    "        x = self.linear1(nn.Flatten()(x))\n",
    "        x = self.linear2(nn.ReLU()(x))\n",
    "        x = self.linear3(nn.ReLU()(x))\n",
    "        return x"
   ]
  },
  {
   "cell_type": "code",
   "execution_count": 94,
   "metadata": {
    "id": "nOnwIErhxLO5"
   },
   "outputs": [],
   "source": [
    "###### 1. Обернем цикл обучения нейросети в отдельную функцию ######\n",
    "\n",
    "def train(\n",
    "    model,\n",
    "    criterion,\n",
    "    optimizer,\n",
    "    X_train, y_train,\n",
    "    X_val, y_val,\n",
    "    num_epochs=100,\n",
    "    batch_size=64,\n",
    "    model_path='model.pth'\n",
    "):\n",
    "    \"\"\"\n",
    "    # Обучение модели\n",
    "    \"\"\"\n",
    "\n",
    "    num_train_batches = len(X_train) // batch_size\n",
    "    num_val_batches = len(X_val) // batch_size\n",
    "\n",
    "    history = defaultdict(lambda: defaultdict(list))\n",
    "\n",
    "    best_val_acc = 0.\n",
    "\n",
    "    for epoch in range(num_epochs):\n",
    "        train_loss = 0\n",
    "        train_acc = 0\n",
    "        val_loss = 0\n",
    "        val_acc = 0\n",
    "\n",
    "        start_time = time.time()\n",
    "\n",
    "        model.train(True)  # устанавливаем поведение dropout / batch_norm  в обучение\n",
    "\n",
    "        # На каждой \"эпохе\" делаем полный проход по данным\n",
    "        for X_batch, y_batch in batch_generator(X_train, y_train, batch_size, device=device):\n",
    "\n",
    "            # Обучаемся на батче (одна \"итерация\" обучения нейросети)\n",
    "            logits = model(X_batch)\n",
    "\n",
    "            loss = criterion(logits, y_batch)\n",
    "\n",
    "            loss.backward()\n",
    "            optimizer.step()\n",
    "            optimizer.zero_grad()\n",
    "\n",
    "            train_loss += loss.detach().cpu().numpy()\n",
    "            y_pred_np = np.argmax(logits.detach().cpu().numpy(), axis=1)\n",
    "            y_batch_np = y_batch.cpu().numpy()\n",
    "            train_acc += (y_batch_np == y_pred_np).sum()\n",
    "\n",
    "        # Подсчитываем лоссы и сохраням в \"историю\"\n",
    "        train_loss /= num_train_batches\n",
    "        train_acc /= num_train_batches * batch_size\n",
    "        history['loss']['train'].append(train_loss)\n",
    "        history['acc']['train'].append(train_acc)\n",
    "\n",
    "        # Устанавливаем поведение dropout / batch_norm  в тестирование\n",
    "        model.eval()\n",
    "\n",
    "        # Полный проход по валидации\n",
    "        with torch.no_grad():\n",
    "            for X_batch, y_batch in batch_generator(X_val, y_val, batch_size, device=device):\n",
    "                logits = model(X_batch)\n",
    "                loss = criterion(logits, y_batch)\n",
    "\n",
    "                val_loss += loss.cpu().numpy()\n",
    "                y_pred_np = np.argmax(logits.cpu().numpy(), axis=1)\n",
    "                y_batch_np = y_batch.cpu().numpy()\n",
    "                val_acc += (y_batch_np == y_pred_np).sum()\n",
    "\n",
    "        # Подсчитываем лоссы и сохраням в \"историю\"\n",
    "        val_loss /= num_val_batches\n",
    "        val_acc /= num_val_batches * batch_size\n",
    "        history['loss']['val'].append(val_loss)\n",
    "        history['acc']['val'].append(val_acc)\n",
    "\n",
    "        # Сохраняем лучшую модель по метрике на валидации\n",
    "        if val_acc > best_val_acc:\n",
    "            torch.save(model.state_dict(), model_path)\n",
    "\n",
    "        # Печатаем результаты после каждой эпохи\n",
    "        print(\"Epoch {} of {} took {:.3f}s\".format(\n",
    "            epoch + 1, num_epochs, time.time() - start_time))\n",
    "        print(\"  training loss (in-iteration): \\t{:.6f}\".format(train_loss))\n",
    "        print(\"  validation loss (in-iteration): \\t{:.6f}\".format(val_loss))\n",
    "        print(\"  training accuracy: \\t\\t\\t{:.2f} %\".format(train_acc * 100))\n",
    "        print(\"  validation accuracy: \\t\\t\\t{:.2f} %\".format(val_acc * 100))\n",
    "\n",
    "    return model, history"
   ]
  },
  {
   "cell_type": "code",
   "execution_count": 95,
   "metadata": {
    "id": "HOLi7B3cxPBX"
   },
   "outputs": [],
   "source": [
    "###### 2. Обернем построение графиков в отдельную функцию    ######\n",
    "\n",
    "def plot_learning_curves(history):\n",
    "    \"\"\"\n",
    "    Построение графиков\n",
    "    \"\"\"\n",
    "    fig = plt.figure(figsize=(20,7))\n",
    "\n",
    "    plt.subplot(1,2,1)\n",
    "    plt.title('Лосс', fontsize=15)\n",
    "    plt.plot(history['loss']['train'], label='train')\n",
    "    plt.plot(history['loss']['val'], label='val')\n",
    "    plt.xlabel('эпоха', fontsize=15)\n",
    "    plt.legend()\n",
    "\n",
    "    plt.subplot(1,2,2)\n",
    "    plt.title('Точность', fontsize=15)\n",
    "    plt.plot(history['acc']['train'], label='train')\n",
    "    plt.plot(history['acc']['val'], label='val')\n",
    "    plt.xlabel('эпоха', fontsize=15)\n",
    "    plt.legend()"
   ]
  },
  {
   "cell_type": "code",
   "execution_count": 96,
   "metadata": {
    "colab": {
     "base_uri": "https://localhost:8080/"
    },
    "id": "5afDGksvxSYw",
    "outputId": "efeaf8dc-efd4-4c3d-8820-b5126f0e2dcc"
   },
   "outputs": [
    {
     "name": "stdout",
     "output_type": "stream",
     "text": [
      "Epoch 1 of 100 took 1.995s\n",
      "  training loss (in-iteration): \t2.138335\n",
      "  validation loss (in-iteration): \t1.966466\n",
      "  training accuracy: \t\t\t22.60 %\n",
      "  validation accuracy: \t\t\t29.16 %\n",
      "Epoch 2 of 100 took 1.484s\n",
      "  training loss (in-iteration): \t1.921960\n",
      "  validation loss (in-iteration): \t1.847463\n",
      "  training accuracy: \t\t\t31.41 %\n",
      "  validation accuracy: \t\t\t35.17 %\n",
      "Epoch 3 of 100 took 1.519s\n",
      "  training loss (in-iteration): \t1.839965\n",
      "  validation loss (in-iteration): \t1.796982\n",
      "  training accuracy: \t\t\t34.62 %\n",
      "  validation accuracy: \t\t\t36.25 %\n",
      "Epoch 4 of 100 took 1.737s\n",
      "  training loss (in-iteration): \t1.777530\n",
      "  validation loss (in-iteration): \t1.740799\n",
      "  training accuracy: \t\t\t36.97 %\n",
      "  validation accuracy: \t\t\t38.25 %\n",
      "Epoch 5 of 100 took 1.565s\n",
      "  training loss (in-iteration): \t1.726373\n",
      "  validation loss (in-iteration): \t1.722796\n",
      "  training accuracy: \t\t\t38.66 %\n",
      "  validation accuracy: \t\t\t37.77 %\n",
      "Epoch 6 of 100 took 1.484s\n",
      "  training loss (in-iteration): \t1.684280\n",
      "  validation loss (in-iteration): \t1.669665\n",
      "  training accuracy: \t\t\t40.53 %\n",
      "  validation accuracy: \t\t\t40.06 %\n",
      "Epoch 7 of 100 took 1.466s\n",
      "  training loss (in-iteration): \t1.646955\n",
      "  validation loss (in-iteration): \t1.639862\n",
      "  training accuracy: \t\t\t41.70 %\n",
      "  validation accuracy: \t\t\t41.11 %\n",
      "Epoch 8 of 100 took 1.874s\n",
      "  training loss (in-iteration): \t1.613824\n",
      "  validation loss (in-iteration): \t1.600654\n",
      "  training accuracy: \t\t\t42.94 %\n",
      "  validation accuracy: \t\t\t43.38 %\n",
      "Epoch 9 of 100 took 1.776s\n",
      "  training loss (in-iteration): \t1.586687\n",
      "  validation loss (in-iteration): \t1.604036\n",
      "  training accuracy: \t\t\t43.76 %\n",
      "  validation accuracy: \t\t\t42.36 %\n",
      "Epoch 10 of 100 took 1.468s\n",
      "  training loss (in-iteration): \t1.558896\n",
      "  validation loss (in-iteration): \t1.596491\n",
      "  training accuracy: \t\t\t45.02 %\n",
      "  validation accuracy: \t\t\t43.23 %\n",
      "Epoch 11 of 100 took 1.633s\n",
      "  training loss (in-iteration): \t1.534861\n",
      "  validation loss (in-iteration): \t1.593697\n",
      "  training accuracy: \t\t\t45.91 %\n",
      "  validation accuracy: \t\t\t42.68 %\n",
      "Epoch 12 of 100 took 1.677s\n",
      "  training loss (in-iteration): \t1.512776\n",
      "  validation loss (in-iteration): \t1.545377\n",
      "  training accuracy: \t\t\t46.59 %\n",
      "  validation accuracy: \t\t\t45.22 %\n",
      "Epoch 13 of 100 took 1.488s\n",
      "  training loss (in-iteration): \t1.491271\n",
      "  validation loss (in-iteration): \t1.519796\n",
      "  training accuracy: \t\t\t47.25 %\n",
      "  validation accuracy: \t\t\t45.97 %\n",
      "Epoch 14 of 100 took 1.462s\n",
      "  training loss (in-iteration): \t1.471520\n",
      "  validation loss (in-iteration): \t1.492842\n",
      "  training accuracy: \t\t\t47.92 %\n",
      "  validation accuracy: \t\t\t46.69 %\n",
      "Epoch 15 of 100 took 1.470s\n",
      "  training loss (in-iteration): \t1.452864\n",
      "  validation loss (in-iteration): \t1.530683\n",
      "  training accuracy: \t\t\t48.64 %\n",
      "  validation accuracy: \t\t\t45.72 %\n",
      "Epoch 16 of 100 took 1.467s\n",
      "  training loss (in-iteration): \t1.435405\n",
      "  validation loss (in-iteration): \t1.483336\n",
      "  training accuracy: \t\t\t49.14 %\n",
      "  validation accuracy: \t\t\t47.36 %\n",
      "Epoch 17 of 100 took 1.432s\n",
      "  training loss (in-iteration): \t1.420010\n",
      "  validation loss (in-iteration): \t1.485246\n",
      "  training accuracy: \t\t\t49.75 %\n",
      "  validation accuracy: \t\t\t47.34 %\n",
      "Epoch 18 of 100 took 1.485s\n",
      "  training loss (in-iteration): \t1.401044\n",
      "  validation loss (in-iteration): \t1.444810\n",
      "  training accuracy: \t\t\t50.37 %\n",
      "  validation accuracy: \t\t\t48.52 %\n",
      "Epoch 19 of 100 took 1.610s\n",
      "  training loss (in-iteration): \t1.388497\n",
      "  validation loss (in-iteration): \t1.439275\n",
      "  training accuracy: \t\t\t50.95 %\n",
      "  validation accuracy: \t\t\t48.80 %\n",
      "Epoch 20 of 100 took 1.681s\n",
      "  training loss (in-iteration): \t1.375141\n",
      "  validation loss (in-iteration): \t1.465350\n",
      "  training accuracy: \t\t\t51.35 %\n",
      "  validation accuracy: \t\t\t47.64 %\n",
      "Epoch 21 of 100 took 1.491s\n",
      "  training loss (in-iteration): \t1.358073\n",
      "  validation loss (in-iteration): \t1.425952\n",
      "  training accuracy: \t\t\t51.91 %\n",
      "  validation accuracy: \t\t\t49.04 %\n",
      "Epoch 22 of 100 took 1.526s\n",
      "  training loss (in-iteration): \t1.346972\n",
      "  validation loss (in-iteration): \t1.406990\n",
      "  training accuracy: \t\t\t52.22 %\n",
      "  validation accuracy: \t\t\t50.29 %\n",
      "Epoch 23 of 100 took 1.483s\n",
      "  training loss (in-iteration): \t1.331690\n",
      "  validation loss (in-iteration): \t1.436852\n",
      "  training accuracy: \t\t\t52.87 %\n",
      "  validation accuracy: \t\t\t48.63 %\n",
      "Epoch 24 of 100 took 1.518s\n",
      "  training loss (in-iteration): \t1.318266\n",
      "  validation loss (in-iteration): \t1.463277\n",
      "  training accuracy: \t\t\t53.42 %\n",
      "  validation accuracy: \t\t\t48.65 %\n",
      "Epoch 25 of 100 took 1.463s\n",
      "  training loss (in-iteration): \t1.307571\n",
      "  validation loss (in-iteration): \t1.414859\n",
      "  training accuracy: \t\t\t53.69 %\n",
      "  validation accuracy: \t\t\t49.99 %\n",
      "Epoch 26 of 100 took 1.464s\n",
      "  training loss (in-iteration): \t1.297803\n",
      "  validation loss (in-iteration): \t1.405378\n",
      "  training accuracy: \t\t\t54.06 %\n",
      "  validation accuracy: \t\t\t50.47 %\n",
      "Epoch 27 of 100 took 1.623s\n",
      "  training loss (in-iteration): \t1.280744\n",
      "  validation loss (in-iteration): \t1.367236\n",
      "  training accuracy: \t\t\t54.63 %\n",
      "  validation accuracy: \t\t\t52.10 %\n",
      "Epoch 28 of 100 took 1.733s\n",
      "  training loss (in-iteration): \t1.271534\n",
      "  validation loss (in-iteration): \t1.372463\n",
      "  training accuracy: \t\t\t55.06 %\n",
      "  validation accuracy: \t\t\t51.43 %\n",
      "Epoch 29 of 100 took 1.479s\n",
      "  training loss (in-iteration): \t1.259184\n",
      "  validation loss (in-iteration): \t1.395906\n",
      "  training accuracy: \t\t\t55.09 %\n",
      "  validation accuracy: \t\t\t51.38 %\n",
      "Epoch 30 of 100 took 1.506s\n",
      "  training loss (in-iteration): \t1.248474\n",
      "  validation loss (in-iteration): \t1.356227\n",
      "  training accuracy: \t\t\t55.89 %\n",
      "  validation accuracy: \t\t\t52.49 %\n",
      "Epoch 31 of 100 took 1.463s\n",
      "  training loss (in-iteration): \t1.237142\n",
      "  validation loss (in-iteration): \t1.371473\n",
      "  training accuracy: \t\t\t56.18 %\n",
      "  validation accuracy: \t\t\t51.67 %\n",
      "Epoch 32 of 100 took 1.478s\n",
      "  training loss (in-iteration): \t1.227857\n",
      "  validation loss (in-iteration): \t1.371628\n",
      "  training accuracy: \t\t\t56.70 %\n",
      "  validation accuracy: \t\t\t51.63 %\n",
      "Epoch 33 of 100 took 1.463s\n",
      "  training loss (in-iteration): \t1.220029\n",
      "  validation loss (in-iteration): \t1.373919\n",
      "  training accuracy: \t\t\t56.76 %\n",
      "  validation accuracy: \t\t\t51.88 %\n",
      "Epoch 34 of 100 took 1.513s\n",
      "  training loss (in-iteration): \t1.204609\n",
      "  validation loss (in-iteration): \t1.405828\n",
      "  training accuracy: \t\t\t57.30 %\n",
      "  validation accuracy: \t\t\t50.31 %\n",
      "Epoch 35 of 100 took 1.659s\n",
      "  training loss (in-iteration): \t1.200621\n",
      "  validation loss (in-iteration): \t1.366954\n",
      "  training accuracy: \t\t\t57.43 %\n",
      "  validation accuracy: \t\t\t52.19 %\n",
      "Epoch 36 of 100 took 1.647s\n",
      "  training loss (in-iteration): \t1.186681\n",
      "  validation loss (in-iteration): \t1.360797\n",
      "  training accuracy: \t\t\t58.25 %\n",
      "  validation accuracy: \t\t\t52.16 %\n",
      "Epoch 37 of 100 took 1.492s\n",
      "  training loss (in-iteration): \t1.176477\n",
      "  validation loss (in-iteration): \t1.359219\n",
      "  training accuracy: \t\t\t58.32 %\n",
      "  validation accuracy: \t\t\t52.11 %\n",
      "Epoch 38 of 100 took 1.844s\n",
      "  training loss (in-iteration): \t1.164389\n",
      "  validation loss (in-iteration): \t1.380903\n",
      "  training accuracy: \t\t\t58.85 %\n",
      "  validation accuracy: \t\t\t52.01 %\n",
      "Epoch 39 of 100 took 1.440s\n",
      "  training loss (in-iteration): \t1.159649\n",
      "  validation loss (in-iteration): \t1.358828\n",
      "  training accuracy: \t\t\t59.04 %\n",
      "  validation accuracy: \t\t\t52.49 %\n",
      "Epoch 40 of 100 took 1.472s\n",
      "  training loss (in-iteration): \t1.148180\n",
      "  validation loss (in-iteration): \t1.417111\n",
      "  training accuracy: \t\t\t59.42 %\n",
      "  validation accuracy: \t\t\t50.46 %\n",
      "Epoch 41 of 100 took 1.484s\n",
      "  training loss (in-iteration): \t1.140330\n",
      "  validation loss (in-iteration): \t1.356021\n",
      "  training accuracy: \t\t\t59.71 %\n",
      "  validation accuracy: \t\t\t52.21 %\n",
      "Epoch 42 of 100 took 1.477s\n",
      "  training loss (in-iteration): \t1.127978\n",
      "  validation loss (in-iteration): \t1.349578\n",
      "  training accuracy: \t\t\t60.31 %\n",
      "  validation accuracy: \t\t\t52.92 %\n",
      "Epoch 43 of 100 took 1.697s\n",
      "  training loss (in-iteration): \t1.119945\n",
      "  validation loss (in-iteration): \t1.379587\n",
      "  training accuracy: \t\t\t60.35 %\n",
      "  validation accuracy: \t\t\t52.47 %\n",
      "Epoch 44 of 100 took 1.569s\n",
      "  training loss (in-iteration): \t1.113690\n",
      "  validation loss (in-iteration): \t1.346618\n",
      "  training accuracy: \t\t\t60.86 %\n",
      "  validation accuracy: \t\t\t53.33 %\n",
      "Epoch 45 of 100 took 1.440s\n",
      "  training loss (in-iteration): \t1.106061\n",
      "  validation loss (in-iteration): \t1.439937\n",
      "  training accuracy: \t\t\t61.04 %\n",
      "  validation accuracy: \t\t\t49.11 %\n",
      "Epoch 46 of 100 took 1.451s\n",
      "  training loss (in-iteration): \t1.096911\n",
      "  validation loss (in-iteration): \t1.383474\n",
      "  training accuracy: \t\t\t61.31 %\n",
      "  validation accuracy: \t\t\t51.79 %\n",
      "Epoch 47 of 100 took 1.439s\n",
      "  training loss (in-iteration): \t1.087610\n",
      "  validation loss (in-iteration): \t1.330774\n",
      "  training accuracy: \t\t\t61.54 %\n",
      "  validation accuracy: \t\t\t53.52 %\n",
      "Epoch 48 of 100 took 1.465s\n",
      "  training loss (in-iteration): \t1.081826\n",
      "  validation loss (in-iteration): \t1.357699\n",
      "  training accuracy: \t\t\t61.73 %\n",
      "  validation accuracy: \t\t\t52.96 %\n",
      "Epoch 49 of 100 took 1.448s\n",
      "  training loss (in-iteration): \t1.069532\n",
      "  validation loss (in-iteration): \t1.365734\n",
      "  training accuracy: \t\t\t62.26 %\n",
      "  validation accuracy: \t\t\t52.50 %\n",
      "Epoch 50 of 100 took 1.487s\n",
      "  training loss (in-iteration): \t1.060647\n",
      "  validation loss (in-iteration): \t1.383872\n",
      "  training accuracy: \t\t\t62.49 %\n",
      "  validation accuracy: \t\t\t52.37 %\n",
      "Epoch 51 of 100 took 1.684s\n",
      "  training loss (in-iteration): \t1.054870\n",
      "  validation loss (in-iteration): \t1.353425\n",
      "  training accuracy: \t\t\t62.69 %\n",
      "  validation accuracy: \t\t\t52.81 %\n",
      "Epoch 52 of 100 took 1.598s\n",
      "  training loss (in-iteration): \t1.048106\n",
      "  validation loss (in-iteration): \t1.349526\n",
      "  training accuracy: \t\t\t63.17 %\n",
      "  validation accuracy: \t\t\t53.41 %\n",
      "Epoch 53 of 100 took 1.445s\n",
      "  training loss (in-iteration): \t1.039998\n",
      "  validation loss (in-iteration): \t1.333493\n",
      "  training accuracy: \t\t\t63.16 %\n",
      "  validation accuracy: \t\t\t54.33 %\n",
      "Epoch 54 of 100 took 1.460s\n",
      "  training loss (in-iteration): \t1.027325\n",
      "  validation loss (in-iteration): \t1.362783\n",
      "  training accuracy: \t\t\t63.89 %\n",
      "  validation accuracy: \t\t\t52.84 %\n",
      "Epoch 55 of 100 took 1.450s\n",
      "  training loss (in-iteration): \t1.020701\n",
      "  validation loss (in-iteration): \t1.373946\n",
      "  training accuracy: \t\t\t63.78 %\n",
      "  validation accuracy: \t\t\t53.02 %\n",
      "Epoch 56 of 100 took 1.437s\n",
      "  training loss (in-iteration): \t1.011044\n",
      "  validation loss (in-iteration): \t1.323010\n",
      "  training accuracy: \t\t\t64.17 %\n",
      "  validation accuracy: \t\t\t53.92 %\n",
      "Epoch 57 of 100 took 1.435s\n",
      "  training loss (in-iteration): \t1.003936\n",
      "  validation loss (in-iteration): \t1.359232\n",
      "  training accuracy: \t\t\t64.57 %\n",
      "  validation accuracy: \t\t\t53.17 %\n",
      "Epoch 58 of 100 took 1.448s\n",
      "  training loss (in-iteration): \t0.996851\n",
      "  validation loss (in-iteration): \t1.385639\n",
      "  training accuracy: \t\t\t64.70 %\n",
      "  validation accuracy: \t\t\t53.04 %\n",
      "Epoch 59 of 100 took 1.614s\n",
      "  training loss (in-iteration): \t0.987320\n",
      "  validation loss (in-iteration): \t1.418213\n",
      "  training accuracy: \t\t\t65.11 %\n",
      "  validation accuracy: \t\t\t51.21 %\n",
      "Epoch 60 of 100 took 1.949s\n",
      "  training loss (in-iteration): \t0.977777\n",
      "  validation loss (in-iteration): \t1.454159\n",
      "  training accuracy: \t\t\t65.53 %\n",
      "  validation accuracy: \t\t\t51.87 %\n",
      "Epoch 61 of 100 took 1.445s\n",
      "  training loss (in-iteration): \t0.971380\n",
      "  validation loss (in-iteration): \t1.399115\n",
      "  training accuracy: \t\t\t65.64 %\n",
      "  validation accuracy: \t\t\t52.70 %\n",
      "Epoch 62 of 100 took 1.479s\n",
      "  training loss (in-iteration): \t0.964989\n",
      "  validation loss (in-iteration): \t1.348240\n",
      "  training accuracy: \t\t\t66.09 %\n",
      "  validation accuracy: \t\t\t54.34 %\n",
      "Epoch 63 of 100 took 1.463s\n",
      "  training loss (in-iteration): \t0.956981\n",
      "  validation loss (in-iteration): \t1.406603\n",
      "  training accuracy: \t\t\t66.42 %\n",
      "  validation accuracy: \t\t\t52.79 %\n",
      "Epoch 64 of 100 took 1.439s\n",
      "  training loss (in-iteration): \t0.950406\n",
      "  validation loss (in-iteration): \t1.383258\n",
      "  training accuracy: \t\t\t66.29 %\n",
      "  validation accuracy: \t\t\t53.88 %\n",
      "Epoch 65 of 100 took 1.473s\n",
      "  training loss (in-iteration): \t0.942423\n",
      "  validation loss (in-iteration): \t1.361647\n",
      "  training accuracy: \t\t\t66.64 %\n",
      "  validation accuracy: \t\t\t54.44 %\n",
      "Epoch 66 of 100 took 1.465s\n",
      "  training loss (in-iteration): \t0.935529\n",
      "  validation loss (in-iteration): \t1.386305\n",
      "  training accuracy: \t\t\t67.21 %\n",
      "  validation accuracy: \t\t\t54.08 %\n",
      "Epoch 67 of 100 took 1.673s\n",
      "  training loss (in-iteration): \t0.923788\n",
      "  validation loss (in-iteration): \t1.532330\n",
      "  training accuracy: \t\t\t67.55 %\n",
      "  validation accuracy: \t\t\t50.68 %\n",
      "Epoch 68 of 100 took 1.606s\n",
      "  training loss (in-iteration): \t0.920425\n",
      "  validation loss (in-iteration): \t1.358742\n",
      "  training accuracy: \t\t\t67.42 %\n",
      "  validation accuracy: \t\t\t54.40 %\n",
      "Epoch 69 of 100 took 1.476s\n",
      "  training loss (in-iteration): \t0.910560\n",
      "  validation loss (in-iteration): \t1.443573\n",
      "  training accuracy: \t\t\t67.95 %\n",
      "  validation accuracy: \t\t\t51.80 %\n",
      "Epoch 70 of 100 took 1.455s\n",
      "  training loss (in-iteration): \t0.898352\n",
      "  validation loss (in-iteration): \t1.367574\n",
      "  training accuracy: \t\t\t68.38 %\n",
      "  validation accuracy: \t\t\t54.48 %\n",
      "Epoch 71 of 100 took 1.479s\n",
      "  training loss (in-iteration): \t0.891029\n",
      "  validation loss (in-iteration): \t1.381354\n",
      "  training accuracy: \t\t\t68.75 %\n",
      "  validation accuracy: \t\t\t53.86 %\n",
      "Epoch 72 of 100 took 1.446s\n",
      "  training loss (in-iteration): \t0.888882\n",
      "  validation loss (in-iteration): \t1.432238\n",
      "  training accuracy: \t\t\t68.56 %\n",
      "  validation accuracy: \t\t\t52.39 %\n",
      "Epoch 73 of 100 took 1.477s\n",
      "  training loss (in-iteration): \t0.880068\n",
      "  validation loss (in-iteration): \t1.427077\n",
      "  training accuracy: \t\t\t68.89 %\n",
      "  validation accuracy: \t\t\t53.42 %\n",
      "Epoch 74 of 100 took 1.453s\n",
      "  training loss (in-iteration): \t0.871926\n",
      "  validation loss (in-iteration): \t1.528151\n",
      "  training accuracy: \t\t\t69.27 %\n",
      "  validation accuracy: \t\t\t50.70 %\n",
      "Epoch 75 of 100 took 1.655s\n",
      "  training loss (in-iteration): \t0.860258\n",
      "  validation loss (in-iteration): \t1.409097\n",
      "  training accuracy: \t\t\t69.95 %\n",
      "  validation accuracy: \t\t\t54.01 %\n",
      "Epoch 76 of 100 took 1.650s\n",
      "  training loss (in-iteration): \t0.859367\n",
      "  validation loss (in-iteration): \t1.404762\n",
      "  training accuracy: \t\t\t69.71 %\n",
      "  validation accuracy: \t\t\t54.09 %\n",
      "Epoch 77 of 100 took 1.471s\n",
      "  training loss (in-iteration): \t0.850277\n",
      "  validation loss (in-iteration): \t1.427916\n",
      "  training accuracy: \t\t\t70.01 %\n",
      "  validation accuracy: \t\t\t53.36 %\n",
      "Epoch 78 of 100 took 1.457s\n",
      "  training loss (in-iteration): \t0.843844\n",
      "  validation loss (in-iteration): \t1.405651\n",
      "  training accuracy: \t\t\t70.07 %\n",
      "  validation accuracy: \t\t\t53.84 %\n",
      "Epoch 79 of 100 took 1.446s\n",
      "  training loss (in-iteration): \t0.837087\n",
      "  validation loss (in-iteration): \t1.420857\n",
      "  training accuracy: \t\t\t70.45 %\n",
      "  validation accuracy: \t\t\t54.01 %\n",
      "Epoch 80 of 100 took 1.497s\n",
      "  training loss (in-iteration): \t0.830398\n",
      "  validation loss (in-iteration): \t1.531937\n",
      "  training accuracy: \t\t\t70.72 %\n",
      "  validation accuracy: \t\t\t50.86 %\n",
      "Epoch 81 of 100 took 1.487s\n",
      "  training loss (in-iteration): \t0.824386\n",
      "  validation loss (in-iteration): \t1.514861\n",
      "  training accuracy: \t\t\t70.91 %\n",
      "  validation accuracy: \t\t\t51.85 %\n",
      "Epoch 82 of 100 took 1.462s\n",
      "  training loss (in-iteration): \t0.816048\n",
      "  validation loss (in-iteration): \t1.539834\n",
      "  training accuracy: \t\t\t71.19 %\n",
      "  validation accuracy: \t\t\t51.21 %\n",
      "Epoch 83 of 100 took 1.691s\n",
      "  training loss (in-iteration): \t0.804995\n",
      "  validation loss (in-iteration): \t1.456243\n",
      "  training accuracy: \t\t\t71.68 %\n",
      "  validation accuracy: \t\t\t53.09 %\n",
      "Epoch 84 of 100 took 1.621s\n",
      "  training loss (in-iteration): \t0.798483\n",
      "  validation loss (in-iteration): \t1.629984\n",
      "  training accuracy: \t\t\t71.83 %\n",
      "  validation accuracy: \t\t\t49.56 %\n",
      "Epoch 85 of 100 took 1.449s\n",
      "  training loss (in-iteration): \t0.790056\n",
      "  validation loss (in-iteration): \t1.495393\n",
      "  training accuracy: \t\t\t71.86 %\n",
      "  validation accuracy: \t\t\t52.79 %\n",
      "Epoch 86 of 100 took 1.704s\n",
      "  training loss (in-iteration): \t0.780864\n",
      "  validation loss (in-iteration): \t1.530774\n",
      "  training accuracy: \t\t\t72.29 %\n",
      "  validation accuracy: \t\t\t52.02 %\n",
      "Epoch 87 of 100 took 1.596s\n",
      "  training loss (in-iteration): \t0.773246\n",
      "  validation loss (in-iteration): \t1.473182\n",
      "  training accuracy: \t\t\t72.77 %\n",
      "  validation accuracy: \t\t\t53.61 %\n",
      "Epoch 88 of 100 took 1.464s\n",
      "  training loss (in-iteration): \t0.769738\n",
      "  validation loss (in-iteration): \t1.462646\n",
      "  training accuracy: \t\t\t72.90 %\n",
      "  validation accuracy: \t\t\t53.85 %\n",
      "Epoch 89 of 100 took 1.486s\n",
      "  training loss (in-iteration): \t0.762231\n",
      "  validation loss (in-iteration): \t1.469093\n",
      "  training accuracy: \t\t\t73.22 %\n",
      "  validation accuracy: \t\t\t54.52 %\n",
      "Epoch 90 of 100 took 1.460s\n",
      "  training loss (in-iteration): \t0.757457\n",
      "  validation loss (in-iteration): \t1.499959\n",
      "  training accuracy: \t\t\t73.37 %\n",
      "  validation accuracy: \t\t\t53.52 %\n",
      "Epoch 91 of 100 took 1.685s\n",
      "  training loss (in-iteration): \t0.750070\n",
      "  validation loss (in-iteration): \t1.517242\n",
      "  training accuracy: \t\t\t73.69 %\n",
      "  validation accuracy: \t\t\t53.12 %\n",
      "Epoch 92 of 100 took 1.577s\n",
      "  training loss (in-iteration): \t0.745341\n",
      "  validation loss (in-iteration): \t1.476955\n",
      "  training accuracy: \t\t\t73.52 %\n",
      "  validation accuracy: \t\t\t54.13 %\n",
      "Epoch 93 of 100 took 1.461s\n",
      "  training loss (in-iteration): \t0.737392\n",
      "  validation loss (in-iteration): \t1.540983\n",
      "  training accuracy: \t\t\t73.97 %\n",
      "  validation accuracy: \t\t\t53.06 %\n",
      "Epoch 94 of 100 took 1.470s\n",
      "  training loss (in-iteration): \t0.726298\n",
      "  validation loss (in-iteration): \t1.554193\n",
      "  training accuracy: \t\t\t74.47 %\n",
      "  validation accuracy: \t\t\t52.86 %\n",
      "Epoch 95 of 100 took 1.456s\n",
      "  training loss (in-iteration): \t0.727408\n",
      "  validation loss (in-iteration): \t1.537043\n",
      "  training accuracy: \t\t\t74.37 %\n",
      "  validation accuracy: \t\t\t52.95 %\n",
      "Epoch 96 of 100 took 1.503s\n",
      "  training loss (in-iteration): \t0.711763\n",
      "  validation loss (in-iteration): \t1.554881\n",
      "  training accuracy: \t\t\t74.96 %\n",
      "  validation accuracy: \t\t\t53.36 %\n",
      "Epoch 97 of 100 took 1.444s\n",
      "  training loss (in-iteration): \t0.709893\n",
      "  validation loss (in-iteration): \t1.546952\n",
      "  training accuracy: \t\t\t75.13 %\n",
      "  validation accuracy: \t\t\t53.61 %\n",
      "Epoch 98 of 100 took 1.465s\n",
      "  training loss (in-iteration): \t0.705692\n",
      "  validation loss (in-iteration): \t1.613481\n",
      "  training accuracy: \t\t\t75.02 %\n",
      "  validation accuracy: \t\t\t52.11 %\n",
      "Epoch 99 of 100 took 1.678s\n",
      "  training loss (in-iteration): \t0.694737\n",
      "  validation loss (in-iteration): \t1.533572\n",
      "  training accuracy: \t\t\t75.55 %\n",
      "  validation accuracy: \t\t\t53.36 %\n",
      "Epoch 100 of 100 took 1.595s\n",
      "  training loss (in-iteration): \t0.690532\n",
      "  validation loss (in-iteration): \t1.561572\n",
      "  training accuracy: \t\t\t75.88 %\n",
      "  validation accuracy: \t\t\t53.35 %\n"
     ]
    }
   ],
   "source": [
    "###### 3. Обучим модель в Functional-стиле на CIFAR10     ######\n",
    "\n",
    "model = MySimpleModel().to(device)\n",
    "\n",
    "criterion = nn.CrossEntropyLoss()\n",
    "\n",
    "optimizer = torch.optim.SGD(model.parameters(), lr=0.01)\n",
    "\n",
    "model, history = train(\n",
    "    model, criterion, optimizer,\n",
    "    X_train, y_train,\n",
    "    X_val, y_val,\n",
    "    num_epochs=100,\n",
    "    batch_size=50,\n",
    "    model_path='simple_model.pth'\n",
    ")"
   ]
  },
  {
   "cell_type": "code",
   "execution_count": 97,
   "metadata": {
    "colab": {
     "base_uri": "https://localhost:8080/",
     "height": 573
    },
    "id": "AnKTcnwxxUfW",
    "outputId": "3d1b7104-7332-4e2f-acb6-2f63da50413b"
   },
   "outputs": [
    {
     "data": {
      "image/png": "[encoded data removed]",
      "text/plain": [
       "<Figure size 2000x700 with 2 Axes>"
      ]
     },
     "metadata": {},
     "output_type": "display_data"
    }
   ],
   "source": [
    "plot_learning_curves(history)"
   ]
  },
  {
   "cell_type": "markdown",
   "metadata": {
    "id": "i4GvlWN_2WGP"
   },
   "source": [
    "**ЗАДАНИЕ 5**"
   ]
  },
  {
   "cell_type": "markdown",
   "metadata": {
    "id": "KlUkjnbDH7BN"
   },
   "source": [
    "Поменяйте функцию активации поcле первого слоя на любую другую"
   ]
  },
  {
   "cell_type": "code",
   "execution_count": 189,
   "metadata": {
    "id": "SBWeM-oHH7BN"
   },
   "outputs": [],
   "source": [
    "class MySimpleModel(nn.Module):\n",
    "    def __init__(self):\n",
    "        '''\n",
    "        Здесь объявляем все слои, которые будем использовать\n",
    "        '''\n",
    "        super(MySimpleModel, self).__init__()\n",
    "        self.linear1 = nn.Linear(3 * 32 * 32, 256)\n",
    "        self.linear2 = nn.Linear(256, 64)\n",
    "        self.linear3 = nn.Linear(64, 10)\n",
    "\n",
    "    def forward(self, x):\n",
    "        '''\n",
    "        Здесь пишем в коде, в каком порядке какой слой будет применяться\n",
    "        '''\n",
    "        x = self.linear1(nn.Flatten()(x))\n",
    "        x = self.linear2(nn.Sigmoid()(x))\n",
    "        x = self.linear3(nn.ReLU()(x))\n",
    "        return x"
   ]
  },
  {
   "cell_type": "markdown",
   "metadata": {
    "id": "lnvQ6pPoH7BO"
   },
   "source": [
    "Обучите модель."
   ]
  },
  {
   "cell_type": "code",
   "execution_count": 190,
   "metadata": {
    "colab": {
     "base_uri": "https://localhost:8080/"
    },
    "id": "Nf-B8e2hH7BO",
    "outputId": "4731357f-ec33-4089-b36c-3d4f94513744"
   },
   "outputs": [
    {
     "name": "stdout",
     "output_type": "stream",
     "text": [
      "Epoch 1 of 100 took 1.502s\n",
      "  training loss (in-iteration): \t2.282268\n",
      "  validation loss (in-iteration): \t2.247067\n",
      "  training accuracy: \t\t\t15.69 %\n",
      "  validation accuracy: \t\t\t19.39 %\n",
      "Epoch 2 of 100 took 1.517s\n",
      "  training loss (in-iteration): \t2.176815\n",
      "  validation loss (in-iteration): \t2.100510\n",
      "  training accuracy: \t\t\t22.71 %\n",
      "  validation accuracy: \t\t\t24.96 %\n",
      "Epoch 3 of 100 took 1.502s\n",
      "  training loss (in-iteration): \t2.063121\n",
      "  validation loss (in-iteration): \t2.012826\n",
      "  training accuracy: \t\t\t25.35 %\n",
      "  validation accuracy: \t\t\t28.16 %\n",
      "Epoch 4 of 100 took 1.474s\n",
      "  training loss (in-iteration): \t1.997254\n",
      "  validation loss (in-iteration): \t1.956428\n",
      "  training accuracy: \t\t\t27.56 %\n",
      "  validation accuracy: \t\t\t29.14 %\n",
      "Epoch 5 of 100 took 1.480s\n",
      "  training loss (in-iteration): \t1.952706\n",
      "  validation loss (in-iteration): \t1.914795\n",
      "  training accuracy: \t\t\t29.32 %\n",
      "  validation accuracy: \t\t\t30.90 %\n",
      "Epoch 6 of 100 took 1.505s\n",
      "  training loss (in-iteration): \t1.921501\n",
      "  validation loss (in-iteration): \t1.890602\n",
      "  training accuracy: \t\t\t30.81 %\n",
      "  validation accuracy: \t\t\t32.16 %\n",
      "Epoch 7 of 100 took 1.581s\n",
      "  training loss (in-iteration): \t1.898947\n",
      "  validation loss (in-iteration): \t1.863343\n",
      "  training accuracy: \t\t\t31.91 %\n",
      "  validation accuracy: \t\t\t33.89 %\n",
      "Epoch 8 of 100 took 1.725s\n",
      "  training loss (in-iteration): \t1.878595\n",
      "  validation loss (in-iteration): \t1.855736\n",
      "  training accuracy: \t\t\t33.02 %\n",
      "  validation accuracy: \t\t\t33.91 %\n",
      "Epoch 9 of 100 took 1.445s\n",
      "  training loss (in-iteration): \t1.858334\n",
      "  validation loss (in-iteration): \t1.826775\n",
      "  training accuracy: \t\t\t33.95 %\n",
      "  validation accuracy: \t\t\t35.19 %\n",
      "Epoch 10 of 100 took 1.469s\n",
      "  training loss (in-iteration): \t1.838437\n",
      "  validation loss (in-iteration): \t1.813792\n",
      "  training accuracy: \t\t\t34.57 %\n",
      "  validation accuracy: \t\t\t35.35 %\n",
      "Epoch 11 of 100 took 1.452s\n",
      "  training loss (in-iteration): \t1.820538\n",
      "  validation loss (in-iteration): \t1.802141\n",
      "  training accuracy: \t\t\t35.46 %\n",
      "  validation accuracy: \t\t\t36.23 %\n",
      "Epoch 12 of 100 took 1.487s\n",
      "  training loss (in-iteration): \t1.805079\n",
      "  validation loss (in-iteration): \t1.773823\n",
      "  training accuracy: \t\t\t35.86 %\n",
      "  validation accuracy: \t\t\t36.88 %\n",
      "Epoch 13 of 100 took 1.472s\n",
      "  training loss (in-iteration): \t1.789614\n",
      "  validation loss (in-iteration): \t1.773809\n",
      "  training accuracy: \t\t\t36.35 %\n",
      "  validation accuracy: \t\t\t36.82 %\n",
      "Epoch 14 of 100 took 1.457s\n",
      "  training loss (in-iteration): \t1.776355\n",
      "  validation loss (in-iteration): \t1.749617\n",
      "  training accuracy: \t\t\t36.96 %\n",
      "  validation accuracy: \t\t\t37.57 %\n",
      "Epoch 15 of 100 took 1.607s\n",
      "  training loss (in-iteration): \t1.762505\n",
      "  validation loss (in-iteration): \t1.744487\n",
      "  training accuracy: \t\t\t37.30 %\n",
      "  validation accuracy: \t\t\t37.89 %\n",
      "Epoch 16 of 100 took 1.762s\n",
      "  training loss (in-iteration): \t1.749171\n",
      "  validation loss (in-iteration): \t1.730354\n",
      "  training accuracy: \t\t\t37.68 %\n",
      "  validation accuracy: \t\t\t38.28 %\n",
      "Epoch 17 of 100 took 1.465s\n",
      "  training loss (in-iteration): \t1.737445\n",
      "  validation loss (in-iteration): \t1.714394\n",
      "  training accuracy: \t\t\t38.00 %\n",
      "  validation accuracy: \t\t\t38.92 %\n",
      "Epoch 18 of 100 took 1.485s\n",
      "  training loss (in-iteration): \t1.726151\n",
      "  validation loss (in-iteration): \t1.705822\n",
      "  training accuracy: \t\t\t38.59 %\n",
      "  validation accuracy: \t\t\t38.85 %\n",
      "Epoch 19 of 100 took 1.476s\n",
      "  training loss (in-iteration): \t1.712577\n",
      "  validation loss (in-iteration): \t1.696562\n",
      "  training accuracy: \t\t\t39.03 %\n",
      "  validation accuracy: \t\t\t39.57 %\n",
      "Epoch 20 of 100 took 1.494s\n",
      "  training loss (in-iteration): \t1.701233\n",
      "  validation loss (in-iteration): \t1.686380\n",
      "  training accuracy: \t\t\t39.56 %\n",
      "  validation accuracy: \t\t\t39.62 %\n",
      "Epoch 21 of 100 took 1.472s\n",
      "  training loss (in-iteration): \t1.691227\n",
      "  validation loss (in-iteration): \t1.703119\n",
      "  training accuracy: \t\t\t39.78 %\n",
      "  validation accuracy: \t\t\t38.75 %\n",
      "Epoch 22 of 100 took 1.470s\n",
      "  training loss (in-iteration): \t1.680339\n",
      "  validation loss (in-iteration): \t1.661652\n",
      "  training accuracy: \t\t\t40.21 %\n",
      "  validation accuracy: \t\t\t40.30 %\n",
      "Epoch 23 of 100 took 1.585s\n",
      "  training loss (in-iteration): \t1.670921\n",
      "  validation loss (in-iteration): \t1.661851\n",
      "  training accuracy: \t\t\t40.55 %\n",
      "  validation accuracy: \t\t\t40.20 %\n",
      "Epoch 24 of 100 took 1.728s\n",
      "  training loss (in-iteration): \t1.660930\n",
      "  validation loss (in-iteration): \t1.649281\n",
      "  training accuracy: \t\t\t40.91 %\n",
      "  validation accuracy: \t\t\t40.77 %\n",
      "Epoch 25 of 100 took 1.456s\n",
      "  training loss (in-iteration): \t1.652791\n",
      "  validation loss (in-iteration): \t1.650007\n",
      "  training accuracy: \t\t\t41.42 %\n",
      "  validation accuracy: \t\t\t40.80 %\n",
      "Epoch 26 of 100 took 1.465s\n",
      "  training loss (in-iteration): \t1.643502\n",
      "  validation loss (in-iteration): \t1.632815\n",
      "  training accuracy: \t\t\t41.57 %\n",
      "  validation accuracy: \t\t\t41.93 %\n",
      "Epoch 27 of 100 took 1.433s\n",
      "  training loss (in-iteration): \t1.636963\n",
      "  validation loss (in-iteration): \t1.628883\n",
      "  training accuracy: \t\t\t41.95 %\n",
      "  validation accuracy: \t\t\t41.58 %\n",
      "Epoch 28 of 100 took 1.528s\n",
      "  training loss (in-iteration): \t1.627098\n",
      "  validation loss (in-iteration): \t1.622133\n",
      "  training accuracy: \t\t\t42.41 %\n",
      "  validation accuracy: \t\t\t41.61 %\n",
      "Epoch 29 of 100 took 1.446s\n",
      "  training loss (in-iteration): \t1.619459\n",
      "  validation loss (in-iteration): \t1.625206\n",
      "  training accuracy: \t\t\t42.60 %\n",
      "  validation accuracy: \t\t\t42.31 %\n",
      "Epoch 30 of 100 took 1.457s\n",
      "  training loss (in-iteration): \t1.611341\n",
      "  validation loss (in-iteration): \t1.607908\n",
      "  training accuracy: \t\t\t42.90 %\n",
      "  validation accuracy: \t\t\t42.67 %\n",
      "Epoch 31 of 100 took 1.596s\n",
      "  training loss (in-iteration): \t1.603751\n",
      "  validation loss (in-iteration): \t1.601974\n",
      "  training accuracy: \t\t\t43.06 %\n",
      "  validation accuracy: \t\t\t42.87 %\n",
      "Epoch 32 of 100 took 1.733s\n",
      "  training loss (in-iteration): \t1.597176\n",
      "  validation loss (in-iteration): \t1.590067\n",
      "  training accuracy: \t\t\t43.34 %\n",
      "  validation accuracy: \t\t\t43.32 %\n",
      "Epoch 33 of 100 took 1.496s\n",
      "  training loss (in-iteration): \t1.588765\n",
      "  validation loss (in-iteration): \t1.586330\n",
      "  training accuracy: \t\t\t43.63 %\n",
      "  validation accuracy: \t\t\t43.46 %\n",
      "Epoch 34 of 100 took 1.491s\n",
      "  training loss (in-iteration): \t1.582326\n",
      "  validation loss (in-iteration): \t1.575941\n",
      "  training accuracy: \t\t\t43.87 %\n",
      "  validation accuracy: \t\t\t43.86 %\n",
      "Epoch 35 of 100 took 1.493s\n",
      "  training loss (in-iteration): \t1.575820\n",
      "  validation loss (in-iteration): \t1.572065\n",
      "  training accuracy: \t\t\t44.16 %\n",
      "  validation accuracy: \t\t\t43.92 %\n",
      "Epoch 36 of 100 took 1.498s\n",
      "  training loss (in-iteration): \t1.568518\n",
      "  validation loss (in-iteration): \t1.567672\n",
      "  training accuracy: \t\t\t44.55 %\n",
      "  validation accuracy: \t\t\t44.00 %\n",
      "Epoch 37 of 100 took 1.461s\n",
      "  training loss (in-iteration): \t1.561734\n",
      "  validation loss (in-iteration): \t1.563228\n",
      "  training accuracy: \t\t\t44.75 %\n",
      "  validation accuracy: \t\t\t43.88 %\n",
      "Epoch 38 of 100 took 1.457s\n",
      "  training loss (in-iteration): \t1.556186\n",
      "  validation loss (in-iteration): \t1.575934\n",
      "  training accuracy: \t\t\t45.02 %\n",
      "  validation accuracy: \t\t\t44.34 %\n",
      "Epoch 39 of 100 took 1.592s\n",
      "  training loss (in-iteration): \t1.548776\n",
      "  validation loss (in-iteration): \t1.557769\n",
      "  training accuracy: \t\t\t45.02 %\n",
      "  validation accuracy: \t\t\t44.26 %\n",
      "Epoch 40 of 100 took 1.753s\n",
      "  training loss (in-iteration): \t1.541896\n",
      "  validation loss (in-iteration): \t1.551121\n",
      "  training accuracy: \t\t\t45.33 %\n",
      "  validation accuracy: \t\t\t44.60 %\n",
      "Epoch 41 of 100 took 1.501s\n",
      "  training loss (in-iteration): \t1.536744\n",
      "  validation loss (in-iteration): \t1.549712\n",
      "  training accuracy: \t\t\t45.57 %\n",
      "  validation accuracy: \t\t\t45.09 %\n",
      "Epoch 42 of 100 took 1.460s\n",
      "  training loss (in-iteration): \t1.530067\n",
      "  validation loss (in-iteration): \t1.542154\n",
      "  training accuracy: \t\t\t45.87 %\n",
      "  validation accuracy: \t\t\t44.93 %\n",
      "Epoch 43 of 100 took 1.474s\n",
      "  training loss (in-iteration): \t1.523817\n",
      "  validation loss (in-iteration): \t1.548920\n",
      "  training accuracy: \t\t\t46.12 %\n",
      "  validation accuracy: \t\t\t44.75 %\n",
      "Epoch 44 of 100 took 1.451s\n",
      "  training loss (in-iteration): \t1.517407\n",
      "  validation loss (in-iteration): \t1.532486\n",
      "  training accuracy: \t\t\t46.17 %\n",
      "  validation accuracy: \t\t\t45.58 %\n",
      "Epoch 45 of 100 took 1.456s\n",
      "  training loss (in-iteration): \t1.511064\n",
      "  validation loss (in-iteration): \t1.530805\n",
      "  training accuracy: \t\t\t46.75 %\n",
      "  validation accuracy: \t\t\t45.64 %\n",
      "Epoch 46 of 100 took 1.451s\n",
      "  training loss (in-iteration): \t1.505529\n",
      "  validation loss (in-iteration): \t1.523238\n",
      "  training accuracy: \t\t\t46.65 %\n",
      "  validation accuracy: \t\t\t45.68 %\n",
      "Epoch 47 of 100 took 1.593s\n",
      "  training loss (in-iteration): \t1.499762\n",
      "  validation loss (in-iteration): \t1.517072\n",
      "  training accuracy: \t\t\t46.88 %\n",
      "  validation accuracy: \t\t\t45.79 %\n",
      "Epoch 48 of 100 took 1.766s\n",
      "  training loss (in-iteration): \t1.492215\n",
      "  validation loss (in-iteration): \t1.517157\n",
      "  training accuracy: \t\t\t47.12 %\n",
      "  validation accuracy: \t\t\t45.83 %\n",
      "Epoch 49 of 100 took 1.474s\n",
      "  training loss (in-iteration): \t1.487539\n",
      "  validation loss (in-iteration): \t1.510076\n",
      "  training accuracy: \t\t\t47.22 %\n",
      "  validation accuracy: \t\t\t46.39 %\n",
      "Epoch 50 of 100 took 1.471s\n",
      "  training loss (in-iteration): \t1.479790\n",
      "  validation loss (in-iteration): \t1.505789\n",
      "  training accuracy: \t\t\t47.45 %\n",
      "  validation accuracy: \t\t\t46.39 %\n",
      "Epoch 51 of 100 took 1.501s\n",
      "  training loss (in-iteration): \t1.474836\n",
      "  validation loss (in-iteration): \t1.496075\n",
      "  training accuracy: \t\t\t47.66 %\n",
      "  validation accuracy: \t\t\t46.73 %\n",
      "Epoch 52 of 100 took 1.496s\n",
      "  training loss (in-iteration): \t1.468884\n",
      "  validation loss (in-iteration): \t1.488843\n",
      "  training accuracy: \t\t\t48.02 %\n",
      "  validation accuracy: \t\t\t47.23 %\n",
      "Epoch 53 of 100 took 1.868s\n",
      "  training loss (in-iteration): \t1.463302\n",
      "  validation loss (in-iteration): \t1.496783\n",
      "  training accuracy: \t\t\t48.03 %\n",
      "  validation accuracy: \t\t\t47.13 %\n",
      "Epoch 54 of 100 took 2.293s\n",
      "  training loss (in-iteration): \t1.457259\n",
      "  validation loss (in-iteration): \t1.493387\n",
      "  training accuracy: \t\t\t48.29 %\n",
      "  validation accuracy: \t\t\t47.12 %\n",
      "Epoch 55 of 100 took 1.762s\n",
      "  training loss (in-iteration): \t1.451880\n",
      "  validation loss (in-iteration): \t1.482046\n",
      "  training accuracy: \t\t\t48.33 %\n",
      "  validation accuracy: \t\t\t47.48 %\n",
      "Epoch 56 of 100 took 1.522s\n",
      "  training loss (in-iteration): \t1.445135\n",
      "  validation loss (in-iteration): \t1.480779\n",
      "  training accuracy: \t\t\t48.45 %\n",
      "  validation accuracy: \t\t\t47.14 %\n",
      "Epoch 57 of 100 took 1.459s\n",
      "  training loss (in-iteration): \t1.441063\n",
      "  validation loss (in-iteration): \t1.483623\n",
      "  training accuracy: \t\t\t48.88 %\n",
      "  validation accuracy: \t\t\t47.17 %\n",
      "Epoch 58 of 100 took 1.465s\n",
      "  training loss (in-iteration): \t1.435408\n",
      "  validation loss (in-iteration): \t1.487357\n",
      "  training accuracy: \t\t\t48.94 %\n",
      "  validation accuracy: \t\t\t46.64 %\n",
      "Epoch 59 of 100 took 1.459s\n",
      "  training loss (in-iteration): \t1.429878\n",
      "  validation loss (in-iteration): \t1.477515\n",
      "  training accuracy: \t\t\t49.04 %\n",
      "  validation accuracy: \t\t\t47.54 %\n",
      "Epoch 60 of 100 took 1.522s\n",
      "  training loss (in-iteration): \t1.425330\n",
      "  validation loss (in-iteration): \t1.465182\n",
      "  training accuracy: \t\t\t49.25 %\n",
      "  validation accuracy: \t\t\t47.93 %\n",
      "Epoch 61 of 100 took 1.499s\n",
      "  training loss (in-iteration): \t1.420020\n",
      "  validation loss (in-iteration): \t1.488552\n",
      "  training accuracy: \t\t\t49.33 %\n",
      "  validation accuracy: \t\t\t47.43 %\n",
      "Epoch 62 of 100 took 1.545s\n",
      "  training loss (in-iteration): \t1.414223\n",
      "  validation loss (in-iteration): \t1.474523\n",
      "  training accuracy: \t\t\t49.81 %\n",
      "  validation accuracy: \t\t\t47.32 %\n",
      "Epoch 63 of 100 took 1.773s\n",
      "  training loss (in-iteration): \t1.409177\n",
      "  validation loss (in-iteration): \t1.458986\n",
      "  training accuracy: \t\t\t49.83 %\n",
      "  validation accuracy: \t\t\t48.12 %\n",
      "Epoch 64 of 100 took 1.498s\n",
      "  training loss (in-iteration): \t1.405300\n",
      "  validation loss (in-iteration): \t1.464440\n",
      "  training accuracy: \t\t\t49.96 %\n",
      "  validation accuracy: \t\t\t48.42 %\n",
      "Epoch 65 of 100 took 1.512s\n",
      "  training loss (in-iteration): \t1.401225\n",
      "  validation loss (in-iteration): \t1.446323\n",
      "  training accuracy: \t\t\t50.20 %\n",
      "  validation accuracy: \t\t\t48.33 %\n",
      "Epoch 66 of 100 took 1.507s\n",
      "  training loss (in-iteration): \t1.394602\n",
      "  validation loss (in-iteration): \t1.452098\n",
      "  training accuracy: \t\t\t50.40 %\n",
      "  validation accuracy: \t\t\t48.34 %\n",
      "Epoch 67 of 100 took 1.507s\n",
      "  training loss (in-iteration): \t1.390568\n",
      "  validation loss (in-iteration): \t1.449239\n",
      "  training accuracy: \t\t\t50.49 %\n",
      "  validation accuracy: \t\t\t48.61 %\n",
      "Epoch 68 of 100 took 1.474s\n",
      "  training loss (in-iteration): \t1.387136\n",
      "  validation loss (in-iteration): \t1.473226\n",
      "  training accuracy: \t\t\t50.58 %\n",
      "  validation accuracy: \t\t\t47.85 %\n",
      "Epoch 69 of 100 took 1.468s\n",
      "  training loss (in-iteration): \t1.381360\n",
      "  validation loss (in-iteration): \t1.462254\n",
      "  training accuracy: \t\t\t50.96 %\n",
      "  validation accuracy: \t\t\t48.21 %\n",
      "Epoch 70 of 100 took 1.560s\n",
      "  training loss (in-iteration): \t1.378026\n",
      "  validation loss (in-iteration): \t1.433363\n",
      "  training accuracy: \t\t\t50.99 %\n",
      "  validation accuracy: \t\t\t49.18 %\n",
      "Epoch 71 of 100 took 1.753s\n",
      "  training loss (in-iteration): \t1.372407\n",
      "  validation loss (in-iteration): \t1.445175\n",
      "  training accuracy: \t\t\t51.25 %\n",
      "  validation accuracy: \t\t\t48.75 %\n",
      "Epoch 72 of 100 took 1.475s\n",
      "  training loss (in-iteration): \t1.368787\n",
      "  validation loss (in-iteration): \t1.440866\n",
      "  training accuracy: \t\t\t51.43 %\n",
      "  validation accuracy: \t\t\t48.98 %\n",
      "Epoch 73 of 100 took 1.522s\n",
      "  training loss (in-iteration): \t1.364542\n",
      "  validation loss (in-iteration): \t1.441401\n",
      "  training accuracy: \t\t\t51.68 %\n",
      "  validation accuracy: \t\t\t49.46 %\n",
      "Epoch 74 of 100 took 1.497s\n",
      "  training loss (in-iteration): \t1.358951\n",
      "  validation loss (in-iteration): \t1.456506\n",
      "  training accuracy: \t\t\t51.58 %\n",
      "  validation accuracy: \t\t\t48.74 %\n",
      "Epoch 75 of 100 took 1.479s\n",
      "  training loss (in-iteration): \t1.355925\n",
      "  validation loss (in-iteration): \t1.424447\n",
      "  training accuracy: \t\t\t51.88 %\n",
      "  validation accuracy: \t\t\t49.43 %\n",
      "Epoch 76 of 100 took 1.493s\n",
      "  training loss (in-iteration): \t1.350899\n",
      "  validation loss (in-iteration): \t1.450388\n",
      "  training accuracy: \t\t\t51.97 %\n",
      "  validation accuracy: \t\t\t48.68 %\n",
      "Epoch 77 of 100 took 1.471s\n",
      "  training loss (in-iteration): \t1.347351\n",
      "  validation loss (in-iteration): \t1.419081\n",
      "  training accuracy: \t\t\t51.94 %\n",
      "  validation accuracy: \t\t\t49.98 %\n",
      "Epoch 78 of 100 took 1.582s\n",
      "  training loss (in-iteration): \t1.341526\n",
      "  validation loss (in-iteration): \t1.431232\n",
      "  training accuracy: \t\t\t52.06 %\n",
      "  validation accuracy: \t\t\t49.29 %\n",
      "Epoch 79 of 100 took 1.706s\n",
      "  training loss (in-iteration): \t1.338987\n",
      "  validation loss (in-iteration): \t1.415138\n",
      "  training accuracy: \t\t\t52.34 %\n",
      "  validation accuracy: \t\t\t49.82 %\n",
      "Epoch 80 of 100 took 1.463s\n",
      "  training loss (in-iteration): \t1.333374\n",
      "  validation loss (in-iteration): \t1.460624\n",
      "  training accuracy: \t\t\t52.40 %\n",
      "  validation accuracy: \t\t\t48.63 %\n",
      "Epoch 81 of 100 took 1.483s\n",
      "  training loss (in-iteration): \t1.329807\n",
      "  validation loss (in-iteration): \t1.432264\n",
      "  training accuracy: \t\t\t52.61 %\n",
      "  validation accuracy: \t\t\t49.06 %\n",
      "Epoch 82 of 100 took 1.463s\n",
      "  training loss (in-iteration): \t1.325868\n",
      "  validation loss (in-iteration): \t1.423286\n",
      "  training accuracy: \t\t\t52.79 %\n",
      "  validation accuracy: \t\t\t49.66 %\n",
      "Epoch 83 of 100 took 1.462s\n",
      "  training loss (in-iteration): \t1.322139\n",
      "  validation loss (in-iteration): \t1.417945\n",
      "  training accuracy: \t\t\t52.95 %\n",
      "  validation accuracy: \t\t\t49.82 %\n",
      "Epoch 84 of 100 took 1.445s\n",
      "  training loss (in-iteration): \t1.318881\n",
      "  validation loss (in-iteration): \t1.447159\n",
      "  training accuracy: \t\t\t53.02 %\n",
      "  validation accuracy: \t\t\t48.89 %\n",
      "Epoch 85 of 100 took 1.477s\n",
      "  training loss (in-iteration): \t1.312523\n",
      "  validation loss (in-iteration): \t1.447950\n",
      "  training accuracy: \t\t\t53.12 %\n",
      "  validation accuracy: \t\t\t48.59 %\n",
      "Epoch 86 of 100 took 1.614s\n",
      "  training loss (in-iteration): \t1.309675\n",
      "  validation loss (in-iteration): \t1.452864\n",
      "  training accuracy: \t\t\t53.38 %\n",
      "  validation accuracy: \t\t\t48.68 %\n",
      "Epoch 87 of 100 took 1.724s\n",
      "  training loss (in-iteration): \t1.306249\n",
      "  validation loss (in-iteration): \t1.421060\n",
      "  training accuracy: \t\t\t53.41 %\n",
      "  validation accuracy: \t\t\t49.70 %\n",
      "Epoch 88 of 100 took 1.469s\n",
      "  training loss (in-iteration): \t1.300173\n",
      "  validation loss (in-iteration): \t1.402606\n",
      "  training accuracy: \t\t\t53.69 %\n",
      "  validation accuracy: \t\t\t50.74 %\n",
      "Epoch 89 of 100 took 1.495s\n",
      "  training loss (in-iteration): \t1.299468\n",
      "  validation loss (in-iteration): \t1.423628\n",
      "  training accuracy: \t\t\t53.66 %\n",
      "  validation accuracy: \t\t\t49.59 %\n",
      "Epoch 90 of 100 took 1.472s\n",
      "  training loss (in-iteration): \t1.292805\n",
      "  validation loss (in-iteration): \t1.427490\n",
      "  training accuracy: \t\t\t53.90 %\n",
      "  validation accuracy: \t\t\t49.38 %\n",
      "Epoch 91 of 100 took 1.464s\n",
      "  training loss (in-iteration): \t1.289244\n",
      "  validation loss (in-iteration): \t1.393003\n",
      "  training accuracy: \t\t\t54.05 %\n",
      "  validation accuracy: \t\t\t50.59 %\n",
      "Epoch 92 of 100 took 1.454s\n",
      "  training loss (in-iteration): \t1.285529\n",
      "  validation loss (in-iteration): \t1.418522\n",
      "  training accuracy: \t\t\t54.21 %\n",
      "  validation accuracy: \t\t\t49.56 %\n",
      "Epoch 93 of 100 took 1.458s\n",
      "  training loss (in-iteration): \t1.281875\n",
      "  validation loss (in-iteration): \t1.400591\n",
      "  training accuracy: \t\t\t54.26 %\n",
      "  validation accuracy: \t\t\t50.19 %\n",
      "Epoch 94 of 100 took 1.565s\n",
      "  training loss (in-iteration): \t1.276248\n",
      "  validation loss (in-iteration): \t1.433887\n",
      "  training accuracy: \t\t\t54.58 %\n",
      "  validation accuracy: \t\t\t49.35 %\n",
      "Epoch 95 of 100 took 1.730s\n",
      "  training loss (in-iteration): \t1.274497\n",
      "  validation loss (in-iteration): \t1.408834\n",
      "  training accuracy: \t\t\t54.64 %\n",
      "  validation accuracy: \t\t\t50.17 %\n",
      "Epoch 96 of 100 took 1.488s\n",
      "  training loss (in-iteration): \t1.268638\n",
      "  validation loss (in-iteration): \t1.394927\n",
      "  training accuracy: \t\t\t54.87 %\n",
      "  validation accuracy: \t\t\t50.91 %\n",
      "Epoch 97 of 100 took 1.442s\n",
      "  training loss (in-iteration): \t1.265818\n",
      "  validation loss (in-iteration): \t1.411451\n",
      "  training accuracy: \t\t\t55.13 %\n",
      "  validation accuracy: \t\t\t50.08 %\n",
      "Epoch 98 of 100 took 1.459s\n",
      "  training loss (in-iteration): \t1.261149\n",
      "  validation loss (in-iteration): \t1.385962\n",
      "  training accuracy: \t\t\t55.06 %\n",
      "  validation accuracy: \t\t\t50.97 %\n",
      "Epoch 99 of 100 took 1.448s\n",
      "  training loss (in-iteration): \t1.258479\n",
      "  validation loss (in-iteration): \t1.393124\n",
      "  training accuracy: \t\t\t55.17 %\n",
      "  validation accuracy: \t\t\t51.12 %\n",
      "Epoch 100 of 100 took 1.477s\n",
      "  training loss (in-iteration): \t1.251662\n",
      "  validation loss (in-iteration): \t1.430424\n",
      "  training accuracy: \t\t\t55.27 %\n",
      "  validation accuracy: \t\t\t49.87 %\n"
     ]
    }
   ],
   "source": [
    "model = MySimpleModel().to(device)\n",
    "criterion = nn.CrossEntropyLoss()\n",
    "\n",
    "optimizer = torch.optim.SGD(model.parameters(), lr=0.01)\n",
    "\n",
    "model, history = train(\n",
    "    model, criterion, optimizer,\n",
    "    X_train, y_train,\n",
    "    X_val, y_val,\n",
    "    num_epochs=100,\n",
    "    batch_size=50,\n",
    "    model_path='simple_model.pth'\n",
    ")"
   ]
  },
  {
   "cell_type": "code",
   "execution_count": 191,
   "metadata": {
    "colab": {
     "base_uri": "https://localhost:8080/",
     "height": 573
    },
    "id": "VM7LPDCg0iHb",
    "outputId": "482e0851-d0ea-4e74-912d-b239deea2bef"
   },
   "outputs": [
    {
     "data": {
      "image/png": "[encoded data removed]",
      "text/plain": [
       "<Figure size 2000x700 with 2 Axes>"
      ]
     },
     "metadata": {},
     "output_type": "display_data"
    }
   ],
   "source": [
    "plot_learning_curves(history)"
   ]
  },
  {
   "cell_type": "markdown",
   "metadata": {
    "id": "N2BGXT4N3Y2j"
   },
   "source": [
    "Оцените качество"
   ]
  },
  {
   "cell_type": "code",
   "execution_count": 192,
   "metadata": {
    "colab": {
     "base_uri": "https://localhost:8080/"
    },
    "id": "b20dXVrw3bUd",
    "outputId": "84793caa-1cf6-4dcc-acf0-7a7db8b383a3"
   },
   "outputs": [
    {
     "name": "stdout",
     "output_type": "stream",
     "text": [
      "Точность на валидации:  49.87 %\n"
     ]
    }
   ],
   "source": [
    "print('Точность на валидации: ', history['acc']['val'][-1] * 100, '%')"
   ]
  },
  {
   "cell_type": "markdown",
   "metadata": {
    "id": "MWvieepLH7BO"
   },
   "source": [
    "Что изменилось в процессе обучения? Стало ли предсказание лучше?"
   ]
  },
  {
   "cell_type": "markdown",
   "metadata": {
    "id": "-jSKf-lb9Cn6"
   },
   "source": [
    "предсказание немного ухудшилось(?!)\n"
   ]
  },
  {
   "cell_type": "markdown",
   "metadata": {
    "id": "phz-nq2BH7BO"
   },
   "source": [
    "\n",
    "**ЗАДАНИЕ 6**\n"
   ]
  },
  {
   "cell_type": "markdown",
   "metadata": {
    "id": "QlDsavJh3mHq"
   },
   "source": [
    "Измените количество признаков на скрытом слое"
   ]
  },
  {
   "cell_type": "code",
   "execution_count": 193,
   "metadata": {
    "id": "Qg-9YQufH7BP"
   },
   "outputs": [],
   "source": [
    "class MySimpleModel(nn.Module):\n",
    "    def __init__(self):\n",
    "        '''\n",
    "        Здесь объявляем все слои, которые будем использовать\n",
    "        '''\n",
    "        super(MySimpleModel, self).__init__()\n",
    "        self.linear1 = nn.Linear(3 * 32 * 32, 526)\n",
    "        self.linear2 = nn.Linear(526, 64)\n",
    "        self.linear3 = nn.Linear(64, 10)\n",
    "\n",
    "    def forward(self, x):\n",
    "        '''\n",
    "        Здесь пишем в коде, в каком порядке какой слой будет применяться\n",
    "        '''\n",
    "        x = self.linear1(nn.Flatten()(x))\n",
    "        x = self.linear2(nn.Sigmoid()(x))\n",
    "        x = self.linear3(nn.ReLU()(x))\n",
    "        return x"
   ]
  },
  {
   "cell_type": "markdown",
   "metadata": {
    "id": "Belo2F-w5HAJ"
   },
   "source": [
    "Обучите модель."
   ]
  },
  {
   "cell_type": "code",
   "execution_count": 181,
   "metadata": {
    "colab": {
     "base_uri": "https://localhost:8080/"
    },
    "id": "S1MNSer65HAL",
    "outputId": "21a5d95e-eea1-480b-954d-b6cfd4ec3870"
   },
   "outputs": [
    {
     "name": "stdout",
     "output_type": "stream",
     "text": [
      "Epoch 1 of 100 took 1.502s\n",
      "  training loss (in-iteration): \t2.281176\n",
      "  validation loss (in-iteration): \t2.247230\n",
      "  training accuracy: \t\t\t15.83 %\n",
      "  validation accuracy: \t\t\t18.73 %\n",
      "Epoch 2 of 100 took 1.489s\n",
      "  training loss (in-iteration): \t2.176693\n",
      "  validation loss (in-iteration): \t2.100205\n",
      "  training accuracy: \t\t\t22.12 %\n",
      "  validation accuracy: \t\t\t25.59 %\n",
      "Epoch 3 of 100 took 1.480s\n",
      "  training loss (in-iteration): \t2.060386\n",
      "  validation loss (in-iteration): \t2.007313\n",
      "  training accuracy: \t\t\t25.54 %\n",
      "  validation accuracy: \t\t\t27.56 %\n",
      "Epoch 4 of 100 took 2.058s\n",
      "  training loss (in-iteration): \t1.991107\n",
      "  validation loss (in-iteration): \t1.952709\n",
      "  training accuracy: \t\t\t27.74 %\n",
      "  validation accuracy: \t\t\t29.93 %\n",
      "Epoch 5 of 100 took 1.498s\n",
      "  training loss (in-iteration): \t1.946807\n",
      "  validation loss (in-iteration): \t1.907605\n",
      "  training accuracy: \t\t\t29.50 %\n",
      "  validation accuracy: \t\t\t31.93 %\n",
      "Epoch 6 of 100 took 1.555s\n",
      "  training loss (in-iteration): \t1.915199\n",
      "  validation loss (in-iteration): \t1.876513\n",
      "  training accuracy: \t\t\t31.38 %\n",
      "  validation accuracy: \t\t\t34.02 %\n",
      "Epoch 7 of 100 took 1.786s\n",
      "  training loss (in-iteration): \t1.890024\n",
      "  validation loss (in-iteration): \t1.869657\n",
      "  training accuracy: \t\t\t32.55 %\n",
      "  validation accuracy: \t\t\t33.80 %\n",
      "Epoch 8 of 100 took 1.509s\n",
      "  training loss (in-iteration): \t1.869691\n",
      "  validation loss (in-iteration): \t1.836619\n",
      "  training accuracy: \t\t\t33.54 %\n",
      "  validation accuracy: \t\t\t34.81 %\n",
      "Epoch 9 of 100 took 1.489s\n",
      "  training loss (in-iteration): \t1.849983\n",
      "  validation loss (in-iteration): \t1.821128\n",
      "  training accuracy: \t\t\t33.95 %\n",
      "  validation accuracy: \t\t\t35.52 %\n",
      "Epoch 10 of 100 took 1.511s\n",
      "  training loss (in-iteration): \t1.832240\n",
      "  validation loss (in-iteration): \t1.809456\n",
      "  training accuracy: \t\t\t34.59 %\n",
      "  validation accuracy: \t\t\t35.51 %\n",
      "Epoch 11 of 100 took 1.499s\n",
      "  training loss (in-iteration): \t1.818718\n",
      "  validation loss (in-iteration): \t1.787719\n",
      "  training accuracy: \t\t\t35.19 %\n",
      "  validation accuracy: \t\t\t36.20 %\n",
      "Epoch 12 of 100 took 1.512s\n",
      "  training loss (in-iteration): \t1.806383\n",
      "  validation loss (in-iteration): \t1.776283\n",
      "  training accuracy: \t\t\t35.59 %\n",
      "  validation accuracy: \t\t\t36.80 %\n",
      "Epoch 13 of 100 took 1.483s\n",
      "  training loss (in-iteration): \t1.793500\n",
      "  validation loss (in-iteration): \t1.762798\n",
      "  training accuracy: \t\t\t36.05 %\n",
      "  validation accuracy: \t\t\t37.09 %\n",
      "Epoch 14 of 100 took 1.529s\n",
      "  training loss (in-iteration): \t1.783996\n",
      "  validation loss (in-iteration): \t1.764751\n",
      "  training accuracy: \t\t\t36.35 %\n",
      "  validation accuracy: \t\t\t37.69 %\n",
      "Epoch 15 of 100 took 1.710s\n",
      "  training loss (in-iteration): \t1.770859\n",
      "  validation loss (in-iteration): \t1.751552\n",
      "  training accuracy: \t\t\t37.00 %\n",
      "  validation accuracy: \t\t\t37.62 %\n",
      "Epoch 16 of 100 took 1.491s\n",
      "  training loss (in-iteration): \t1.759806\n",
      "  validation loss (in-iteration): \t1.732800\n",
      "  training accuracy: \t\t\t37.30 %\n",
      "  validation accuracy: \t\t\t38.23 %\n",
      "Epoch 17 of 100 took 1.481s\n",
      "  training loss (in-iteration): \t1.749263\n",
      "  validation loss (in-iteration): \t1.739910\n",
      "  training accuracy: \t\t\t37.60 %\n",
      "  validation accuracy: \t\t\t38.02 %\n",
      "Epoch 18 of 100 took 1.507s\n",
      "  training loss (in-iteration): \t1.738340\n",
      "  validation loss (in-iteration): \t1.718173\n",
      "  training accuracy: \t\t\t38.33 %\n",
      "  validation accuracy: \t\t\t38.76 %\n",
      "Epoch 19 of 100 took 1.472s\n",
      "  training loss (in-iteration): \t1.726789\n",
      "  validation loss (in-iteration): \t1.707250\n",
      "  training accuracy: \t\t\t38.63 %\n",
      "  validation accuracy: \t\t\t38.98 %\n",
      "Epoch 20 of 100 took 1.488s\n",
      "  training loss (in-iteration): \t1.714923\n",
      "  validation loss (in-iteration): \t1.710858\n",
      "  training accuracy: \t\t\t39.00 %\n",
      "  validation accuracy: \t\t\t38.57 %\n",
      "Epoch 21 of 100 took 1.462s\n",
      "  training loss (in-iteration): \t1.705048\n",
      "  validation loss (in-iteration): \t1.692570\n",
      "  training accuracy: \t\t\t39.68 %\n",
      "  validation accuracy: \t\t\t39.90 %\n",
      "Epoch 22 of 100 took 1.557s\n",
      "  training loss (in-iteration): \t1.694290\n",
      "  validation loss (in-iteration): \t1.683023\n",
      "  training accuracy: \t\t\t39.81 %\n",
      "  validation accuracy: \t\t\t40.13 %\n",
      "Epoch 23 of 100 took 1.784s\n",
      "  training loss (in-iteration): \t1.683333\n",
      "  validation loss (in-iteration): \t1.696568\n",
      "  training accuracy: \t\t\t40.42 %\n",
      "  validation accuracy: \t\t\t39.45 %\n",
      "Epoch 24 of 100 took 1.479s\n",
      "  training loss (in-iteration): \t1.672921\n",
      "  validation loss (in-iteration): \t1.667100\n",
      "  training accuracy: \t\t\t40.54 %\n",
      "  validation accuracy: \t\t\t40.72 %\n",
      "Epoch 25 of 100 took 1.505s\n",
      "  training loss (in-iteration): \t1.664371\n",
      "  validation loss (in-iteration): \t1.647559\n",
      "  training accuracy: \t\t\t40.88 %\n",
      "  validation accuracy: \t\t\t41.17 %\n",
      "Epoch 26 of 100 took 1.483s\n",
      "  training loss (in-iteration): \t1.655095\n",
      "  validation loss (in-iteration): \t1.669885\n",
      "  training accuracy: \t\t\t41.11 %\n",
      "  validation accuracy: \t\t\t41.05 %\n",
      "Epoch 27 of 100 took 1.437s\n",
      "  training loss (in-iteration): \t1.646858\n",
      "  validation loss (in-iteration): \t1.632852\n",
      "  training accuracy: \t\t\t41.66 %\n",
      "  validation accuracy: \t\t\t41.63 %\n",
      "Epoch 28 of 100 took 1.466s\n",
      "  training loss (in-iteration): \t1.637769\n",
      "  validation loss (in-iteration): \t1.629763\n",
      "  training accuracy: \t\t\t41.77 %\n",
      "  validation accuracy: \t\t\t42.05 %\n",
      "Epoch 29 of 100 took 1.468s\n",
      "  training loss (in-iteration): \t1.629405\n",
      "  validation loss (in-iteration): \t1.628319\n",
      "  training accuracy: \t\t\t42.37 %\n",
      "  validation accuracy: \t\t\t42.44 %\n",
      "Epoch 30 of 100 took 1.572s\n",
      "  training loss (in-iteration): \t1.621425\n",
      "  validation loss (in-iteration): \t1.610664\n",
      "  training accuracy: \t\t\t42.32 %\n",
      "  validation accuracy: \t\t\t43.10 %\n",
      "Epoch 31 of 100 took 1.761s\n",
      "  training loss (in-iteration): \t1.614866\n",
      "  validation loss (in-iteration): \t1.615482\n",
      "  training accuracy: \t\t\t42.63 %\n",
      "  validation accuracy: \t\t\t42.16 %\n",
      "Epoch 32 of 100 took 1.523s\n",
      "  training loss (in-iteration): \t1.608322\n",
      "  validation loss (in-iteration): \t1.601120\n",
      "  training accuracy: \t\t\t43.02 %\n",
      "  validation accuracy: \t\t\t43.32 %\n",
      "Epoch 33 of 100 took 1.486s\n",
      "  training loss (in-iteration): \t1.601755\n",
      "  validation loss (in-iteration): \t1.600999\n",
      "  training accuracy: \t\t\t43.26 %\n",
      "  validation accuracy: \t\t\t42.88 %\n",
      "Epoch 34 of 100 took 1.479s\n",
      "  training loss (in-iteration): \t1.594139\n",
      "  validation loss (in-iteration): \t1.594760\n",
      "  training accuracy: \t\t\t43.48 %\n",
      "  validation accuracy: \t\t\t43.50 %\n",
      "Epoch 35 of 100 took 1.485s\n",
      "  training loss (in-iteration): \t1.588259\n",
      "  validation loss (in-iteration): \t1.586542\n",
      "  training accuracy: \t\t\t43.91 %\n",
      "  validation accuracy: \t\t\t43.74 %\n",
      "Epoch 36 of 100 took 2.109s\n",
      "  training loss (in-iteration): \t1.584026\n",
      "  validation loss (in-iteration): \t1.592944\n",
      "  training accuracy: \t\t\t43.81 %\n",
      "  validation accuracy: \t\t\t43.18 %\n",
      "Epoch 37 of 100 took 2.128s\n",
      "  training loss (in-iteration): \t1.577764\n",
      "  validation loss (in-iteration): \t1.573201\n",
      "  training accuracy: \t\t\t44.14 %\n",
      "  validation accuracy: \t\t\t44.55 %\n",
      "Epoch 38 of 100 took 1.766s\n",
      "  training loss (in-iteration): \t1.572557\n",
      "  validation loss (in-iteration): \t1.578484\n",
      "  training accuracy: \t\t\t44.18 %\n",
      "  validation accuracy: \t\t\t43.29 %\n",
      "Epoch 39 of 100 took 1.521s\n",
      "  training loss (in-iteration): \t1.564973\n",
      "  validation loss (in-iteration): \t1.570222\n",
      "  training accuracy: \t\t\t44.66 %\n",
      "  validation accuracy: \t\t\t44.05 %\n",
      "Epoch 40 of 100 took 1.508s\n",
      "  training loss (in-iteration): \t1.560788\n",
      "  validation loss (in-iteration): \t1.567970\n",
      "  training accuracy: \t\t\t44.70 %\n",
      "  validation accuracy: \t\t\t44.34 %\n",
      "Epoch 41 of 100 took 1.545s\n",
      "  training loss (in-iteration): \t1.553940\n",
      "  validation loss (in-iteration): \t1.556682\n",
      "  training accuracy: \t\t\t44.89 %\n",
      "  validation accuracy: \t\t\t44.81 %\n",
      "Epoch 42 of 100 took 1.486s\n",
      "  training loss (in-iteration): \t1.549919\n",
      "  validation loss (in-iteration): \t1.552645\n",
      "  training accuracy: \t\t\t45.31 %\n",
      "  validation accuracy: \t\t\t45.29 %\n",
      "Epoch 43 of 100 took 1.499s\n",
      "  training loss (in-iteration): \t1.543811\n",
      "  validation loss (in-iteration): \t1.558303\n",
      "  training accuracy: \t\t\t45.19 %\n",
      "  validation accuracy: \t\t\t45.19 %\n",
      "Epoch 44 of 100 took 1.524s\n",
      "  training loss (in-iteration): \t1.539792\n",
      "  validation loss (in-iteration): \t1.565657\n",
      "  training accuracy: \t\t\t45.59 %\n",
      "  validation accuracy: \t\t\t44.86 %\n",
      "Epoch 45 of 100 took 1.594s\n",
      "  training loss (in-iteration): \t1.532365\n",
      "  validation loss (in-iteration): \t1.555220\n",
      "  training accuracy: \t\t\t45.69 %\n",
      "  validation accuracy: \t\t\t44.19 %\n",
      "Epoch 46 of 100 took 1.741s\n",
      "  training loss (in-iteration): \t1.529503\n",
      "  validation loss (in-iteration): \t1.544201\n",
      "  training accuracy: \t\t\t45.69 %\n",
      "  validation accuracy: \t\t\t45.13 %\n",
      "Epoch 47 of 100 took 1.489s\n",
      "  training loss (in-iteration): \t1.522983\n",
      "  validation loss (in-iteration): \t1.538223\n",
      "  training accuracy: \t\t\t46.21 %\n",
      "  validation accuracy: \t\t\t45.11 %\n",
      "Epoch 48 of 100 took 1.857s\n",
      "  training loss (in-iteration): \t1.518587\n",
      "  validation loss (in-iteration): \t1.526296\n",
      "  training accuracy: \t\t\t46.41 %\n",
      "  validation accuracy: \t\t\t45.99 %\n",
      "Epoch 49 of 100 took 1.833s\n",
      "  training loss (in-iteration): \t1.513660\n",
      "  validation loss (in-iteration): \t1.531396\n",
      "  training accuracy: \t\t\t46.43 %\n",
      "  validation accuracy: \t\t\t46.18 %\n",
      "Epoch 50 of 100 took 1.506s\n",
      "  training loss (in-iteration): \t1.507020\n",
      "  validation loss (in-iteration): \t1.528500\n",
      "  training accuracy: \t\t\t46.62 %\n",
      "  validation accuracy: \t\t\t45.61 %\n",
      "Epoch 51 of 100 took 1.491s\n",
      "  training loss (in-iteration): \t1.500684\n",
      "  validation loss (in-iteration): \t1.520079\n",
      "  training accuracy: \t\t\t47.04 %\n",
      "  validation accuracy: \t\t\t46.40 %\n",
      "Epoch 52 of 100 took 1.486s\n",
      "  training loss (in-iteration): \t1.495619\n",
      "  validation loss (in-iteration): \t1.516140\n",
      "  training accuracy: \t\t\t47.18 %\n",
      "  validation accuracy: \t\t\t46.40 %\n",
      "Epoch 53 of 100 took 1.693s\n",
      "  training loss (in-iteration): \t1.490982\n",
      "  validation loss (in-iteration): \t1.526485\n",
      "  training accuracy: \t\t\t47.36 %\n",
      "  validation accuracy: \t\t\t45.88 %\n",
      "Epoch 54 of 100 took 1.582s\n",
      "  training loss (in-iteration): \t1.486829\n",
      "  validation loss (in-iteration): \t1.515700\n",
      "  training accuracy: \t\t\t47.13 %\n",
      "  validation accuracy: \t\t\t46.16 %\n",
      "Epoch 55 of 100 took 1.498s\n",
      "  training loss (in-iteration): \t1.481887\n",
      "  validation loss (in-iteration): \t1.511870\n",
      "  training accuracy: \t\t\t47.63 %\n",
      "  validation accuracy: \t\t\t46.80 %\n",
      "Epoch 56 of 100 took 1.468s\n",
      "  training loss (in-iteration): \t1.475456\n",
      "  validation loss (in-iteration): \t1.507578\n",
      "  training accuracy: \t\t\t47.61 %\n",
      "  validation accuracy: \t\t\t46.58 %\n",
      "Epoch 57 of 100 took 1.490s\n",
      "  training loss (in-iteration): \t1.469558\n",
      "  validation loss (in-iteration): \t1.494568\n",
      "  training accuracy: \t\t\t47.94 %\n",
      "  validation accuracy: \t\t\t47.27 %\n",
      "Epoch 58 of 100 took 1.460s\n",
      "  training loss (in-iteration): \t1.464769\n",
      "  validation loss (in-iteration): \t1.495877\n",
      "  training accuracy: \t\t\t48.07 %\n",
      "  validation accuracy: \t\t\t46.74 %\n",
      "Epoch 59 of 100 took 1.475s\n",
      "  training loss (in-iteration): \t1.458824\n",
      "  validation loss (in-iteration): \t1.499380\n",
      "  training accuracy: \t\t\t48.20 %\n",
      "  validation accuracy: \t\t\t46.79 %\n",
      "Epoch 60 of 100 took 1.448s\n",
      "  training loss (in-iteration): \t1.454112\n",
      "  validation loss (in-iteration): \t1.491190\n",
      "  training accuracy: \t\t\t48.40 %\n",
      "  validation accuracy: \t\t\t46.85 %\n",
      "Epoch 61 of 100 took 1.755s\n",
      "  training loss (in-iteration): \t1.446920\n",
      "  validation loss (in-iteration): \t1.491303\n",
      "  training accuracy: \t\t\t48.81 %\n",
      "  validation accuracy: \t\t\t47.20 %\n",
      "Epoch 62 of 100 took 1.596s\n",
      "  training loss (in-iteration): \t1.444635\n",
      "  validation loss (in-iteration): \t1.487751\n",
      "  training accuracy: \t\t\t48.66 %\n",
      "  validation accuracy: \t\t\t46.79 %\n",
      "Epoch 63 of 100 took 1.493s\n",
      "  training loss (in-iteration): \t1.439070\n",
      "  validation loss (in-iteration): \t1.473532\n",
      "  training accuracy: \t\t\t48.99 %\n",
      "  validation accuracy: \t\t\t47.95 %\n",
      "Epoch 64 of 100 took 1.483s\n",
      "  training loss (in-iteration): \t1.433814\n",
      "  validation loss (in-iteration): \t1.467151\n",
      "  training accuracy: \t\t\t49.23 %\n",
      "  validation accuracy: \t\t\t48.43 %\n",
      "Epoch 65 of 100 took 1.476s\n",
      "  training loss (in-iteration): \t1.431241\n",
      "  validation loss (in-iteration): \t1.494071\n",
      "  training accuracy: \t\t\t49.21 %\n",
      "  validation accuracy: \t\t\t46.79 %\n",
      "Epoch 66 of 100 took 1.447s\n",
      "  training loss (in-iteration): \t1.425886\n",
      "  validation loss (in-iteration): \t1.474869\n",
      "  training accuracy: \t\t\t49.38 %\n",
      "  validation accuracy: \t\t\t47.58 %\n",
      "Epoch 67 of 100 took 1.504s\n",
      "  training loss (in-iteration): \t1.420698\n",
      "  validation loss (in-iteration): \t1.459790\n",
      "  training accuracy: \t\t\t49.59 %\n",
      "  validation accuracy: \t\t\t48.35 %\n",
      "Epoch 68 of 100 took 1.495s\n",
      "  training loss (in-iteration): \t1.417800\n",
      "  validation loss (in-iteration): \t1.467628\n",
      "  training accuracy: \t\t\t49.68 %\n",
      "  validation accuracy: \t\t\t48.04 %\n",
      "Epoch 69 of 100 took 1.738s\n",
      "  training loss (in-iteration): \t1.411712\n",
      "  validation loss (in-iteration): \t1.457712\n",
      "  training accuracy: \t\t\t49.74 %\n",
      "  validation accuracy: \t\t\t47.70 %\n",
      "Epoch 70 of 100 took 1.592s\n",
      "  training loss (in-iteration): \t1.407657\n",
      "  validation loss (in-iteration): \t1.459661\n",
      "  training accuracy: \t\t\t50.01 %\n",
      "  validation accuracy: \t\t\t48.21 %\n",
      "Epoch 71 of 100 took 1.467s\n",
      "  training loss (in-iteration): \t1.404483\n",
      "  validation loss (in-iteration): \t1.462790\n",
      "  training accuracy: \t\t\t50.23 %\n",
      "  validation accuracy: \t\t\t48.20 %\n",
      "Epoch 72 of 100 took 1.455s\n",
      "  training loss (in-iteration): \t1.399453\n",
      "  validation loss (in-iteration): \t1.460530\n",
      "  training accuracy: \t\t\t50.35 %\n",
      "  validation accuracy: \t\t\t48.17 %\n",
      "Epoch 73 of 100 took 1.478s\n",
      "  training loss (in-iteration): \t1.395255\n",
      "  validation loss (in-iteration): \t1.449977\n",
      "  training accuracy: \t\t\t50.47 %\n",
      "  validation accuracy: \t\t\t48.32 %\n",
      "Epoch 74 of 100 took 1.450s\n",
      "  training loss (in-iteration): \t1.390322\n",
      "  validation loss (in-iteration): \t1.480389\n",
      "  training accuracy: \t\t\t50.55 %\n",
      "  validation accuracy: \t\t\t47.38 %\n",
      "Epoch 75 of 100 took 1.459s\n",
      "  training loss (in-iteration): \t1.387108\n",
      "  validation loss (in-iteration): \t1.451980\n",
      "  training accuracy: \t\t\t50.75 %\n",
      "  validation accuracy: \t\t\t48.75 %\n",
      "Epoch 76 of 100 took 1.500s\n",
      "  training loss (in-iteration): \t1.383371\n",
      "  validation loss (in-iteration): \t1.451416\n",
      "  training accuracy: \t\t\t50.95 %\n",
      "  validation accuracy: \t\t\t48.52 %\n",
      "Epoch 77 of 100 took 1.730s\n",
      "  training loss (in-iteration): \t1.378605\n",
      "  validation loss (in-iteration): \t1.439953\n",
      "  training accuracy: \t\t\t51.09 %\n",
      "  validation accuracy: \t\t\t49.10 %\n",
      "Epoch 78 of 100 took 1.559s\n",
      "  training loss (in-iteration): \t1.375041\n",
      "  validation loss (in-iteration): \t1.445551\n",
      "  training accuracy: \t\t\t51.12 %\n",
      "  validation accuracy: \t\t\t48.50 %\n",
      "Epoch 79 of 100 took 1.459s\n",
      "  training loss (in-iteration): \t1.370449\n",
      "  validation loss (in-iteration): \t1.442424\n",
      "  training accuracy: \t\t\t51.12 %\n",
      "  validation accuracy: \t\t\t48.97 %\n",
      "Epoch 80 of 100 took 1.500s\n",
      "  training loss (in-iteration): \t1.366452\n",
      "  validation loss (in-iteration): \t1.431836\n",
      "  training accuracy: \t\t\t51.47 %\n",
      "  validation accuracy: \t\t\t49.61 %\n",
      "Epoch 81 of 100 took 1.496s\n",
      "  training loss (in-iteration): \t1.363125\n",
      "  validation loss (in-iteration): \t1.432744\n",
      "  training accuracy: \t\t\t51.69 %\n",
      "  validation accuracy: \t\t\t49.15 %\n",
      "Epoch 82 of 100 took 1.466s\n",
      "  training loss (in-iteration): \t1.358192\n",
      "  validation loss (in-iteration): \t1.436945\n",
      "  training accuracy: \t\t\t51.73 %\n",
      "  validation accuracy: \t\t\t49.35 %\n",
      "Epoch 83 of 100 took 1.503s\n",
      "  training loss (in-iteration): \t1.354395\n",
      "  validation loss (in-iteration): \t1.449293\n",
      "  training accuracy: \t\t\t51.74 %\n",
      "  validation accuracy: \t\t\t49.02 %\n",
      "Epoch 84 of 100 took 1.490s\n",
      "  training loss (in-iteration): \t1.353014\n",
      "  validation loss (in-iteration): \t1.415832\n",
      "  training accuracy: \t\t\t51.88 %\n",
      "  validation accuracy: \t\t\t49.53 %\n",
      "Epoch 85 of 100 took 1.734s\n",
      "  training loss (in-iteration): \t1.346263\n",
      "  validation loss (in-iteration): \t1.426505\n",
      "  training accuracy: \t\t\t52.18 %\n",
      "  validation accuracy: \t\t\t49.32 %\n",
      "Epoch 86 of 100 took 1.560s\n",
      "  training loss (in-iteration): \t1.344108\n",
      "  validation loss (in-iteration): \t1.433091\n",
      "  training accuracy: \t\t\t52.14 %\n",
      "  validation accuracy: \t\t\t49.04 %\n",
      "Epoch 87 of 100 took 1.519s\n",
      "  training loss (in-iteration): \t1.338810\n",
      "  validation loss (in-iteration): \t1.437902\n",
      "  training accuracy: \t\t\t52.28 %\n",
      "  validation accuracy: \t\t\t49.55 %\n",
      "Epoch 88 of 100 took 1.497s\n",
      "  training loss (in-iteration): \t1.335132\n",
      "  validation loss (in-iteration): \t1.447718\n",
      "  training accuracy: \t\t\t52.53 %\n",
      "  validation accuracy: \t\t\t48.65 %\n",
      "Epoch 89 of 100 took 1.483s\n",
      "  training loss (in-iteration): \t1.331410\n",
      "  validation loss (in-iteration): \t1.429603\n",
      "  training accuracy: \t\t\t52.73 %\n",
      "  validation accuracy: \t\t\t49.29 %\n",
      "Epoch 90 of 100 took 1.484s\n",
      "  training loss (in-iteration): \t1.326626\n",
      "  validation loss (in-iteration): \t1.416272\n",
      "  training accuracy: \t\t\t52.90 %\n",
      "  validation accuracy: \t\t\t49.66 %\n",
      "Epoch 91 of 100 took 1.491s\n",
      "  training loss (in-iteration): \t1.324577\n",
      "  validation loss (in-iteration): \t1.411381\n",
      "  training accuracy: \t\t\t52.84 %\n",
      "  validation accuracy: \t\t\t49.72 %\n",
      "Epoch 92 of 100 took 1.477s\n",
      "  training loss (in-iteration): \t1.321208\n",
      "  validation loss (in-iteration): \t1.427568\n",
      "  training accuracy: \t\t\t52.96 %\n",
      "  validation accuracy: \t\t\t49.11 %\n",
      "Epoch 93 of 100 took 1.765s\n",
      "  training loss (in-iteration): \t1.317970\n",
      "  validation loss (in-iteration): \t1.431700\n",
      "  training accuracy: \t\t\t53.20 %\n",
      "  validation accuracy: \t\t\t49.41 %\n",
      "Epoch 94 of 100 took 1.529s\n",
      "  training loss (in-iteration): \t1.312849\n",
      "  validation loss (in-iteration): \t1.425475\n",
      "  training accuracy: \t\t\t53.32 %\n",
      "  validation accuracy: \t\t\t49.65 %\n",
      "Epoch 95 of 100 took 1.472s\n",
      "  training loss (in-iteration): \t1.309358\n",
      "  validation loss (in-iteration): \t1.404628\n",
      "  training accuracy: \t\t\t53.51 %\n",
      "  validation accuracy: \t\t\t50.31 %\n",
      "Epoch 96 of 100 took 1.453s\n",
      "  training loss (in-iteration): \t1.305326\n",
      "  validation loss (in-iteration): \t1.440365\n",
      "  training accuracy: \t\t\t53.60 %\n",
      "  validation accuracy: \t\t\t49.14 %\n",
      "Epoch 97 of 100 took 1.479s\n",
      "  training loss (in-iteration): \t1.301302\n",
      "  validation loss (in-iteration): \t1.414758\n",
      "  training accuracy: \t\t\t53.76 %\n",
      "  validation accuracy: \t\t\t49.72 %\n",
      "Epoch 98 of 100 took 1.476s\n",
      "  training loss (in-iteration): \t1.298674\n",
      "  validation loss (in-iteration): \t1.399114\n",
      "  training accuracy: \t\t\t53.71 %\n",
      "  validation accuracy: \t\t\t50.43 %\n",
      "Epoch 99 of 100 took 1.464s\n",
      "  training loss (in-iteration): \t1.294841\n",
      "  validation loss (in-iteration): \t1.401831\n",
      "  training accuracy: \t\t\t53.86 %\n",
      "  validation accuracy: \t\t\t49.96 %\n",
      "Epoch 100 of 100 took 1.548s\n",
      "  training loss (in-iteration): \t1.289314\n",
      "  validation loss (in-iteration): \t1.403376\n",
      "  training accuracy: \t\t\t53.96 %\n",
      "  validation accuracy: \t\t\t50.26 %\n"
     ]
    }
   ],
   "source": [
    "model = MySimpleModel().to(device)\n",
    "criterion = nn.CrossEntropyLoss()\n",
    "\n",
    "optimizer = torch.optim.SGD(model.parameters(), lr=0.01)\n",
    "\n",
    "model, history = train(\n",
    "    model, criterion, optimizer,\n",
    "    X_train, y_train,\n",
    "    X_val, y_val,\n",
    "    num_epochs=100,\n",
    "    batch_size=50,\n",
    "    model_path='simple_model.pth'\n",
    ")"
   ]
  },
  {
   "cell_type": "code",
   "execution_count": 182,
   "metadata": {
    "colab": {
     "base_uri": "https://localhost:8080/",
     "height": 573
    },
    "id": "QuWIi9Tw9dJN",
    "outputId": "97335ffe-4896-463b-ae53-9e4ac9107a12"
   },
   "outputs": [
    {
     "data": {
      "image/png": "[encoded data removed]",
      "text/plain": [
       "<Figure size 2000x700 with 2 Axes>"
      ]
     },
     "metadata": {},
     "output_type": "display_data"
    }
   ],
   "source": [
    "plot_learning_curves(history)"
   ]
  },
  {
   "cell_type": "markdown",
   "metadata": {
    "id": "APAGHSH75HAM"
   },
   "source": [
    "Оцените качество"
   ]
  },
  {
   "cell_type": "code",
   "execution_count": 183,
   "metadata": {
    "colab": {
     "base_uri": "https://localhost:8080/"
    },
    "id": "EUcFpr7e5HAM",
    "outputId": "18e1b3d1-7190-41f6-c7a4-391a29202d73"
   },
   "outputs": [
    {
     "name": "stdout",
     "output_type": "stream",
     "text": [
      "Точность на валидации:  50.260000000000005 %\n"
     ]
    }
   ],
   "source": [
    "print('Точность на валидации: ', history['acc']['val'][-1] * 100, '%')"
   ]
  },
  {
   "cell_type": "markdown",
   "metadata": {
    "id": "_zBhKxSJH7BP"
   },
   "source": [
    "С чем может быть связано изменение качества?"
   ]
  },
  {
   "cell_type": "markdown",
   "metadata": {
    "id": "FbfOeSX3Do_V"
   },
   "source": [
    "Сложная модель не означает хорошая"
   ]
  },
  {
   "cell_type": "markdown",
   "metadata": {
    "id": "jqGQMnpw4hr1"
   },
   "source": [
    "# DropOut"
   ]
  },
  {
   "cell_type": "markdown",
   "metadata": {
    "id": "FHx8j9kJ4mRz"
   },
   "source": [
    "Исключение или дропаут (от англ. dropout) — метод регуляризации искусственных нейронных сетей, предназначен для уменьшения переобучения сети за счет предотвращения сложных коадаптаций отдельных нейронов на тренировочных данных во время обучения.\n",
    "\n",
    "Термин «dropout» (выбивание, выбрасывание) характеризует исключение определённого процента (например 30 %) случайных нейронов (находящихся как в скрытых, так и видимых слоях) на разных итерациях (эпохах) во время обучения нейронной сети. Это очень эффективный способ усреднения моделей внутри нейронной сети. В результате более обученные нейроны получают в сети больший вес. Такой приём значительно увеличивает скорость обучения, качество обучения на тренировочных данных, а также повышает качество предсказаний модели на новых тестовых данных."
   ]
  },
  {
   "cell_type": "markdown",
   "metadata": {
    "id": "XuLZljA56kAe"
   },
   "source": [
    "После выключения какого-то процента нейронов слоя, неоюодимо перенормировать выходы этого слоя, поделив их на вероятность дропаута, чтобы сохранить распределение выходов. На инференсе ничего делать не надо, так как активированы все нейроны"
   ]
  },
  {
   "cell_type": "markdown",
   "metadata": {
    "id": "RZ8li_9wMVzB"
   },
   "source": [
    "Как вы уже догодываетесь, PyTorch все реализовал за нас. Для применения дропаута нужно дабавить слой `nn.Dropout()` в вашу модель."
   ]
  },
  {
   "cell_type": "markdown",
   "metadata": {
    "id": "RqCmq2ICQ5Nw"
   },
   "source": [
    "**ЗАДАНИЕ 7**\n",
    "\n",
    "Обучите сеть при разных значениях вероятности отключения нейронов (не менее 3 разных значений). Попробуйте улучшить имеющийся результат. Объясните полученные вами значения."
   ]
  },
  {
   "cell_type": "code",
   "execution_count": 196,
   "metadata": {
    "id": "_KATHrJhb7zA"
   },
   "outputs": [],
   "source": [
    "class MySimpleModel(nn.Module):\n",
    "    def __init__(self):\n",
    "        '''\n",
    "        Здесь объявляем все слои, которые будем использовать\n",
    "        '''\n",
    "        super(MySimpleModel, self).__init__()\n",
    "        self.linear1 = nn.Linear(3 * 32 * 32, 526)\n",
    "        self.linear2 = nn.Dropout(p = 0.3)\n",
    "        self.linear3 = nn.Linear(526, 64)\n",
    "        self.linear4 = nn.Linear(64, 10)\n",
    "\n",
    "    def forward(self, x):\n",
    "        '''\n",
    "        Здесь пишем в коде, в каком порядке какой слой будет применяться\n",
    "        '''\n",
    "        x = self.linear1(nn.Flatten()(x))\n",
    "        x = self.linear2(nn.Dropout(p = 0.3)(x))\n",
    "        x = self.linear3(nn.Sigmoid()(x))\n",
    "        x = self.linear4(nn.ReLU()(x))\n",
    "        return x"
   ]
  },
  {
   "cell_type": "code",
   "execution_count": 197,
   "metadata": {
    "colab": {
     "base_uri": "https://localhost:8080/"
    },
    "id": "mNrlvIxeBPpW",
    "outputId": "dd656613-6103-4bec-a2ae-6409a4dc69d3"
   },
   "outputs": [
    {
     "name": "stdout",
     "output_type": "stream",
     "text": [
      "Epoch 1 of 100 took 1.624s\n",
      "  training loss (in-iteration): \t2.286745\n",
      "  validation loss (in-iteration): \t2.259518\n",
      "  training accuracy: \t\t\t14.93 %\n",
      "  validation accuracy: \t\t\t20.49 %\n",
      "Epoch 2 of 100 took 1.575s\n",
      "  training loss (in-iteration): \t2.202826\n",
      "  validation loss (in-iteration): \t2.116234\n",
      "  training accuracy: \t\t\t21.77 %\n",
      "  validation accuracy: \t\t\t25.09 %\n",
      "Epoch 3 of 100 took 1.592s\n",
      "  training loss (in-iteration): \t2.071645\n",
      "  validation loss (in-iteration): \t2.004916\n",
      "  training accuracy: \t\t\t25.44 %\n",
      "  validation accuracy: \t\t\t28.36 %\n",
      "Epoch 4 of 100 took 1.606s\n",
      "  training loss (in-iteration): \t1.994841\n",
      "  validation loss (in-iteration): \t1.944743\n",
      "  training accuracy: \t\t\t27.34 %\n",
      "  validation accuracy: \t\t\t30.44 %\n",
      "Epoch 5 of 100 took 1.573s\n",
      "  training loss (in-iteration): \t1.952988\n",
      "  validation loss (in-iteration): \t1.932369\n",
      "  training accuracy: \t\t\t28.95 %\n",
      "  validation accuracy: \t\t\t29.56 %\n",
      "Epoch 6 of 100 took 1.611s\n",
      "  training loss (in-iteration): \t1.928075\n",
      "  validation loss (in-iteration): \t1.890975\n",
      "  training accuracy: \t\t\t30.06 %\n",
      "  validation accuracy: \t\t\t32.29 %\n",
      "Epoch 7 of 100 took 1.873s\n",
      "  training loss (in-iteration): \t1.906806\n",
      "  validation loss (in-iteration): \t1.870504\n",
      "  training accuracy: \t\t\t31.06 %\n",
      "  validation accuracy: \t\t\t33.36 %\n",
      "Epoch 8 of 100 took 1.687s\n",
      "  training loss (in-iteration): \t1.888715\n",
      "  validation loss (in-iteration): \t1.856731\n",
      "  training accuracy: \t\t\t32.14 %\n",
      "  validation accuracy: \t\t\t33.66 %\n",
      "Epoch 9 of 100 took 1.581s\n",
      "  training loss (in-iteration): \t1.869741\n",
      "  validation loss (in-iteration): \t1.830807\n",
      "  training accuracy: \t\t\t33.17 %\n",
      "  validation accuracy: \t\t\t34.82 %\n",
      "Epoch 10 of 100 took 1.583s\n",
      "  training loss (in-iteration): \t1.851785\n",
      "  validation loss (in-iteration): \t1.813770\n",
      "  training accuracy: \t\t\t33.85 %\n",
      "  validation accuracy: \t\t\t35.08 %\n",
      "Epoch 11 of 100 took 1.604s\n",
      "  training loss (in-iteration): \t1.833396\n",
      "  validation loss (in-iteration): \t1.795313\n",
      "  training accuracy: \t\t\t34.37 %\n",
      "  validation accuracy: \t\t\t36.12 %\n",
      "Epoch 12 of 100 took 1.594s\n",
      "  training loss (in-iteration): \t1.816592\n",
      "  validation loss (in-iteration): \t1.787009\n",
      "  training accuracy: \t\t\t35.17 %\n",
      "  validation accuracy: \t\t\t36.07 %\n",
      "Epoch 13 of 100 took 1.591s\n",
      "  training loss (in-iteration): \t1.804703\n",
      "  validation loss (in-iteration): \t1.763993\n",
      "  training accuracy: \t\t\t35.65 %\n",
      "  validation accuracy: \t\t\t37.13 %\n",
      "Epoch 14 of 100 took 1.763s\n",
      "  training loss (in-iteration): \t1.791649\n",
      "  validation loss (in-iteration): \t1.763914\n",
      "  training accuracy: \t\t\t35.88 %\n",
      "  validation accuracy: \t\t\t36.83 %\n",
      "Epoch 15 of 100 took 1.860s\n",
      "  training loss (in-iteration): \t1.779395\n",
      "  validation loss (in-iteration): \t1.759927\n",
      "  training accuracy: \t\t\t36.61 %\n",
      "  validation accuracy: \t\t\t36.95 %\n",
      "Epoch 16 of 100 took 1.625s\n",
      "  training loss (in-iteration): \t1.767781\n",
      "  validation loss (in-iteration): \t1.740716\n",
      "  training accuracy: \t\t\t36.85 %\n",
      "  validation accuracy: \t\t\t37.61 %\n",
      "Epoch 17 of 100 took 1.629s\n",
      "  training loss (in-iteration): \t1.758829\n",
      "  validation loss (in-iteration): \t1.726801\n",
      "  training accuracy: \t\t\t37.15 %\n",
      "  validation accuracy: \t\t\t38.23 %\n",
      "Epoch 18 of 100 took 1.618s\n",
      "  training loss (in-iteration): \t1.749088\n",
      "  validation loss (in-iteration): \t1.731487\n",
      "  training accuracy: \t\t\t37.59 %\n",
      "  validation accuracy: \t\t\t38.15 %\n",
      "Epoch 19 of 100 took 1.619s\n",
      "  training loss (in-iteration): \t1.740902\n",
      "  validation loss (in-iteration): \t1.710139\n",
      "  training accuracy: \t\t\t38.12 %\n",
      "  validation accuracy: \t\t\t38.95 %\n",
      "Epoch 20 of 100 took 1.587s\n",
      "  training loss (in-iteration): \t1.728841\n",
      "  validation loss (in-iteration): \t1.703559\n",
      "  training accuracy: \t\t\t38.42 %\n",
      "  validation accuracy: \t\t\t38.90 %\n",
      "Epoch 21 of 100 took 1.651s\n",
      "  training loss (in-iteration): \t1.720605\n",
      "  validation loss (in-iteration): \t1.699075\n",
      "  training accuracy: \t\t\t38.70 %\n",
      "  validation accuracy: \t\t\t39.32 %\n",
      "Epoch 22 of 100 took 1.957s\n",
      "  training loss (in-iteration): \t1.713654\n",
      "  validation loss (in-iteration): \t1.689071\n",
      "  training accuracy: \t\t\t38.77 %\n",
      "  validation accuracy: \t\t\t39.53 %\n",
      "Epoch 23 of 100 took 1.591s\n",
      "  training loss (in-iteration): \t1.705288\n",
      "  validation loss (in-iteration): \t1.685476\n",
      "  training accuracy: \t\t\t39.33 %\n",
      "  validation accuracy: \t\t\t39.54 %\n",
      "Epoch 24 of 100 took 1.628s\n",
      "  training loss (in-iteration): \t1.696732\n",
      "  validation loss (in-iteration): \t1.678645\n",
      "  training accuracy: \t\t\t39.48 %\n",
      "  validation accuracy: \t\t\t39.65 %\n",
      "Epoch 25 of 100 took 1.592s\n",
      "  training loss (in-iteration): \t1.691172\n",
      "  validation loss (in-iteration): \t1.680368\n",
      "  training accuracy: \t\t\t39.86 %\n",
      "  validation accuracy: \t\t\t40.07 %\n",
      "Epoch 26 of 100 took 1.569s\n",
      "  training loss (in-iteration): \t1.684381\n",
      "  validation loss (in-iteration): \t1.662045\n",
      "  training accuracy: \t\t\t40.33 %\n",
      "  validation accuracy: \t\t\t40.33 %\n",
      "Epoch 27 of 100 took 1.589s\n",
      "  training loss (in-iteration): \t1.676213\n",
      "  validation loss (in-iteration): \t1.664189\n",
      "  training accuracy: \t\t\t40.27 %\n",
      "  validation accuracy: \t\t\t40.61 %\n",
      "Epoch 28 of 100 took 1.567s\n",
      "  training loss (in-iteration): \t1.670227\n",
      "  validation loss (in-iteration): \t1.673109\n",
      "  training accuracy: \t\t\t40.45 %\n",
      "  validation accuracy: \t\t\t39.58 %\n",
      "Epoch 29 of 100 took 1.818s\n",
      "  training loss (in-iteration): \t1.663761\n",
      "  validation loss (in-iteration): \t1.654664\n",
      "  training accuracy: \t\t\t40.90 %\n",
      "  validation accuracy: \t\t\t40.94 %\n",
      "Epoch 30 of 100 took 1.762s\n",
      "  training loss (in-iteration): \t1.658906\n",
      "  validation loss (in-iteration): \t1.648052\n",
      "  training accuracy: \t\t\t40.84 %\n",
      "  validation accuracy: \t\t\t41.31 %\n",
      "Epoch 31 of 100 took 1.590s\n",
      "  training loss (in-iteration): \t1.653308\n",
      "  validation loss (in-iteration): \t1.652133\n",
      "  training accuracy: \t\t\t41.27 %\n",
      "  validation accuracy: \t\t\t41.60 %\n",
      "Epoch 32 of 100 took 1.601s\n",
      "  training loss (in-iteration): \t1.647827\n",
      "  validation loss (in-iteration): \t1.639427\n",
      "  training accuracy: \t\t\t41.46 %\n",
      "  validation accuracy: \t\t\t41.56 %\n",
      "Epoch 33 of 100 took 1.611s\n",
      "  training loss (in-iteration): \t1.644267\n",
      "  validation loss (in-iteration): \t1.631036\n",
      "  training accuracy: \t\t\t41.53 %\n",
      "  validation accuracy: \t\t\t41.75 %\n",
      "Epoch 34 of 100 took 1.595s\n",
      "  training loss (in-iteration): \t1.638628\n",
      "  validation loss (in-iteration): \t1.627558\n",
      "  training accuracy: \t\t\t41.94 %\n",
      "  validation accuracy: \t\t\t42.24 %\n",
      "Epoch 35 of 100 took 1.576s\n",
      "  training loss (in-iteration): \t1.634186\n",
      "  validation loss (in-iteration): \t1.646613\n",
      "  training accuracy: \t\t\t42.08 %\n",
      "  validation accuracy: \t\t\t41.03 %\n",
      "Epoch 36 of 100 took 1.736s\n",
      "  training loss (in-iteration): \t1.627612\n",
      "  validation loss (in-iteration): \t1.611418\n",
      "  training accuracy: \t\t\t42.07 %\n",
      "  validation accuracy: \t\t\t42.59 %\n",
      "Epoch 37 of 100 took 1.838s\n",
      "  training loss (in-iteration): \t1.623389\n",
      "  validation loss (in-iteration): \t1.610619\n",
      "  training accuracy: \t\t\t42.32 %\n",
      "  validation accuracy: \t\t\t42.32 %\n",
      "Epoch 38 of 100 took 1.595s\n",
      "  training loss (in-iteration): \t1.619014\n",
      "  validation loss (in-iteration): \t1.617246\n",
      "  training accuracy: \t\t\t42.50 %\n",
      "  validation accuracy: \t\t\t42.43 %\n",
      "Epoch 39 of 100 took 1.598s\n",
      "  training loss (in-iteration): \t1.614434\n",
      "  validation loss (in-iteration): \t1.621157\n",
      "  training accuracy: \t\t\t42.58 %\n",
      "  validation accuracy: \t\t\t42.39 %\n",
      "Epoch 40 of 100 took 1.612s\n",
      "  training loss (in-iteration): \t1.609183\n",
      "  validation loss (in-iteration): \t1.600959\n",
      "  training accuracy: \t\t\t43.03 %\n",
      "  validation accuracy: \t\t\t43.28 %\n",
      "Epoch 41 of 100 took 1.597s\n",
      "  training loss (in-iteration): \t1.604138\n",
      "  validation loss (in-iteration): \t1.609514\n",
      "  training accuracy: \t\t\t43.06 %\n",
      "  validation accuracy: \t\t\t42.69 %\n",
      "Epoch 42 of 100 took 1.598s\n",
      "  training loss (in-iteration): \t1.602254\n",
      "  validation loss (in-iteration): \t1.602774\n",
      "  training accuracy: \t\t\t43.07 %\n",
      "  validation accuracy: \t\t\t43.24 %\n",
      "Epoch 43 of 100 took 1.623s\n",
      "  training loss (in-iteration): \t1.598885\n",
      "  validation loss (in-iteration): \t1.610822\n",
      "  training accuracy: \t\t\t43.23 %\n",
      "  validation accuracy: \t\t\t43.00 %\n",
      "Epoch 44 of 100 took 1.943s\n",
      "  training loss (in-iteration): \t1.594419\n",
      "  validation loss (in-iteration): \t1.590630\n",
      "  training accuracy: \t\t\t43.48 %\n",
      "  validation accuracy: \t\t\t43.19 %\n",
      "Epoch 45 of 100 took 1.644s\n",
      "  training loss (in-iteration): \t1.588556\n",
      "  validation loss (in-iteration): \t1.618712\n",
      "  training accuracy: \t\t\t43.70 %\n",
      "  validation accuracy: \t\t\t42.11 %\n",
      "Epoch 46 of 100 took 1.627s\n",
      "  training loss (in-iteration): \t1.588285\n",
      "  validation loss (in-iteration): \t1.584959\n",
      "  training accuracy: \t\t\t43.53 %\n",
      "  validation accuracy: \t\t\t44.16 %\n",
      "Epoch 47 of 100 took 1.578s\n",
      "  training loss (in-iteration): \t1.583422\n",
      "  validation loss (in-iteration): \t1.608296\n",
      "  training accuracy: \t\t\t44.01 %\n",
      "  validation accuracy: \t\t\t42.91 %\n",
      "Epoch 48 of 100 took 1.612s\n",
      "  training loss (in-iteration): \t1.579283\n",
      "  validation loss (in-iteration): \t1.597160\n",
      "  training accuracy: \t\t\t43.68 %\n",
      "  validation accuracy: \t\t\t43.14 %\n",
      "Epoch 49 of 100 took 1.586s\n",
      "  training loss (in-iteration): \t1.574632\n",
      "  validation loss (in-iteration): \t1.578625\n",
      "  training accuracy: \t\t\t44.19 %\n",
      "  validation accuracy: \t\t\t43.92 %\n",
      "Epoch 50 of 100 took 1.618s\n",
      "  training loss (in-iteration): \t1.569708\n",
      "  validation loss (in-iteration): \t1.587751\n",
      "  training accuracy: \t\t\t44.08 %\n",
      "  validation accuracy: \t\t\t43.41 %\n",
      "Epoch 51 of 100 took 1.845s\n",
      "  training loss (in-iteration): \t1.565117\n",
      "  validation loss (in-iteration): \t1.627327\n",
      "  training accuracy: \t\t\t44.35 %\n",
      "  validation accuracy: \t\t\t42.35 %\n",
      "Epoch 52 of 100 took 1.732s\n",
      "  training loss (in-iteration): \t1.563993\n",
      "  validation loss (in-iteration): \t1.582690\n",
      "  training accuracy: \t\t\t44.52 %\n",
      "  validation accuracy: \t\t\t43.90 %\n",
      "Epoch 53 of 100 took 1.613s\n",
      "  training loss (in-iteration): \t1.560362\n",
      "  validation loss (in-iteration): \t1.573220\n",
      "  training accuracy: \t\t\t44.65 %\n",
      "  validation accuracy: \t\t\t44.23 %\n",
      "Epoch 54 of 100 took 1.616s\n",
      "  training loss (in-iteration): \t1.555009\n",
      "  validation loss (in-iteration): \t1.564431\n",
      "  training accuracy: \t\t\t44.51 %\n",
      "  validation accuracy: \t\t\t44.37 %\n",
      "Epoch 55 of 100 took 1.607s\n",
      "  training loss (in-iteration): \t1.552626\n",
      "  validation loss (in-iteration): \t1.560686\n",
      "  training accuracy: \t\t\t44.96 %\n",
      "  validation accuracy: \t\t\t44.34 %\n",
      "Epoch 56 of 100 took 1.621s\n",
      "  training loss (in-iteration): \t1.550831\n",
      "  validation loss (in-iteration): \t1.562997\n",
      "  training accuracy: \t\t\t45.03 %\n",
      "  validation accuracy: \t\t\t44.60 %\n",
      "Epoch 57 of 100 took 1.582s\n",
      "  training loss (in-iteration): \t1.549669\n",
      "  validation loss (in-iteration): \t1.580337\n",
      "  training accuracy: \t\t\t44.93 %\n",
      "  validation accuracy: \t\t\t44.41 %\n",
      "Epoch 58 of 100 took 1.724s\n",
      "  training loss (in-iteration): \t1.543338\n",
      "  validation loss (in-iteration): \t1.571566\n",
      "  training accuracy: \t\t\t45.45 %\n",
      "  validation accuracy: \t\t\t43.96 %\n",
      "Epoch 59 of 100 took 1.883s\n",
      "  training loss (in-iteration): \t1.541904\n",
      "  validation loss (in-iteration): \t1.562930\n",
      "  training accuracy: \t\t\t45.43 %\n",
      "  validation accuracy: \t\t\t44.40 %\n",
      "Epoch 60 of 100 took 2.474s\n",
      "  training loss (in-iteration): \t1.535495\n",
      "  validation loss (in-iteration): \t1.559930\n",
      "  training accuracy: \t\t\t45.38 %\n",
      "  validation accuracy: \t\t\t45.11 %\n",
      "Epoch 61 of 100 took 1.756s\n",
      "  training loss (in-iteration): \t1.534699\n",
      "  validation loss (in-iteration): \t1.561548\n",
      "  training accuracy: \t\t\t45.37 %\n",
      "  validation accuracy: \t\t\t45.10 %\n",
      "Epoch 62 of 100 took 1.599s\n",
      "  training loss (in-iteration): \t1.529247\n",
      "  validation loss (in-iteration): \t1.556480\n",
      "  training accuracy: \t\t\t45.67 %\n",
      "  validation accuracy: \t\t\t44.67 %\n",
      "Epoch 63 of 100 took 1.617s\n",
      "  training loss (in-iteration): \t1.529643\n",
      "  validation loss (in-iteration): \t1.546987\n",
      "  training accuracy: \t\t\t45.64 %\n",
      "  validation accuracy: \t\t\t45.43 %\n",
      "Epoch 64 of 100 took 1.623s\n",
      "  training loss (in-iteration): \t1.525468\n",
      "  validation loss (in-iteration): \t1.557765\n",
      "  training accuracy: \t\t\t45.88 %\n",
      "  validation accuracy: \t\t\t45.08 %\n",
      "Epoch 65 of 100 took 1.824s\n",
      "  training loss (in-iteration): \t1.523230\n",
      "  validation loss (in-iteration): \t1.539596\n",
      "  training accuracy: \t\t\t45.80 %\n",
      "  validation accuracy: \t\t\t45.21 %\n",
      "Epoch 66 of 100 took 1.766s\n",
      "  training loss (in-iteration): \t1.516444\n",
      "  validation loss (in-iteration): \t1.538344\n",
      "  training accuracy: \t\t\t46.26 %\n",
      "  validation accuracy: \t\t\t45.08 %\n",
      "Epoch 67 of 100 took 1.591s\n",
      "  training loss (in-iteration): \t1.514212\n",
      "  validation loss (in-iteration): \t1.537103\n",
      "  training accuracy: \t\t\t46.19 %\n",
      "  validation accuracy: \t\t\t45.81 %\n",
      "Epoch 68 of 100 took 1.601s\n",
      "  training loss (in-iteration): \t1.512097\n",
      "  validation loss (in-iteration): \t1.546468\n",
      "  training accuracy: \t\t\t46.31 %\n",
      "  validation accuracy: \t\t\t44.94 %\n",
      "Epoch 69 of 100 took 1.610s\n",
      "  training loss (in-iteration): \t1.512601\n",
      "  validation loss (in-iteration): \t1.550808\n",
      "  training accuracy: \t\t\t45.91 %\n",
      "  validation accuracy: \t\t\t45.29 %\n",
      "Epoch 70 of 100 took 1.566s\n",
      "  training loss (in-iteration): \t1.508194\n",
      "  validation loss (in-iteration): \t1.546135\n",
      "  training accuracy: \t\t\t46.45 %\n",
      "  validation accuracy: \t\t\t44.85 %\n",
      "Epoch 71 of 100 took 1.580s\n",
      "  training loss (in-iteration): \t1.503444\n",
      "  validation loss (in-iteration): \t1.548936\n",
      "  training accuracy: \t\t\t46.70 %\n",
      "  validation accuracy: \t\t\t45.32 %\n",
      "Epoch 72 of 100 took 1.647s\n",
      "  training loss (in-iteration): \t1.499662\n",
      "  validation loss (in-iteration): \t1.541818\n",
      "  training accuracy: \t\t\t46.69 %\n",
      "  validation accuracy: \t\t\t45.40 %\n",
      "Epoch 73 of 100 took 1.913s\n",
      "  training loss (in-iteration): \t1.499315\n",
      "  validation loss (in-iteration): \t1.523076\n",
      "  training accuracy: \t\t\t46.71 %\n",
      "  validation accuracy: \t\t\t45.76 %\n",
      "Epoch 74 of 100 took 1.596s\n",
      "  training loss (in-iteration): \t1.497940\n",
      "  validation loss (in-iteration): \t1.535263\n",
      "  training accuracy: \t\t\t46.54 %\n",
      "  validation accuracy: \t\t\t45.96 %\n",
      "Epoch 75 of 100 took 1.580s\n",
      "  training loss (in-iteration): \t1.491463\n",
      "  validation loss (in-iteration): \t1.526870\n",
      "  training accuracy: \t\t\t47.03 %\n",
      "  validation accuracy: \t\t\t46.30 %\n",
      "Epoch 76 of 100 took 1.579s\n",
      "  training loss (in-iteration): \t1.491966\n",
      "  validation loss (in-iteration): \t1.518411\n",
      "  training accuracy: \t\t\t46.80 %\n",
      "  validation accuracy: \t\t\t46.08 %\n",
      "Epoch 77 of 100 took 1.586s\n",
      "  training loss (in-iteration): \t1.484767\n",
      "  validation loss (in-iteration): \t1.514818\n",
      "  training accuracy: \t\t\t47.10 %\n",
      "  validation accuracy: \t\t\t46.26 %\n",
      "Epoch 78 of 100 took 1.593s\n",
      "  training loss (in-iteration): \t1.487995\n",
      "  validation loss (in-iteration): \t1.547279\n",
      "  training accuracy: \t\t\t47.02 %\n",
      "  validation accuracy: \t\t\t45.39 %\n",
      "Epoch 79 of 100 took 1.606s\n",
      "  training loss (in-iteration): \t1.480508\n",
      "  validation loss (in-iteration): \t1.533529\n",
      "  training accuracy: \t\t\t47.17 %\n",
      "  validation accuracy: \t\t\t45.37 %\n",
      "Epoch 80 of 100 took 1.868s\n",
      "  training loss (in-iteration): \t1.478575\n",
      "  validation loss (in-iteration): \t1.516914\n",
      "  training accuracy: \t\t\t47.49 %\n",
      "  validation accuracy: \t\t\t46.22 %\n",
      "Epoch 81 of 100 took 1.723s\n",
      "  training loss (in-iteration): \t1.476026\n",
      "  validation loss (in-iteration): \t1.528910\n",
      "  training accuracy: \t\t\t47.50 %\n",
      "  validation accuracy: \t\t\t46.02 %\n",
      "Epoch 82 of 100 took 1.585s\n",
      "  training loss (in-iteration): \t1.474387\n",
      "  validation loss (in-iteration): \t1.507329\n",
      "  training accuracy: \t\t\t47.44 %\n",
      "  validation accuracy: \t\t\t45.93 %\n",
      "Epoch 83 of 100 took 1.598s\n",
      "  training loss (in-iteration): \t1.473153\n",
      "  validation loss (in-iteration): \t1.525216\n",
      "  training accuracy: \t\t\t47.42 %\n",
      "  validation accuracy: \t\t\t45.74 %\n",
      "Epoch 84 of 100 took 1.610s\n",
      "  training loss (in-iteration): \t1.467545\n",
      "  validation loss (in-iteration): \t1.518797\n",
      "  training accuracy: \t\t\t47.62 %\n",
      "  validation accuracy: \t\t\t45.92 %\n",
      "Epoch 85 of 100 took 1.589s\n",
      "  training loss (in-iteration): \t1.466498\n",
      "  validation loss (in-iteration): \t1.507495\n",
      "  training accuracy: \t\t\t47.77 %\n",
      "  validation accuracy: \t\t\t46.78 %\n",
      "Epoch 86 of 100 took 1.575s\n",
      "  training loss (in-iteration): \t1.466457\n",
      "  validation loss (in-iteration): \t1.512988\n",
      "  training accuracy: \t\t\t47.96 %\n",
      "  validation accuracy: \t\t\t46.93 %\n",
      "Epoch 87 of 100 took 1.749s\n",
      "  training loss (in-iteration): \t1.462683\n",
      "  validation loss (in-iteration): \t1.506018\n",
      "  training accuracy: \t\t\t48.05 %\n",
      "  validation accuracy: \t\t\t46.73 %\n",
      "Epoch 88 of 100 took 1.816s\n",
      "  training loss (in-iteration): \t1.459504\n",
      "  validation loss (in-iteration): \t1.513849\n",
      "  training accuracy: \t\t\t48.17 %\n",
      "  validation accuracy: \t\t\t46.37 %\n",
      "Epoch 89 of 100 took 1.646s\n",
      "  training loss (in-iteration): \t1.453572\n",
      "  validation loss (in-iteration): \t1.505623\n",
      "  training accuracy: \t\t\t48.39 %\n",
      "  validation accuracy: \t\t\t46.92 %\n",
      "Epoch 90 of 100 took 1.598s\n",
      "  training loss (in-iteration): \t1.455391\n",
      "  validation loss (in-iteration): \t1.498168\n",
      "  training accuracy: \t\t\t48.37 %\n",
      "  validation accuracy: \t\t\t47.06 %\n",
      "Epoch 91 of 100 took 1.600s\n",
      "  training loss (in-iteration): \t1.454025\n",
      "  validation loss (in-iteration): \t1.517843\n",
      "  training accuracy: \t\t\t48.44 %\n",
      "  validation accuracy: \t\t\t46.86 %\n",
      "Epoch 92 of 100 took 1.614s\n",
      "  training loss (in-iteration): \t1.453184\n",
      "  validation loss (in-iteration): \t1.493465\n",
      "  training accuracy: \t\t\t48.25 %\n",
      "  validation accuracy: \t\t\t46.73 %\n",
      "Epoch 93 of 100 took 1.605s\n",
      "  training loss (in-iteration): \t1.450612\n",
      "  validation loss (in-iteration): \t1.501015\n",
      "  training accuracy: \t\t\t48.28 %\n",
      "  validation accuracy: \t\t\t47.21 %\n",
      "Epoch 94 of 100 took 1.633s\n",
      "  training loss (in-iteration): \t1.445008\n",
      "  validation loss (in-iteration): \t1.503483\n",
      "  training accuracy: \t\t\t48.50 %\n",
      "  validation accuracy: \t\t\t46.94 %\n",
      "Epoch 95 of 100 took 1.976s\n",
      "  training loss (in-iteration): \t1.446311\n",
      "  validation loss (in-iteration): \t1.521100\n",
      "  training accuracy: \t\t\t48.47 %\n",
      "  validation accuracy: \t\t\t46.61 %\n",
      "Epoch 96 of 100 took 1.609s\n",
      "  training loss (in-iteration): \t1.442963\n",
      "  validation loss (in-iteration): \t1.487659\n",
      "  training accuracy: \t\t\t48.42 %\n",
      "  validation accuracy: \t\t\t47.56 %\n",
      "Epoch 97 of 100 took 1.628s\n",
      "  training loss (in-iteration): \t1.436675\n",
      "  validation loss (in-iteration): \t1.493357\n",
      "  training accuracy: \t\t\t49.17 %\n",
      "  validation accuracy: \t\t\t46.98 %\n",
      "Epoch 98 of 100 took 1.598s\n",
      "  training loss (in-iteration): \t1.437508\n",
      "  validation loss (in-iteration): \t1.491577\n",
      "  training accuracy: \t\t\t49.13 %\n",
      "  validation accuracy: \t\t\t47.27 %\n",
      "Epoch 99 of 100 took 1.577s\n",
      "  training loss (in-iteration): \t1.435753\n",
      "  validation loss (in-iteration): \t1.476662\n",
      "  training accuracy: \t\t\t48.84 %\n",
      "  validation accuracy: \t\t\t47.66 %\n",
      "Epoch 100 of 100 took 1.579s\n",
      "  training loss (in-iteration): \t1.433746\n",
      "  validation loss (in-iteration): \t1.484259\n",
      "  training accuracy: \t\t\t49.27 %\n",
      "  validation accuracy: \t\t\t47.44 %\n"
     ]
    }
   ],
   "source": [
    "model = MySimpleModel().to(device)\n",
    "criterion = nn.CrossEntropyLoss()\n",
    "\n",
    "optimizer = torch.optim.SGD(model.parameters(), lr=0.01)\n",
    "\n",
    "model, history = train(\n",
    "    model, criterion, optimizer,\n",
    "    X_train, y_train,\n",
    "    X_val, y_val,\n",
    "    num_epochs=100,\n",
    "    batch_size=50,\n",
    "    model_path='simple_model.pth'\n",
    ")"
   ]
  },
  {
   "cell_type": "code",
   "execution_count": 198,
   "metadata": {
    "colab": {
     "base_uri": "https://localhost:8080/",
     "height": 686
    },
    "id": "gjWenXNlCVDU",
    "outputId": "b9f93e34-1f91-4690-8e14-fcab627b3e52"
   },
   "outputs": [
    {
     "name": "stdout",
     "output_type": "stream",
     "text": [
      "Точность на валидации:  47.44 %\n"
     ]
    },
    {
     "data": {
      "image/png": "[encoded data removed]",
      "text/plain": [
       "<Figure size 2000x700 with 2 Axes>"
      ]
     },
     "metadata": {},
     "output_type": "display_data"
    }
   ],
   "source": [
    "plot_learning_curves(history)\n",
    "print('Точность на валидации: ', history['acc']['val'][-1] * 100, '%')"
   ]
  },
  {
   "cell_type": "markdown",
   "metadata": {
    "id": "Wwy46FkqDb1o"
   },
   "source": [
    "Нужно подбирать коэфицент p для дропаута, потому что можно сделать хуже"
   ]
  }
 ],
 "metadata": {
  "accelerator": "GPU",
  "colab": {
   "provenance": []
  },
  "kernelspec": {
   "display_name": "Python 3 (ipykernel)",
   "language": "python",
   "name": "python3"
  },
  "language_info": {
   "codemirror_mode": {
    "name": "ipython",
    "version": 3
   },
   "file_extension": ".py",
   "mimetype": "text/x-python",
   "name": "python",
   "nbconvert_exporter": "python",
   "pygments_lexer": "ipython3",
   "version": "3.9.13"
  },
  "toc": {
   "base_numbering": 1,
   "nav_menu": {},
   "number_sections": true,
   "sideBar": true,
   "skip_h1_title": false,
   "title_cell": "Table of Contents",
   "title_sidebar": "Contents",
   "toc_cell": false,
   "toc_position": {},
   "toc_section_display": true,
   "toc_window_display": false
  }
 },
 "nbformat": 4,
 "nbformat_minor": 1
}
