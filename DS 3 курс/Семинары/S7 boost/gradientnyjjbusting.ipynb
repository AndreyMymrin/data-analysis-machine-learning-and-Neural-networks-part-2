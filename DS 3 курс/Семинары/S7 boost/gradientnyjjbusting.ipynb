{
 "cells": [
  {
   "cell_type": "markdown",
   "metadata": {
    "id": "HUgzJR0sdUKs"
   },
   "source": [
    "# Градиентный бустинг"
   ]
  },
  {
   "cell_type": "markdown",
   "metadata": {
    "id": "ApFLqrFadUKw"
   },
   "source": [
    "Бустинг &mdash; один из самых широко применяемых видов ансамблей моделей. В этом ноутбуке будет разобран самый простой вариант бустинга над деревьями, реализованный в `sklearn`. Для задач регрессии и классификации реализованы, соответственно, классы `sklearn.ensemble.GradientBoostingRegressor` и `sklearn.ensemble.GradientBoostingClassifier`."
   ]
  },
  {
   "cell_type": "markdown",
   "metadata": {
    "id": "xjsYwfWjdUKw"
   },
   "source": [
    "## 1. Основные параметры градиентного бустинга.\n",
    "\n",
    "* `learning rate` &mdash; размер шага метода оптимизации (стандартное значение=0.1);\n",
    "* `n_estimators` &mdash; количество деревьев, над которыми будет выполняться бустинг (стандартное значение=100);\n",
    "* `subsample` &mdash; доля выборки, на которой будут обучаться базовые модели, для каждой базовой модели &mdash; своя подвыборка (стандартное значение=1.0). Уменьшение этого параметра позволит сделать деревья менее переобученными, но более смещёнными;\n",
    "* `min_samples_split` (стандартное значение=2);\n",
    "* `min_samples_leaf` (стандартное значение=1);\n",
    "* `max_depth` &mdash; ограничение на глубину деревьев (стандартное значение=3).\n",
    "\n",
    "Про все возможные гиперпараметры вы можете прочитать в [документации](https://scikit-learn.org/stable/modules/generated/sklearn.ensemble.GradientBoostingRegressor.html)."
   ]
  },
  {
   "cell_type": "code",
   "execution_count": 2,
   "metadata": {
    "ExecuteTime": {
     "end_time": "2021-02-27T15:33:45.460922Z",
     "start_time": "2021-02-27T15:33:44.068108Z"
    },
    "id": "wbYTb5whdUKx"
   },
   "outputs": [],
   "source": [
    "import numpy as np\n",
    "import pandas as pd\n",
    "\n",
    "from tqdm.notebook import tqdm\n",
    "import matplotlib.pyplot as plt\n",
    "import seaborn as sns\n",
    "\n",
    "from sklearn.ensemble import RandomForestRegressor, RandomForestClassifier\n",
    "from sklearn.ensemble import GradientBoostingRegressor\n",
    "from sklearn.ensemble import GradientBoostingClassifier\n",
    "from sklearn.datasets import fetch_california_housing\n",
    "from sklearn.metrics import accuracy_score\n",
    "from sklearn.metrics import mean_squared_error as mse\n",
    "from sklearn.model_selection import GridSearchCV\n",
    "from sklearn.model_selection import RandomizedSearchCV\n",
    "from sklearn.model_selection import train_test_split\n",
    "from sklearn.utils import shuffle\n",
    "\n",
    "sns.set(font_scale=1.8, palette='Set2')"
   ]
  },
  {
   "cell_type": "markdown",
   "metadata": {
    "id": "XK59zkNndUKz"
   },
   "source": [
    "## 2. Подбор параметров градиентного бустинга"
   ]
  },
  {
   "cell_type": "markdown",
   "metadata": {
    "id": "bMsk2srFdUKz"
   },
   "source": [
    "Будем решать градиентным бустингом задачу классификации. Возьмём [датасет](https://archive.ics.uci.edu/ml/datasets/Letter+Recognition) для распознавания латинских букв на изображениях.\n",
    "     \n",
    "Некоторые из признаков, содержащихся в датасете:\n",
    "1.\t`lettr` &mdash; заглавная буква\t(принимает значения от A до Z);\n",
    "2.\t`x-box` &mdash; горизонтальная позиция прямоугольника с буквой;\n",
    "3.\t`y-box` &mdash; вертикальная позиция прямоугольника с буквой;\n",
    "4.\t`width`\t&mdash; ширина прямоугольника;\n",
    "5.\t`high` &mdash; высота прямоугольника;\n",
    "6.\t`onpix` &mdash; количество пикселей, относящихся к цифре;\n",
    "7. `x-bar` &mdash; среднее значение x всех пикселей в прямоугольнике;\n",
    "8. `y-bar` &mdash; среднее значение y всех пикселей в прямоугольнике;\n",
    "9. `x2-bar` &mdash; выборочная дисперсия x;\n",
    "10. `y2-bar` &mdash; выборочная дисперсия y;\n",
    "11. `xybar` &mdash; корреляция x и y."
   ]
  },
  {
   "cell_type": "code",
   "execution_count": 3,
   "metadata": {
    "ExecuteTime": {
     "end_time": "2021-02-27T15:33:45.518398Z",
     "start_time": "2021-02-27T15:33:45.463579Z"
    },
    "id": "14CAvKxLdUK0",
    "outputId": "3c9a5cf8-bcb8-4fe9-8b1d-b961fa03dd01",
    "scrolled": true
   },
   "outputs": [
    {
     "name": "stdout",
     "output_type": "stream",
     "text": [
      "shape: (20000, 17)\n"
     ]
    },
    {
     "data": {
      "text/html": [
       "<div>\n",
       "<style scoped>\n",
       "    .dataframe tbody tr th:only-of-type {\n",
       "        vertical-align: middle;\n",
       "    }\n",
       "\n",
       "    .dataframe tbody tr th {\n",
       "        vertical-align: top;\n",
       "    }\n",
       "\n",
       "    .dataframe thead th {\n",
       "        text-align: right;\n",
       "    }\n",
       "</style>\n",
       "<table border=\"1\" class=\"dataframe\">\n",
       "  <thead>\n",
       "    <tr style=\"text-align: right;\">\n",
       "      <th></th>\n",
       "      <th>0</th>\n",
       "      <th>1</th>\n",
       "      <th>2</th>\n",
       "      <th>3</th>\n",
       "      <th>4</th>\n",
       "      <th>5</th>\n",
       "      <th>6</th>\n",
       "      <th>7</th>\n",
       "      <th>8</th>\n",
       "      <th>9</th>\n",
       "      <th>10</th>\n",
       "      <th>11</th>\n",
       "      <th>12</th>\n",
       "      <th>13</th>\n",
       "      <th>14</th>\n",
       "      <th>15</th>\n",
       "      <th>16</th>\n",
       "    </tr>\n",
       "  </thead>\n",
       "  <tbody>\n",
       "    <tr>\n",
       "      <th>0</th>\n",
       "      <td>T</td>\n",
       "      <td>2</td>\n",
       "      <td>8</td>\n",
       "      <td>3</td>\n",
       "      <td>5</td>\n",
       "      <td>1</td>\n",
       "      <td>8</td>\n",
       "      <td>13</td>\n",
       "      <td>0</td>\n",
       "      <td>6</td>\n",
       "      <td>6</td>\n",
       "      <td>10</td>\n",
       "      <td>8</td>\n",
       "      <td>0</td>\n",
       "      <td>8</td>\n",
       "      <td>0</td>\n",
       "      <td>8</td>\n",
       "    </tr>\n",
       "    <tr>\n",
       "      <th>1</th>\n",
       "      <td>I</td>\n",
       "      <td>5</td>\n",
       "      <td>12</td>\n",
       "      <td>3</td>\n",
       "      <td>7</td>\n",
       "      <td>2</td>\n",
       "      <td>10</td>\n",
       "      <td>5</td>\n",
       "      <td>5</td>\n",
       "      <td>4</td>\n",
       "      <td>13</td>\n",
       "      <td>3</td>\n",
       "      <td>9</td>\n",
       "      <td>2</td>\n",
       "      <td>8</td>\n",
       "      <td>4</td>\n",
       "      <td>10</td>\n",
       "    </tr>\n",
       "    <tr>\n",
       "      <th>2</th>\n",
       "      <td>D</td>\n",
       "      <td>4</td>\n",
       "      <td>11</td>\n",
       "      <td>6</td>\n",
       "      <td>8</td>\n",
       "      <td>6</td>\n",
       "      <td>10</td>\n",
       "      <td>6</td>\n",
       "      <td>2</td>\n",
       "      <td>6</td>\n",
       "      <td>10</td>\n",
       "      <td>3</td>\n",
       "      <td>7</td>\n",
       "      <td>3</td>\n",
       "      <td>7</td>\n",
       "      <td>3</td>\n",
       "      <td>9</td>\n",
       "    </tr>\n",
       "    <tr>\n",
       "      <th>3</th>\n",
       "      <td>N</td>\n",
       "      <td>7</td>\n",
       "      <td>11</td>\n",
       "      <td>6</td>\n",
       "      <td>6</td>\n",
       "      <td>3</td>\n",
       "      <td>5</td>\n",
       "      <td>9</td>\n",
       "      <td>4</td>\n",
       "      <td>6</td>\n",
       "      <td>4</td>\n",
       "      <td>4</td>\n",
       "      <td>10</td>\n",
       "      <td>6</td>\n",
       "      <td>10</td>\n",
       "      <td>2</td>\n",
       "      <td>8</td>\n",
       "    </tr>\n",
       "    <tr>\n",
       "      <th>4</th>\n",
       "      <td>G</td>\n",
       "      <td>2</td>\n",
       "      <td>1</td>\n",
       "      <td>3</td>\n",
       "      <td>1</td>\n",
       "      <td>1</td>\n",
       "      <td>8</td>\n",
       "      <td>6</td>\n",
       "      <td>6</td>\n",
       "      <td>6</td>\n",
       "      <td>6</td>\n",
       "      <td>5</td>\n",
       "      <td>9</td>\n",
       "      <td>1</td>\n",
       "      <td>7</td>\n",
       "      <td>5</td>\n",
       "      <td>10</td>\n",
       "    </tr>\n",
       "  </tbody>\n",
       "</table>\n",
       "</div>"
      ],
      "text/plain": [
       "  0   1   2   3   4   5   6   7   8   9   10  11  12  13  14  15  16\n",
       "0  T   2   8   3   5   1   8  13   0   6   6  10   8   0   8   0   8\n",
       "1  I   5  12   3   7   2  10   5   5   4  13   3   9   2   8   4  10\n",
       "2  D   4  11   6   8   6  10   6   2   6  10   3   7   3   7   3   9\n",
       "3  N   7  11   6   6   3   5   9   4   6   4   4  10   6  10   2   8\n",
       "4  G   2   1   3   1   1   8   6   6   6   6   5   9   1   7   5  10"
      ]
     },
     "execution_count": 3,
     "metadata": {},
     "output_type": "execute_result"
    }
   ],
   "source": [
    "letters_df = pd.read_csv('letter-recognition.data', header=None)\n",
    "print('shape:', letters_df.shape)\n",
    "letters_df.head()"
   ]
  },
  {
   "cell_type": "markdown",
   "metadata": {
    "id": "MKxx_kBAdUK1"
   },
   "source": [
    "Деление на признаки и таргет:"
   ]
  },
  {
   "cell_type": "code",
   "execution_count": 4,
   "metadata": {
    "ExecuteTime": {
     "end_time": "2021-02-27T15:33:45.548620Z",
     "start_time": "2021-02-27T15:33:45.522116Z"
    },
    "id": "Cc8mZbcvdUK2"
   },
   "outputs": [],
   "source": [
    "X = letters_df.values[:, 1:]\n",
    "y = letters_df.values[:, 0]"
   ]
  },
  {
   "cell_type": "markdown",
   "metadata": {
    "id": "7dJMYjhEdUK2"
   },
   "source": [
    "Разобьём данные на обучающую и тестовую выборки:"
   ]
  },
  {
   "cell_type": "code",
   "execution_count": 5,
   "metadata": {
    "ExecuteTime": {
     "end_time": "2021-02-27T15:33:45.574124Z",
     "start_time": "2021-02-27T15:33:45.551533Z"
    },
    "id": "1_Td04xydUK3"
   },
   "outputs": [],
   "source": [
    "X_train, X_test, y_train, y_test = train_test_split(X, y, random_state=42)"
   ]
  },
  {
   "cell_type": "markdown",
   "metadata": {
    "id": "nzpi74AVdUK3"
   },
   "source": [
    "### 2.1 Использование `GridSearchCV`"
   ]
  },
  {
   "cell_type": "markdown",
   "metadata": {
    "id": "SCqOEozhdUK3"
   },
   "source": [
    "Для начала попробуем воспользоваться поиском по сетке с кросс-валидацией для поиска оптимальных гиперпараметров. Проблема в том, что если взять три параметра: `n_estimators`, `max_depth`, `learning_rate`, то перебор будет очень долгим. Поэтому ограничимся лишь `n_estimators`."
   ]
  },
  {
   "cell_type": "code",
   "execution_count": 6,
   "metadata": {
    "ExecuteTime": {
     "end_time": "2021-02-27T15:33:50.417895Z",
     "start_time": "2021-02-27T15:33:50.411230Z"
    },
    "id": "J3toMoVRdUK4"
   },
   "outputs": [],
   "source": [
    "boosting_gridsearch = GridSearchCV(\n",
    "    estimator=GradientBoostingClassifier(),\n",
    "    param_grid={\n",
    "        'n_estimators': [5, 10, 25, 50, 75], \n",
    "    },\n",
    "    cv=5,  # разбиение выборки на 5 фолдов\n",
    "    verbose=10,  # насколько часто печатать сообщения\n",
    "    n_jobs=2  # кол-во параллельных процессов\n",
    ")"
   ]
  },
  {
   "cell_type": "markdown",
   "metadata": {
    "id": "PnpjrseBdUK4"
   },
   "source": [
    "Выполнение поиска по сетке. В процессе подбора гиперпараметров он иногда печатает информацию о том, сколько итераций он уже сделал, и сколько это заняло времени. Контролировать это можно с помощью параметра `verbose`."
   ]
  },
  {
   "cell_type": "code",
   "execution_count": 7,
   "metadata": {
    "ExecuteTime": {
     "end_time": "2021-02-27T15:40:10.538570Z",
     "start_time": "2021-02-27T15:33:52.148994Z"
    },
    "id": "T3uJQDxbdUK4",
    "outputId": "8e546101-e922-4f50-a8c9-3afdd900e854"
   },
   "outputs": [
    {
     "name": "stdout",
     "output_type": "stream",
     "text": [
      "Fitting 5 folds for each of 5 candidates, totalling 25 fits\n"
     ]
    },
    {
     "data": {
      "text/html": [
       "<style>#sk-container-id-1 {color: black;}#sk-container-id-1 pre{padding: 0;}#sk-container-id-1 div.sk-toggleable {background-color: white;}#sk-container-id-1 label.sk-toggleable__label {cursor: pointer;display: block;width: 100%;margin-bottom: 0;padding: 0.3em;box-sizing: border-box;text-align: center;}#sk-container-id-1 label.sk-toggleable__label-arrow:before {content: \"▸\";float: left;margin-right: 0.25em;color: #696969;}#sk-container-id-1 label.sk-toggleable__label-arrow:hover:before {color: black;}#sk-container-id-1 div.sk-estimator:hover label.sk-toggleable__label-arrow:before {color: black;}#sk-container-id-1 div.sk-toggleable__content {max-height: 0;max-width: 0;overflow: hidden;text-align: left;background-color: #f0f8ff;}#sk-container-id-1 div.sk-toggleable__content pre {margin: 0.2em;color: black;border-radius: 0.25em;background-color: #f0f8ff;}#sk-container-id-1 input.sk-toggleable__control:checked~div.sk-toggleable__content {max-height: 200px;max-width: 100%;overflow: auto;}#sk-container-id-1 input.sk-toggleable__control:checked~label.sk-toggleable__label-arrow:before {content: \"▾\";}#sk-container-id-1 div.sk-estimator input.sk-toggleable__control:checked~label.sk-toggleable__label {background-color: #d4ebff;}#sk-container-id-1 div.sk-label input.sk-toggleable__control:checked~label.sk-toggleable__label {background-color: #d4ebff;}#sk-container-id-1 input.sk-hidden--visually {border: 0;clip: rect(1px 1px 1px 1px);clip: rect(1px, 1px, 1px, 1px);height: 1px;margin: -1px;overflow: hidden;padding: 0;position: absolute;width: 1px;}#sk-container-id-1 div.sk-estimator {font-family: monospace;background-color: #f0f8ff;border: 1px dotted black;border-radius: 0.25em;box-sizing: border-box;margin-bottom: 0.5em;}#sk-container-id-1 div.sk-estimator:hover {background-color: #d4ebff;}#sk-container-id-1 div.sk-parallel-item::after {content: \"\";width: 100%;border-bottom: 1px solid gray;flex-grow: 1;}#sk-container-id-1 div.sk-label:hover label.sk-toggleable__label {background-color: #d4ebff;}#sk-container-id-1 div.sk-serial::before {content: \"\";position: absolute;border-left: 1px solid gray;box-sizing: border-box;top: 0;bottom: 0;left: 50%;z-index: 0;}#sk-container-id-1 div.sk-serial {display: flex;flex-direction: column;align-items: center;background-color: white;padding-right: 0.2em;padding-left: 0.2em;position: relative;}#sk-container-id-1 div.sk-item {position: relative;z-index: 1;}#sk-container-id-1 div.sk-parallel {display: flex;align-items: stretch;justify-content: center;background-color: white;position: relative;}#sk-container-id-1 div.sk-item::before, #sk-container-id-1 div.sk-parallel-item::before {content: \"\";position: absolute;border-left: 1px solid gray;box-sizing: border-box;top: 0;bottom: 0;left: 50%;z-index: -1;}#sk-container-id-1 div.sk-parallel-item {display: flex;flex-direction: column;z-index: 1;position: relative;background-color: white;}#sk-container-id-1 div.sk-parallel-item:first-child::after {align-self: flex-end;width: 50%;}#sk-container-id-1 div.sk-parallel-item:last-child::after {align-self: flex-start;width: 50%;}#sk-container-id-1 div.sk-parallel-item:only-child::after {width: 0;}#sk-container-id-1 div.sk-dashed-wrapped {border: 1px dashed gray;margin: 0 0.4em 0.5em 0.4em;box-sizing: border-box;padding-bottom: 0.4em;background-color: white;}#sk-container-id-1 div.sk-label label {font-family: monospace;font-weight: bold;display: inline-block;line-height: 1.2em;}#sk-container-id-1 div.sk-label-container {text-align: center;}#sk-container-id-1 div.sk-container {/* jupyter's `normalize.less` sets `[hidden] { display: none; }` but bootstrap.min.css set `[hidden] { display: none !important; }` so we also need the `!important` here to be able to override the default hidden behavior on the sphinx rendered scikit-learn.org. See: https://github.com/scikit-learn/scikit-learn/issues/21755 */display: inline-block !important;position: relative;}#sk-container-id-1 div.sk-text-repr-fallback {display: none;}</style><div id=\"sk-container-id-1\" class=\"sk-top-container\"><div class=\"sk-text-repr-fallback\"><pre>GridSearchCV(cv=5, estimator=GradientBoostingClassifier(), n_jobs=2,\n",
       "             param_grid={&#x27;n_estimators&#x27;: [5, 10, 25, 50, 75]}, verbose=10)</pre><b>In a Jupyter environment, please rerun this cell to show the HTML representation or trust the notebook. <br />On GitHub, the HTML representation is unable to render, please try loading this page with nbviewer.org.</b></div><div class=\"sk-container\" hidden><div class=\"sk-item sk-dashed-wrapped\"><div class=\"sk-label-container\"><div class=\"sk-label sk-toggleable\"><input class=\"sk-toggleable__control sk-hidden--visually\" id=\"sk-estimator-id-1\" type=\"checkbox\" ><label for=\"sk-estimator-id-1\" class=\"sk-toggleable__label sk-toggleable__label-arrow\">GridSearchCV</label><div class=\"sk-toggleable__content\"><pre>GridSearchCV(cv=5, estimator=GradientBoostingClassifier(), n_jobs=2,\n",
       "             param_grid={&#x27;n_estimators&#x27;: [5, 10, 25, 50, 75]}, verbose=10)</pre></div></div></div><div class=\"sk-parallel\"><div class=\"sk-parallel-item\"><div class=\"sk-item\"><div class=\"sk-label-container\"><div class=\"sk-label sk-toggleable\"><input class=\"sk-toggleable__control sk-hidden--visually\" id=\"sk-estimator-id-2\" type=\"checkbox\" ><label for=\"sk-estimator-id-2\" class=\"sk-toggleable__label sk-toggleable__label-arrow\">estimator: GradientBoostingClassifier</label><div class=\"sk-toggleable__content\"><pre>GradientBoostingClassifier()</pre></div></div></div><div class=\"sk-serial\"><div class=\"sk-item\"><div class=\"sk-estimator sk-toggleable\"><input class=\"sk-toggleable__control sk-hidden--visually\" id=\"sk-estimator-id-3\" type=\"checkbox\" ><label for=\"sk-estimator-id-3\" class=\"sk-toggleable__label sk-toggleable__label-arrow\">GradientBoostingClassifier</label><div class=\"sk-toggleable__content\"><pre>GradientBoostingClassifier()</pre></div></div></div></div></div></div></div></div></div></div>"
      ],
      "text/plain": [
       "GridSearchCV(cv=5, estimator=GradientBoostingClassifier(), n_jobs=2,\n",
       "             param_grid={'n_estimators': [5, 10, 25, 50, 75]}, verbose=10)"
      ]
     },
     "execution_count": 7,
     "metadata": {},
     "output_type": "execute_result"
    }
   ],
   "source": [
    "boosting_gridsearch.fit(X_train, y_train)"
   ]
  },
  {
   "cell_type": "markdown",
   "metadata": {
    "id": "hhHMGy1wdUK4"
   },
   "source": [
    "Подобранные гиперпараметры:"
   ]
  },
  {
   "cell_type": "code",
   "execution_count": 8,
   "metadata": {
    "ExecuteTime": {
     "end_time": "2021-02-27T15:40:26.223555Z",
     "start_time": "2021-02-27T15:40:26.213857Z"
    },
    "id": "ux7VLWKCdUK5",
    "outputId": "9616c1b5-c3d5-4aab-9b4e-e7feec65bd6e"
   },
   "outputs": [
    {
     "data": {
      "text/plain": [
       "{'n_estimators': 75}"
      ]
     },
     "execution_count": 8,
     "metadata": {},
     "output_type": "execute_result"
    }
   ],
   "source": [
    "boosting_gridsearch.best_params_"
   ]
  },
  {
   "cell_type": "markdown",
   "metadata": {
    "id": "kv1cIBiydUK5"
   },
   "source": [
    "Смотрим на качество при оптимальных гиперпараметрах:"
   ]
  },
  {
   "cell_type": "code",
   "execution_count": 9,
   "metadata": {
    "ExecuteTime": {
     "end_time": "2021-02-27T15:40:28.662324Z",
     "start_time": "2021-02-27T15:40:27.650138Z"
    },
    "id": "tihCRCmpdUK5",
    "outputId": "577ab768-2d3f-4241-d047-a98c7dda0c30"
   },
   "outputs": [
    {
     "name": "stdout",
     "output_type": "stream",
     "text": [
      "train accuracy 0.9427\n",
      "test accuracy 0.9088\n"
     ]
    }
   ],
   "source": [
    "print('train accuracy {:.4f}'.format(\n",
    "    accuracy_score(boosting_gridsearch.predict(X_train), y_train)\n",
    "))\n",
    "print('test accuracy {:.4f}'.format(\n",
    "    accuracy_score(boosting_gridsearch.predict(X_test), y_test)\n",
    "))"
   ]
  },
  {
   "cell_type": "markdown",
   "metadata": {
    "id": "18ZXqdnSdUK5"
   },
   "source": [
    "### 2.2 Использование `RandomizedSearchCV`"
   ]
  },
  {
   "cell_type": "markdown",
   "metadata": {
    "id": "u94PfQDOdUK6"
   },
   "source": [
    "Во-первых, полный перебор по сетке может работать слишком долго. \n",
    "Во-вторых, при подборе более чем одного параметра **рекомендуется использовать случайный поиск**. Об этом можно почитать <a href=\"http://www.jmlr.org/papers/volume13/bergstra12a/bergstra12a.pdf\">статью</a>.\n",
    "\n",
    "Воспользуемся рандомизированным поиском по сетке, реализованным в `sklearn` как `RandomizedSearchCV`."
   ]
  },
  {
   "cell_type": "code",
   "execution_count": 10,
   "metadata": {
    "ExecuteTime": {
     "end_time": "2021-02-27T15:40:34.062281Z",
     "start_time": "2021-02-27T15:40:34.054594Z"
    },
    "id": "hODynAxGdUK6"
   },
   "outputs": [],
   "source": [
    "rnd_boosting_gridsearch = RandomizedSearchCV(\n",
    "    GradientBoostingClassifier(),\n",
    "    param_distributions={\n",
    "        'n_estimators': [5, 10, 25, 50, 75],\n",
    "        'learning_rate': np.linspace(0.05, 0.25, 5),\n",
    "        'min_samples_leaf': np.arange(1, 6),\n",
    "        'max_depth': [3, 4, 5, 6, None],\n",
    "    },\n",
    "    cv=5,  # разбиение выборки на 5 фолдов\n",
    "    verbose=10,  # насколько часто печатать сообщения\n",
    "    n_jobs=2,  # кол-во параллельных процессов\n",
    "    n_iter=30,  # кол-во итераций случайного выбора гиперпараметров\n",
    "    random_state=42  # seed для фиксирования случайности\n",
    ")"
   ]
  },
  {
   "cell_type": "markdown",
   "metadata": {
    "id": "IK6A1Lz6dUK6"
   },
   "source": [
    "Выполнение случайного поиска. На каждой из 30 итераций производится выбор случайных гиперпараметров, которые используются для проверки по каждому из 5 фолдов."
   ]
  },
  {
   "cell_type": "code",
   "execution_count": 11,
   "metadata": {
    "ExecuteTime": {
     "end_time": "2021-02-27T16:52:20.303896Z",
     "start_time": "2021-02-27T15:40:37.194461Z"
    },
    "id": "VY0pZSXvdUK6",
    "outputId": "ab7f5f3a-3924-42d6-f980-69c540f22606"
   },
   "outputs": [
    {
     "name": "stdout",
     "output_type": "stream",
     "text": [
      "Fitting 5 folds for each of 30 candidates, totalling 150 fits\n",
      "[CV 2/5; 1/5] START n_estimators=5..............................................\n",
      "[CV 2/5; 1/5] END ...............n_estimators=5;, score=0.696 total time=   1.6s\n",
      "[CV 4/5; 1/5] START n_estimators=5..............................................\n",
      "[CV 4/5; 1/5] END ...............n_estimators=5;, score=0.687 total time=   1.6s\n",
      "[CV 1/5; 2/5] START n_estimators=10.............................................\n",
      "[CV 1/5; 2/5] END ..............n_estimators=10;, score=0.736 total time=   3.1s\n",
      "[CV 3/5; 2/5] START n_estimators=10.............................................\n",
      "[CV 3/5; 2/5] END ..............n_estimators=10;, score=0.744 total time=   3.1s\n",
      "[CV 5/5; 2/5] START n_estimators=10.............................................\n",
      "[CV 5/5; 2/5] END ..............n_estimators=10;, score=0.735 total time=   3.1s\n",
      "[CV 2/5; 3/5] START n_estimators=25.............................................\n",
      "[CV 2/5; 3/5] END ..............n_estimators=25;, score=0.808 total time=   7.8s\n",
      "[CV 4/5; 3/5] START n_estimators=25.............................................\n",
      "[CV 4/5; 3/5] END ..............n_estimators=25;, score=0.819 total time=   7.8s\n",
      "[CV 1/5; 4/5] START n_estimators=50.............................................\n",
      "[CV 1/5; 4/5] END ..............n_estimators=50;, score=0.880 total time=  15.6s\n",
      "[CV 3/5; 4/5] START n_estimators=50.............................................\n",
      "[CV 3/5; 4/5] END ..............n_estimators=50;, score=0.878 total time=  15.6s\n",
      "[CV 5/5; 4/5] START n_estimators=50.............................................\n",
      "[CV 5/5; 4/5] END ..............n_estimators=50;, score=0.876 total time=  15.7s\n",
      "[CV 2/5; 5/5] START n_estimators=75.............................................\n",
      "[CV 2/5; 5/5] END ..............n_estimators=75;, score=0.897 total time=  23.4s\n",
      "[CV 4/5; 5/5] START n_estimators=75.............................................\n",
      "[CV 4/5; 5/5] END ..............n_estimators=75;, score=0.900 total time=  23.5s\n",
      "[CV 1/5; 1/30] START learning_rate=0.2, max_depth=5, min_samples_leaf=5, n_estimators=25\n",
      "[CV 1/5; 1/30] END learning_rate=0.2, max_depth=5, min_samples_leaf=5, n_estimators=25;, score=0.917 total time=  12.1s\n",
      "[CV 3/5; 1/30] START learning_rate=0.2, max_depth=5, min_samples_leaf=5, n_estimators=25\n",
      "[CV 3/5; 1/30] END learning_rate=0.2, max_depth=5, min_samples_leaf=5, n_estimators=25;, score=0.934 total time=  12.1s\n",
      "[CV 5/5; 1/30] START learning_rate=0.2, max_depth=5, min_samples_leaf=5, n_estimators=25\n",
      "[CV 5/5; 1/30] END learning_rate=0.2, max_depth=5, min_samples_leaf=5, n_estimators=25;, score=0.924 total time=  12.0s\n",
      "[CV 3/5; 2/30] START learning_rate=0.2, max_depth=None, min_samples_leaf=3, n_estimators=5\n",
      "[CV 3/5; 2/30] END learning_rate=0.2, max_depth=None, min_samples_leaf=3, n_estimators=5;, score=0.897 total time=   9.3s\n",
      "[CV 5/5; 2/30] START learning_rate=0.2, max_depth=None, min_samples_leaf=3, n_estimators=5\n",
      "[CV 5/5; 2/30] END learning_rate=0.2, max_depth=None, min_samples_leaf=3, n_estimators=5;, score=0.894 total time=   9.5s\n",
      "[CV 2/5; 3/30] START learning_rate=0.1, max_depth=6, min_samples_leaf=4, n_estimators=5\n",
      "[CV 2/5; 3/30] END learning_rate=0.1, max_depth=6, min_samples_leaf=4, n_estimators=5;, score=0.834 total time=   2.9s\n",
      "[CV 4/5; 3/30] START learning_rate=0.1, max_depth=6, min_samples_leaf=4, n_estimators=5\n",
      "[CV 4/5; 3/30] END learning_rate=0.1, max_depth=6, min_samples_leaf=4, n_estimators=5;, score=0.840 total time=   2.8s\n",
      "[CV 1/5; 4/30] START learning_rate=0.1, max_depth=6, min_samples_leaf=3, n_estimators=25\n",
      "[CV 1/5; 4/30] END learning_rate=0.1, max_depth=6, min_samples_leaf=3, n_estimators=25;, score=0.913 total time=  14.2s\n",
      "[CV 3/5; 4/30] START learning_rate=0.1, max_depth=6, min_samples_leaf=3, n_estimators=25\n",
      "[CV 3/5; 4/30] END learning_rate=0.1, max_depth=6, min_samples_leaf=3, n_estimators=25;, score=0.916 total time=  14.2s\n",
      "[CV 5/5; 4/30] START learning_rate=0.1, max_depth=6, min_samples_leaf=3, n_estimators=25\n",
      "[CV 5/5; 4/30] END learning_rate=0.1, max_depth=6, min_samples_leaf=3, n_estimators=25;, score=0.910 total time=  14.1s\n",
      "[CV 3/5; 5/30] START learning_rate=0.2, max_depth=None, min_samples_leaf=2, n_estimators=5\n",
      "[CV 3/5; 5/30] END learning_rate=0.2, max_depth=None, min_samples_leaf=2, n_estimators=5;, score=0.896 total time=  10.5s\n",
      "[CV 5/5; 5/30] START learning_rate=0.2, max_depth=None, min_samples_leaf=2, n_estimators=5\n",
      "[CV 5/5; 5/30] END learning_rate=0.2, max_depth=None, min_samples_leaf=2, n_estimators=5;, score=0.890 total time=  10.5s\n",
      "[CV 3/5; 6/30] START learning_rate=0.25, max_depth=3, min_samples_leaf=4, n_estimators=5\n",
      "[CV 3/5; 6/30] END learning_rate=0.25, max_depth=3, min_samples_leaf=4, n_estimators=5;, score=0.759 total time=   1.6s\n",
      "[CV 5/5; 6/30] START learning_rate=0.25, max_depth=3, min_samples_leaf=4, n_estimators=5\n",
      "[CV 5/5; 6/30] END learning_rate=0.25, max_depth=3, min_samples_leaf=4, n_estimators=5;, score=0.743 total time=   1.6s\n",
      "[CV 2/5; 7/30] START learning_rate=0.1, max_depth=4, min_samples_leaf=3, n_estimators=50\n",
      "[CV 2/5; 7/30] END learning_rate=0.1, max_depth=4, min_samples_leaf=3, n_estimators=50;, score=0.909 total time=  20.1s\n",
      "[CV 4/5; 7/30] START learning_rate=0.1, max_depth=4, min_samples_leaf=3, n_estimators=50\n",
      "[CV 4/5; 7/30] END learning_rate=0.1, max_depth=4, min_samples_leaf=3, n_estimators=50;, score=0.908 total time=  20.5s\n",
      "[CV 1/5; 8/30] START learning_rate=0.05, max_depth=6, min_samples_leaf=1, n_estimators=25\n",
      "[CV 1/5; 8/30] END learning_rate=0.05, max_depth=6, min_samples_leaf=1, n_estimators=25;, score=0.873 total time=  14.5s\n",
      "[CV 2/5; 8/30] START learning_rate=0.05, max_depth=6, min_samples_leaf=1, n_estimators=25\n",
      "[CV 2/5; 8/30] END learning_rate=0.05, max_depth=6, min_samples_leaf=1, n_estimators=25;, score=0.868 total time=  14.4s\n",
      "[CV 4/5; 8/30] START learning_rate=0.05, max_depth=6, min_samples_leaf=1, n_estimators=25\n",
      "[CV 4/5; 8/30] END learning_rate=0.05, max_depth=6, min_samples_leaf=1, n_estimators=25;, score=0.876 total time=  14.4s\n",
      "[CV 1/5; 9/30] START learning_rate=0.25, max_depth=4, min_samples_leaf=1, n_estimators=25\n",
      "[CV 1/5; 9/30] END learning_rate=0.25, max_depth=4, min_samples_leaf=1, n_estimators=25;, score=0.915 total time=  10.0s\n",
      "[CV 3/5; 9/30] START learning_rate=0.25, max_depth=4, min_samples_leaf=1, n_estimators=25\n",
      "[CV 3/5; 9/30] END learning_rate=0.25, max_depth=4, min_samples_leaf=1, n_estimators=25;, score=0.915 total time=  10.1s\n",
      "[CV 5/5; 9/30] START learning_rate=0.25, max_depth=4, min_samples_leaf=1, n_estimators=25\n",
      "[CV 5/5; 9/30] END learning_rate=0.25, max_depth=4, min_samples_leaf=1, n_estimators=25;, score=0.916 total time=  10.4s\n",
      "[CV 5/5; 10/30] START learning_rate=0.1, max_depth=3, min_samples_leaf=5, n_estimators=5\n",
      "[CV 5/5; 10/30] END learning_rate=0.1, max_depth=3, min_samples_leaf=5, n_estimators=5;, score=0.690 total time=   1.6s\n",
      "[CV 2/5; 11/30] START learning_rate=0.15000000000000002, max_depth=3, min_samples_leaf=4, n_estimators=5\n",
      "[CV 2/5; 11/30] END learning_rate=0.15000000000000002, max_depth=3, min_samples_leaf=4, n_estimators=5;, score=0.712 total time=   1.6s\n",
      "[CV 4/5; 11/30] START learning_rate=0.15000000000000002, max_depth=3, min_samples_leaf=4, n_estimators=5\n",
      "[CV 4/5; 11/30] END learning_rate=0.15000000000000002, max_depth=3, min_samples_leaf=4, n_estimators=5;, score=0.706 total time=   1.6s\n",
      "[CV 1/5; 12/30] START learning_rate=0.05, max_depth=4, min_samples_leaf=2, n_estimators=10\n",
      "[CV 1/5; 12/30] END learning_rate=0.05, max_depth=4, min_samples_leaf=2, n_estimators=10;, score=0.758 total time=   4.0s\n",
      "[CV 3/5; 12/30] START learning_rate=0.05, max_depth=4, min_samples_leaf=2, n_estimators=10\n",
      "[CV 3/5; 12/30] END learning_rate=0.05, max_depth=4, min_samples_leaf=2, n_estimators=10;, score=0.756 total time=   4.0s\n",
      "[CV 5/5; 12/30] START learning_rate=0.05, max_depth=4, min_samples_leaf=2, n_estimators=10\n",
      "[CV 5/5; 12/30] END learning_rate=0.05, max_depth=4, min_samples_leaf=2, n_estimators=10;, score=0.752 total time=   4.1s\n",
      "[CV 3/5; 13/30] START learning_rate=0.05, max_depth=5, min_samples_leaf=2, n_estimators=5\n",
      "[CV 3/5; 13/30] END learning_rate=0.05, max_depth=5, min_samples_leaf=2, n_estimators=5;, score=0.783 total time=   2.5s\n",
      "[CV 5/5; 13/30] START learning_rate=0.05, max_depth=5, min_samples_leaf=2, n_estimators=5\n",
      "[CV 5/5; 13/30] END learning_rate=0.05, max_depth=5, min_samples_leaf=2, n_estimators=5;, score=0.777 total time=   2.5s\n",
      "[CV 2/5; 14/30] START learning_rate=0.05, max_depth=6, min_samples_leaf=4, n_estimators=5\n",
      "[CV 2/5; 14/30] END learning_rate=0.05, max_depth=6, min_samples_leaf=4, n_estimators=5;, score=0.812 total time=   2.8s\n",
      "[CV 4/5; 14/30] START learning_rate=0.05, max_depth=6, min_samples_leaf=4, n_estimators=5\n",
      "[CV 4/5; 14/30] END learning_rate=0.05, max_depth=6, min_samples_leaf=4, n_estimators=5;, score=0.820 total time=   2.9s\n",
      "[CV 1/5; 15/30] START learning_rate=0.25, max_depth=5, min_samples_leaf=2, n_estimators=25\n",
      "[CV 1/5; 15/30] END learning_rate=0.25, max_depth=5, min_samples_leaf=2, n_estimators=25;, score=0.924 total time=  12.2s\n",
      "[CV 3/5; 15/30] START learning_rate=0.25, max_depth=5, min_samples_leaf=2, n_estimators=25\n",
      "[CV 3/5; 15/30] END learning_rate=0.25, max_depth=5, min_samples_leaf=2, n_estimators=25;, score=0.928 total time=  12.2s\n",
      "[CV 5/5; 15/30] START learning_rate=0.25, max_depth=5, min_samples_leaf=2, n_estimators=25\n",
      "[CV 5/5; 15/30] END learning_rate=0.25, max_depth=5, min_samples_leaf=2, n_estimators=25;, score=0.930 total time=  12.5s\n",
      "[CV 3/5; 16/30] START learning_rate=0.05, max_depth=6, min_samples_leaf=1, n_estimators=10\n",
      "[CV 3/5; 16/30] END learning_rate=0.05, max_depth=6, min_samples_leaf=1, n_estimators=10;, score=0.838 total time=   5.7s\n",
      "[CV 5/5; 16/30] START learning_rate=0.05, max_depth=6, min_samples_leaf=1, n_estimators=10\n",
      "[CV 5/5; 16/30] END learning_rate=0.05, max_depth=6, min_samples_leaf=1, n_estimators=10;, score=0.826 total time=   5.7s\n",
      "[CV 2/5; 17/30] START learning_rate=0.05, max_depth=3, min_samples_leaf=1, n_estimators=25\n",
      "[CV 2/5; 17/30] END learning_rate=0.05, max_depth=3, min_samples_leaf=1, n_estimators=25;, score=0.751 total time=   8.1s\n",
      "[CV 4/5; 17/30] START learning_rate=0.05, max_depth=3, min_samples_leaf=1, n_estimators=25\n",
      "[CV 4/5; 17/30] END learning_rate=0.05, max_depth=3, min_samples_leaf=1, n_estimators=25;, score=0.742 total time=   8.0s\n",
      "[CV 1/5; 18/30] START learning_rate=0.15000000000000002, max_depth=None, min_samples_leaf=4, n_estimators=50\n",
      "[CV 1/5; 18/30] END learning_rate=0.15000000000000002, max_depth=None, min_samples_leaf=4, n_estimators=50;, score=0.942 total time= 1.7min\n"
     ]
    },
    {
     "name": "stderr",
     "output_type": "stream",
     "text": [
      "/Users/timofeyzhdanovich/Desktop/Ph@DS/venv/lib/python3.9/site-packages/joblib/externals/loky/process_executor.py:752: UserWarning: A worker stopped while some jobs were given to the executor. This can be caused by a too short worker timeout or by a memory leak.\n",
      "  warnings.warn(\n"
     ]
    },
    {
     "name": "stdout",
     "output_type": "stream",
     "text": [
      "[CV 1/5; 1/5] START n_estimators=5..............................................\n",
      "[CV 1/5; 1/5] END ...............n_estimators=5;, score=0.693 total time=   1.6s\n",
      "[CV 3/5; 1/5] START n_estimators=5..............................................\n",
      "[CV 3/5; 1/5] END ...............n_estimators=5;, score=0.693 total time=   1.6s\n",
      "[CV 5/5; 1/5] START n_estimators=5..............................................\n",
      "[CV 5/5; 1/5] END ...............n_estimators=5;, score=0.689 total time=   1.6s\n",
      "[CV 2/5; 2/5] START n_estimators=10.............................................\n",
      "[CV 2/5; 2/5] END ..............n_estimators=10;, score=0.734 total time=   3.1s\n",
      "[CV 4/5; 2/5] START n_estimators=10.............................................\n",
      "[CV 4/5; 2/5] END ..............n_estimators=10;, score=0.730 total time=   3.1s\n",
      "[CV 1/5; 3/5] START n_estimators=25.............................................\n",
      "[CV 1/5; 3/5] END ..............n_estimators=25;, score=0.817 total time=   7.8s\n",
      "[CV 3/5; 3/5] START n_estimators=25.............................................\n",
      "[CV 3/5; 3/5] END ..............n_estimators=25;, score=0.817 total time=   7.8s\n",
      "[CV 5/5; 3/5] START n_estimators=25.............................................\n",
      "[CV 5/5; 3/5] END ..............n_estimators=25;, score=0.810 total time=   7.8s\n",
      "[CV 2/5; 4/5] START n_estimators=50.............................................\n",
      "[CV 2/5; 4/5] END ..............n_estimators=50;, score=0.874 total time=  15.6s\n",
      "[CV 4/5; 4/5] START n_estimators=50.............................................\n",
      "[CV 4/5; 4/5] END ..............n_estimators=50;, score=0.872 total time=  15.6s\n",
      "[CV 1/5; 5/5] START n_estimators=75.............................................\n",
      "[CV 1/5; 5/5] END ..............n_estimators=75;, score=0.899 total time=  23.4s\n",
      "[CV 3/5; 5/5] START n_estimators=75.............................................\n",
      "[CV 3/5; 5/5] END ..............n_estimators=75;, score=0.905 total time=  23.5s\n",
      "[CV 5/5; 5/5] START n_estimators=75.............................................\n",
      "[CV 5/5; 5/5] END ..............n_estimators=75;, score=0.906 total time=  23.0s\n",
      "[CV 2/5; 1/30] START learning_rate=0.2, max_depth=5, min_samples_leaf=5, n_estimators=25\n",
      "[CV 2/5; 1/30] END learning_rate=0.2, max_depth=5, min_samples_leaf=5, n_estimators=25;, score=0.918 total time=  12.1s\n",
      "[CV 4/5; 1/30] START learning_rate=0.2, max_depth=5, min_samples_leaf=5, n_estimators=25\n",
      "[CV 4/5; 1/30] END learning_rate=0.2, max_depth=5, min_samples_leaf=5, n_estimators=25;, score=0.921 total time=  12.1s\n",
      "[CV 1/5; 2/30] START learning_rate=0.2, max_depth=None, min_samples_leaf=3, n_estimators=5\n",
      "[CV 1/5; 2/30] END learning_rate=0.2, max_depth=None, min_samples_leaf=3, n_estimators=5;, score=0.889 total time=   9.3s\n",
      "[CV 2/5; 2/30] START learning_rate=0.2, max_depth=None, min_samples_leaf=3, n_estimators=5\n",
      "[CV 2/5; 2/30] END learning_rate=0.2, max_depth=None, min_samples_leaf=3, n_estimators=5;, score=0.895 total time=   9.4s\n",
      "[CV 4/5; 2/30] START learning_rate=0.2, max_depth=None, min_samples_leaf=3, n_estimators=5\n",
      "[CV 4/5; 2/30] END learning_rate=0.2, max_depth=None, min_samples_leaf=3, n_estimators=5;, score=0.888 total time=   9.4s\n",
      "[CV 1/5; 3/30] START learning_rate=0.1, max_depth=6, min_samples_leaf=4, n_estimators=5\n",
      "[CV 1/5; 3/30] END learning_rate=0.1, max_depth=6, min_samples_leaf=4, n_estimators=5;, score=0.838 total time=   2.9s\n",
      "[CV 3/5; 3/30] START learning_rate=0.1, max_depth=6, min_samples_leaf=4, n_estimators=5\n",
      "[CV 3/5; 3/30] END learning_rate=0.1, max_depth=6, min_samples_leaf=4, n_estimators=5;, score=0.837 total time=   2.9s\n",
      "[CV 5/5; 3/30] START learning_rate=0.1, max_depth=6, min_samples_leaf=4, n_estimators=5\n",
      "[CV 5/5; 3/30] END learning_rate=0.1, max_depth=6, min_samples_leaf=4, n_estimators=5;, score=0.833 total time=   2.8s\n",
      "[CV 2/5; 4/30] START learning_rate=0.1, max_depth=6, min_samples_leaf=3, n_estimators=25\n",
      "[CV 2/5; 4/30] END learning_rate=0.1, max_depth=6, min_samples_leaf=3, n_estimators=25;, score=0.901 total time=  14.2s\n",
      "[CV 4/5; 4/30] START learning_rate=0.1, max_depth=6, min_samples_leaf=3, n_estimators=25\n",
      "[CV 4/5; 4/30] END learning_rate=0.1, max_depth=6, min_samples_leaf=3, n_estimators=25;, score=0.915 total time=  14.2s\n",
      "[CV 1/5; 5/30] START learning_rate=0.2, max_depth=None, min_samples_leaf=2, n_estimators=5\n",
      "[CV 1/5; 5/30] END learning_rate=0.2, max_depth=None, min_samples_leaf=2, n_estimators=5;, score=0.900 total time=  10.5s\n",
      "[CV 2/5; 5/30] START learning_rate=0.2, max_depth=None, min_samples_leaf=2, n_estimators=5\n",
      "[CV 2/5; 5/30] END learning_rate=0.2, max_depth=None, min_samples_leaf=2, n_estimators=5;, score=0.887 total time=  10.6s\n",
      "[CV 4/5; 5/30] START learning_rate=0.2, max_depth=None, min_samples_leaf=2, n_estimators=5\n",
      "[CV 4/5; 5/30] END learning_rate=0.2, max_depth=None, min_samples_leaf=2, n_estimators=5;, score=0.892 total time=  10.6s\n",
      "[CV 1/5; 6/30] START learning_rate=0.25, max_depth=3, min_samples_leaf=4, n_estimators=5\n",
      "[CV 1/5; 6/30] END learning_rate=0.25, max_depth=3, min_samples_leaf=4, n_estimators=5;, score=0.753 total time=   1.6s\n",
      "[CV 2/5; 6/30] START learning_rate=0.25, max_depth=3, min_samples_leaf=4, n_estimators=5\n",
      "[CV 2/5; 6/30] END learning_rate=0.25, max_depth=3, min_samples_leaf=4, n_estimators=5;, score=0.740 total time=   1.6s\n",
      "[CV 4/5; 6/30] START learning_rate=0.25, max_depth=3, min_samples_leaf=4, n_estimators=5\n",
      "[CV 4/5; 6/30] END learning_rate=0.25, max_depth=3, min_samples_leaf=4, n_estimators=5;, score=0.751 total time=   1.6s\n",
      "[CV 1/5; 7/30] START learning_rate=0.1, max_depth=4, min_samples_leaf=3, n_estimators=50\n",
      "[CV 1/5; 7/30] END learning_rate=0.1, max_depth=4, min_samples_leaf=3, n_estimators=50;, score=0.912 total time=  20.2s\n",
      "[CV 3/5; 7/30] START learning_rate=0.1, max_depth=4, min_samples_leaf=3, n_estimators=50\n",
      "[CV 3/5; 7/30] END learning_rate=0.1, max_depth=4, min_samples_leaf=3, n_estimators=50;, score=0.914 total time=  20.6s\n",
      "[CV 5/5; 7/30] START learning_rate=0.1, max_depth=4, min_samples_leaf=3, n_estimators=50\n",
      "[CV 5/5; 7/30] END learning_rate=0.1, max_depth=4, min_samples_leaf=3, n_estimators=50;, score=0.914 total time=  20.3s\n",
      "[CV 3/5; 8/30] START learning_rate=0.05, max_depth=6, min_samples_leaf=1, n_estimators=25\n",
      "[CV 3/5; 8/30] END learning_rate=0.05, max_depth=6, min_samples_leaf=1, n_estimators=25;, score=0.879 total time=  14.5s\n",
      "[CV 5/5; 8/30] START learning_rate=0.05, max_depth=6, min_samples_leaf=1, n_estimators=25\n",
      "[CV 5/5; 8/30] END learning_rate=0.05, max_depth=6, min_samples_leaf=1, n_estimators=25;, score=0.870 total time=  14.4s\n",
      "[CV 2/5; 9/30] START learning_rate=0.25, max_depth=4, min_samples_leaf=1, n_estimators=25\n",
      "[CV 2/5; 9/30] END learning_rate=0.25, max_depth=4, min_samples_leaf=1, n_estimators=25;, score=0.910 total time=  10.2s\n",
      "[CV 4/5; 9/30] START learning_rate=0.25, max_depth=4, min_samples_leaf=1, n_estimators=25\n",
      "[CV 4/5; 9/30] END learning_rate=0.25, max_depth=4, min_samples_leaf=1, n_estimators=25;, score=0.907 total time=  10.2s\n",
      "[CV 1/5; 10/30] START learning_rate=0.1, max_depth=3, min_samples_leaf=5, n_estimators=5\n",
      "[CV 1/5; 10/30] END learning_rate=0.1, max_depth=3, min_samples_leaf=5, n_estimators=5;, score=0.694 total time=   1.7s\n",
      "[CV 2/5; 10/30] START learning_rate=0.1, max_depth=3, min_samples_leaf=5, n_estimators=5\n",
      "[CV 2/5; 10/30] END learning_rate=0.1, max_depth=3, min_samples_leaf=5, n_estimators=5;, score=0.697 total time=   1.8s\n",
      "[CV 3/5; 10/30] START learning_rate=0.1, max_depth=3, min_samples_leaf=5, n_estimators=5\n",
      "[CV 3/5; 10/30] END learning_rate=0.1, max_depth=3, min_samples_leaf=5, n_estimators=5;, score=0.696 total time=   1.6s\n",
      "[CV 4/5; 10/30] START learning_rate=0.1, max_depth=3, min_samples_leaf=5, n_estimators=5\n",
      "[CV 4/5; 10/30] END learning_rate=0.1, max_depth=3, min_samples_leaf=5, n_estimators=5;, score=0.687 total time=   1.6s\n",
      "[CV 1/5; 11/30] START learning_rate=0.15000000000000002, max_depth=3, min_samples_leaf=4, n_estimators=5\n",
      "[CV 1/5; 11/30] END learning_rate=0.15000000000000002, max_depth=3, min_samples_leaf=4, n_estimators=5;, score=0.714 total time=   1.6s\n",
      "[CV 3/5; 11/30] START learning_rate=0.15000000000000002, max_depth=3, min_samples_leaf=4, n_estimators=5\n",
      "[CV 3/5; 11/30] END learning_rate=0.15000000000000002, max_depth=3, min_samples_leaf=4, n_estimators=5;, score=0.718 total time=   1.6s\n",
      "[CV 5/5; 11/30] START learning_rate=0.15000000000000002, max_depth=3, min_samples_leaf=4, n_estimators=5\n",
      "[CV 5/5; 11/30] END learning_rate=0.15000000000000002, max_depth=3, min_samples_leaf=4, n_estimators=5;, score=0.712 total time=   1.6s\n",
      "[CV 2/5; 12/30] START learning_rate=0.05, max_depth=4, min_samples_leaf=2, n_estimators=10\n",
      "[CV 2/5; 12/30] END learning_rate=0.05, max_depth=4, min_samples_leaf=2, n_estimators=10;, score=0.743 total time=   4.0s\n",
      "[CV 4/5; 12/30] START learning_rate=0.05, max_depth=4, min_samples_leaf=2, n_estimators=10\n",
      "[CV 4/5; 12/30] END learning_rate=0.05, max_depth=4, min_samples_leaf=2, n_estimators=10;, score=0.747 total time=   4.0s\n",
      "[CV 1/5; 13/30] START learning_rate=0.05, max_depth=5, min_samples_leaf=2, n_estimators=5\n",
      "[CV 1/5; 13/30] END learning_rate=0.05, max_depth=5, min_samples_leaf=2, n_estimators=5;, score=0.788 total time=   2.4s\n",
      "[CV 2/5; 13/30] START learning_rate=0.05, max_depth=5, min_samples_leaf=2, n_estimators=5\n",
      "[CV 2/5; 13/30] END learning_rate=0.05, max_depth=5, min_samples_leaf=2, n_estimators=5;, score=0.778 total time=   2.5s\n",
      "[CV 4/5; 13/30] START learning_rate=0.05, max_depth=5, min_samples_leaf=2, n_estimators=5\n",
      "[CV 4/5; 13/30] END learning_rate=0.05, max_depth=5, min_samples_leaf=2, n_estimators=5;, score=0.782 total time=   2.4s\n",
      "[CV 1/5; 14/30] START learning_rate=0.05, max_depth=6, min_samples_leaf=4, n_estimators=5\n",
      "[CV 1/5; 14/30] END learning_rate=0.05, max_depth=6, min_samples_leaf=4, n_estimators=5;, score=0.817 total time=   2.8s\n",
      "[CV 3/5; 14/30] START learning_rate=0.05, max_depth=6, min_samples_leaf=4, n_estimators=5\n",
      "[CV 3/5; 14/30] END learning_rate=0.05, max_depth=6, min_samples_leaf=4, n_estimators=5;, score=0.814 total time=   2.9s\n",
      "[CV 5/5; 14/30] START learning_rate=0.05, max_depth=6, min_samples_leaf=4, n_estimators=5\n",
      "[CV 5/5; 14/30] END learning_rate=0.05, max_depth=6, min_samples_leaf=4, n_estimators=5;, score=0.807 total time=   2.8s\n",
      "[CV 2/5; 15/30] START learning_rate=0.25, max_depth=5, min_samples_leaf=2, n_estimators=25\n",
      "[CV 2/5; 15/30] END learning_rate=0.25, max_depth=5, min_samples_leaf=2, n_estimators=25;, score=0.923 total time=  12.2s\n",
      "[CV 4/5; 15/30] START learning_rate=0.25, max_depth=5, min_samples_leaf=2, n_estimators=25\n",
      "[CV 4/5; 15/30] END learning_rate=0.25, max_depth=5, min_samples_leaf=2, n_estimators=25;, score=0.921 total time=  12.3s\n",
      "[CV 1/5; 16/30] START learning_rate=0.05, max_depth=6, min_samples_leaf=1, n_estimators=10\n",
      "[CV 1/5; 16/30] END learning_rate=0.05, max_depth=6, min_samples_leaf=1, n_estimators=10;, score=0.842 total time=   6.0s\n",
      "[CV 2/5; 16/30] START learning_rate=0.05, max_depth=6, min_samples_leaf=1, n_estimators=10\n",
      "[CV 2/5; 16/30] END learning_rate=0.05, max_depth=6, min_samples_leaf=1, n_estimators=10;, score=0.840 total time=   5.8s\n",
      "[CV 4/5; 16/30] START learning_rate=0.05, max_depth=6, min_samples_leaf=1, n_estimators=10\n",
      "[CV 4/5; 16/30] END learning_rate=0.05, max_depth=6, min_samples_leaf=1, n_estimators=10;, score=0.839 total time=   5.7s\n",
      "[CV 1/5; 17/30] START learning_rate=0.05, max_depth=3, min_samples_leaf=1, n_estimators=25\n",
      "[CV 1/5; 17/30] END learning_rate=0.05, max_depth=3, min_samples_leaf=1, n_estimators=25;, score=0.749 total time=   8.1s\n",
      "[CV 3/5; 17/30] START learning_rate=0.05, max_depth=3, min_samples_leaf=1, n_estimators=25\n",
      "[CV 3/5; 17/30] END learning_rate=0.05, max_depth=3, min_samples_leaf=1, n_estimators=25;, score=0.763 total time=   8.1s\n",
      "[CV 5/5; 17/30] START learning_rate=0.05, max_depth=3, min_samples_leaf=1, n_estimators=25\n",
      "[CV 5/5; 17/30] END learning_rate=0.05, max_depth=3, min_samples_leaf=1, n_estimators=25;, score=0.749 total time=   8.1s\n",
      "[CV 2/5; 18/30] START learning_rate=0.15000000000000002, max_depth=None, min_samples_leaf=4, n_estimators=50\n",
      "[CV 2/5; 18/30] END learning_rate=0.15000000000000002, max_depth=None, min_samples_leaf=4, n_estimators=50;, score=0.937 total time= 1.7min\n"
     ]
    },
    {
     "data": {
      "text/html": [
       "<style>#sk-container-id-2 {color: black;}#sk-container-id-2 pre{padding: 0;}#sk-container-id-2 div.sk-toggleable {background-color: white;}#sk-container-id-2 label.sk-toggleable__label {cursor: pointer;display: block;width: 100%;margin-bottom: 0;padding: 0.3em;box-sizing: border-box;text-align: center;}#sk-container-id-2 label.sk-toggleable__label-arrow:before {content: \"▸\";float: left;margin-right: 0.25em;color: #696969;}#sk-container-id-2 label.sk-toggleable__label-arrow:hover:before {color: black;}#sk-container-id-2 div.sk-estimator:hover label.sk-toggleable__label-arrow:before {color: black;}#sk-container-id-2 div.sk-toggleable__content {max-height: 0;max-width: 0;overflow: hidden;text-align: left;background-color: #f0f8ff;}#sk-container-id-2 div.sk-toggleable__content pre {margin: 0.2em;color: black;border-radius: 0.25em;background-color: #f0f8ff;}#sk-container-id-2 input.sk-toggleable__control:checked~div.sk-toggleable__content {max-height: 200px;max-width: 100%;overflow: auto;}#sk-container-id-2 input.sk-toggleable__control:checked~label.sk-toggleable__label-arrow:before {content: \"▾\";}#sk-container-id-2 div.sk-estimator input.sk-toggleable__control:checked~label.sk-toggleable__label {background-color: #d4ebff;}#sk-container-id-2 div.sk-label input.sk-toggleable__control:checked~label.sk-toggleable__label {background-color: #d4ebff;}#sk-container-id-2 input.sk-hidden--visually {border: 0;clip: rect(1px 1px 1px 1px);clip: rect(1px, 1px, 1px, 1px);height: 1px;margin: -1px;overflow: hidden;padding: 0;position: absolute;width: 1px;}#sk-container-id-2 div.sk-estimator {font-family: monospace;background-color: #f0f8ff;border: 1px dotted black;border-radius: 0.25em;box-sizing: border-box;margin-bottom: 0.5em;}#sk-container-id-2 div.sk-estimator:hover {background-color: #d4ebff;}#sk-container-id-2 div.sk-parallel-item::after {content: \"\";width: 100%;border-bottom: 1px solid gray;flex-grow: 1;}#sk-container-id-2 div.sk-label:hover label.sk-toggleable__label {background-color: #d4ebff;}#sk-container-id-2 div.sk-serial::before {content: \"\";position: absolute;border-left: 1px solid gray;box-sizing: border-box;top: 0;bottom: 0;left: 50%;z-index: 0;}#sk-container-id-2 div.sk-serial {display: flex;flex-direction: column;align-items: center;background-color: white;padding-right: 0.2em;padding-left: 0.2em;position: relative;}#sk-container-id-2 div.sk-item {position: relative;z-index: 1;}#sk-container-id-2 div.sk-parallel {display: flex;align-items: stretch;justify-content: center;background-color: white;position: relative;}#sk-container-id-2 div.sk-item::before, #sk-container-id-2 div.sk-parallel-item::before {content: \"\";position: absolute;border-left: 1px solid gray;box-sizing: border-box;top: 0;bottom: 0;left: 50%;z-index: -1;}#sk-container-id-2 div.sk-parallel-item {display: flex;flex-direction: column;z-index: 1;position: relative;background-color: white;}#sk-container-id-2 div.sk-parallel-item:first-child::after {align-self: flex-end;width: 50%;}#sk-container-id-2 div.sk-parallel-item:last-child::after {align-self: flex-start;width: 50%;}#sk-container-id-2 div.sk-parallel-item:only-child::after {width: 0;}#sk-container-id-2 div.sk-dashed-wrapped {border: 1px dashed gray;margin: 0 0.4em 0.5em 0.4em;box-sizing: border-box;padding-bottom: 0.4em;background-color: white;}#sk-container-id-2 div.sk-label label {font-family: monospace;font-weight: bold;display: inline-block;line-height: 1.2em;}#sk-container-id-2 div.sk-label-container {text-align: center;}#sk-container-id-2 div.sk-container {/* jupyter's `normalize.less` sets `[hidden] { display: none; }` but bootstrap.min.css set `[hidden] { display: none !important; }` so we also need the `!important` here to be able to override the default hidden behavior on the sphinx rendered scikit-learn.org. See: https://github.com/scikit-learn/scikit-learn/issues/21755 */display: inline-block !important;position: relative;}#sk-container-id-2 div.sk-text-repr-fallback {display: none;}</style><div id=\"sk-container-id-2\" class=\"sk-top-container\"><div class=\"sk-text-repr-fallback\"><pre>RandomizedSearchCV(cv=5, estimator=GradientBoostingClassifier(), n_iter=30,\n",
       "                   n_jobs=2,\n",
       "                   param_distributions={&#x27;learning_rate&#x27;: array([0.05, 0.1 , 0.15, 0.2 , 0.25]),\n",
       "                                        &#x27;max_depth&#x27;: [3, 4, 5, 6, None],\n",
       "                                        &#x27;min_samples_leaf&#x27;: array([1, 2, 3, 4, 5]),\n",
       "                                        &#x27;n_estimators&#x27;: [5, 10, 25, 50, 75]},\n",
       "                   random_state=42, verbose=10)</pre><b>In a Jupyter environment, please rerun this cell to show the HTML representation or trust the notebook. <br />On GitHub, the HTML representation is unable to render, please try loading this page with nbviewer.org.</b></div><div class=\"sk-container\" hidden><div class=\"sk-item sk-dashed-wrapped\"><div class=\"sk-label-container\"><div class=\"sk-label sk-toggleable\"><input class=\"sk-toggleable__control sk-hidden--visually\" id=\"sk-estimator-id-4\" type=\"checkbox\" ><label for=\"sk-estimator-id-4\" class=\"sk-toggleable__label sk-toggleable__label-arrow\">RandomizedSearchCV</label><div class=\"sk-toggleable__content\"><pre>RandomizedSearchCV(cv=5, estimator=GradientBoostingClassifier(), n_iter=30,\n",
       "                   n_jobs=2,\n",
       "                   param_distributions={&#x27;learning_rate&#x27;: array([0.05, 0.1 , 0.15, 0.2 , 0.25]),\n",
       "                                        &#x27;max_depth&#x27;: [3, 4, 5, 6, None],\n",
       "                                        &#x27;min_samples_leaf&#x27;: array([1, 2, 3, 4, 5]),\n",
       "                                        &#x27;n_estimators&#x27;: [5, 10, 25, 50, 75]},\n",
       "                   random_state=42, verbose=10)</pre></div></div></div><div class=\"sk-parallel\"><div class=\"sk-parallel-item\"><div class=\"sk-item\"><div class=\"sk-label-container\"><div class=\"sk-label sk-toggleable\"><input class=\"sk-toggleable__control sk-hidden--visually\" id=\"sk-estimator-id-5\" type=\"checkbox\" ><label for=\"sk-estimator-id-5\" class=\"sk-toggleable__label sk-toggleable__label-arrow\">estimator: GradientBoostingClassifier</label><div class=\"sk-toggleable__content\"><pre>GradientBoostingClassifier()</pre></div></div></div><div class=\"sk-serial\"><div class=\"sk-item\"><div class=\"sk-estimator sk-toggleable\"><input class=\"sk-toggleable__control sk-hidden--visually\" id=\"sk-estimator-id-6\" type=\"checkbox\" ><label for=\"sk-estimator-id-6\" class=\"sk-toggleable__label sk-toggleable__label-arrow\">GradientBoostingClassifier</label><div class=\"sk-toggleable__content\"><pre>GradientBoostingClassifier()</pre></div></div></div></div></div></div></div></div></div></div>"
      ],
      "text/plain": [
       "RandomizedSearchCV(cv=5, estimator=GradientBoostingClassifier(), n_iter=30,\n",
       "                   n_jobs=2,\n",
       "                   param_distributions={'learning_rate': array([0.05, 0.1 , 0.15, 0.2 , 0.25]),\n",
       "                                        'max_depth': [3, 4, 5, 6, None],\n",
       "                                        'min_samples_leaf': array([1, 2, 3, 4, 5]),\n",
       "                                        'n_estimators': [5, 10, 25, 50, 75]},\n",
       "                   random_state=42, verbose=10)"
      ]
     },
     "execution_count": 11,
     "metadata": {},
     "output_type": "execute_result"
    }
   ],
   "source": [
    "rnd_boosting_gridsearch.fit(X_train, y_train)"
   ]
  },
  {
   "cell_type": "markdown",
   "metadata": {
    "id": "-WWgSSrHdUK6"
   },
   "source": [
    "Подобранные гиперпараметры:"
   ]
  },
  {
   "cell_type": "code",
   "execution_count": 12,
   "metadata": {
    "ExecuteTime": {
     "end_time": "2021-02-27T16:52:47.735925Z",
     "start_time": "2021-02-27T16:52:47.727149Z"
    },
    "id": "pbJcZDzMdUK6",
    "outputId": "6918243d-fc7e-4b09-d0e8-02c784dd2419"
   },
   "outputs": [
    {
     "data": {
      "text/plain": [
       "{'n_estimators': 50,\n",
       " 'min_samples_leaf': 1,\n",
       " 'max_depth': 6,\n",
       " 'learning_rate': 0.25}"
      ]
     },
     "execution_count": 12,
     "metadata": {},
     "output_type": "execute_result"
    }
   ],
   "source": [
    "rnd_boosting_gridsearch.best_params_"
   ]
  },
  {
   "cell_type": "markdown",
   "metadata": {
    "id": "Omk78Pg5dUK7"
   },
   "source": [
    "Качество оптимальной модели:"
   ]
  },
  {
   "cell_type": "code",
   "execution_count": 13,
   "metadata": {
    "ExecuteTime": {
     "end_time": "2021-02-27T16:52:55.805038Z",
     "start_time": "2021-02-27T16:52:54.400992Z"
    },
    "id": "3zzXjkjEdUK7",
    "outputId": "922f137e-7fee-4852-dca9-7dfcc2775678"
   },
   "outputs": [
    {
     "name": "stdout",
     "output_type": "stream",
     "text": [
      "train accuracy 0.9999\n",
      "test accuracy 0.9498\n"
     ]
    }
   ],
   "source": [
    "print('train accuracy {:.4f}'.format(\n",
    "    accuracy_score(rnd_boosting_gridsearch.predict(X_train), y_train)\n",
    "))\n",
    "print('test accuracy {:.4f}'.format(\n",
    "    accuracy_score(rnd_boosting_gridsearch.predict(X_test), y_test)\n",
    "))"
   ]
  },
  {
   "cell_type": "markdown",
   "metadata": {
    "id": "0vFsD5CrdUK7"
   },
   "source": [
    "### 2.3 Подбор значения параметра `learning_rate`\n",
    "\n",
    "Как вы уже знаете, скорость сходимости, да и сам факт сходимости метода оптимизации сильно зависят от гиперпараметров метода. Одним из наиболее важных гиперпараметров методов оптимизации является `learning_rate`. Поэтому бывает полезно подобрать значение `learning_rate` наиболее точно."
   ]
  },
  {
   "cell_type": "markdown",
   "metadata": {
    "id": "w_-BxsCfdUK7"
   },
   "source": [
    "Предварительно зафиксируем остальные найденные параметры."
   ]
  },
  {
   "cell_type": "code",
   "execution_count": 14,
   "metadata": {
    "ExecuteTime": {
     "end_time": "2021-02-27T17:13:13.345239Z",
     "start_time": "2021-02-27T16:54:18.093981Z"
    },
    "id": "M_x2AzgcdUK7",
    "outputId": "acbc1c53-d8f6-499e-fc2f-430d7ac793c4"
   },
   "outputs": [
    {
     "name": "stdout",
     "output_type": "stream",
     "text": [
      "Fitting 5 folds for each of 5 candidates, totalling 25 fits\n",
      "[CV 3/5; 18/30] START learning_rate=0.15000000000000002, max_depth=None, min_samples_leaf=4, n_estimators=50\n",
      "[CV 3/5; 18/30] END learning_rate=0.15000000000000002, max_depth=None, min_samples_leaf=4, n_estimators=50;, score=0.946 total time= 1.7min\n",
      "[CV 5/5; 18/30] START learning_rate=0.15000000000000002, max_depth=None, min_samples_leaf=4, n_estimators=50\n",
      "[CV 5/5; 18/30] END learning_rate=0.15000000000000002, max_depth=None, min_samples_leaf=4, n_estimators=50;, score=0.940 total time= 1.7min\n",
      "[CV 5/5; 22/30] START learning_rate=0.1, max_depth=3, min_samples_leaf=5, n_estimators=50\n",
      "[CV 5/5; 22/30] END learning_rate=0.1, max_depth=3, min_samples_leaf=5, n_estimators=50;, score=0.875 total time=  16.6s\n",
      "[CV 2/5; 23/30] START learning_rate=0.05, max_depth=4, min_samples_leaf=5, n_estimators=75\n",
      "[CV 2/5; 23/30] END learning_rate=0.05, max_depth=4, min_samples_leaf=5, n_estimators=75;, score=0.890 total time=  31.3s\n",
      "[CV 4/5; 23/30] START learning_rate=0.05, max_depth=4, min_samples_leaf=5, n_estimators=75\n",
      "[CV 4/5; 23/30] END learning_rate=0.05, max_depth=4, min_samples_leaf=5, n_estimators=75;, score=0.891 total time=  31.2s\n",
      "[CV 1/5; 24/30] START learning_rate=0.25, max_depth=None, min_samples_leaf=5, n_estimators=10\n",
      "[CV 1/5; 24/30] END learning_rate=0.25, max_depth=None, min_samples_leaf=5, n_estimators=10;, score=0.914 total time=  17.5s\n",
      "[CV 2/5; 24/30] START learning_rate=0.25, max_depth=None, min_samples_leaf=5, n_estimators=10\n",
      "[CV 2/5; 24/30] END learning_rate=0.25, max_depth=None, min_samples_leaf=5, n_estimators=10;, score=0.908 total time=  17.6s\n",
      "[CV 4/5; 24/30] START learning_rate=0.25, max_depth=None, min_samples_leaf=5, n_estimators=10\n",
      "[CV 4/5; 24/30] END learning_rate=0.25, max_depth=None, min_samples_leaf=5, n_estimators=10;, score=0.915 total time=  17.2s\n",
      "[CV 1/5; 25/30] START learning_rate=0.2, max_depth=5, min_samples_leaf=3, n_estimators=25\n",
      "[CV 1/5; 25/30] END learning_rate=0.2, max_depth=5, min_samples_leaf=3, n_estimators=25;, score=0.918 total time=  12.4s\n",
      "[CV 3/5; 25/30] START learning_rate=0.2, max_depth=5, min_samples_leaf=3, n_estimators=25\n",
      "[CV 3/5; 25/30] END learning_rate=0.2, max_depth=5, min_samples_leaf=3, n_estimators=25;, score=0.929 total time=  12.4s\n",
      "[CV 5/5; 25/30] START learning_rate=0.2, max_depth=5, min_samples_leaf=3, n_estimators=25\n",
      "[CV 5/5; 25/30] END learning_rate=0.2, max_depth=5, min_samples_leaf=3, n_estimators=25;, score=0.928 total time=  12.3s\n",
      "[CV 2/5; 26/30] START learning_rate=0.05, max_depth=None, min_samples_leaf=3, n_estimators=5\n",
      "[CV 2/5; 26/30] END learning_rate=0.05, max_depth=None, min_samples_leaf=3, n_estimators=5;, score=0.862 total time=  10.0s\n",
      "[CV 4/5; 26/30] START learning_rate=0.05, max_depth=None, min_samples_leaf=3, n_estimators=5\n",
      "[CV 4/5; 26/30] END learning_rate=0.05, max_depth=None, min_samples_leaf=3, n_estimators=5;, score=0.870 total time=   9.9s\n",
      "[CV 1/5; 27/30] START learning_rate=0.15000000000000002, max_depth=3, min_samples_leaf=2, n_estimators=25\n",
      "[CV 1/5; 27/30] END learning_rate=0.15000000000000002, max_depth=3, min_samples_leaf=2, n_estimators=25;, score=0.851 total time=   8.3s\n",
      "[CV 3/5; 27/30] START learning_rate=0.15000000000000002, max_depth=3, min_samples_leaf=2, n_estimators=25\n",
      "[CV 3/5; 27/30] END learning_rate=0.15000000000000002, max_depth=3, min_samples_leaf=2, n_estimators=25;, score=0.858 total time=   8.4s\n",
      "[CV 5/5; 27/30] START learning_rate=0.15000000000000002, max_depth=3, min_samples_leaf=2, n_estimators=25\n",
      "[CV 5/5; 27/30] END learning_rate=0.15000000000000002, max_depth=3, min_samples_leaf=2, n_estimators=25;, score=0.852 total time=   8.1s\n",
      "[CV 2/5; 28/30] START learning_rate=0.25, max_depth=6, min_samples_leaf=1, n_estimators=50\n",
      "[CV 2/5; 28/30] END learning_rate=0.25, max_depth=6, min_samples_leaf=1, n_estimators=50;, score=0.942 total time=  29.2s\n",
      "[CV 4/5; 28/30] START learning_rate=0.25, max_depth=6, min_samples_leaf=1, n_estimators=50\n",
      "[CV 4/5; 28/30] END learning_rate=0.25, max_depth=6, min_samples_leaf=1, n_estimators=50;, score=0.937 total time=  29.0s\n",
      "[CV 1/5; 29/30] START learning_rate=0.25, max_depth=None, min_samples_leaf=5, n_estimators=5\n",
      "[CV 1/5; 29/30] END learning_rate=0.25, max_depth=None, min_samples_leaf=5, n_estimators=5;, score=0.897 total time=   8.1s\n",
      "[CV 2/5; 29/30] START learning_rate=0.25, max_depth=None, min_samples_leaf=5, n_estimators=5\n",
      "[CV 2/5; 29/30] END learning_rate=0.25, max_depth=None, min_samples_leaf=5, n_estimators=5;, score=0.896 total time=   8.1s\n",
      "[CV 3/5; 29/30] START learning_rate=0.25, max_depth=None, min_samples_leaf=5, n_estimators=5\n",
      "[CV 3/5; 29/30] END learning_rate=0.25, max_depth=None, min_samples_leaf=5, n_estimators=5;, score=0.907 total time=   8.0s\n",
      "[CV 5/5; 29/30] START learning_rate=0.25, max_depth=None, min_samples_leaf=5, n_estimators=5\n",
      "[CV 5/5; 29/30] END learning_rate=0.25, max_depth=None, min_samples_leaf=5, n_estimators=5;, score=0.898 total time=   8.0s\n",
      "[CV 3/5; 30/30] START learning_rate=0.15000000000000002, max_depth=3, min_samples_leaf=2, n_estimators=10\n",
      "[CV 3/5; 30/30] END learning_rate=0.15000000000000002, max_depth=3, min_samples_leaf=2, n_estimators=10;, score=0.779 total time=   3.3s\n",
      "[CV 5/5; 30/30] START learning_rate=0.15000000000000002, max_depth=3, min_samples_leaf=2, n_estimators=10\n",
      "[CV 5/5; 30/30] END learning_rate=0.15000000000000002, max_depth=3, min_samples_leaf=2, n_estimators=10;, score=0.770 total time=   3.3s\n",
      "[CV 2/5; 1/5] START learning_rate=0.05..........................................\n",
      "[CV 2/5; 1/5] END ...........learning_rate=0.05;, score=0.922 total time=  43.7s\n",
      "[CV 4/5; 1/5] START learning_rate=0.05..........................................\n",
      "[CV 4/5; 1/5] END ...........learning_rate=0.05;, score=0.930 total time=  43.7s\n",
      "[CV 1/5; 2/5] START learning_rate=0.1...........................................\n",
      "[CV 1/5; 2/5] END ............learning_rate=0.1;, score=0.947 total time=  43.5s\n",
      "[CV 3/5; 2/5] START learning_rate=0.1...........................................\n",
      "[CV 3/5; 2/5] END ............learning_rate=0.1;, score=0.949 total time=  43.5s\n",
      "[CV 5/5; 2/5] START learning_rate=0.1...........................................\n",
      "[CV 5/5; 2/5] END ............learning_rate=0.1;, score=0.945 total time=  43.5s\n",
      "[CV 2/5; 3/5] START learning_rate=0.15000000000000002...........................\n",
      "[CV 2/5; 3/5] END learning_rate=0.15000000000000002;, score=0.947 total time=  43.6s\n",
      "[CV 4/5; 3/5] START learning_rate=0.15000000000000002...........................\n",
      "[CV 4/5; 3/5] END learning_rate=0.15000000000000002;, score=0.952 total time=  44.3s\n"
     ]
    },
    {
     "name": "stderr",
     "output_type": "stream",
     "text": [
      "/Users/timofeyzhdanovich/Desktop/Ph@DS/venv/lib/python3.9/site-packages/joblib/externals/loky/process_executor.py:752: UserWarning: A worker stopped while some jobs were given to the executor. This can be caused by a too short worker timeout or by a memory leak.\n",
      "  warnings.warn(\n"
     ]
    },
    {
     "data": {
      "text/html": [
       "<style>#sk-container-id-3 {color: black;}#sk-container-id-3 pre{padding: 0;}#sk-container-id-3 div.sk-toggleable {background-color: white;}#sk-container-id-3 label.sk-toggleable__label {cursor: pointer;display: block;width: 100%;margin-bottom: 0;padding: 0.3em;box-sizing: border-box;text-align: center;}#sk-container-id-3 label.sk-toggleable__label-arrow:before {content: \"▸\";float: left;margin-right: 0.25em;color: #696969;}#sk-container-id-3 label.sk-toggleable__label-arrow:hover:before {color: black;}#sk-container-id-3 div.sk-estimator:hover label.sk-toggleable__label-arrow:before {color: black;}#sk-container-id-3 div.sk-toggleable__content {max-height: 0;max-width: 0;overflow: hidden;text-align: left;background-color: #f0f8ff;}#sk-container-id-3 div.sk-toggleable__content pre {margin: 0.2em;color: black;border-radius: 0.25em;background-color: #f0f8ff;}#sk-container-id-3 input.sk-toggleable__control:checked~div.sk-toggleable__content {max-height: 200px;max-width: 100%;overflow: auto;}#sk-container-id-3 input.sk-toggleable__control:checked~label.sk-toggleable__label-arrow:before {content: \"▾\";}#sk-container-id-3 div.sk-estimator input.sk-toggleable__control:checked~label.sk-toggleable__label {background-color: #d4ebff;}#sk-container-id-3 div.sk-label input.sk-toggleable__control:checked~label.sk-toggleable__label {background-color: #d4ebff;}#sk-container-id-3 input.sk-hidden--visually {border: 0;clip: rect(1px 1px 1px 1px);clip: rect(1px, 1px, 1px, 1px);height: 1px;margin: -1px;overflow: hidden;padding: 0;position: absolute;width: 1px;}#sk-container-id-3 div.sk-estimator {font-family: monospace;background-color: #f0f8ff;border: 1px dotted black;border-radius: 0.25em;box-sizing: border-box;margin-bottom: 0.5em;}#sk-container-id-3 div.sk-estimator:hover {background-color: #d4ebff;}#sk-container-id-3 div.sk-parallel-item::after {content: \"\";width: 100%;border-bottom: 1px solid gray;flex-grow: 1;}#sk-container-id-3 div.sk-label:hover label.sk-toggleable__label {background-color: #d4ebff;}#sk-container-id-3 div.sk-serial::before {content: \"\";position: absolute;border-left: 1px solid gray;box-sizing: border-box;top: 0;bottom: 0;left: 50%;z-index: 0;}#sk-container-id-3 div.sk-serial {display: flex;flex-direction: column;align-items: center;background-color: white;padding-right: 0.2em;padding-left: 0.2em;position: relative;}#sk-container-id-3 div.sk-item {position: relative;z-index: 1;}#sk-container-id-3 div.sk-parallel {display: flex;align-items: stretch;justify-content: center;background-color: white;position: relative;}#sk-container-id-3 div.sk-item::before, #sk-container-id-3 div.sk-parallel-item::before {content: \"\";position: absolute;border-left: 1px solid gray;box-sizing: border-box;top: 0;bottom: 0;left: 50%;z-index: -1;}#sk-container-id-3 div.sk-parallel-item {display: flex;flex-direction: column;z-index: 1;position: relative;background-color: white;}#sk-container-id-3 div.sk-parallel-item:first-child::after {align-self: flex-end;width: 50%;}#sk-container-id-3 div.sk-parallel-item:last-child::after {align-self: flex-start;width: 50%;}#sk-container-id-3 div.sk-parallel-item:only-child::after {width: 0;}#sk-container-id-3 div.sk-dashed-wrapped {border: 1px dashed gray;margin: 0 0.4em 0.5em 0.4em;box-sizing: border-box;padding-bottom: 0.4em;background-color: white;}#sk-container-id-3 div.sk-label label {font-family: monospace;font-weight: bold;display: inline-block;line-height: 1.2em;}#sk-container-id-3 div.sk-label-container {text-align: center;}#sk-container-id-3 div.sk-container {/* jupyter's `normalize.less` sets `[hidden] { display: none; }` but bootstrap.min.css set `[hidden] { display: none !important; }` so we also need the `!important` here to be able to override the default hidden behavior on the sphinx rendered scikit-learn.org. See: https://github.com/scikit-learn/scikit-learn/issues/21755 */display: inline-block !important;position: relative;}#sk-container-id-3 div.sk-text-repr-fallback {display: none;}</style><div id=\"sk-container-id-3\" class=\"sk-top-container\"><div class=\"sk-text-repr-fallback\"><pre>GridSearchCV(cv=5,\n",
       "             estimator=GradientBoostingClassifier(max_depth=6,\n",
       "                                                  min_samples_leaf=5,\n",
       "                                                  n_estimators=75),\n",
       "             n_jobs=2,\n",
       "             param_grid={&#x27;learning_rate&#x27;: array([0.05, 0.1 , 0.15, 0.2 , 0.25])},\n",
       "             verbose=10)</pre><b>In a Jupyter environment, please rerun this cell to show the HTML representation or trust the notebook. <br />On GitHub, the HTML representation is unable to render, please try loading this page with nbviewer.org.</b></div><div class=\"sk-container\" hidden><div class=\"sk-item sk-dashed-wrapped\"><div class=\"sk-label-container\"><div class=\"sk-label sk-toggleable\"><input class=\"sk-toggleable__control sk-hidden--visually\" id=\"sk-estimator-id-7\" type=\"checkbox\" ><label for=\"sk-estimator-id-7\" class=\"sk-toggleable__label sk-toggleable__label-arrow\">GridSearchCV</label><div class=\"sk-toggleable__content\"><pre>GridSearchCV(cv=5,\n",
       "             estimator=GradientBoostingClassifier(max_depth=6,\n",
       "                                                  min_samples_leaf=5,\n",
       "                                                  n_estimators=75),\n",
       "             n_jobs=2,\n",
       "             param_grid={&#x27;learning_rate&#x27;: array([0.05, 0.1 , 0.15, 0.2 , 0.25])},\n",
       "             verbose=10)</pre></div></div></div><div class=\"sk-parallel\"><div class=\"sk-parallel-item\"><div class=\"sk-item\"><div class=\"sk-label-container\"><div class=\"sk-label sk-toggleable\"><input class=\"sk-toggleable__control sk-hidden--visually\" id=\"sk-estimator-id-8\" type=\"checkbox\" ><label for=\"sk-estimator-id-8\" class=\"sk-toggleable__label sk-toggleable__label-arrow\">estimator: GradientBoostingClassifier</label><div class=\"sk-toggleable__content\"><pre>GradientBoostingClassifier(max_depth=6, min_samples_leaf=5, n_estimators=75)</pre></div></div></div><div class=\"sk-serial\"><div class=\"sk-item\"><div class=\"sk-estimator sk-toggleable\"><input class=\"sk-toggleable__control sk-hidden--visually\" id=\"sk-estimator-id-9\" type=\"checkbox\" ><label for=\"sk-estimator-id-9\" class=\"sk-toggleable__label sk-toggleable__label-arrow\">GradientBoostingClassifier</label><div class=\"sk-toggleable__content\"><pre>GradientBoostingClassifier(max_depth=6, min_samples_leaf=5, n_estimators=75)</pre></div></div></div></div></div></div></div></div></div></div>"
      ],
      "text/plain": [
       "GridSearchCV(cv=5,\n",
       "             estimator=GradientBoostingClassifier(max_depth=6,\n",
       "                                                  min_samples_leaf=5,\n",
       "                                                  n_estimators=75),\n",
       "             n_jobs=2,\n",
       "             param_grid={'learning_rate': array([0.05, 0.1 , 0.15, 0.2 , 0.25])},\n",
       "             verbose=10)"
      ]
     },
     "execution_count": 14,
     "metadata": {},
     "output_type": "execute_result"
    }
   ],
   "source": [
    "boosting_gridsearch = GridSearchCV(\n",
    "    estimator=GradientBoostingClassifier(\n",
    "        n_estimators=75, max_depth=6, min_samples_leaf=5\n",
    "    ),\n",
    "    param_grid={\n",
    "        'learning_rate': np.linspace(0.05, 0.25, 5),\n",
    "    },\n",
    "    cv=5,  # разбиение выборки на 5 фолдов\n",
    "    verbose=10,  # насколько часто печатать сообщения\n",
    "    n_jobs=2  # кол-во параллельных процессов\n",
    ")\n",
    "boosting_gridsearch.fit(X_train, y_train)"
   ]
  },
  {
   "cell_type": "markdown",
   "metadata": {
    "id": "o31NBPN9dUK8"
   },
   "source": [
    "Подобранное значение `learning_rate`:"
   ]
  },
  {
   "cell_type": "code",
   "execution_count": 15,
   "metadata": {
    "ExecuteTime": {
     "end_time": "2021-02-27T17:13:34.961354Z",
     "start_time": "2021-02-27T17:13:34.955857Z"
    },
    "id": "H9WscFm0dUK8",
    "outputId": "1f975fb7-2163-42c5-8911-bb90e624c5b3"
   },
   "outputs": [
    {
     "data": {
      "text/plain": [
       "{'learning_rate': 0.2}"
      ]
     },
     "execution_count": 15,
     "metadata": {},
     "output_type": "execute_result"
    }
   ],
   "source": [
    "boosting_gridsearch.best_params_"
   ]
  },
  {
   "cell_type": "markdown",
   "metadata": {
    "id": "I-nZwGdndUK8"
   },
   "source": [
    "Качество оптимальной модели:"
   ]
  },
  {
   "cell_type": "code",
   "execution_count": 16,
   "metadata": {
    "ExecuteTime": {
     "end_time": "2021-02-27T17:13:39.852195Z",
     "start_time": "2021-02-27T17:13:38.288274Z"
    },
    "id": "gxbK2mxmdUK8",
    "outputId": "7f15e852-c5b7-44a7-fd8d-c2ba4d30ded2"
   },
   "outputs": [
    {
     "name": "stdout",
     "output_type": "stream",
     "text": [
      "train accuracy 1.0000\n",
      "test accuracy 0.9618\n",
      "[CV 1/5; 4/5] START learning_rate=0.2...........................................\n",
      "[CV 1/5; 4/5] END ............learning_rate=0.2;, score=0.951 total time=  42.2s\n",
      "[CV 3/5; 4/5] START learning_rate=0.2...........................................\n",
      "[CV 3/5; 4/5] END ............learning_rate=0.2;, score=0.956 total time=  42.2s\n",
      "[CV 5/5; 4/5] START learning_rate=0.2...........................................\n",
      "[CV 5/5; 4/5] END ............learning_rate=0.2;, score=0.948 total time=  42.5s\n",
      "[CV 2/5; 5/5] START learning_rate=0.25..........................................\n",
      "[CV 2/5; 5/5] END ...........learning_rate=0.25;, score=0.770 total time=  42.4s\n",
      "[CV 4/5; 5/5] START learning_rate=0.25..........................................\n",
      "[CV 4/5; 5/5] END ...........learning_rate=0.25;, score=0.952 total time=  42.6s\n",
      "[CV 4/5; 18/30] START learning_rate=0.15000000000000002, max_depth=None, min_samples_leaf=4, n_estimators=50\n",
      "[CV 4/5; 18/30] END learning_rate=0.15000000000000002, max_depth=None, min_samples_leaf=4, n_estimators=50;, score=0.941 total time= 1.7min\n",
      "[CV 1/5; 19/30] START learning_rate=0.2, max_depth=3, min_samples_leaf=5, n_estimators=5\n",
      "[CV 1/5; 19/30] END learning_rate=0.2, max_depth=3, min_samples_leaf=5, n_estimators=5;, score=0.733 total time=   1.6s\n",
      "[CV 2/5; 19/30] START learning_rate=0.2, max_depth=3, min_samples_leaf=5, n_estimators=5\n",
      "[CV 2/5; 19/30] END learning_rate=0.2, max_depth=3, min_samples_leaf=5, n_estimators=5;, score=0.729 total time=   1.6s\n",
      "[CV 3/5; 19/30] START learning_rate=0.2, max_depth=3, min_samples_leaf=5, n_estimators=5\n",
      "[CV 3/5; 19/30] END learning_rate=0.2, max_depth=3, min_samples_leaf=5, n_estimators=5;, score=0.745 total time=   1.6s\n",
      "[CV 4/5; 19/30] START learning_rate=0.2, max_depth=3, min_samples_leaf=5, n_estimators=5\n",
      "[CV 4/5; 19/30] END learning_rate=0.2, max_depth=3, min_samples_leaf=5, n_estimators=5;, score=0.736 total time=   1.6s\n",
      "[CV 5/5; 19/30] START learning_rate=0.2, max_depth=3, min_samples_leaf=5, n_estimators=5\n",
      "[CV 5/5; 19/30] END learning_rate=0.2, max_depth=3, min_samples_leaf=5, n_estimators=5;, score=0.731 total time=   1.7s\n",
      "[CV 1/5; 20/30] START learning_rate=0.15000000000000002, max_depth=4, min_samples_leaf=3, n_estimators=10\n",
      "[CV 1/5; 20/30] END learning_rate=0.15000000000000002, max_depth=4, min_samples_leaf=3, n_estimators=10;, score=0.828 total time=   4.2s\n",
      "[CV 2/5; 20/30] START learning_rate=0.15000000000000002, max_depth=4, min_samples_leaf=3, n_estimators=10\n",
      "[CV 2/5; 20/30] END learning_rate=0.15000000000000002, max_depth=4, min_samples_leaf=3, n_estimators=10;, score=0.835 total time=   4.2s\n",
      "[CV 3/5; 20/30] START learning_rate=0.15000000000000002, max_depth=4, min_samples_leaf=3, n_estimators=10\n",
      "[CV 3/5; 20/30] END learning_rate=0.15000000000000002, max_depth=4, min_samples_leaf=3, n_estimators=10;, score=0.833 total time=   4.0s\n",
      "[CV 4/5; 20/30] START learning_rate=0.15000000000000002, max_depth=4, min_samples_leaf=3, n_estimators=10\n",
      "[CV 4/5; 20/30] END learning_rate=0.15000000000000002, max_depth=4, min_samples_leaf=3, n_estimators=10;, score=0.833 total time=   4.0s\n",
      "[CV 5/5; 20/30] START learning_rate=0.15000000000000002, max_depth=4, min_samples_leaf=3, n_estimators=10\n",
      "[CV 5/5; 20/30] END learning_rate=0.15000000000000002, max_depth=4, min_samples_leaf=3, n_estimators=10;, score=0.829 total time=   4.0s\n",
      "[CV 1/5; 21/30] START learning_rate=0.1, max_depth=3, min_samples_leaf=2, n_estimators=10\n",
      "[CV 1/5; 21/30] END learning_rate=0.1, max_depth=3, min_samples_leaf=2, n_estimators=10;, score=0.736 total time=   3.2s\n",
      "[CV 2/5; 21/30] START learning_rate=0.1, max_depth=3, min_samples_leaf=2, n_estimators=10\n",
      "[CV 2/5; 21/30] END learning_rate=0.1, max_depth=3, min_samples_leaf=2, n_estimators=10;, score=0.734 total time=   3.2s\n",
      "[CV 3/5; 21/30] START learning_rate=0.1, max_depth=3, min_samples_leaf=2, n_estimators=10\n",
      "[CV 3/5; 21/30] END learning_rate=0.1, max_depth=3, min_samples_leaf=2, n_estimators=10;, score=0.746 total time=   3.2s\n",
      "[CV 4/5; 21/30] START learning_rate=0.1, max_depth=3, min_samples_leaf=2, n_estimators=10\n",
      "[CV 4/5; 21/30] END learning_rate=0.1, max_depth=3, min_samples_leaf=2, n_estimators=10;, score=0.730 total time=   3.2s\n",
      "[CV 5/5; 21/30] START learning_rate=0.1, max_depth=3, min_samples_leaf=2, n_estimators=10\n",
      "[CV 5/5; 21/30] END learning_rate=0.1, max_depth=3, min_samples_leaf=2, n_estimators=10;, score=0.734 total time=   3.1s\n",
      "[CV 1/5; 22/30] START learning_rate=0.1, max_depth=3, min_samples_leaf=5, n_estimators=50\n",
      "[CV 1/5; 22/30] END learning_rate=0.1, max_depth=3, min_samples_leaf=5, n_estimators=50;, score=0.873 total time=  15.6s\n",
      "[CV 2/5; 22/30] START learning_rate=0.1, max_depth=3, min_samples_leaf=5, n_estimators=50\n",
      "[CV 2/5; 22/30] END learning_rate=0.1, max_depth=3, min_samples_leaf=5, n_estimators=50;, score=0.872 total time=  15.6s\n",
      "[CV 3/5; 22/30] START learning_rate=0.1, max_depth=3, min_samples_leaf=5, n_estimators=50\n",
      "[CV 3/5; 22/30] END learning_rate=0.1, max_depth=3, min_samples_leaf=5, n_estimators=50;, score=0.882 total time=  15.8s\n",
      "[CV 4/5; 22/30] START learning_rate=0.1, max_depth=3, min_samples_leaf=5, n_estimators=50\n",
      "[CV 4/5; 22/30] END learning_rate=0.1, max_depth=3, min_samples_leaf=5, n_estimators=50;, score=0.872 total time=  15.7s\n",
      "[CV 1/5; 23/30] START learning_rate=0.05, max_depth=4, min_samples_leaf=5, n_estimators=75\n",
      "[CV 1/5; 23/30] END learning_rate=0.05, max_depth=4, min_samples_leaf=5, n_estimators=75;, score=0.893 total time=  30.2s\n",
      "[CV 3/5; 23/30] START learning_rate=0.05, max_depth=4, min_samples_leaf=5, n_estimators=75\n",
      "[CV 3/5; 23/30] END learning_rate=0.05, max_depth=4, min_samples_leaf=5, n_estimators=75;, score=0.897 total time=  30.0s\n",
      "[CV 5/5; 23/30] START learning_rate=0.05, max_depth=4, min_samples_leaf=5, n_estimators=75\n",
      "[CV 5/5; 23/30] END learning_rate=0.05, max_depth=4, min_samples_leaf=5, n_estimators=75;, score=0.891 total time=  29.9s\n",
      "[CV 3/5; 24/30] START learning_rate=0.25, max_depth=None, min_samples_leaf=5, n_estimators=10\n",
      "[CV 3/5; 24/30] END learning_rate=0.25, max_depth=None, min_samples_leaf=5, n_estimators=10;, score=0.923 total time=  17.1s\n",
      "[CV 5/5; 24/30] START learning_rate=0.25, max_depth=None, min_samples_leaf=5, n_estimators=10\n",
      "[CV 5/5; 24/30] END learning_rate=0.25, max_depth=None, min_samples_leaf=5, n_estimators=10;, score=0.913 total time=  17.4s\n",
      "[CV 2/5; 25/30] START learning_rate=0.2, max_depth=5, min_samples_leaf=3, n_estimators=25\n",
      "[CV 2/5; 25/30] END learning_rate=0.2, max_depth=5, min_samples_leaf=3, n_estimators=25;, score=0.918 total time=  12.1s\n",
      "[CV 4/5; 25/30] START learning_rate=0.2, max_depth=5, min_samples_leaf=3, n_estimators=25\n",
      "[CV 4/5; 25/30] END learning_rate=0.2, max_depth=5, min_samples_leaf=3, n_estimators=25;, score=0.922 total time=  12.1s\n",
      "[CV 1/5; 26/30] START learning_rate=0.05, max_depth=None, min_samples_leaf=3, n_estimators=5\n",
      "[CV 1/5; 26/30] END learning_rate=0.05, max_depth=None, min_samples_leaf=3, n_estimators=5;, score=0.867 total time=  10.0s\n",
      "[CV 3/5; 26/30] START learning_rate=0.05, max_depth=None, min_samples_leaf=3, n_estimators=5\n",
      "[CV 3/5; 26/30] END learning_rate=0.05, max_depth=None, min_samples_leaf=3, n_estimators=5;, score=0.874 total time=   9.9s\n",
      "[CV 5/5; 26/30] START learning_rate=0.05, max_depth=None, min_samples_leaf=3, n_estimators=5\n",
      "[CV 5/5; 26/30] END learning_rate=0.05, max_depth=None, min_samples_leaf=3, n_estimators=5;, score=0.870 total time=  10.0s\n",
      "[CV 2/5; 27/30] START learning_rate=0.15000000000000002, max_depth=3, min_samples_leaf=2, n_estimators=25\n",
      "[CV 2/5; 27/30] END learning_rate=0.15000000000000002, max_depth=3, min_samples_leaf=2, n_estimators=25;, score=0.851 total time=   8.0s\n",
      "[CV 4/5; 27/30] START learning_rate=0.15000000000000002, max_depth=3, min_samples_leaf=2, n_estimators=25\n",
      "[CV 4/5; 27/30] END learning_rate=0.15000000000000002, max_depth=3, min_samples_leaf=2, n_estimators=25;, score=0.855 total time=   7.9s\n",
      "[CV 1/5; 28/30] START learning_rate=0.25, max_depth=6, min_samples_leaf=1, n_estimators=50\n",
      "[CV 1/5; 28/30] END learning_rate=0.25, max_depth=6, min_samples_leaf=1, n_estimators=50;, score=0.938 total time=  28.6s\n",
      "[CV 3/5; 28/30] START learning_rate=0.25, max_depth=6, min_samples_leaf=1, n_estimators=50\n",
      "[CV 3/5; 28/30] END learning_rate=0.25, max_depth=6, min_samples_leaf=1, n_estimators=50;, score=0.943 total time=  28.7s\n",
      "[CV 5/5; 28/30] START learning_rate=0.25, max_depth=6, min_samples_leaf=1, n_estimators=50\n",
      "[CV 5/5; 28/30] END learning_rate=0.25, max_depth=6, min_samples_leaf=1, n_estimators=50;, score=0.948 total time=  28.5s\n",
      "[CV 4/5; 29/30] START learning_rate=0.25, max_depth=None, min_samples_leaf=5, n_estimators=5\n",
      "[CV 4/5; 29/30] END learning_rate=0.25, max_depth=None, min_samples_leaf=5, n_estimators=5;, score=0.897 total time=   7.9s\n",
      "[CV 1/5; 30/30] START learning_rate=0.15000000000000002, max_depth=3, min_samples_leaf=2, n_estimators=10\n",
      "[CV 1/5; 30/30] END learning_rate=0.15000000000000002, max_depth=3, min_samples_leaf=2, n_estimators=10;, score=0.771 total time=   3.1s\n",
      "[CV 2/5; 30/30] START learning_rate=0.15000000000000002, max_depth=3, min_samples_leaf=2, n_estimators=10\n",
      "[CV 2/5; 30/30] END learning_rate=0.15000000000000002, max_depth=3, min_samples_leaf=2, n_estimators=10;, score=0.768 total time=   3.2s\n",
      "[CV 4/5; 30/30] START learning_rate=0.15000000000000002, max_depth=3, min_samples_leaf=2, n_estimators=10\n",
      "[CV 4/5; 30/30] END learning_rate=0.15000000000000002, max_depth=3, min_samples_leaf=2, n_estimators=10;, score=0.771 total time=   3.2s\n",
      "[CV 1/5; 1/5] START learning_rate=0.05..........................................\n",
      "[CV 1/5; 1/5] END ...........learning_rate=0.05;, score=0.927 total time=  42.9s\n",
      "[CV 3/5; 1/5] START learning_rate=0.05..........................................\n",
      "[CV 3/5; 1/5] END ...........learning_rate=0.05;, score=0.937 total time=  42.8s\n",
      "[CV 5/5; 1/5] START learning_rate=0.05..........................................\n",
      "[CV 5/5; 1/5] END ...........learning_rate=0.05;, score=0.931 total time=  43.0s\n",
      "[CV 2/5; 2/5] START learning_rate=0.1...........................................\n",
      "[CV 2/5; 2/5] END ............learning_rate=0.1;, score=0.941 total time=  43.0s\n",
      "[CV 4/5; 2/5] START learning_rate=0.1...........................................\n",
      "[CV 4/5; 2/5] END ............learning_rate=0.1;, score=0.948 total time=  42.7s\n",
      "[CV 1/5; 3/5] START learning_rate=0.15000000000000002...........................\n",
      "[CV 1/5; 3/5] END learning_rate=0.15000000000000002;, score=0.947 total time=  42.7s\n",
      "[CV 3/5; 3/5] START learning_rate=0.15000000000000002...........................\n",
      "[CV 3/5; 3/5] END learning_rate=0.15000000000000002;, score=0.953 total time=  43.4s\n",
      "[CV 5/5; 3/5] START learning_rate=0.15000000000000002...........................\n",
      "[CV 5/5; 3/5] END learning_rate=0.15000000000000002;, score=0.950 total time=  42.8s\n",
      "[CV 2/5; 4/5] START learning_rate=0.2...........................................\n",
      "[CV 2/5; 4/5] END ............learning_rate=0.2;, score=0.950 total time=  42.6s\n",
      "[CV 4/5; 4/5] START learning_rate=0.2...........................................\n",
      "[CV 4/5; 4/5] END ............learning_rate=0.2;, score=0.953 total time=  42.9s\n",
      "[CV 1/5; 5/5] START learning_rate=0.25..........................................\n",
      "[CV 1/5; 5/5] END ...........learning_rate=0.25;, score=0.926 total time=  43.0s\n",
      "[CV 3/5; 5/5] START learning_rate=0.25..........................................\n",
      "[CV 3/5; 5/5] END ...........learning_rate=0.25;, score=0.779 total time=  42.9s\n",
      "[CV 5/5; 5/5] START learning_rate=0.25..........................................\n",
      "[CV 5/5; 5/5] END ...........learning_rate=0.25;, score=0.952 total time=  41.7s\n"
     ]
    }
   ],
   "source": [
    "print('train accuracy {:.4f}'.format(\n",
    "    accuracy_score(boosting_gridsearch.predict(X_train), y_train)\n",
    "))\n",
    "print('test accuracy {:.4f}'.format(\n",
    "    accuracy_score(boosting_gridsearch.predict(X_test), y_test)\n",
    "))"
   ]
  },
  {
   "cell_type": "markdown",
   "metadata": {
    "id": "RCjRMF1EdUK8"
   },
   "source": [
    "Некоторое отличие результата от предыдущего случая можно объяснить случайностью, которая есть в модели. Ее можно зафиксировать, установив параметр `random_state`."
   ]
  }
 ],
 "metadata": {
  "colab": {
   "provenance": []
  },
  "kernelspec": {
   "display_name": "Python 3 (ipykernel)",
   "language": "python",
   "name": "python3"
  },
  "language_info": {
   "codemirror_mode": {
    "name": "ipython",
    "version": 3
   },
   "file_extension": ".py",
   "mimetype": "text/x-python",
   "name": "python",
   "nbconvert_exporter": "python",
   "pygments_lexer": "ipython3",
   "version": "3.9.13"
  },
  "notify_time": "5"
 },
 "nbformat": 4,
 "nbformat_minor": 4
}
