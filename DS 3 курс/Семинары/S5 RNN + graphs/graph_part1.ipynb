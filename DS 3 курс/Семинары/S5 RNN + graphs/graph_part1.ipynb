{
 "cells": [
  {
   "cell_type": "markdown",
   "id": "complex-assault",
   "metadata": {
    "id": "complex-assault"
   },
   "source": [
    "# Графовые нейронные сети"
   ]
  },
  {
   "cell_type": "code",
   "execution_count": 2,
   "id": "XObuwIrnHwZi",
   "metadata": {
    "colab": {
     "base_uri": "https://localhost:8080/"
    },
    "id": "XObuwIrnHwZi",
    "outputId": "9bc80d28-5632-4a71-b3f9-6ca793adec08"
   },
   "outputs": [
    {
     "name": "stdout",
     "output_type": "stream",
     "text": [
      "Looking in links: https://data.pyg.org/whl/torch-1.9.0+cpu.html\n",
      "Collecting torch-scatter\n",
      "  Downloading torch_scatter-2.1.2.tar.gz (108 kB)\n",
      "\u001b[2K     \u001b[90m━━━━━━━━━━━━━━━━━━━━━━━━━━━━━━━━━━━━━━━━\u001b[0m \u001b[32m108.0/108.0 kB\u001b[0m \u001b[31m2.0 MB/s\u001b[0m eta \u001b[36m0:00:00\u001b[0m\n",
      "\u001b[?25h  Preparing metadata (setup.py) ... \u001b[?25l\u001b[?25hdone\n",
      "Building wheels for collected packages: torch-scatter\n",
      "  Building wheel for torch-scatter (setup.py) ... \u001b[?25l\u001b[?25hdone\n",
      "  Created wheel for torch-scatter: filename=torch_scatter-2.1.2-cp310-cp310-linux_x86_64.whl size=3541304 sha256=6e77d50058db38a29f91f4f41cc52862c1dbb3f786c7f14d1060743ef7ae394a\n",
      "  Stored in directory: /root/.cache/pip/wheels/92/f1/2b/3b46d54b134259f58c8363568569053248040859b1a145b3ce\n",
      "Successfully built torch-scatter\n",
      "Installing collected packages: torch-scatter\n",
      "Successfully installed torch-scatter-2.1.2\n",
      "Looking in links: https://data.pyg.org/whl/torch-1.9.0+cpu.html\n",
      "Collecting torch-sparse\n",
      "  Downloading torch_sparse-0.6.18.tar.gz (209 kB)\n",
      "\u001b[2K     \u001b[90m━━━━━━━━━━━━━━━━━━━━━━━━━━━━━━━━━━━━━━━━\u001b[0m \u001b[32m210.0/210.0 kB\u001b[0m \u001b[31m5.3 MB/s\u001b[0m eta \u001b[36m0:00:00\u001b[0m\n",
      "\u001b[?25h  Preparing metadata (setup.py) ... \u001b[?25l\u001b[?25hdone\n",
      "Requirement already satisfied: scipy in /usr/local/lib/python3.10/dist-packages (from torch-sparse) (1.11.3)\n",
      "Requirement already satisfied: numpy<1.28.0,>=1.21.6 in /usr/local/lib/python3.10/dist-packages (from scipy->torch-sparse) (1.23.5)\n",
      "Building wheels for collected packages: torch-sparse\n",
      "  Building wheel for torch-sparse (setup.py) ... \u001b[?25l\u001b[?25hdone\n",
      "  Created wheel for torch-sparse: filename=torch_sparse-0.6.18-cp310-cp310-linux_x86_64.whl size=2694212 sha256=8dd9008659bca0b8e7f84a6f5bf35d641771ddd57557012501d2f8738b324f0a\n",
      "  Stored in directory: /root/.cache/pip/wheels/c9/dd/0f/a6a16f9f3b0236733d257b4b4ea91b548b984a341ed3b8f38c\n",
      "Successfully built torch-sparse\n",
      "Installing collected packages: torch-sparse\n",
      "Successfully installed torch-sparse-0.6.18\n",
      "Looking in links: https://data.pyg.org/whl/torch-1.9.0+cpu.html\n",
      "Collecting torch-cluster\n",
      "  Downloading torch_cluster-1.6.3.tar.gz (54 kB)\n",
      "\u001b[2K     \u001b[90m━━━━━━━━━━━━━━━━━━━━━━━━━━━━━━━━━━━━━━━━\u001b[0m \u001b[32m54.5/54.5 kB\u001b[0m \u001b[31m2.0 MB/s\u001b[0m eta \u001b[36m0:00:00\u001b[0m\n",
      "\u001b[?25h  Preparing metadata (setup.py) ... \u001b[?25l\u001b[?25hdone\n",
      "Requirement already satisfied: scipy in /usr/local/lib/python3.10/dist-packages (from torch-cluster) (1.11.3)\n",
      "Requirement already satisfied: numpy<1.28.0,>=1.21.6 in /usr/local/lib/python3.10/dist-packages (from scipy->torch-cluster) (1.23.5)\n",
      "Building wheels for collected packages: torch-cluster\n",
      "  Building wheel for torch-cluster (setup.py) ... \u001b[?25l\u001b[?25hdone\n",
      "  Created wheel for torch-cluster: filename=torch_cluster-1.6.3-cp310-cp310-linux_x86_64.whl size=1975169 sha256=c238dd328df229054fb80eca9a83c385f7e8e81acce16bda159abc2e678d809b\n",
      "  Stored in directory: /root/.cache/pip/wheels/51/78/c3/536637b3cdcc3313aa5e8851a6c72b97f6a01877e68c7595e3\n",
      "Successfully built torch-cluster\n",
      "Installing collected packages: torch-cluster\n",
      "Successfully installed torch-cluster-1.6.3\n",
      "Looking in links: https://data.pyg.org/whl/torch-1.9.0+cpu.html\n",
      "Collecting torch-spline-conv\n",
      "  Downloading torch_spline_conv-1.2.2.tar.gz (25 kB)\n",
      "  Preparing metadata (setup.py) ... \u001b[?25l\u001b[?25hdone\n",
      "Building wheels for collected packages: torch-spline-conv\n",
      "  Building wheel for torch-spline-conv (setup.py) ... \u001b[?25l\u001b[?25hdone\n",
      "  Created wheel for torch-spline-conv: filename=torch_spline_conv-1.2.2-cp310-cp310-linux_x86_64.whl size=497471 sha256=eb8c19d1116a794da7c4f73aeb7f7ec276ec5251a266133b94b9618b596e5a98\n",
      "  Stored in directory: /root/.cache/pip/wheels/fc/34/be/187e4b5f5ccefecca2c1a5dfc8da244ec50baa1f33c7b8c9a1\n",
      "Successfully built torch-spline-conv\n",
      "Installing collected packages: torch-spline-conv\n",
      "Successfully installed torch-spline-conv-1.2.2\n",
      "Looking in links: https://data.pyg.org/whl/torch-1.9.0+cpu.html\n",
      "Collecting torch-geometric\n",
      "  Downloading torch_geometric-2.4.0-py3-none-any.whl (1.0 MB)\n",
      "\u001b[2K     \u001b[90m━━━━━━━━━━━━━━━━━━━━━━━━━━━━━━━━━━━━━━━━\u001b[0m \u001b[32m1.0/1.0 MB\u001b[0m \u001b[31m15.0 MB/s\u001b[0m eta \u001b[36m0:00:00\u001b[0m\n",
      "\u001b[?25hRequirement already satisfied: tqdm in /usr/local/lib/python3.10/dist-packages (from torch-geometric) (4.66.1)\n",
      "Requirement already satisfied: numpy in /usr/local/lib/python3.10/dist-packages (from torch-geometric) (1.23.5)\n",
      "Requirement already satisfied: scipy in /usr/local/lib/python3.10/dist-packages (from torch-geometric) (1.11.3)\n",
      "Requirement already satisfied: jinja2 in /usr/local/lib/python3.10/dist-packages (from torch-geometric) (3.1.2)\n",
      "Requirement already satisfied: requests in /usr/local/lib/python3.10/dist-packages (from torch-geometric) (2.31.0)\n",
      "Requirement already satisfied: pyparsing in /usr/local/lib/python3.10/dist-packages (from torch-geometric) (3.1.1)\n",
      "Requirement already satisfied: scikit-learn in /usr/local/lib/python3.10/dist-packages (from torch-geometric) (1.2.2)\n",
      "Requirement already satisfied: psutil>=5.8.0 in /usr/local/lib/python3.10/dist-packages (from torch-geometric) (5.9.5)\n",
      "Requirement already satisfied: MarkupSafe>=2.0 in /usr/local/lib/python3.10/dist-packages (from jinja2->torch-geometric) (2.1.3)\n",
      "Requirement already satisfied: charset-normalizer<4,>=2 in /usr/local/lib/python3.10/dist-packages (from requests->torch-geometric) (3.3.0)\n",
      "Requirement already satisfied: idna<4,>=2.5 in /usr/local/lib/python3.10/dist-packages (from requests->torch-geometric) (3.4)\n",
      "Requirement already satisfied: urllib3<3,>=1.21.1 in /usr/local/lib/python3.10/dist-packages (from requests->torch-geometric) (2.0.6)\n",
      "Requirement already satisfied: certifi>=2017.4.17 in /usr/local/lib/python3.10/dist-packages (from requests->torch-geometric) (2023.7.22)\n",
      "Requirement already satisfied: joblib>=1.1.1 in /usr/local/lib/python3.10/dist-packages (from scikit-learn->torch-geometric) (1.3.2)\n",
      "Requirement already satisfied: threadpoolctl>=2.0.0 in /usr/local/lib/python3.10/dist-packages (from scikit-learn->torch-geometric) (3.2.0)\n",
      "Installing collected packages: torch-geometric\n",
      "Successfully installed torch-geometric-2.4.0\n"
     ]
    }
   ],
   "source": [
    "!pip install torch-scatter -f https://data.pyg.org/whl/torch-1.9.0+cpu.html\n",
    "!pip install torch-sparse -f https://data.pyg.org/whl/torch-1.9.0+cpu.html\n",
    "!pip install torch-cluster -f https://data.pyg.org/whl/torch-1.9.0+cpu.html\n",
    "!pip install torch-spline-conv -f https://data.pyg.org/whl/torch-1.9.0+cpu.html\n",
    "!pip install torch-geometric -f https://data.pyg.org/whl/torch-1.9.0+cpu.html"
   ]
  },
  {
   "cell_type": "markdown",
   "id": "close-dairy",
   "metadata": {
    "id": "close-dairy"
   },
   "source": [
    "## Графы в `PyTorch`"
   ]
  },
  {
   "cell_type": "markdown",
   "id": "stable-reconstruction",
   "metadata": {
    "id": "stable-reconstruction"
   },
   "source": [
    "Для работы с графами удобно пользоваться библиотекой [PyTorch Geometric](https://pytorch-geometric.readthedocs.io/en/latest/) (PyG)  \n",
    "\n",
    "\n",
    " [NetworkX](https://networkx.org/) (NX) поможет нам с визуализацией."
   ]
  },
  {
   "cell_type": "code",
   "execution_count": 2,
   "id": "732b17ac",
   "metadata": {
    "id": "732b17ac"
   },
   "outputs": [],
   "source": [
    "import torch\n",
    "import networkx as nx\n",
    "\n",
    "from torch_geometric.data import Data\n",
    "from torch_geometric.loader import DataLoader\n",
    "from torch_geometric.utils import to_networkx"
   ]
  },
  {
   "cell_type": "markdown",
   "id": "e028678d",
   "metadata": {
    "id": "e028678d"
   },
   "source": [
    "Параметры класса `torch_geometric.data.Data`:\n",
    "\n",
    "* `x`  – матрица признаков узлов размером [num_nodes, num_node_features]\n",
    "\n",
    "* `edge_index`  – связность графа в координатном формате (COO) размером [2, num_edges]\n",
    "\n",
    "* `edge_attr`  – матрица признаков ребер размером [num_edges, num_edge_features]\n",
    "\n",
    "* `y`  – таргет для предсказания, может быть как `graph-level` (размером [1, *]), так и `node-level` (размером [num_nodes, *])\n",
    "\n",
    "* `pos`  – матрица расположения узлов в пространстве размером [num_nodes, num_dimensions]\n",
    "\n"
   ]
  },
  {
   "cell_type": "markdown",
   "id": "municipal-legend",
   "metadata": {
    "id": "municipal-legend"
   },
   "source": [
    "Давайте построим простой граф из 4 узлов и 4 рёбер. Каждый узел $v_i$ будет иметь свой вес:\n",
    "\n",
    "<img align=\"middle\" src=\"https://www.researchgate.net/profile/Panayiota-Poirazi/publication/293945308/figure/fig1/AS:669375778529289@1536603030400/A-simple-graph-consisting-of-4-nodes-and-4-edges-The-degree-of-each-node-is.ppm\" width=\"200\"/>"
   ]
  },
  {
   "cell_type": "markdown",
   "id": "7dd9d1a8",
   "metadata": {
    "id": "7dd9d1a8"
   },
   "source": [
    "Опишем матрицу признаков узлов. В нашем случае размерность признака 1."
   ]
  },
  {
   "cell_type": "code",
   "execution_count": null,
   "id": "d144b019",
   "metadata": {
    "id": "d144b019"
   },
   "outputs": [],
   "source": [
    "x = torch.tensor(\n",
    "    [\n",
    "        [1], # одна строка соответствует одному узлу\n",
    "        [2],\n",
    "        [4],\n",
    "        [6],\n",
    "    ],\n",
    "    dtype=torch.long\n",
    ")\n"
   ]
  },
  {
   "cell_type": "markdown",
   "id": "d18718e5",
   "metadata": {
    "id": "d18718e5"
   },
   "source": [
    "Теперь опишем взаимосвязи между узлами. Обратите внимание - если ребро неориентировано, то его необходимо указывать два раза."
   ]
  },
  {
   "cell_type": "code",
   "execution_count": null,
   "id": "a445b903",
   "metadata": {
    "id": "a445b903"
   },
   "outputs": [],
   "source": [
    "edge_index = torch.tensor(\n",
    "    [\n",
    "        [0, 0, 0, 1, 1, 2, 3, 3],\n",
    "        [1, 2, 3, 0, 3, 0, 0, 1],\n",
    "    ],\n",
    "    dtype=torch.long\n",
    ")\n",
    "\n",
    "# Иногда бывает удобно записывать эту матрицу в транспанированном виде\n",
    "\n",
    "edge_index = torch.tensor(\n",
    "    [\n",
    "        [0, 1],\n",
    "        [0, 2],\n",
    "        [0, 3],\n",
    "        [1, 0],\n",
    "        [1, 3],\n",
    "        [2, 0],\n",
    "        [3, 0],\n",
    "        [3, 1],\n",
    "    ],\n",
    "    dtype=torch.long\n",
    ")\n",
    "\n",
    "edge_index = edge_index.t().contiguous()"
   ]
  },
  {
   "cell_type": "markdown",
   "id": "45939b42",
   "metadata": {
    "id": "45939b42"
   },
   "source": [
    "Собираем всю информацию в один объект."
   ]
  },
  {
   "cell_type": "code",
   "execution_count": null,
   "id": "respected-adaptation",
   "metadata": {
    "colab": {
     "base_uri": "https://localhost:8080/"
    },
    "id": "respected-adaptation",
    "outputId": "55ab76ec-5bb7-40d3-8e84-9b0e6d567387"
   },
   "outputs": [
    {
     "data": {
      "text/plain": [
       "Data(x=[4, 1], edge_index=[2, 8])"
      ]
     },
     "execution_count": 6,
     "metadata": {},
     "output_type": "execute_result"
    }
   ],
   "source": [
    "pg_graph = Data(x=x, edge_index=edge_index)\n",
    "\n",
    "pg_graph"
   ]
  },
  {
   "cell_type": "markdown",
   "id": "native-psychiatry",
   "metadata": {
    "id": "native-psychiatry"
   },
   "source": [
    "Выведем полезные атрибуты для графа."
   ]
  },
  {
   "cell_type": "code",
   "execution_count": null,
   "id": "recent-shame",
   "metadata": {
    "colab": {
     "base_uri": "https://localhost:8080/"
    },
    "id": "recent-shame",
    "outputId": "a50e4a24-403a-4f43-c8aa-c5b58bf048f7"
   },
   "outputs": [
    {
     "name": "stdout",
     "output_type": "stream",
     "text": [
      "Кол-во узлов: 4\n",
      "Кол-во рёбер: 8\n",
      "Размерность признаков для узлов: 1\n"
     ]
    }
   ],
   "source": [
    "print('Кол-во узлов:', pg_graph.num_nodes)\n",
    "print('Кол-во рёбер:', pg_graph.num_edges)\n",
    "print('Размерность признаков для узлов:', pg_graph.num_node_features)"
   ]
  },
  {
   "cell_type": "markdown",
   "id": "sized-portugal",
   "metadata": {
    "id": "sized-portugal"
   },
   "source": [
    "Посмотрим на полученный граф."
   ]
  },
  {
   "cell_type": "code",
   "execution_count": null,
   "id": "blank-walker",
   "metadata": {
    "colab": {
     "base_uri": "https://localhost:8080/",
     "height": 516
    },
    "id": "blank-walker",
    "outputId": "213631a0-62c7-4211-ec77-869f56c6f5d1"
   },
   "outputs": [
    {
     "data": {
      "image/png": "[encoded data removed]",
      "text/plain": [
       "<Figure size 640x480 with 1 Axes>"
      ]
     },
     "metadata": {},
     "output_type": "display_data"
    }
   ],
   "source": [
    "# transform:\n",
    "nx_graph = to_networkx(pg_graph)\n",
    "\n",
    "# draw:\n",
    "nx.draw(\n",
    "    nx_graph,\n",
    "    font_size=10,\n",
    "    width=0.5,\n",
    "    with_labels=True,\n",
    "    labels={i: f'v{i+1}' for i in range(pg_graph.num_nodes)},\n",
    ")"
   ]
  },
  {
   "cell_type": "markdown",
   "id": "hungry-draft",
   "metadata": {
    "id": "hungry-draft"
   },
   "source": [
    "Создадим еще один простой граф."
   ]
  },
  {
   "cell_type": "code",
   "execution_count": null,
   "id": "ongoing-convergence",
   "metadata": {
    "colab": {
     "base_uri": "https://localhost:8080/",
     "height": 516
    },
    "id": "ongoing-convergence",
    "outputId": "41b8538d-220c-4842-eef4-6fb8e3ad70f3"
   },
   "outputs": [
    {
     "data": {
      "image/png": "[encoded data removed]",
      "text/plain": [
       "<Figure size 640x480 with 1 Axes>"
      ]
     },
     "metadata": {},
     "output_type": "display_data"
    }
   ],
   "source": [
    "second_pg_graph = Data(\n",
    "    x=torch.tensor([\n",
    "        [6],\n",
    "        [-5],\n",
    "    ], dtype=torch.long),\n",
    "    edge_index=torch.tensor([[0, 1], [1, 0]], dtype=torch.long),\n",
    ")\n",
    "\n",
    "second_nx_graph = to_networkx(second_pg_graph)\n",
    "\n",
    "nx.draw(\n",
    "    second_nx_graph,\n",
    "    font_size=10,\n",
    "    width=0.5,\n",
    "    with_labels=True,\n",
    "    labels={i: f'v{i+1}' for i in range(second_pg_graph.num_nodes)},\n",
    ")"
   ]
  },
  {
   "cell_type": "markdown",
   "id": "nasty-hospital",
   "metadata": {
    "id": "nasty-hospital"
   },
   "source": [
    "В PyG существует собственный `DataLoader`:"
   ]
  },
  {
   "cell_type": "code",
   "execution_count": null,
   "id": "thirty-shelf",
   "metadata": {
    "id": "thirty-shelf"
   },
   "outputs": [],
   "source": [
    "loader = DataLoader([pg_graph, second_pg_graph], batch_size=2)"
   ]
  },
  {
   "cell_type": "markdown",
   "id": "proprietary-motion",
   "metadata": {
    "id": "proprietary-motion"
   },
   "source": [
    "Проверим, сколько батчей собирается сгенерировать `loader`:"
   ]
  },
  {
   "cell_type": "code",
   "execution_count": null,
   "id": "appreciated-drunk",
   "metadata": {
    "colab": {
     "base_uri": "https://localhost:8080/"
    },
    "id": "appreciated-drunk",
    "outputId": "8f3d13ec-dcdd-4c5e-cf69-c88750a50e8e"
   },
   "outputs": [
    {
     "data": {
      "text/plain": [
       "1"
      ]
     },
     "execution_count": 11,
     "metadata": {},
     "output_type": "execute_result"
    }
   ],
   "source": [
    "len(loader)"
   ]
  },
  {
   "cell_type": "markdown",
   "id": "active-estimate",
   "metadata": {
    "id": "active-estimate"
   },
   "source": [
    "Let's see what the loader yields:"
   ]
  },
  {
   "cell_type": "code",
   "execution_count": null,
   "id": "scientific-verse",
   "metadata": {
    "colab": {
     "base_uri": "https://localhost:8080/"
    },
    "id": "scientific-verse",
    "outputId": "a78a5b39-9bc8-4427-b8c8-101bdb28ba0a"
   },
   "outputs": [
    {
     "name": "stdout",
     "output_type": "stream",
     "text": [
      "DataBatch(x=[6, 1], edge_index=[2, 10], batch=[6], ptr=[3])\n"
     ]
    }
   ],
   "source": [
    "for batch in loader:\n",
    "    print(batch)"
   ]
  },
  {
   "cell_type": "markdown",
   "id": "expected-season",
   "metadata": {
    "id": "expected-season"
   },
   "source": [
    "Объект `batch` очень похож на `Data`, но имеет два дополнительных параметра: `batch` и `ptr` :"
   ]
  },
  {
   "cell_type": "code",
   "execution_count": null,
   "id": "Ji7Kc6wrmIjS",
   "metadata": {
    "colab": {
     "base_uri": "https://localhost:8080/"
    },
    "id": "Ji7Kc6wrmIjS",
    "outputId": "44b3aed6-7613-4ba1-c39c-6606b7108604"
   },
   "outputs": [
    {
     "data": {
      "text/plain": [
       "tensor([0, 0, 0, 0, 1, 1])"
      ]
     },
     "execution_count": 13,
     "metadata": {},
     "output_type": "execute_result"
    }
   ],
   "source": [
    "batch.batch # маска, показывающая какие узлы к какому графу относятся"
   ]
  },
  {
   "cell_type": "code",
   "execution_count": null,
   "id": "effective-broadcast",
   "metadata": {
    "colab": {
     "base_uri": "https://localhost:8080/"
    },
    "id": "effective-broadcast",
    "outputId": "df7d0c00-c9b5-41ff-e941-08519481fef3"
   },
   "outputs": [
    {
     "data": {
      "text/plain": [
       "tensor([0, 4, 6])"
      ]
     },
     "execution_count": 14,
     "metadata": {},
     "output_type": "execute_result"
    }
   ],
   "source": [
    "batch.ptr # интервалы индексов узлов"
   ]
  },
  {
   "cell_type": "code",
   "execution_count": null,
   "id": "radical-blind",
   "metadata": {
    "colab": {
     "base_uri": "https://localhost:8080/"
    },
    "id": "radical-blind",
    "outputId": "eefe0837-5761-4675-ebe3-0cdf79c507e7"
   },
   "outputs": [
    {
     "data": {
      "text/plain": [
       "tensor([[ 1],\n",
       "        [ 2],\n",
       "        [ 4],\n",
       "        [ 6],\n",
       "        [ 6],\n",
       "        [-5]])"
      ]
     },
     "execution_count": 15,
     "metadata": {},
     "output_type": "execute_result"
    }
   ],
   "source": [
    "batch.x"
   ]
  },
  {
   "cell_type": "markdown",
   "id": "complimentary-disabled",
   "metadata": {
    "id": "complimentary-disabled"
   },
   "source": [
    "Для удобства хранения данных несколько графов могут хранится в одном:"
   ]
  },
  {
   "cell_type": "code",
   "execution_count": null,
   "id": "square-brunei",
   "metadata": {
    "colab": {
     "base_uri": "https://localhost:8080/",
     "height": 516
    },
    "id": "square-brunei",
    "outputId": "d25918e5-79e8-46a2-c284-8beb4ecda9f7"
   },
   "outputs": [
    {
     "data": {
      "image/png": "[encoded data removed]",
      "text/plain": [
       "<Figure size 640x480 with 1 Axes>"
      ]
     },
     "metadata": {},
     "output_type": "display_data"
    }
   ],
   "source": [
    "nx_batch = to_networkx(batch)\n",
    "\n",
    "colors = ['red', 'royalblue']\n",
    "node_colors = [\n",
    "    colors[i]\n",
    "    for i in batch.batch\n",
    "]\n",
    "\n",
    "nx.draw(\n",
    "    nx_batch,\n",
    "    font_size=10,\n",
    "    width=0.5,\n",
    "    with_labels=True,\n",
    "    labels={i: f'v{i}' for i in range(batch.num_nodes)},\n",
    "    node_color=node_colors,\n",
    ")"
   ]
  },
  {
   "cell_type": "markdown",
   "id": "cf1d4132",
   "metadata": {
    "id": "cf1d4132"
   },
   "source": [
    "### Задание 1\n",
    "\n",
    "Постройте граф, нарисованный на доске. Визуализируйте и сравните.\n"
   ]
  },
  {
   "cell_type": "code",
   "execution_count": null,
   "id": "9f0OcnWx5MlN",
   "metadata": {
    "colab": {
     "base_uri": "https://localhost:8080/",
     "height": 516
    },
    "id": "9f0OcnWx5MlN",
    "outputId": "f3a9fdc0-3cab-427b-c20a-3ebe201be5f2"
   },
   "outputs": [
    {
     "data": {
      "image/png": "[encoded data removed]",
      "text/plain": [
       "<Figure size 640x480 with 1 Axes>"
      ]
     },
     "metadata": {},
     "output_type": "display_data"
    }
   ],
   "source": [
    "edge_index = torch.tensor(\n",
    "    [\n",
    "        [0, 2],\n",
    "        [2, 0],\n",
    "        [1, 0],\n",
    "        [2, 1],\n",
    "        [1, 3],\n",
    "        [3, 5],\n",
    "        [5, 7],\n",
    "        [5, 4],\n",
    "        [4, 3],\n",
    "        [4, 6],\n",
    "    ],\n",
    "    dtype=torch.long\n",
    ")\n",
    "\n",
    "edge_index = edge_index.t().contiguous()\n",
    "pg_graph = Data(x=x, edge_index=edge_index)\n",
    "# transform:\n",
    "nx_graph = to_networkx(pg_graph)\n",
    "\n",
    "# draw:\n",
    "nx.draw(\n",
    "    nx_graph,\n",
    "    font_size=10,\n",
    "    width=0.5,\n",
    "    with_labels=True,\n",
    "    labels={i: f'v{i}' for i in range(pg_graph.num_nodes)},\n",
    ")"
   ]
  },
  {
   "cell_type": "markdown",
   "id": "K0cQNG-gaue2",
   "metadata": {
    "id": "K0cQNG-gaue2"
   },
   "source": [
    "\n",
    "### Задание 2\n",
    "Построейте большой граф из 100 узлов. Размер признаков и ребра сгенерируйте рандомно (не забудьте зафиксировать `random seed`) и визуализируйте его.\n"
   ]
  },
  {
   "cell_type": "code",
   "execution_count": 3,
   "id": "NoNX4H4mbfy6",
   "metadata": {
    "id": "NoNX4H4mbfy6"
   },
   "outputs": [],
   "source": [
    "import numpy as np\n",
    "np.random.seed(42)"
   ]
  },
  {
   "cell_type": "code",
   "execution_count": 4,
   "id": "tL3ETbDd5ech",
   "metadata": {
    "id": "tL3ETbDd5ech"
   },
   "outputs": [],
   "source": [
    "num_node_features = int(np.random.randint(0, 10**3, size = (1,)))\n",
    "num_edge_features = int(np.random.randint(0, 10**3, size = (1,)))\n",
    "num_adges = int(np.random.randint(1,10**3, size = (1,)))"
   ]
  },
  {
   "cell_type": "code",
   "execution_count": 5,
   "id": "0QfwpoA1ctyr",
   "metadata": {
    "id": "0QfwpoA1ctyr"
   },
   "outputs": [],
   "source": [
    "edge_index = torch.rand(size = (2, 100))\n",
    "x = torch.rand(size = (100, num_node_features))\n",
    "edge_attr = torch.rand(size = (num_adges, num_edge_features))"
   ]
  },
  {
   "cell_type": "code",
   "execution_count": 6,
   "id": "XiEXS7kheTXe",
   "metadata": {
    "colab": {
     "base_uri": "https://localhost:8080/",
     "height": 516
    },
    "id": "XiEXS7kheTXe",
    "outputId": "3d178fb0-e0c5-4337-9a29-5c2f55646345"
   },
   "outputs": [
    {
     "data": {
      "image/png": "[encoded data removed]",
      "text/plain": [
       "<Figure size 640x480 with 1 Axes>"
      ]
     },
     "metadata": {},
     "output_type": "display_data"
    }
   ],
   "source": [
    "pg_graph = Data(x=x, edge_index=edge_index, edge_attr=edge_attr)\n",
    "# transform:\n",
    "nx_graph = to_networkx(pg_graph)\n",
    "\n",
    "# draw:\n",
    "nx.draw(\n",
    "    nx_graph,\n",
    "    font_size=1,\n",
    "    width=0.5,\n",
    "    with_labels=True,\n",
    "    labels={i: f'v{i}' for i in range(pg_graph.num_nodes)},\n",
    ")"
   ]
  },
  {
   "cell_type": "code",
   "execution_count": null,
   "id": "v44cG7uF7fpj",
   "metadata": {
    "id": "v44cG7uF7fpj"
   },
   "outputs": [],
   "source": []
  }
 ],
 "metadata": {
  "accelerator": "GPU",
  "colab": {
   "collapsed_sections": [
    "streaming-broadcasting"
   ],
   "provenance": []
  },
  "kernelspec": {
   "display_name": "Python 3 (ipykernel)",
   "language": "python",
   "name": "python3"
  },
  "language_info": {
   "codemirror_mode": {
    "name": "ipython",
    "version": 3
   },
   "file_extension": ".py",
   "mimetype": "text/x-python",
   "name": "python",
   "nbconvert_exporter": "python",
   "pygments_lexer": "ipython3",
   "version": "3.9.13"
  }
 },
 "nbformat": 4,
 "nbformat_minor": 5
}
