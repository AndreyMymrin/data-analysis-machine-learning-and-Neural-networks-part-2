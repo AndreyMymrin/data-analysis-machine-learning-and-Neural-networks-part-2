{
  "cells": [
    {
      "cell_type": "code",
      "execution_count": 3,
      "metadata": {
        "id": "QPLXBhgzTFhz"
      },
      "outputs": [],
      "source": [
        "import numpy as np\n",
        "import pandas as pd\n",
        "import matplotlib.pyplot as plt\n",
        "import seaborn as sns\n",
        "from tqdm.notebook import tqdm\n",
        "\n",
        "import networkx as nx\n",
        "from dowhy import gcm\n",
        "\n",
        "from dowhy import CausalModel\n",
        "import dowhy.datasets\n",
        "\n",
        "import networkx as nx\n",
        "from IPython.display import Image, display\n",
        "\n",
        "options = {\n",
        "    \"font_size\": 14,\n",
        "    \"node_size\": 1500,\n",
        "    \"node_color\": \"#99FF99\",\n",
        "    \"edge_color\": \"#9999FF\",\n",
        "    \"arrowsize\": 25,\n",
        "    \"width\": 3,\n",
        "}\n",
        "\n",
        "def draw_graph(graphs, options):\n",
        "    nx.draw_networkx(graphs, **options)\n",
        "    ax = plt.gca()\n",
        "    ax.margins(0.20)\n",
        "    plt.axis(\"off\")\n",
        "\n",
        "sns.set(style='whitegrid', palette='Set2')"
      ]
    },
    {
      "cell_type": "code",
      "execution_count": 2,
      "metadata": {
        "colab": {
          "base_uri": "https://localhost:8080/"
        },
        "id": "as4_sWM2STn0",
        "outputId": "1e39180d-ef2a-4803-8712-860488ea82cf"
      },
      "outputs": [
        {
          "output_type": "stream",
          "name": "stdout",
          "text": [
            "Collecting dowhy\n",
            "  Downloading dowhy-0.11-py3-none-any.whl (377 kB)\n",
            "\u001b[2K     \u001b[90m━━━━━━━━━━━━━━━━━━━━━━━━━━━━━━━━━━━━━━━━\u001b[0m \u001b[32m377.7/377.7 kB\u001b[0m \u001b[31m4.1 MB/s\u001b[0m eta \u001b[36m0:00:00\u001b[0m\n",
            "\u001b[?25hCollecting causal-learn>=0.1.3.0 (from dowhy)\n",
            "  Downloading causal_learn-0.1.3.7-py3-none-any.whl (174 kB)\n",
            "\u001b[2K     \u001b[90m━━━━━━━━━━━━━━━━━━━━━━━━━━━━━━━━━━━━━━━━\u001b[0m \u001b[32m174.4/174.4 kB\u001b[0m \u001b[31m5.4 MB/s\u001b[0m eta \u001b[36m0:00:00\u001b[0m\n",
            "\u001b[?25hRequirement already satisfied: cvxpy<2.0.0,>=1.2.2 in /usr/local/lib/python3.10/dist-packages (from dowhy) (1.3.2)\n",
            "Requirement already satisfied: cython>=0.29.32 in /usr/local/lib/python3.10/dist-packages (from dowhy) (3.0.6)\n",
            "Requirement already satisfied: joblib>=1.1.0 in /usr/local/lib/python3.10/dist-packages (from dowhy) (1.3.2)\n",
            "Requirement already satisfied: networkx>=2.8.5 in /usr/local/lib/python3.10/dist-packages (from dowhy) (3.2.1)\n",
            "Requirement already satisfied: numpy>=1.20 in /usr/local/lib/python3.10/dist-packages (from dowhy) (1.23.5)\n",
            "Requirement already satisfied: pandas>=1.4.3 in /usr/local/lib/python3.10/dist-packages (from dowhy) (1.5.3)\n",
            "Requirement already satisfied: scikit-learn>1.0 in /usr/local/lib/python3.10/dist-packages (from dowhy) (1.2.2)\n",
            "Requirement already satisfied: scipy>=1.4.1 in /usr/local/lib/python3.10/dist-packages (from dowhy) (1.11.4)\n",
            "Requirement already satisfied: statsmodels>=0.13.5 in /usr/local/lib/python3.10/dist-packages (from dowhy) (0.14.0)\n",
            "Requirement already satisfied: sympy>=1.10.1 in /usr/local/lib/python3.10/dist-packages (from dowhy) (1.12)\n",
            "Requirement already satisfied: tqdm>=4.64.0 in /usr/local/lib/python3.10/dist-packages (from dowhy) (4.66.1)\n",
            "Requirement already satisfied: graphviz in /usr/local/lib/python3.10/dist-packages (from causal-learn>=0.1.3.0->dowhy) (0.20.1)\n",
            "Requirement already satisfied: matplotlib in /usr/local/lib/python3.10/dist-packages (from causal-learn>=0.1.3.0->dowhy) (3.7.1)\n",
            "Requirement already satisfied: pydot in /usr/local/lib/python3.10/dist-packages (from causal-learn>=0.1.3.0->dowhy) (1.4.2)\n",
            "Requirement already satisfied: osqp>=0.4.1 in /usr/local/lib/python3.10/dist-packages (from cvxpy<2.0.0,>=1.2.2->dowhy) (0.6.2.post8)\n",
            "Requirement already satisfied: ecos>=2 in /usr/local/lib/python3.10/dist-packages (from cvxpy<2.0.0,>=1.2.2->dowhy) (2.0.12)\n",
            "Requirement already satisfied: scs>=1.1.6 in /usr/local/lib/python3.10/dist-packages (from cvxpy<2.0.0,>=1.2.2->dowhy) (3.2.4.post1)\n",
            "Requirement already satisfied: setuptools>65.5.1 in /usr/local/lib/python3.10/dist-packages (from cvxpy<2.0.0,>=1.2.2->dowhy) (67.7.2)\n",
            "Requirement already satisfied: python-dateutil>=2.8.1 in /usr/local/lib/python3.10/dist-packages (from pandas>=1.4.3->dowhy) (2.8.2)\n",
            "Requirement already satisfied: pytz>=2020.1 in /usr/local/lib/python3.10/dist-packages (from pandas>=1.4.3->dowhy) (2023.3.post1)\n",
            "Requirement already satisfied: threadpoolctl>=2.0.0 in /usr/local/lib/python3.10/dist-packages (from scikit-learn>1.0->dowhy) (3.2.0)\n",
            "Requirement already satisfied: patsy>=0.5.2 in /usr/local/lib/python3.10/dist-packages (from statsmodels>=0.13.5->dowhy) (0.5.3)\n",
            "Requirement already satisfied: packaging>=21.3 in /usr/local/lib/python3.10/dist-packages (from statsmodels>=0.13.5->dowhy) (23.2)\n",
            "Requirement already satisfied: mpmath>=0.19 in /usr/local/lib/python3.10/dist-packages (from sympy>=1.10.1->dowhy) (1.3.0)\n",
            "Requirement already satisfied: qdldl in /usr/local/lib/python3.10/dist-packages (from osqp>=0.4.1->cvxpy<2.0.0,>=1.2.2->dowhy) (0.1.7.post0)\n",
            "Requirement already satisfied: six in /usr/local/lib/python3.10/dist-packages (from patsy>=0.5.2->statsmodels>=0.13.5->dowhy) (1.16.0)\n",
            "Requirement already satisfied: contourpy>=1.0.1 in /usr/local/lib/python3.10/dist-packages (from matplotlib->causal-learn>=0.1.3.0->dowhy) (1.2.0)\n",
            "Requirement already satisfied: cycler>=0.10 in /usr/local/lib/python3.10/dist-packages (from matplotlib->causal-learn>=0.1.3.0->dowhy) (0.12.1)\n",
            "Requirement already satisfied: fonttools>=4.22.0 in /usr/local/lib/python3.10/dist-packages (from matplotlib->causal-learn>=0.1.3.0->dowhy) (4.45.1)\n",
            "Requirement already satisfied: kiwisolver>=1.0.1 in /usr/local/lib/python3.10/dist-packages (from matplotlib->causal-learn>=0.1.3.0->dowhy) (1.4.5)\n",
            "Requirement already satisfied: pillow>=6.2.0 in /usr/local/lib/python3.10/dist-packages (from matplotlib->causal-learn>=0.1.3.0->dowhy) (9.4.0)\n",
            "Requirement already satisfied: pyparsing>=2.3.1 in /usr/local/lib/python3.10/dist-packages (from matplotlib->causal-learn>=0.1.3.0->dowhy) (3.1.1)\n",
            "Installing collected packages: causal-learn, dowhy\n",
            "Successfully installed causal-learn-0.1.3.7 dowhy-0.11\n"
          ]
        }
      ],
      "source": [
        "!pip install dowhy"
      ]
    },
    {
      "cell_type": "markdown",
      "metadata": {
        "id": "RboO7vUsPqow"
      },
      "source": [
        "---\n",
        "\n",
        "## Задача 1.\n",
        "\n",
        "При проведении испытания лекарства получены следующие данные. В каждом случае указано количество успешных случаев.\n",
        "\n",
        "\n",
        "| Количество успешных        | Принимали плацебо | Принимали лекарство  |\n",
        "| :------------- |-------------:| -----:|\n",
        "| Низкое давление      | 81 из 87 | 234 из 270 |\n",
        "| Высокое давление     | 192 из 263      |   55 из 80 |\n",
        "\n",
        "\n",
        "Требуется оценить эффект влияния лекарства на успех в двух следующих случаях.\n",
        "\n",
        "* Кровяное давление пациентов измерялось до начала испытания, после чего принималось решение о приеме лекарства.\n",
        "\n",
        "* Кровяное давление пациентов измерялось в конце испытания. При этом известно, что лекарство может оказывать эффект на кровяное давление, которое в свою очередь может оказывать эффект на выздоровление.\n",
        "\n",
        "Часть этой задачи мы уже разобрали на занятии. Сейчас давайте на ее примере разберемся досконально в разных тонкостях."
      ]
    },
    {
      "cell_type": "markdown",
      "metadata": {
        "id": "c822cD5jPqox"
      },
      "source": [
        "**1.** Нарисуйте граф причинно-следственных связей для каждого случая.\n",
        "\n",
        "---\n",
        "\n",
        "Обозначим\n",
        "* $X$ &mdash; лечение;\n",
        "* $Y$ &mdash; результат;\n",
        "* $Z$ &mdash; давление.\n"
      ]
    },
    {
      "cell_type": "markdown",
      "metadata": {
        "id": "jZfYE8_tPqox"
      },
      "source": [
        "**Первый случай**\n",
        "\n",
        "Кровяное давление пациентов измерялось до начала испытания, после чего принималось решение о приеме лекарства.\n",
        "$$p(x, y, z) = p(z)p(x|z)p(y|x, z)$$\n",
        "$$\\widehat{\\mathsf{P}}(Z = 1) = \\frac{263+80}{263+80+87+270}$$\n",
        "$$\\widehat{\\mathsf{P}}(X=1\\ |\\ Z = 0) = \\frac{270}{87+270}$$\n",
        "$$\\widehat{\\mathsf{P}}(X=1\\ |\\ Z = 1) = \\frac{80}{263+80}$$\n",
        "$$\\widehat{\\mathsf{P}}(Y=1\\ |\\ X=0, Z = 0) = \\frac{81}{87}$$\n",
        "$$\\widehat{\\mathsf{P}}(Y=1\\ |\\ X=1, Z = 0) = \\frac{234}{270}$$\n",
        "$$\\widehat{\\mathsf{P}}(Y=1\\ |\\ X=0, Z = 1) = \\frac{192}{263}$$\n",
        "$$\\widehat{\\mathsf{P}}(Y=1\\ |\\ X=1, Z = 1) = \\frac{55}{80}$$\n",
        "\n",
        "\n",
        "**Второй случай**\n",
        "\n",
        "Кровяное давление пациентов измерялось в конце испытания. При этом известно, что лекарство может оказывать эффект на кровяное давление, которое в свою очередь может оказывать эффект на выздоровление.\n",
        "$$p(x, y, z) = p(x)p(z|x)p(y|x, z)$$\n",
        "$$\\widehat{\\mathsf{P}}(X = 1) = \\frac{270+80}{263+80+87+270}$$\n",
        "$$\\widehat{\\mathsf{P}}(Z=1\\ |\\ X = 0) = \\frac{270}{270+80}$$\n",
        "$$\\widehat{\\mathsf{P}}(Z=1\\ |\\ X = 1) = \\frac{80}{270+80}$$\n",
        "$$\\widehat{\\mathsf{P}}(Y=1\\ |\\ X=0, Z = 0) = \\frac{81}{87}$$\n",
        "$$\\widehat{\\mathsf{P}}(Y=1\\ |\\ X=1, Z = 0) = \\frac{234}{270}$$\n",
        "$$\\widehat{\\mathsf{P}}(Y=1\\ |\\ X=0, Z = 1) = \\frac{192}{263}$$\n",
        "$$\\widehat{\\mathsf{P}}(Y=1\\ |\\ X=1, Z = 1) = \\frac{55}{80}$$"
      ]
    },
    {
      "cell_type": "code",
      "execution_count": 39,
      "metadata": {
        "id": "5u8HaTR6Pqox",
        "colab": {
          "base_uri": "https://localhost:8080/",
          "height": 444
        },
        "outputId": "1928a76e-cdbb-4a5a-cd2e-975644d837b6"
      },
      "outputs": [
        {
          "output_type": "display_data",
          "data": {
            "text/plain": [
              "<Figure size 1200x500 with 2 Axes>"
            ],
            "image/png": "[encoded data removed]"
          },
          "metadata": {}
        }
      ],
      "source": [
        "plt.figure(figsize=(12, 5))\n",
        "\n",
        "causal_graphs = [\n",
        "\n",
        "    nx.DiGraph([('blood_pressure', 'treatment'), ('treatment', 'result'), ('blood_pressure','result')]),\n",
        "    nx.DiGraph([('treatment', 'blood_pressure'), ('treatment', 'result'), ('blood_pressure','result')]),\n",
        "]\n",
        "\n",
        "for i, graphs in enumerate(causal_graphs):\n",
        "    plt.subplot(1, 2, i+1)\n",
        "    draw_graph(graphs, options)\n",
        "    plt.title(f'{i+1}-й случай')\n",
        "\n",
        "plt.show()"
      ]
    },
    {
      "cell_type": "markdown",
      "metadata": {
        "id": "9OUJQKVAzaFl"
      },
      "source": [
        "Создадим датасет."
      ]
    },
    {
      "cell_type": "code",
      "execution_count": 19,
      "metadata": {
        "id": "TTJSlJBgPqoy",
        "colab": {
          "base_uri": "https://localhost:8080/",
          "height": 455
        },
        "outputId": "25850de8-0da8-4575-c0a9-bd45421648d5"
      },
      "outputs": [
        {
          "output_type": "execute_result",
          "data": {
            "text/plain": [
              "         treatment  blood_pressure  result\n",
              "patient                                   \n",
              "0                0               0       1\n",
              "1                0               0       1\n",
              "2                0               0       1\n",
              "3                0               0       1\n",
              "4                0               0       1\n",
              "...            ...             ...     ...\n",
              "695              1               1       0\n",
              "696              1               1       0\n",
              "697              1               1       0\n",
              "698              1               1       0\n",
              "699              1               1       0\n",
              "\n",
              "[700 rows x 3 columns]"
            ],
            "text/html": [
              "\n",
              "  <div id=\"df-10eb9991-4bfb-470a-af9e-4eb335b80aa8\" class=\"colab-df-container\">\n",
              "    <div>\n",
              "<style scoped>\n",
              "    .dataframe tbody tr th:only-of-type {\n",
              "        vertical-align: middle;\n",
              "    }\n",
              "\n",
              "    .dataframe tbody tr th {\n",
              "        vertical-align: top;\n",
              "    }\n",
              "\n",
              "    .dataframe thead th {\n",
              "        text-align: right;\n",
              "    }\n",
              "</style>\n",
              "<table border=\"1\" class=\"dataframe\">\n",
              "  <thead>\n",
              "    <tr style=\"text-align: right;\">\n",
              "      <th></th>\n",
              "      <th>treatment</th>\n",
              "      <th>blood_pressure</th>\n",
              "      <th>result</th>\n",
              "    </tr>\n",
              "    <tr>\n",
              "      <th>patient</th>\n",
              "      <th></th>\n",
              "      <th></th>\n",
              "      <th></th>\n",
              "    </tr>\n",
              "  </thead>\n",
              "  <tbody>\n",
              "    <tr>\n",
              "      <th>0</th>\n",
              "      <td>0</td>\n",
              "      <td>0</td>\n",
              "      <td>1</td>\n",
              "    </tr>\n",
              "    <tr>\n",
              "      <th>1</th>\n",
              "      <td>0</td>\n",
              "      <td>0</td>\n",
              "      <td>1</td>\n",
              "    </tr>\n",
              "    <tr>\n",
              "      <th>2</th>\n",
              "      <td>0</td>\n",
              "      <td>0</td>\n",
              "      <td>1</td>\n",
              "    </tr>\n",
              "    <tr>\n",
              "      <th>3</th>\n",
              "      <td>0</td>\n",
              "      <td>0</td>\n",
              "      <td>1</td>\n",
              "    </tr>\n",
              "    <tr>\n",
              "      <th>4</th>\n",
              "      <td>0</td>\n",
              "      <td>0</td>\n",
              "      <td>1</td>\n",
              "    </tr>\n",
              "    <tr>\n",
              "      <th>...</th>\n",
              "      <td>...</td>\n",
              "      <td>...</td>\n",
              "      <td>...</td>\n",
              "    </tr>\n",
              "    <tr>\n",
              "      <th>695</th>\n",
              "      <td>1</td>\n",
              "      <td>1</td>\n",
              "      <td>0</td>\n",
              "    </tr>\n",
              "    <tr>\n",
              "      <th>696</th>\n",
              "      <td>1</td>\n",
              "      <td>1</td>\n",
              "      <td>0</td>\n",
              "    </tr>\n",
              "    <tr>\n",
              "      <th>697</th>\n",
              "      <td>1</td>\n",
              "      <td>1</td>\n",
              "      <td>0</td>\n",
              "    </tr>\n",
              "    <tr>\n",
              "      <th>698</th>\n",
              "      <td>1</td>\n",
              "      <td>1</td>\n",
              "      <td>0</td>\n",
              "    </tr>\n",
              "    <tr>\n",
              "      <th>699</th>\n",
              "      <td>1</td>\n",
              "      <td>1</td>\n",
              "      <td>0</td>\n",
              "    </tr>\n",
              "  </tbody>\n",
              "</table>\n",
              "<p>700 rows × 3 columns</p>\n",
              "</div>\n",
              "    <div class=\"colab-df-buttons\">\n",
              "\n",
              "  <div class=\"colab-df-container\">\n",
              "    <button class=\"colab-df-convert\" onclick=\"convertToInteractive('df-10eb9991-4bfb-470a-af9e-4eb335b80aa8')\"\n",
              "            title=\"Convert this dataframe to an interactive table.\"\n",
              "            style=\"display:none;\">\n",
              "\n",
              "  <svg xmlns=\"http://www.w3.org/2000/svg\" height=\"24px\" viewBox=\"0 -960 960 960\">\n",
              "    <path d=\"M120-120v-720h720v720H120Zm60-500h600v-160H180v160Zm220 220h160v-160H400v160Zm0 220h160v-160H400v160ZM180-400h160v-160H180v160Zm440 0h160v-160H620v160ZM180-180h160v-160H180v160Zm440 0h160v-160H620v160Z\"/>\n",
              "  </svg>\n",
              "    </button>\n",
              "\n",
              "  <style>\n",
              "    .colab-df-container {\n",
              "      display:flex;\n",
              "      gap: 12px;\n",
              "    }\n",
              "\n",
              "    .colab-df-convert {\n",
              "      background-color: #E8F0FE;\n",
              "      border: none;\n",
              "      border-radius: 50%;\n",
              "      cursor: pointer;\n",
              "      display: none;\n",
              "      fill: #1967D2;\n",
              "      height: 32px;\n",
              "      padding: 0 0 0 0;\n",
              "      width: 32px;\n",
              "    }\n",
              "\n",
              "    .colab-df-convert:hover {\n",
              "      background-color: #E2EBFA;\n",
              "      box-shadow: 0px 1px 2px rgba(60, 64, 67, 0.3), 0px 1px 3px 1px rgba(60, 64, 67, 0.15);\n",
              "      fill: #174EA6;\n",
              "    }\n",
              "\n",
              "    .colab-df-buttons div {\n",
              "      margin-bottom: 4px;\n",
              "    }\n",
              "\n",
              "    [theme=dark] .colab-df-convert {\n",
              "      background-color: #3B4455;\n",
              "      fill: #D2E3FC;\n",
              "    }\n",
              "\n",
              "    [theme=dark] .colab-df-convert:hover {\n",
              "      background-color: #434B5C;\n",
              "      box-shadow: 0px 1px 3px 1px rgba(0, 0, 0, 0.15);\n",
              "      filter: drop-shadow(0px 1px 2px rgba(0, 0, 0, 0.3));\n",
              "      fill: #FFFFFF;\n",
              "    }\n",
              "  </style>\n",
              "\n",
              "    <script>\n",
              "      const buttonEl =\n",
              "        document.querySelector('#df-10eb9991-4bfb-470a-af9e-4eb335b80aa8 button.colab-df-convert');\n",
              "      buttonEl.style.display =\n",
              "        google.colab.kernel.accessAllowed ? 'block' : 'none';\n",
              "\n",
              "      async function convertToInteractive(key) {\n",
              "        const element = document.querySelector('#df-10eb9991-4bfb-470a-af9e-4eb335b80aa8');\n",
              "        const dataTable =\n",
              "          await google.colab.kernel.invokeFunction('convertToInteractive',\n",
              "                                                    [key], {});\n",
              "        if (!dataTable) return;\n",
              "\n",
              "        const docLinkHtml = 'Like what you see? Visit the ' +\n",
              "          '<a target=\"_blank\" href=https://colab.research.google.com/notebooks/data_table.ipynb>data table notebook</a>'\n",
              "          + ' to learn more about interactive tables.';\n",
              "        element.innerHTML = '';\n",
              "        dataTable['output_type'] = 'display_data';\n",
              "        await google.colab.output.renderOutput(dataTable, element);\n",
              "        const docLink = document.createElement('div');\n",
              "        docLink.innerHTML = docLinkHtml;\n",
              "        element.appendChild(docLink);\n",
              "      }\n",
              "    </script>\n",
              "  </div>\n",
              "\n",
              "\n",
              "<div id=\"df-135cf0b1-18a6-45a1-93a1-54db73835e5f\">\n",
              "  <button class=\"colab-df-quickchart\" onclick=\"quickchart('df-135cf0b1-18a6-45a1-93a1-54db73835e5f')\"\n",
              "            title=\"Suggest charts\"\n",
              "            style=\"display:none;\">\n",
              "\n",
              "<svg xmlns=\"http://www.w3.org/2000/svg\" height=\"24px\"viewBox=\"0 0 24 24\"\n",
              "     width=\"24px\">\n",
              "    <g>\n",
              "        <path d=\"M19 3H5c-1.1 0-2 .9-2 2v14c0 1.1.9 2 2 2h14c1.1 0 2-.9 2-2V5c0-1.1-.9-2-2-2zM9 17H7v-7h2v7zm4 0h-2V7h2v10zm4 0h-2v-4h2v4z\"/>\n",
              "    </g>\n",
              "</svg>\n",
              "  </button>\n",
              "\n",
              "<style>\n",
              "  .colab-df-quickchart {\n",
              "      --bg-color: #E8F0FE;\n",
              "      --fill-color: #1967D2;\n",
              "      --hover-bg-color: #E2EBFA;\n",
              "      --hover-fill-color: #174EA6;\n",
              "      --disabled-fill-color: #AAA;\n",
              "      --disabled-bg-color: #DDD;\n",
              "  }\n",
              "\n",
              "  [theme=dark] .colab-df-quickchart {\n",
              "      --bg-color: #3B4455;\n",
              "      --fill-color: #D2E3FC;\n",
              "      --hover-bg-color: #434B5C;\n",
              "      --hover-fill-color: #FFFFFF;\n",
              "      --disabled-bg-color: #3B4455;\n",
              "      --disabled-fill-color: #666;\n",
              "  }\n",
              "\n",
              "  .colab-df-quickchart {\n",
              "    background-color: var(--bg-color);\n",
              "    border: none;\n",
              "    border-radius: 50%;\n",
              "    cursor: pointer;\n",
              "    display: none;\n",
              "    fill: var(--fill-color);\n",
              "    height: 32px;\n",
              "    padding: 0;\n",
              "    width: 32px;\n",
              "  }\n",
              "\n",
              "  .colab-df-quickchart:hover {\n",
              "    background-color: var(--hover-bg-color);\n",
              "    box-shadow: 0 1px 2px rgba(60, 64, 67, 0.3), 0 1px 3px 1px rgba(60, 64, 67, 0.15);\n",
              "    fill: var(--button-hover-fill-color);\n",
              "  }\n",
              "\n",
              "  .colab-df-quickchart-complete:disabled,\n",
              "  .colab-df-quickchart-complete:disabled:hover {\n",
              "    background-color: var(--disabled-bg-color);\n",
              "    fill: var(--disabled-fill-color);\n",
              "    box-shadow: none;\n",
              "  }\n",
              "\n",
              "  .colab-df-spinner {\n",
              "    border: 2px solid var(--fill-color);\n",
              "    border-color: transparent;\n",
              "    border-bottom-color: var(--fill-color);\n",
              "    animation:\n",
              "      spin 1s steps(1) infinite;\n",
              "  }\n",
              "\n",
              "  @keyframes spin {\n",
              "    0% {\n",
              "      border-color: transparent;\n",
              "      border-bottom-color: var(--fill-color);\n",
              "      border-left-color: var(--fill-color);\n",
              "    }\n",
              "    20% {\n",
              "      border-color: transparent;\n",
              "      border-left-color: var(--fill-color);\n",
              "      border-top-color: var(--fill-color);\n",
              "    }\n",
              "    30% {\n",
              "      border-color: transparent;\n",
              "      border-left-color: var(--fill-color);\n",
              "      border-top-color: var(--fill-color);\n",
              "      border-right-color: var(--fill-color);\n",
              "    }\n",
              "    40% {\n",
              "      border-color: transparent;\n",
              "      border-right-color: var(--fill-color);\n",
              "      border-top-color: var(--fill-color);\n",
              "    }\n",
              "    60% {\n",
              "      border-color: transparent;\n",
              "      border-right-color: var(--fill-color);\n",
              "    }\n",
              "    80% {\n",
              "      border-color: transparent;\n",
              "      border-right-color: var(--fill-color);\n",
              "      border-bottom-color: var(--fill-color);\n",
              "    }\n",
              "    90% {\n",
              "      border-color: transparent;\n",
              "      border-bottom-color: var(--fill-color);\n",
              "    }\n",
              "  }\n",
              "</style>\n",
              "\n",
              "  <script>\n",
              "    async function quickchart(key) {\n",
              "      const quickchartButtonEl =\n",
              "        document.querySelector('#' + key + ' button');\n",
              "      quickchartButtonEl.disabled = true;  // To prevent multiple clicks.\n",
              "      quickchartButtonEl.classList.add('colab-df-spinner');\n",
              "      try {\n",
              "        const charts = await google.colab.kernel.invokeFunction(\n",
              "            'suggestCharts', [key], {});\n",
              "      } catch (error) {\n",
              "        console.error('Error during call to suggestCharts:', error);\n",
              "      }\n",
              "      quickchartButtonEl.classList.remove('colab-df-spinner');\n",
              "      quickchartButtonEl.classList.add('colab-df-quickchart-complete');\n",
              "    }\n",
              "    (() => {\n",
              "      let quickchartButtonEl =\n",
              "        document.querySelector('#df-135cf0b1-18a6-45a1-93a1-54db73835e5f button');\n",
              "      quickchartButtonEl.style.display =\n",
              "        google.colab.kernel.accessAllowed ? 'block' : 'none';\n",
              "    })();\n",
              "  </script>\n",
              "</div>\n",
              "    </div>\n",
              "  </div>\n"
            ]
          },
          "metadata": {},
          "execution_count": 19
        }
      ],
      "source": [
        "data = pd.DataFrame()\n",
        "data['treatment'] = [0]*(87+263) + [1]*(270+80)\n",
        "data['blood_pressure'] = [0]*87 + [1]*263 + [0]*270 + [1]*80\n",
        "data['result'] = [1]*81 + [0]*(87-81) + [1]*192 + [0]*(263-192) \\\n",
        "                + [1]*234 + [0]*(270-234) + [1]*55 + [0]*(80-55)\n",
        "data.index.name = 'patient'\n",
        "\n",
        "data"
      ]
    },
    {
      "cell_type": "markdown",
      "metadata": {
        "id": "fej87KFjzL5p"
      },
      "source": [
        "\n",
        "| Количество успешных        | Принимали плацебо X=0 | Принимали лекарство X=1 |\n",
        "| :------------- |-------------:| -----:|\n",
        "| Низкое давление Z=0      | 81 из 87 | 234 из 270 |\n",
        "| Высокое давление Z=1    | 192 из 263      |   55 из 80 |\n",
        "\n",
        "\n"
      ]
    },
    {
      "cell_type": "markdown",
      "metadata": {
        "id": "w2bZtEKIZgwg"
      },
      "source": [
        "Постройте графы обоих вариантов в случае интервенции."
      ]
    },
    {
      "cell_type": "code",
      "execution_count": 40,
      "metadata": {
        "id": "ds2JTEdCPqoz",
        "colab": {
          "base_uri": "https://localhost:8080/",
          "height": 444
        },
        "outputId": "4825face-1402-4daa-8ee1-67f6cb5c9354"
      },
      "outputs": [
        {
          "output_type": "display_data",
          "data": {
            "text/plain": [
              "<Figure size 1200x500 with 2 Axes>"
            ],
            "image/png": "[encoded data removed]"
          },
          "metadata": {}
        }
      ],
      "source": [
        "plt.figure(figsize=(12, 5))\n",
        "\n",
        "causal_graphs_intern = [\n",
        "\n",
        "    nx.DiGraph([('treatment', 'result'), ('blood_pressure','result')]),\n",
        "    nx.DiGraph([('treatment', 'blood_pressure'), ('treatment', 'result'), ('blood_pressure','result')]),\n",
        "]\n",
        "\n",
        "for i, graphs in enumerate(causal_graphs_intern):\n",
        "    plt.subplot(1, 2, i+1)\n",
        "    draw_graph(graphs, options)\n",
        "    plt.title(f'{i+1}-й случай')\n",
        "\n",
        "plt.show()"
      ]
    },
    {
      "cell_type": "markdown",
      "metadata": {
        "id": "FXn6g-SEPqoz"
      },
      "source": [
        "**2.** Поэкспериментируем с библиотекой DoWhy."
      ]
    },
    {
      "cell_type": "markdown",
      "metadata": {
        "id": "Cyl5URrpPqoz"
      },
      "source": [
        "Задайте граф причинно-следственных связей(задайте правильно названия вершин графа) и постройте по нему модель `StructuralCausalModel` с автоматическим определением механизма причинно-следственных связей. Обучите полученную модель."
      ]
    },
    {
      "cell_type": "markdown",
      "metadata": {
        "id": "f9D5gp8-dDrF"
      },
      "source": [
        "**Первый случай.**"
      ]
    },
    {
      "cell_type": "code",
      "execution_count": 41,
      "metadata": {
        "id": "lHzCR7MFPqo0"
      },
      "outputs": [],
      "source": [
        "causal_graph = causal_graphs[0]"
      ]
    },
    {
      "cell_type": "code",
      "source": [
        "causal_model = gcm.StructuralCausalModel(causal_graph)"
      ],
      "metadata": {
        "id": "NKPbzM2KVj2y"
      },
      "execution_count": 42,
      "outputs": []
    },
    {
      "cell_type": "code",
      "source": [
        "gcm.auto.assign_causal_mechanisms(causal_model, data)"
      ],
      "metadata": {
        "colab": {
          "base_uri": "https://localhost:8080/"
        },
        "id": "TK3Da70sWZzx",
        "outputId": "c7143669-e456-44a8-e02d-4436df625f42"
      },
      "execution_count": 43,
      "outputs": [
        {
          "output_type": "execute_result",
          "data": {
            "text/plain": [
              "<dowhy.gcm.auto.AutoAssignmentSummary at 0x7e56c7ecf910>"
            ]
          },
          "metadata": {},
          "execution_count": 43
        }
      ]
    },
    {
      "cell_type": "code",
      "execution_count": 44,
      "metadata": {
        "id": "e8TLlXT_eA1S",
        "colab": {
          "base_uri": "https://localhost:8080/"
        },
        "outputId": "614dedf0-46a7-45d8-ae20-48a8dac63193"
      },
      "outputs": [
        {
          "output_type": "stream",
          "name": "stderr",
          "text": [
            "Fitting causal mechanism of node result: 100%|██████████| 3/3 [00:00<00:00, 39.00it/s]\n"
          ]
        }
      ],
      "source": [
        "gcm.fit(causal_model, data)"
      ]
    },
    {
      "cell_type": "markdown",
      "metadata": {
        "id": "b6BYGNv-Pqo0"
      },
      "source": [
        "Выясните, какие зависимости подобрались и напечатайте параметры этих моделей."
      ]
    },
    {
      "cell_type": "code",
      "execution_count": 45,
      "metadata": {
        "id": "V29xuSBXPqo0",
        "colab": {
          "base_uri": "https://localhost:8080/"
        },
        "outputId": "00052892-246f-4957-8b5c-f183e91e1867"
      },
      "outputs": [
        {
          "output_type": "execute_result",
          "data": {
            "text/plain": [
              "(<dowhy.gcm.causal_mechanisms.DiscreteAdditiveNoiseModel at 0x7e56c7e724a0>,\n",
              " <dowhy.gcm.causal_mechanisms.DiscreteAdditiveNoiseModel at 0x7e56cc293b20>,\n",
              " <dowhy.gcm.stochastic_models.EmpiricalDistribution at 0x7e56c7e72800>)"
            ]
          },
          "metadata": {},
          "execution_count": 45
        }
      ],
      "source": [
        "model_X = causal_model.causal_mechanism('treatment')\n",
        "model_Y = causal_model.causal_mechanism('result')\n",
        "model_Z = causal_model.causal_mechanism('blood_pressure')\n",
        "\n",
        "model_X, model_Y, model_Z"
      ]
    },
    {
      "cell_type": "code",
      "execution_count": 46,
      "metadata": {
        "id": "Qc5JmFgEPqo0",
        "scrolled": true,
        "colab": {
          "base_uri": "https://localhost:8080/"
        },
        "outputId": "092a46bc-1f2a-46e6-8aa9-091d677b1ab5"
      },
      "outputs": [
        {
          "output_type": "execute_result",
          "data": {
            "text/plain": [
              "(array([-0.1903959 , -0.05383557]), 0.9230689186715357)"
            ]
          },
          "metadata": {},
          "execution_count": 46
        }
      ],
      "source": [
        "sklearn_model = model_Y.prediction_model.sklearn_model\n",
        "sklearn_model.coef_, sklearn_model.intercept_"
      ]
    },
    {
      "cell_type": "code",
      "execution_count": 48,
      "metadata": {
        "id": "5x5OIreqPqo0",
        "colab": {
          "base_uri": "https://localhost:8080/",
          "height": 74
        },
        "outputId": "9a251b6c-0eeb-42fe-f736-98b2f76ed4ea"
      },
      "outputs": [
        {
          "output_type": "execute_result",
          "data": {
            "text/plain": [
              "HistGradientBoostingRegressor()"
            ],
            "text/html": [
              "<style>#sk-container-id-2 {color: black;background-color: white;}#sk-container-id-2 pre{padding: 0;}#sk-container-id-2 div.sk-toggleable {background-color: white;}#sk-container-id-2 label.sk-toggleable__label {cursor: pointer;display: block;width: 100%;margin-bottom: 0;padding: 0.3em;box-sizing: border-box;text-align: center;}#sk-container-id-2 label.sk-toggleable__label-arrow:before {content: \"▸\";float: left;margin-right: 0.25em;color: #696969;}#sk-container-id-2 label.sk-toggleable__label-arrow:hover:before {color: black;}#sk-container-id-2 div.sk-estimator:hover label.sk-toggleable__label-arrow:before {color: black;}#sk-container-id-2 div.sk-toggleable__content {max-height: 0;max-width: 0;overflow: hidden;text-align: left;background-color: #f0f8ff;}#sk-container-id-2 div.sk-toggleable__content pre {margin: 0.2em;color: black;border-radius: 0.25em;background-color: #f0f8ff;}#sk-container-id-2 input.sk-toggleable__control:checked~div.sk-toggleable__content {max-height: 200px;max-width: 100%;overflow: auto;}#sk-container-id-2 input.sk-toggleable__control:checked~label.sk-toggleable__label-arrow:before {content: \"▾\";}#sk-container-id-2 div.sk-estimator input.sk-toggleable__control:checked~label.sk-toggleable__label {background-color: #d4ebff;}#sk-container-id-2 div.sk-label input.sk-toggleable__control:checked~label.sk-toggleable__label {background-color: #d4ebff;}#sk-container-id-2 input.sk-hidden--visually {border: 0;clip: rect(1px 1px 1px 1px);clip: rect(1px, 1px, 1px, 1px);height: 1px;margin: -1px;overflow: hidden;padding: 0;position: absolute;width: 1px;}#sk-container-id-2 div.sk-estimator {font-family: monospace;background-color: #f0f8ff;border: 1px dotted black;border-radius: 0.25em;box-sizing: border-box;margin-bottom: 0.5em;}#sk-container-id-2 div.sk-estimator:hover {background-color: #d4ebff;}#sk-container-id-2 div.sk-parallel-item::after {content: \"\";width: 100%;border-bottom: 1px solid gray;flex-grow: 1;}#sk-container-id-2 div.sk-label:hover label.sk-toggleable__label {background-color: #d4ebff;}#sk-container-id-2 div.sk-serial::before {content: \"\";position: absolute;border-left: 1px solid gray;box-sizing: border-box;top: 0;bottom: 0;left: 50%;z-index: 0;}#sk-container-id-2 div.sk-serial {display: flex;flex-direction: column;align-items: center;background-color: white;padding-right: 0.2em;padding-left: 0.2em;position: relative;}#sk-container-id-2 div.sk-item {position: relative;z-index: 1;}#sk-container-id-2 div.sk-parallel {display: flex;align-items: stretch;justify-content: center;background-color: white;position: relative;}#sk-container-id-2 div.sk-item::before, #sk-container-id-2 div.sk-parallel-item::before {content: \"\";position: absolute;border-left: 1px solid gray;box-sizing: border-box;top: 0;bottom: 0;left: 50%;z-index: -1;}#sk-container-id-2 div.sk-parallel-item {display: flex;flex-direction: column;z-index: 1;position: relative;background-color: white;}#sk-container-id-2 div.sk-parallel-item:first-child::after {align-self: flex-end;width: 50%;}#sk-container-id-2 div.sk-parallel-item:last-child::after {align-self: flex-start;width: 50%;}#sk-container-id-2 div.sk-parallel-item:only-child::after {width: 0;}#sk-container-id-2 div.sk-dashed-wrapped {border: 1px dashed gray;margin: 0 0.4em 0.5em 0.4em;box-sizing: border-box;padding-bottom: 0.4em;background-color: white;}#sk-container-id-2 div.sk-label label {font-family: monospace;font-weight: bold;display: inline-block;line-height: 1.2em;}#sk-container-id-2 div.sk-label-container {text-align: center;}#sk-container-id-2 div.sk-container {/* jupyter's `normalize.less` sets `[hidden] { display: none; }` but bootstrap.min.css set `[hidden] { display: none !important; }` so we also need the `!important` here to be able to override the default hidden behavior on the sphinx rendered scikit-learn.org. See: https://github.com/scikit-learn/scikit-learn/issues/21755 */display: inline-block !important;position: relative;}#sk-container-id-2 div.sk-text-repr-fallback {display: none;}</style><div id=\"sk-container-id-2\" class=\"sk-top-container\"><div class=\"sk-text-repr-fallback\"><pre>HistGradientBoostingRegressor()</pre><b>In a Jupyter environment, please rerun this cell to show the HTML representation or trust the notebook. <br />On GitHub, the HTML representation is unable to render, please try loading this page with nbviewer.org.</b></div><div class=\"sk-container\" hidden><div class=\"sk-item\"><div class=\"sk-estimator sk-toggleable\"><input class=\"sk-toggleable__control sk-hidden--visually\" id=\"sk-estimator-id-4\" type=\"checkbox\" checked><label for=\"sk-estimator-id-4\" class=\"sk-toggleable__label sk-toggleable__label-arrow\">HistGradientBoostingRegressor</label><div class=\"sk-toggleable__content\"><pre>HistGradientBoostingRegressor()</pre></div></div></div></div></div>"
            ]
          },
          "metadata": {},
          "execution_count": 48
        }
      ],
      "source": [
        "sklearn_model = model_X.prediction_model.sklearn_model\n",
        "sklearn_model"
      ]
    },
    {
      "cell_type": "markdown",
      "metadata": {
        "id": "SBdo5QW_Pqo0"
      },
      "source": [
        "Как видим, были использованы модели с аддитивным шумом, в то время как наши данные дискретны.\n",
        "\n",
        "Поменяем тип данных на строковые"
      ]
    },
    {
      "cell_type": "code",
      "execution_count": 49,
      "metadata": {
        "id": "0d5HPHODPqo0"
      },
      "outputs": [],
      "source": [
        "data = data.astype(str)"
      ]
    },
    {
      "cell_type": "markdown",
      "metadata": {
        "id": "y7z-wG6IPqo0"
      },
      "source": [
        "Задайте модели наследования вручную. Если у вершины нет предков, то используйте эмпирическое распределение, иначе &mdash; классификатор `gcm.ClassifierFCM()`. Обучите полученную causal модель."
      ]
    },
    {
      "cell_type": "code",
      "execution_count": 56,
      "metadata": {
        "id": "QXh75DWdPqo1"
      },
      "outputs": [],
      "source": [
        "causal_model = gcm.StructuralCausalModel(causal_graph)"
      ]
    },
    {
      "cell_type": "code",
      "source": [
        "causal_model.set_causal_mechanism(\n",
        "    'blood_pressure', gcm.EmpiricalDistribution()\n",
        ")\n",
        "causal_model.set_causal_mechanism(\n",
        "    'treatment', gcm.ClassifierFCM()\n",
        ")\n",
        "causal_model.set_causal_mechanism(\n",
        "    'result', gcm.ClassifierFCM()\n",
        ")"
      ],
      "metadata": {
        "id": "ETfrrhfrXsXV"
      },
      "execution_count": 59,
      "outputs": []
    },
    {
      "cell_type": "code",
      "source": [
        "gcm.fit(causal_model, data)"
      ],
      "metadata": {
        "colab": {
          "base_uri": "https://localhost:8080/"
        },
        "id": "QchYTtJAXsLT",
        "outputId": "24d9ccdd-ff91-4410-d54d-f4bd44452464"
      },
      "execution_count": 60,
      "outputs": [
        {
          "output_type": "stream",
          "name": "stderr",
          "text": [
            "Fitting causal mechanism of node result: 100%|██████████| 3/3 [00:00<00:00, 20.23it/s]\n"
          ]
        }
      ]
    },
    {
      "cell_type": "markdown",
      "metadata": {
        "id": "ykWtkNxNPqo1"
      },
      "source": [
        "Наконец, посчитайте оценку ATE с помощью интервенции в построенной модели. Не забудьте, что в качестве значения интервенции нужно указать строку, а полученные семплы перевести обратно в числа перед усреднением."
      ]
    },
    {
      "cell_type": "code",
      "execution_count": 79,
      "metadata": {
        "id": "WoYGuW5VPqo1"
      },
      "outputs": [],
      "source": [
        "num_samples_to_draw = 1_000_000\n",
        "interventional_mean = []\n",
        "\n",
        "for i in range(2):\n",
        "    samples = gcm.interventional_samples(\n",
        "        causal_model,\n",
        "        {'treatment': lambda y: str(i) },  # условие интервенции\n",
        "        num_samples_to_draw=num_samples_to_draw  # количество семплирований\n",
        "    )\n",
        "    interventional_mean.append(samples['result'].astype(int).mean())\n",
        "\n",
        "ATE = interventional_mean[1] - interventional_mean[0]"
      ]
    },
    {
      "cell_type": "code",
      "source": [
        "ATE"
      ],
      "metadata": {
        "colab": {
          "base_uri": "https://localhost:8080/",
          "height": 37
        },
        "id": "FVExU7_FZrb_",
        "outputId": "a7c8cbde-a78a-4e50-b5e9-dbe651e5a5aa"
      },
      "execution_count": 80,
      "outputs": [
        {
          "output_type": "execute_result",
          "data": {
            "text/plain": [
              "-0.054220999999999964"
            ],
            "text/latex": "$\\displaystyle -0.054221$"
          },
          "metadata": {},
          "execution_count": 80
        }
      ]
    },
    {
      "cell_type": "markdown",
      "metadata": {
        "id": "NxsVoZEa0t0Z"
      },
      "source": [
        "**Второй случай.**\n",
        "\n",
        "Задайте модель по аналогии с первым случаем и обучите её."
      ]
    },
    {
      "cell_type": "code",
      "execution_count": 85,
      "metadata": {
        "id": "5UHFhS6kPqo1",
        "scrolled": true,
        "colab": {
          "base_uri": "https://localhost:8080/"
        },
        "outputId": "b8f9d533-49a0-4541-a8da-f61c2ada5e35"
      },
      "outputs": [
        {
          "output_type": "stream",
          "name": "stderr",
          "text": [
            "Fitting causal mechanism of node result: 100%|██████████| 3/3 [00:00<00:00, 19.15it/s]\n"
          ]
        }
      ],
      "source": [
        "causal_graph = causal_graphs[1]\n",
        "\n",
        "causal_model = gcm.StructuralCausalModel(causal_graph)\n",
        "causal_model.set_causal_mechanism(\n",
        "    'treatment', gcm.EmpiricalDistribution()\n",
        ")\n",
        "causal_model.set_causal_mechanism(\n",
        "    'blood_pressure', gcm.ClassifierFCM()\n",
        ")\n",
        "causal_model.set_causal_mechanism(\n",
        "    'result', gcm.ClassifierFCM()\n",
        ")\n",
        "gcm.fit(causal_model, data)"
      ]
    },
    {
      "cell_type": "code",
      "execution_count": 86,
      "metadata": {
        "id": "zlr0XQoLPqo1"
      },
      "outputs": [],
      "source": [
        "num_samples_to_draw = 1_000_000\n",
        "interventional_mean = []\n",
        "\n",
        "for i in range(2):\n",
        "    samples = gcm.interventional_samples(\n",
        "        causal_model,\n",
        "        {'treatment': lambda y: str(i) },  # условие интервенции\n",
        "        num_samples_to_draw=num_samples_to_draw  # количество семплирований\n",
        "    )\n",
        "    interventional_mean.append(samples['result'].astype(int).mean())\n",
        "\n",
        "ATE2 = interventional_mean[1] - interventional_mean[0]"
      ]
    },
    {
      "cell_type": "code",
      "source": [
        "ATE2"
      ],
      "metadata": {
        "colab": {
          "base_uri": "https://localhost:8080/",
          "height": 37
        },
        "id": "3sjULY1DaQds",
        "outputId": "0d73673d-a7ea-440d-8990-d318580538e9"
      },
      "execution_count": 87,
      "outputs": [
        {
          "output_type": "execute_result",
          "data": {
            "text/plain": [
              "0.04479300000000008"
            ],
            "text/latex": "$\\displaystyle 0.0447930000000001$"
          },
          "metadata": {},
          "execution_count": 87
        }
      ]
    },
    {
      "cell_type": "markdown",
      "metadata": {
        "id": "XE5unajqPqo1"
      },
      "source": [
        "**Вывод:**\n",
        "\n",
        "Получается, что если мы измеряем кровяное давление в конце эксперимента, то лекарство видно, что действует!"
      ]
    },
    {
      "cell_type": "markdown",
      "metadata": {
        "id": "ceLUPYrzPbAX"
      },
      "source": [
        "# Propensity score и работа с ним в библиотеке DoWhy"
      ]
    },
    {
      "cell_type": "markdown",
      "metadata": {
        "id": "9d4ccab2"
      },
      "source": [
        "## Задача 2. Пайплайн оценки\n",
        "\n",
        "\n",
        "Для оценки эффекта библиотека DoWhy предоставляет четырехступенчатый интерфейс причинно-следственного вывода:\n",
        "1. Определение модели для причинно-следственной задачи\n",
        "2. Определение оценщика в рамках модели\n",
        "3. Оценка причинно-следственной связи по выбранному оценщику\n",
        "4. Тестирование полученной оценки\n"
      ]
    },
    {
      "cell_type": "markdown",
      "metadata": {
        "id": "2afcbc78"
      },
      "source": [
        "### 2.1. Определение модели\n",
        "\n",
        "```\n",
        "CausalModel(\n",
        "    data,\n",
        "    treatment,\n",
        "    outcome,\n",
        "    graph=None,\n",
        "    common_causes=None,\n",
        "    instruments=None,\n",
        "    effect_modifiers=None,\n",
        "    estimand_type='nonparametric-ate',\n",
        "    proceed_when_unidentifiable=False,\n",
        "    missing_nodes_as_confounders=False,\n",
        "    identify_vars=False,\n",
        "    **kwargs,\n",
        ")\n",
        "```\n",
        "\n",
        "**Стандартный способ**\n",
        "\n",
        "Определение причинно-следственной модели на основе данных и заданного графа. Этот граф не обязательно должен быть полным — можно предоставить частичный граф с предварительными знаниями о некоторых признаках. Тогда DoWhy автоматически рассматривает остальные признаким как потенциальные конфаундеры.\n",
        "\n",
        "Используйте граф случая, где `blood_pressure` является конфаундером."
      ]
    },
    {
      "cell_type": "code",
      "execution_count": 93,
      "metadata": {
        "id": "5da9f13f",
        "colab": {
          "base_uri": "https://localhost:8080/",
          "height": 745
        },
        "outputId": "cfdc653e-b9ef-4396-88fb-0393af54ffa8"
      },
      "outputs": [
        {
          "output_type": "display_data",
          "data": {
            "text/plain": [
              "<Figure size 600x400 with 1 Axes>"
            ],
            "image/png": "[encoded data removed]"
          },
          "metadata": {}
        },
        {
          "output_type": "display_data",
          "data": {
            "image/png": "[encoded data removed]",
            "text/plain": [
              "<IPython.core.display.Image object>"
            ]
          },
          "metadata": {}
        }
      ],
      "source": [
        "model = CausalModel(\n",
        "    data=data.astype(int),\n",
        "    treatment=\"treatment\",\n",
        "    outcome=\"result\",\n",
        "    graph=causal_graphs[0]\n",
        ")\n",
        "\n",
        "model.view_model(file_name=\"causal_model\", size=(6, 4))\n",
        "display(Image(filename=\"causal_model.png\"))"
      ]
    },
    {
      "cell_type": "markdown",
      "metadata": {
        "id": "81b31675"
      },
      "source": [
        "**Другой способ**\n",
        "\n",
        "Указание ковариат и инструментов в случае наличия."
      ]
    },
    {
      "cell_type": "code",
      "execution_count": 104,
      "metadata": {
        "id": "4dfbe17b",
        "colab": {
          "base_uri": "https://localhost:8080/",
          "height": 780
        },
        "outputId": "f4d7d98f-27f1-440f-bcf1-25648194e4c4"
      },
      "outputs": [
        {
          "output_type": "stream",
          "name": "stderr",
          "text": [
            "WARNING:dowhy.causal_model:Causal Graph not provided. DoWhy will construct a graph based on data inputs.\n",
            "WARNING:dowhy.causal_model:There are an additional 1 variables in the dataset that are not in the graph. Variable names are: '['propensity_score']'\n"
          ]
        },
        {
          "output_type": "display_data",
          "data": {
            "text/plain": [
              "<Figure size 600x400 with 1 Axes>"
            ],
            "image/png": "[encoded data removed]"
          },
          "metadata": {}
        },
        {
          "output_type": "display_data",
          "data": {
            "image/png": "[encoded data removed]",
            "text/plain": [
              "<IPython.core.display.Image object>"
            ]
          },
          "metadata": {}
        }
      ],
      "source": [
        "model_2 = CausalModel(\n",
        "    data=data.astype(int),\n",
        "    treatment=\"treatment\",\n",
        "    outcome=\"result\",\n",
        "    common_causes=\"blood_pressure\"\n",
        ")\n",
        "\n",
        "model_2.view_model(file_name=\"causal_model\", size=(6, 4))\n",
        "display(Image(filename=\"causal_model.png\"))"
      ]
    },
    {
      "cell_type": "markdown",
      "metadata": {
        "id": "c1226c8c"
      },
      "source": [
        "### 2.2. Определение оценщика в рамках модели\n",
        "\n",
        "Основываясь на причинно-следственном графе, DoWhy находит все возможные способы идентификации желаемого причинно-следственного эффекта на основе графа. Используются критерии на графах и do-исчисление, для поиска всех возможных моделей, которые могут оценить причинно-следственную связь в данном случае."
      ]
    },
    {
      "cell_type": "code",
      "execution_count": 105,
      "metadata": {
        "id": "aea8b5e1",
        "colab": {
          "base_uri": "https://localhost:8080/"
        },
        "outputId": "df7a19f2-f968-4140-d1b2-4e2fb82b4e08"
      },
      "outputs": [
        {
          "output_type": "stream",
          "name": "stdout",
          "text": [
            "Estimand type: EstimandType.NONPARAMETRIC_ATE\n",
            "\n",
            "### Estimand : 1\n",
            "Estimand name: backdoor\n",
            "Estimand expression:\n",
            "     d                               \n",
            "────────────(E[result|bloodₚᵣₑₛₛᵤᵣₑ])\n",
            "d[treatment]                         \n",
            "Estimand assumption 1, Unconfoundedness: If U→{treatment} and U→result then P(result|treatment,blood_pressure,U) = P(result|treatment,blood_pressure)\n",
            "\n",
            "### Estimand : 2\n",
            "Estimand name: iv\n",
            "No such variable(s) found!\n",
            "\n",
            "### Estimand : 3\n",
            "Estimand name: frontdoor\n",
            "No such variable(s) found!\n",
            "\n"
          ]
        }
      ],
      "source": [
        "identified_estimand = model_2.identify_effect()\n",
        "print(identified_estimand)"
      ]
    },
    {
      "cell_type": "markdown",
      "metadata": {
        "id": "3f39c506"
      },
      "source": [
        "### 2.3. Оценка причинно-следственной связи\n",
        "\n",
        "```\n",
        "model.estimate_effect(\n",
        "    identified_estimand,\n",
        "    method_name=None,\n",
        "    control_value=0,\n",
        "    treatment_value=1,\n",
        "    test_significance=None,\n",
        "    evaluate_effect_strength=False,\n",
        "    confidence_intervals=False,\n",
        "    target_units='ate',\n",
        "    effect_modifiers=None,\n",
        "    fit_estimator=True,\n",
        "    method_params=None,\n",
        ")\n",
        "\n",
        "```\n",
        "\n",
        "\n",
        "Поддерживаются следущие методы\n",
        "* Propensity Score Matching: \"`backdoor.propensity_score_matching`\"\n",
        "* Propensity Score Stratification: \"`backdoor.propensity_score_stratification`\" &mdash; использование оценок propensity score для определения бинов, по котором выполняется стратификация\n",
        "* Propensity Score-based Inverse Weighting: \"`backdoor.propensity_score_weighting`\"\n",
        "* Linear Regression: \"`backdoor.linear_regression`\"\n",
        "* Generalized Linear Models (e.g., logistic regression): \"`backdoor.generalized_linear_model`\"\n",
        "* Instrumental Variables: \"`iv.instrumental_variable`\"\n",
        "* Regression Discontinuity: \"`iv.regression_discontinuity`\""
      ]
    },
    {
      "cell_type": "code",
      "execution_count": 107,
      "metadata": {
        "id": "ba75b8fb",
        "colab": {
          "base_uri": "https://localhost:8080/"
        },
        "outputId": "e107c94a-f3c8-4643-a94e-7147762f655d"
      },
      "outputs": [
        {
          "output_type": "stream",
          "name": "stdout",
          "text": [
            "*** Causal Estimate ***\n",
            "\n",
            "## Identified estimand\n",
            "Estimand type: EstimandType.NONPARAMETRIC_ATE\n",
            "\n",
            "### Estimand : 1\n",
            "Estimand name: backdoor\n",
            "Estimand expression:\n",
            "     d                               \n",
            "────────────(E[result|bloodₚᵣₑₛₛᵤᵣₑ])\n",
            "d[treatment]                         \n",
            "Estimand assumption 1, Unconfoundedness: If U→{treatment} and U→result then P(result|treatment,blood_pressure,U) = P(result|treatment,blood_pressure)\n",
            "\n",
            "## Realized estimand\n",
            "b: result~treatment+blood_pressure\n",
            "Target units: ate\n",
            "\n",
            "## Estimate\n",
            "Mean value: 0.04571428571428571\n",
            "\n"
          ]
        }
      ],
      "source": [
        "estimate = model_2.estimate_effect(\n",
        "    identified_estimand,\n",
        "    method_name=\"backdoor.propensity_score_weighting\",\n",
        ")\n",
        "\n",
        "print(estimate)"
      ]
    },
    {
      "cell_type": "markdown",
      "metadata": {
        "id": "af8044c4"
      },
      "source": [
        "Можно извлечь саму оценку причинно-следственного эффекта"
      ]
    },
    {
      "cell_type": "code",
      "execution_count": 108,
      "metadata": {
        "id": "fe7fcf72",
        "outputId": "d97739a8-c27a-4b0f-b645-10672bfaa60d",
        "colab": {
          "base_uri": "https://localhost:8080/",
          "height": 37
        }
      },
      "outputs": [
        {
          "output_type": "execute_result",
          "data": {
            "text/plain": [
              "0.04571428571428571"
            ],
            "text/latex": "$\\displaystyle 0.0457142857142857$"
          },
          "metadata": {},
          "execution_count": 108
        }
      ],
      "source": [
        "estimate.value"
      ]
    },
    {
      "cell_type": "markdown",
      "metadata": {
        "id": "2e65ab6c"
      },
      "source": [
        "Также можно отдельно построить для нее доверительный интервал\n",
        "\n",
        "```\n",
        "estimate.get_confidence_intervals(\n",
        "    confidence_level=None,\n",
        "    method=None,\n",
        "    **kwargs,\n",
        ")\n",
        "```\n",
        "\n",
        "По умолчанию используется формула построения доверительного интервала для конкретного метода. Можно также использовать бутстреп, указав `method='bootstrap'`. Для некоторых методов интервал можно построить только бустрепом, например, для Propensity Score Stratification."
      ]
    },
    {
      "cell_type": "code",
      "execution_count": 109,
      "metadata": {
        "id": "deabf50c",
        "colab": {
          "base_uri": "https://localhost:8080/",
          "height": 72
        },
        "outputId": "4fdb7340-4c78-4c83-e090-0852d2b23d2a"
      },
      "outputs": [
        {
          "output_type": "stream",
          "name": "stdout",
          "text": [
            "CPU times: user 7.8 s, sys: 64.5 ms, total: 7.87 s\n",
            "Wall time: 7.98 s\n"
          ]
        },
        {
          "output_type": "execute_result",
          "data": {
            "text/plain": [
              "(-0.005262854387949378, 0.09747432306255821)"
            ],
            "text/latex": "$\\displaystyle \\left( -0.00526285438794938, \\  0.0974743230625582\\right)$"
          },
          "metadata": {},
          "execution_count": 109
        }
      ],
      "source": [
        "%%time\n",
        "estimate.get_confidence_intervals()"
      ]
    },
    {
      "cell_type": "markdown",
      "metadata": {
        "id": "49c5117c"
      },
      "source": [
        "И проверить стат. значимость отличия от нуля, получив p-value. Здесь также можно использовать бутстреп"
      ]
    },
    {
      "cell_type": "code",
      "execution_count": 110,
      "metadata": {
        "id": "d15cd431",
        "colab": {
          "base_uri": "https://localhost:8080/"
        },
        "outputId": "92a6dfa7-f9d3-47ef-a7b0-6f32392507b7"
      },
      "outputs": [
        {
          "output_type": "stream",
          "name": "stdout",
          "text": [
            "CPU times: user 18.9 s, sys: 92.1 ms, total: 19 s\n",
            "Wall time: 19.1 s\n"
          ]
        },
        {
          "output_type": "execute_result",
          "data": {
            "text/plain": [
              "{'p_value': 0.08599999999999997}"
            ]
          },
          "metadata": {},
          "execution_count": 110
        }
      ],
      "source": [
        "%%time\n",
        "estimate.test_stat_significance()"
      ]
    },
    {
      "cell_type": "markdown",
      "metadata": {
        "id": "dd60b8b4"
      },
      "source": [
        "Также можно извлечь оценку стандартного отклонения"
      ]
    },
    {
      "cell_type": "code",
      "execution_count": 111,
      "metadata": {
        "id": "691a0ceb",
        "outputId": "24c5df91-b365-4f58-9178-b55c8dcc5654",
        "colab": {
          "base_uri": "https://localhost:8080/",
          "height": 37
        }
      },
      "outputs": [
        {
          "output_type": "execute_result",
          "data": {
            "text/plain": [
              "0.029823452148793398"
            ],
            "text/latex": "$\\displaystyle 0.0298234521487934$"
          },
          "metadata": {},
          "execution_count": 111
        }
      ],
      "source": [
        "estimate.get_standard_error()"
      ]
    },
    {
      "cell_type": "markdown",
      "metadata": {
        "id": "c4854182"
      },
      "source": [
        "Оценка произведена с помощью следующей формулы"
      ]
    },
    {
      "cell_type": "code",
      "execution_count": 112,
      "metadata": {
        "id": "2ae9ad99",
        "colab": {
          "base_uri": "https://localhost:8080/",
          "height": 35
        },
        "outputId": "58223083-69cb-49f8-f2e6-c3064ea8e5cd"
      },
      "outputs": [
        {
          "output_type": "execute_result",
          "data": {
            "text/plain": [
              "'b: result~treatment+blood_pressure'"
            ],
            "application/vnd.google.colaboratory.intrinsic+json": {
              "type": "string"
            }
          },
          "metadata": {},
          "execution_count": 112
        }
      ],
      "source": [
        "estimate.realized_estimand_expr"
      ]
    },
    {
      "cell_type": "markdown",
      "metadata": {
        "id": "29c40628"
      },
      "source": [
        "Также можно посмотреть на то, какие признаки использованы"
      ]
    },
    {
      "cell_type": "code",
      "execution_count": 113,
      "metadata": {
        "id": "fd470f25",
        "colab": {
          "base_uri": "https://localhost:8080/"
        },
        "outputId": "fd19cdfb-58a9-413c-84ad-ed523d5c064a"
      },
      "outputs": [
        {
          "output_type": "execute_result",
          "data": {
            "text/plain": [
              "['treatment']"
            ]
          },
          "metadata": {},
          "execution_count": 113
        }
      ],
      "source": [
        "estimate.target_estimand.treatment_variable"
      ]
    },
    {
      "cell_type": "markdown",
      "metadata": {
        "id": "4a6ec527"
      },
      "source": [
        "### 2.4. Тестирование полученной оценки\n",
        "\n",
        "```\n",
        "model.refute_estimate(\n",
        "    estimand,\n",
        "    estimate,\n",
        "    method_name=None,\n",
        "    show_progress_bar=False,\n",
        "    **kwargs,\n",
        ")\n",
        "```\n",
        "\n",
        "Одно из основных преимущество DoWhy &mdash; несколько методов проверки устойчивости моделей.\n",
        "\n",
        "Поддерживаемые методы опровержения\n",
        "* **Добавить рандомный конфаундер:** Изменяет ли метод свою оценку добавления конфаундера-рандом в набор данных?\n",
        "    * *так не должно быть*\n",
        "\n",
        "* **Тритмент:** Что происходит с предполагаемым причинно-следственным эффектом, если мы тритмент заменим на рандом?\n",
        "    * *эффект должен быть равен нулю*\n",
        "\n",
        "* **Фиктивный результат:** Что происходит с предполагаемым причинно-следственным эффектом, при замене таргета на рандом?\n",
        "    * *эффект должен быть равен нулю*\n",
        "\n",
        "* **Моделирование:** Что происходит с предполагаемым причинно-следственным эффектом, при замене реального набора данных на искусственный, наиболее похожий по отношению к данному набору данных?\n",
        "    * *он должен соответствовать параметру effect из процесса генерации данных*\n",
        "\n",
        "* **Добавить ненаблюдаемый конфаундер:** Насколько чувствительна оценка эффекта при дополнительного конфаундера?\n",
        "    * *она не должен быть слишком чувствительным*\n",
        "\n",
        "* **Проверка подмножеств данных:** Существенно ли изменяется оцененный эффект при замене данных на случайно выбранное подмножество?\n",
        "    * *так не должно быть*\n",
        "\n",
        "* **Проверка бутстрепом:** Существенно ли меняется предполагаемый эффект при замене данных на бутстрепные рализации?\n",
        "    * *так не должно быть*\n"
      ]
    },
    {
      "cell_type": "code",
      "execution_count": 115,
      "metadata": {
        "id": "f16b4993",
        "scrolled": true,
        "colab": {
          "base_uri": "https://localhost:8080/",
          "height": 136,
          "referenced_widgets": [
            "7a881ca508444117b0a875c5332d8598",
            "c0574546847742ff84022948894bc462",
            "a6602b55851147de989700fe528eda52",
            "8af0d145394341dd862d9ea8fd2d5999",
            "7424d76dd0b040d695586d3f1b208195",
            "75b3f04640e240ba89417e6417ee9b8d",
            "3fc37a9b127e4d4da7d9757abff86be7",
            "c61e73f9c5dc4e00ab11b55cfe4cd149",
            "22d10c9aeae14ce88bb2c570f1480def",
            "08b6f1b83e0b444887500726f1a295d5",
            "a9a7e6d103f3498784b71e6883702588"
          ]
        },
        "outputId": "4739b3e0-dd18-4036-c247-9b93f07fa667"
      },
      "outputs": [
        {
          "output_type": "display_data",
          "data": {
            "text/plain": [
              "Refuting Estimates:   0%|          | 0/100 [00:00<?, ?it/s]"
            ],
            "application/vnd.jupyter.widget-view+json": {
              "version_major": 2,
              "version_minor": 0,
              "model_id": "7a881ca508444117b0a875c5332d8598"
            }
          },
          "metadata": {}
        },
        {
          "output_type": "stream",
          "name": "stdout",
          "text": [
            "Refute: Add a random common cause\n",
            "Estimated effect:0.04571428571428571\n",
            "New effect:0.04571428571428569\n",
            "p value:1.0\n",
            "\n"
          ]
        }
      ],
      "source": [
        "refute_results = model_2.refute_estimate(\n",
        "    identified_estimand, estimate,\n",
        "    method_name=\"random_common_cause\",\n",
        "    show_progress_bar=True\n",
        ")\n",
        "\n",
        "print(refute_results)"
      ]
    },
    {
      "cell_type": "code",
      "execution_count": 116,
      "metadata": {
        "id": "8e51a747",
        "colab": {
          "base_uri": "https://localhost:8080/"
        },
        "outputId": "92abf2b5-c8af-4646-a59d-919319ddbc6a"
      },
      "outputs": [
        {
          "output_type": "stream",
          "name": "stdout",
          "text": [
            "Refute: Add an Unobserved Common Cause\n",
            "Estimated effect:0.04571428571428571\n",
            "New effect:0.018293589815767564\n",
            "\n"
          ]
        },
        {
          "output_type": "stream",
          "name": "stderr",
          "text": [
            "/usr/local/lib/python3.10/dist-packages/sklearn/utils/validation.py:1143: DataConversionWarning: A column-vector y was passed when a 1d array was expected. Please change the shape of y to (n_samples, ), for example using ravel().\n",
            "  y = column_or_1d(y, warn=True)\n"
          ]
        }
      ],
      "source": [
        "refute_results = model_2.refute_estimate(\n",
        "    identified_estimand, estimate,\n",
        "    method_name=\"add_unobserved_common_cause\",\n",
        "    show_progress_bar=True\n",
        ")\n",
        "\n",
        "print(refute_results)"
      ]
    },
    {
      "cell_type": "code",
      "execution_count": 117,
      "metadata": {
        "id": "1b6900b0",
        "colab": {
          "base_uri": "https://localhost:8080/",
          "height": 136,
          "referenced_widgets": [
            "bddcc3849525462c8fe198fe8dfe8d44",
            "ea39cddbbf0b4d95bb12a5cc98150669",
            "b9bf696842dd4ad0b295b62ff5ac4b30",
            "84137e568c4548219e42845bcbb289d0",
            "b8eb55da7c7b44b38a2c3cc0104758c6",
            "b6328a6989a24368867f18dd4c2aca2f",
            "f020b00e458941819eca299823ec34de",
            "cda89c0d54184e9e872d6fe4697980c9",
            "a39d92f7edf8498b995f850dcc3998eb",
            "c92be0daae5a4f9e8b7f86ecc1b64d74",
            "714e9a3828514508ab157b09b9b2d041"
          ]
        },
        "outputId": "74e73a49-e217-4e61-c267-d8fa8c09e3e7"
      },
      "outputs": [
        {
          "output_type": "display_data",
          "data": {
            "text/plain": [
              "Refuting Estimates:   0%|          | 0/100 [00:00<?, ?it/s]"
            ],
            "application/vnd.jupyter.widget-view+json": {
              "version_major": 2,
              "version_minor": 0,
              "model_id": "bddcc3849525462c8fe198fe8dfe8d44"
            }
          },
          "metadata": {}
        },
        {
          "output_type": "stream",
          "name": "stdout",
          "text": [
            "Refute: Use a Placebo Treatment\n",
            "Estimated effect:0.04571428571428571\n",
            "New effect:0.003991955059666369\n",
            "p value:0.9199999999999999\n",
            "\n"
          ]
        }
      ],
      "source": [
        "refute_results = model_2.refute_estimate(\n",
        "    identified_estimand, estimate,\n",
        "    method_name=\"placebo_treatment_refuter\",\n",
        "    show_progress_bar=True\n",
        ")\n",
        "\n",
        "print(refute_results)"
      ]
    },
    {
      "cell_type": "code",
      "execution_count": 118,
      "metadata": {
        "id": "3ce3b34b",
        "colab": {
          "base_uri": "https://localhost:8080/",
          "height": 136,
          "referenced_widgets": [
            "c2d747f18231474dbf72f4375683b7a8",
            "21ac2ad72560401a8a4b478a2ec41d9c",
            "69193f44f5e74a89a32cc4f1ad24ee4e",
            "4d6eb679916d4d12abbb5762d4fb3b96",
            "9a4b5253c6cc41e2be16d46bf804b405",
            "278f4d065af04770beb0642c19835f3a",
            "113505ed967d4ff2977215e156d60497",
            "b959c77e93f3401daefa84286972b517",
            "c3cb3616dbcf4df199d549ee9e060f3b",
            "4bd6bb5c0af74a89bea0005baf7a8c16",
            "f12027e6ce0d4e1b90fc006b23d23f4d"
          ]
        },
        "outputId": "d229acb4-bd58-48a2-ddc4-a94494593cac"
      },
      "outputs": [
        {
          "output_type": "display_data",
          "data": {
            "text/plain": [
              "Refuting Estimates:   0%|          | 0/100 [00:00<?, ?it/s]"
            ],
            "application/vnd.jupyter.widget-view+json": {
              "version_major": 2,
              "version_minor": 0,
              "model_id": "c2d747f18231474dbf72f4375683b7a8"
            }
          },
          "metadata": {}
        },
        {
          "output_type": "stream",
          "name": "stdout",
          "text": [
            "Refute: Use a subset of data\n",
            "Estimated effect:0.04571428571428571\n",
            "New effect:0.048693735751391076\n",
            "p value:0.8400000000000001\n",
            "\n"
          ]
        }
      ],
      "source": [
        "refute_results = model_2.refute_estimate(\n",
        "    identified_estimand, estimate,\n",
        "    method_name=\"data_subset_refuter\",\n",
        "    show_progress_bar=True\n",
        ")\n",
        "\n",
        "print(refute_results)"
      ]
    },
    {
      "cell_type": "markdown",
      "metadata": {
        "id": "jOmIAg3zMBqc"
      },
      "source": [
        "**Вывод:**\n",
        "\n",
        "DyWhy имеет множество методов проверки устойчивости, каждый из которых выдаёт своё значение эффекта и различными pvalue"
      ]
    },
    {
      "cell_type": "code",
      "execution_count": null,
      "metadata": {
        "id": "IkPeV9w0MDlf"
      },
      "outputs": [],
      "source": []
    }
  ],
  "metadata": {
    "colab": {
      "provenance": []
    },
    "kernelspec": {
      "display_name": "Python 3 (ipykernel)",
      "language": "python",
      "name": "python3"
    },
    "language_info": {
      "codemirror_mode": {
        "name": "ipython",
        "version": 3
      },
      "file_extension": ".py",
      "mimetype": "text/x-python",
      "name": "python",
      "nbconvert_exporter": "python",
      "pygments_lexer": "ipython3",
      "version": "3.9.13"
    },
    "widgets": {
      "application/vnd.jupyter.widget-state+json": {
        "7a881ca508444117b0a875c5332d8598": {
          "model_module": "@jupyter-widgets/controls",
          "model_name": "HBoxModel",
          "model_module_version": "1.5.0",
          "state": {
            "_dom_classes": [],
            "_model_module": "@jupyter-widgets/controls",
            "_model_module_version": "1.5.0",
            "_model_name": "HBoxModel",
            "_view_count": null,
            "_view_module": "@jupyter-widgets/controls",
            "_view_module_version": "1.5.0",
            "_view_name": "HBoxView",
            "box_style": "",
            "children": [
              "IPY_MODEL_c0574546847742ff84022948894bc462",
              "IPY_MODEL_a6602b55851147de989700fe528eda52",
              "IPY_MODEL_8af0d145394341dd862d9ea8fd2d5999"
            ],
            "layout": "IPY_MODEL_7424d76dd0b040d695586d3f1b208195"
          }
        },
        "c0574546847742ff84022948894bc462": {
          "model_module": "@jupyter-widgets/controls",
          "model_name": "HTMLModel",
          "model_module_version": "1.5.0",
          "state": {
            "_dom_classes": [],
            "_model_module": "@jupyter-widgets/controls",
            "_model_module_version": "1.5.0",
            "_model_name": "HTMLModel",
            "_view_count": null,
            "_view_module": "@jupyter-widgets/controls",
            "_view_module_version": "1.5.0",
            "_view_name": "HTMLView",
            "description": "",
            "description_tooltip": null,
            "layout": "IPY_MODEL_75b3f04640e240ba89417e6417ee9b8d",
            "placeholder": "​",
            "style": "IPY_MODEL_3fc37a9b127e4d4da7d9757abff86be7",
            "value": "Refuting Estimates: 100%"
          }
        },
        "a6602b55851147de989700fe528eda52": {
          "model_module": "@jupyter-widgets/controls",
          "model_name": "FloatProgressModel",
          "model_module_version": "1.5.0",
          "state": {
            "_dom_classes": [],
            "_model_module": "@jupyter-widgets/controls",
            "_model_module_version": "1.5.0",
            "_model_name": "FloatProgressModel",
            "_view_count": null,
            "_view_module": "@jupyter-widgets/controls",
            "_view_module_version": "1.5.0",
            "_view_name": "ProgressView",
            "bar_style": "success",
            "description": "",
            "description_tooltip": null,
            "layout": "IPY_MODEL_c61e73f9c5dc4e00ab11b55cfe4cd149",
            "max": 100,
            "min": 0,
            "orientation": "horizontal",
            "style": "IPY_MODEL_22d10c9aeae14ce88bb2c570f1480def",
            "value": 100
          }
        },
        "8af0d145394341dd862d9ea8fd2d5999": {
          "model_module": "@jupyter-widgets/controls",
          "model_name": "HTMLModel",
          "model_module_version": "1.5.0",
          "state": {
            "_dom_classes": [],
            "_model_module": "@jupyter-widgets/controls",
            "_model_module_version": "1.5.0",
            "_model_name": "HTMLModel",
            "_view_count": null,
            "_view_module": "@jupyter-widgets/controls",
            "_view_module_version": "1.5.0",
            "_view_name": "HTMLView",
            "description": "",
            "description_tooltip": null,
            "layout": "IPY_MODEL_08b6f1b83e0b444887500726f1a295d5",
            "placeholder": "​",
            "style": "IPY_MODEL_a9a7e6d103f3498784b71e6883702588",
            "value": " 100/100 [00:06&lt;00:00, 25.48it/s]"
          }
        },
        "7424d76dd0b040d695586d3f1b208195": {
          "model_module": "@jupyter-widgets/base",
          "model_name": "LayoutModel",
          "model_module_version": "1.2.0",
          "state": {
            "_model_module": "@jupyter-widgets/base",
            "_model_module_version": "1.2.0",
            "_model_name": "LayoutModel",
            "_view_count": null,
            "_view_module": "@jupyter-widgets/base",
            "_view_module_version": "1.2.0",
            "_view_name": "LayoutView",
            "align_content": null,
            "align_items": null,
            "align_self": null,
            "border": null,
            "bottom": null,
            "display": null,
            "flex": null,
            "flex_flow": null,
            "grid_area": null,
            "grid_auto_columns": null,
            "grid_auto_flow": null,
            "grid_auto_rows": null,
            "grid_column": null,
            "grid_gap": null,
            "grid_row": null,
            "grid_template_areas": null,
            "grid_template_columns": null,
            "grid_template_rows": null,
            "height": null,
            "justify_content": null,
            "justify_items": null,
            "left": null,
            "margin": null,
            "max_height": null,
            "max_width": null,
            "min_height": null,
            "min_width": null,
            "object_fit": null,
            "object_position": null,
            "order": null,
            "overflow": null,
            "overflow_x": null,
            "overflow_y": null,
            "padding": null,
            "right": null,
            "top": null,
            "visibility": null,
            "width": null
          }
        },
        "75b3f04640e240ba89417e6417ee9b8d": {
          "model_module": "@jupyter-widgets/base",
          "model_name": "LayoutModel",
          "model_module_version": "1.2.0",
          "state": {
            "_model_module": "@jupyter-widgets/base",
            "_model_module_version": "1.2.0",
            "_model_name": "LayoutModel",
            "_view_count": null,
            "_view_module": "@jupyter-widgets/base",
            "_view_module_version": "1.2.0",
            "_view_name": "LayoutView",
            "align_content": null,
            "align_items": null,
            "align_self": null,
            "border": null,
            "bottom": null,
            "display": null,
            "flex": null,
            "flex_flow": null,
            "grid_area": null,
            "grid_auto_columns": null,
            "grid_auto_flow": null,
            "grid_auto_rows": null,
            "grid_column": null,
            "grid_gap": null,
            "grid_row": null,
            "grid_template_areas": null,
            "grid_template_columns": null,
            "grid_template_rows": null,
            "height": null,
            "justify_content": null,
            "justify_items": null,
            "left": null,
            "margin": null,
            "max_height": null,
            "max_width": null,
            "min_height": null,
            "min_width": null,
            "object_fit": null,
            "object_position": null,
            "order": null,
            "overflow": null,
            "overflow_x": null,
            "overflow_y": null,
            "padding": null,
            "right": null,
            "top": null,
            "visibility": null,
            "width": null
          }
        },
        "3fc37a9b127e4d4da7d9757abff86be7": {
          "model_module": "@jupyter-widgets/controls",
          "model_name": "DescriptionStyleModel",
          "model_module_version": "1.5.0",
          "state": {
            "_model_module": "@jupyter-widgets/controls",
            "_model_module_version": "1.5.0",
            "_model_name": "DescriptionStyleModel",
            "_view_count": null,
            "_view_module": "@jupyter-widgets/base",
            "_view_module_version": "1.2.0",
            "_view_name": "StyleView",
            "description_width": ""
          }
        },
        "c61e73f9c5dc4e00ab11b55cfe4cd149": {
          "model_module": "@jupyter-widgets/base",
          "model_name": "LayoutModel",
          "model_module_version": "1.2.0",
          "state": {
            "_model_module": "@jupyter-widgets/base",
            "_model_module_version": "1.2.0",
            "_model_name": "LayoutModel",
            "_view_count": null,
            "_view_module": "@jupyter-widgets/base",
            "_view_module_version": "1.2.0",
            "_view_name": "LayoutView",
            "align_content": null,
            "align_items": null,
            "align_self": null,
            "border": null,
            "bottom": null,
            "display": null,
            "flex": null,
            "flex_flow": null,
            "grid_area": null,
            "grid_auto_columns": null,
            "grid_auto_flow": null,
            "grid_auto_rows": null,
            "grid_column": null,
            "grid_gap": null,
            "grid_row": null,
            "grid_template_areas": null,
            "grid_template_columns": null,
            "grid_template_rows": null,
            "height": null,
            "justify_content": null,
            "justify_items": null,
            "left": null,
            "margin": null,
            "max_height": null,
            "max_width": null,
            "min_height": null,
            "min_width": null,
            "object_fit": null,
            "object_position": null,
            "order": null,
            "overflow": null,
            "overflow_x": null,
            "overflow_y": null,
            "padding": null,
            "right": null,
            "top": null,
            "visibility": null,
            "width": null
          }
        },
        "22d10c9aeae14ce88bb2c570f1480def": {
          "model_module": "@jupyter-widgets/controls",
          "model_name": "ProgressStyleModel",
          "model_module_version": "1.5.0",
          "state": {
            "_model_module": "@jupyter-widgets/controls",
            "_model_module_version": "1.5.0",
            "_model_name": "ProgressStyleModel",
            "_view_count": null,
            "_view_module": "@jupyter-widgets/base",
            "_view_module_version": "1.2.0",
            "_view_name": "StyleView",
            "bar_color": "green",
            "description_width": ""
          }
        },
        "08b6f1b83e0b444887500726f1a295d5": {
          "model_module": "@jupyter-widgets/base",
          "model_name": "LayoutModel",
          "model_module_version": "1.2.0",
          "state": {
            "_model_module": "@jupyter-widgets/base",
            "_model_module_version": "1.2.0",
            "_model_name": "LayoutModel",
            "_view_count": null,
            "_view_module": "@jupyter-widgets/base",
            "_view_module_version": "1.2.0",
            "_view_name": "LayoutView",
            "align_content": null,
            "align_items": null,
            "align_self": null,
            "border": null,
            "bottom": null,
            "display": null,
            "flex": null,
            "flex_flow": null,
            "grid_area": null,
            "grid_auto_columns": null,
            "grid_auto_flow": null,
            "grid_auto_rows": null,
            "grid_column": null,
            "grid_gap": null,
            "grid_row": null,
            "grid_template_areas": null,
            "grid_template_columns": null,
            "grid_template_rows": null,
            "height": null,
            "justify_content": null,
            "justify_items": null,
            "left": null,
            "margin": null,
            "max_height": null,
            "max_width": null,
            "min_height": null,
            "min_width": null,
            "object_fit": null,
            "object_position": null,
            "order": null,
            "overflow": null,
            "overflow_x": null,
            "overflow_y": null,
            "padding": null,
            "right": null,
            "top": null,
            "visibility": null,
            "width": null
          }
        },
        "a9a7e6d103f3498784b71e6883702588": {
          "model_module": "@jupyter-widgets/controls",
          "model_name": "DescriptionStyleModel",
          "model_module_version": "1.5.0",
          "state": {
            "_model_module": "@jupyter-widgets/controls",
            "_model_module_version": "1.5.0",
            "_model_name": "DescriptionStyleModel",
            "_view_count": null,
            "_view_module": "@jupyter-widgets/base",
            "_view_module_version": "1.2.0",
            "_view_name": "StyleView",
            "description_width": ""
          }
        },
        "bddcc3849525462c8fe198fe8dfe8d44": {
          "model_module": "@jupyter-widgets/controls",
          "model_name": "HBoxModel",
          "model_module_version": "1.5.0",
          "state": {
            "_dom_classes": [],
            "_model_module": "@jupyter-widgets/controls",
            "_model_module_version": "1.5.0",
            "_model_name": "HBoxModel",
            "_view_count": null,
            "_view_module": "@jupyter-widgets/controls",
            "_view_module_version": "1.5.0",
            "_view_name": "HBoxView",
            "box_style": "",
            "children": [
              "IPY_MODEL_ea39cddbbf0b4d95bb12a5cc98150669",
              "IPY_MODEL_b9bf696842dd4ad0b295b62ff5ac4b30",
              "IPY_MODEL_84137e568c4548219e42845bcbb289d0"
            ],
            "layout": "IPY_MODEL_b8eb55da7c7b44b38a2c3cc0104758c6"
          }
        },
        "ea39cddbbf0b4d95bb12a5cc98150669": {
          "model_module": "@jupyter-widgets/controls",
          "model_name": "HTMLModel",
          "model_module_version": "1.5.0",
          "state": {
            "_dom_classes": [],
            "_model_module": "@jupyter-widgets/controls",
            "_model_module_version": "1.5.0",
            "_model_name": "HTMLModel",
            "_view_count": null,
            "_view_module": "@jupyter-widgets/controls",
            "_view_module_version": "1.5.0",
            "_view_name": "HTMLView",
            "description": "",
            "description_tooltip": null,
            "layout": "IPY_MODEL_b6328a6989a24368867f18dd4c2aca2f",
            "placeholder": "​",
            "style": "IPY_MODEL_f020b00e458941819eca299823ec34de",
            "value": "Refuting Estimates: 100%"
          }
        },
        "b9bf696842dd4ad0b295b62ff5ac4b30": {
          "model_module": "@jupyter-widgets/controls",
          "model_name": "FloatProgressModel",
          "model_module_version": "1.5.0",
          "state": {
            "_dom_classes": [],
            "_model_module": "@jupyter-widgets/controls",
            "_model_module_version": "1.5.0",
            "_model_name": "FloatProgressModel",
            "_view_count": null,
            "_view_module": "@jupyter-widgets/controls",
            "_view_module_version": "1.5.0",
            "_view_name": "ProgressView",
            "bar_style": "success",
            "description": "",
            "description_tooltip": null,
            "layout": "IPY_MODEL_cda89c0d54184e9e872d6fe4697980c9",
            "max": 100,
            "min": 0,
            "orientation": "horizontal",
            "style": "IPY_MODEL_a39d92f7edf8498b995f850dcc3998eb",
            "value": 100
          }
        },
        "84137e568c4548219e42845bcbb289d0": {
          "model_module": "@jupyter-widgets/controls",
          "model_name": "HTMLModel",
          "model_module_version": "1.5.0",
          "state": {
            "_dom_classes": [],
            "_model_module": "@jupyter-widgets/controls",
            "_model_module_version": "1.5.0",
            "_model_name": "HTMLModel",
            "_view_count": null,
            "_view_module": "@jupyter-widgets/controls",
            "_view_module_version": "1.5.0",
            "_view_name": "HTMLView",
            "description": "",
            "description_tooltip": null,
            "layout": "IPY_MODEL_c92be0daae5a4f9e8b7f86ecc1b64d74",
            "placeholder": "​",
            "style": "IPY_MODEL_714e9a3828514508ab157b09b9b2d041",
            "value": " 100/100 [00:02&lt;00:00, 50.64it/s]"
          }
        },
        "b8eb55da7c7b44b38a2c3cc0104758c6": {
          "model_module": "@jupyter-widgets/base",
          "model_name": "LayoutModel",
          "model_module_version": "1.2.0",
          "state": {
            "_model_module": "@jupyter-widgets/base",
            "_model_module_version": "1.2.0",
            "_model_name": "LayoutModel",
            "_view_count": null,
            "_view_module": "@jupyter-widgets/base",
            "_view_module_version": "1.2.0",
            "_view_name": "LayoutView",
            "align_content": null,
            "align_items": null,
            "align_self": null,
            "border": null,
            "bottom": null,
            "display": null,
            "flex": null,
            "flex_flow": null,
            "grid_area": null,
            "grid_auto_columns": null,
            "grid_auto_flow": null,
            "grid_auto_rows": null,
            "grid_column": null,
            "grid_gap": null,
            "grid_row": null,
            "grid_template_areas": null,
            "grid_template_columns": null,
            "grid_template_rows": null,
            "height": null,
            "justify_content": null,
            "justify_items": null,
            "left": null,
            "margin": null,
            "max_height": null,
            "max_width": null,
            "min_height": null,
            "min_width": null,
            "object_fit": null,
            "object_position": null,
            "order": null,
            "overflow": null,
            "overflow_x": null,
            "overflow_y": null,
            "padding": null,
            "right": null,
            "top": null,
            "visibility": null,
            "width": null
          }
        },
        "b6328a6989a24368867f18dd4c2aca2f": {
          "model_module": "@jupyter-widgets/base",
          "model_name": "LayoutModel",
          "model_module_version": "1.2.0",
          "state": {
            "_model_module": "@jupyter-widgets/base",
            "_model_module_version": "1.2.0",
            "_model_name": "LayoutModel",
            "_view_count": null,
            "_view_module": "@jupyter-widgets/base",
            "_view_module_version": "1.2.0",
            "_view_name": "LayoutView",
            "align_content": null,
            "align_items": null,
            "align_self": null,
            "border": null,
            "bottom": null,
            "display": null,
            "flex": null,
            "flex_flow": null,
            "grid_area": null,
            "grid_auto_columns": null,
            "grid_auto_flow": null,
            "grid_auto_rows": null,
            "grid_column": null,
            "grid_gap": null,
            "grid_row": null,
            "grid_template_areas": null,
            "grid_template_columns": null,
            "grid_template_rows": null,
            "height": null,
            "justify_content": null,
            "justify_items": null,
            "left": null,
            "margin": null,
            "max_height": null,
            "max_width": null,
            "min_height": null,
            "min_width": null,
            "object_fit": null,
            "object_position": null,
            "order": null,
            "overflow": null,
            "overflow_x": null,
            "overflow_y": null,
            "padding": null,
            "right": null,
            "top": null,
            "visibility": null,
            "width": null
          }
        },
        "f020b00e458941819eca299823ec34de": {
          "model_module": "@jupyter-widgets/controls",
          "model_name": "DescriptionStyleModel",
          "model_module_version": "1.5.0",
          "state": {
            "_model_module": "@jupyter-widgets/controls",
            "_model_module_version": "1.5.0",
            "_model_name": "DescriptionStyleModel",
            "_view_count": null,
            "_view_module": "@jupyter-widgets/base",
            "_view_module_version": "1.2.0",
            "_view_name": "StyleView",
            "description_width": ""
          }
        },
        "cda89c0d54184e9e872d6fe4697980c9": {
          "model_module": "@jupyter-widgets/base",
          "model_name": "LayoutModel",
          "model_module_version": "1.2.0",
          "state": {
            "_model_module": "@jupyter-widgets/base",
            "_model_module_version": "1.2.0",
            "_model_name": "LayoutModel",
            "_view_count": null,
            "_view_module": "@jupyter-widgets/base",
            "_view_module_version": "1.2.0",
            "_view_name": "LayoutView",
            "align_content": null,
            "align_items": null,
            "align_self": null,
            "border": null,
            "bottom": null,
            "display": null,
            "flex": null,
            "flex_flow": null,
            "grid_area": null,
            "grid_auto_columns": null,
            "grid_auto_flow": null,
            "grid_auto_rows": null,
            "grid_column": null,
            "grid_gap": null,
            "grid_row": null,
            "grid_template_areas": null,
            "grid_template_columns": null,
            "grid_template_rows": null,
            "height": null,
            "justify_content": null,
            "justify_items": null,
            "left": null,
            "margin": null,
            "max_height": null,
            "max_width": null,
            "min_height": null,
            "min_width": null,
            "object_fit": null,
            "object_position": null,
            "order": null,
            "overflow": null,
            "overflow_x": null,
            "overflow_y": null,
            "padding": null,
            "right": null,
            "top": null,
            "visibility": null,
            "width": null
          }
        },
        "a39d92f7edf8498b995f850dcc3998eb": {
          "model_module": "@jupyter-widgets/controls",
          "model_name": "ProgressStyleModel",
          "model_module_version": "1.5.0",
          "state": {
            "_model_module": "@jupyter-widgets/controls",
            "_model_module_version": "1.5.0",
            "_model_name": "ProgressStyleModel",
            "_view_count": null,
            "_view_module": "@jupyter-widgets/base",
            "_view_module_version": "1.2.0",
            "_view_name": "StyleView",
            "bar_color": "green",
            "description_width": ""
          }
        },
        "c92be0daae5a4f9e8b7f86ecc1b64d74": {
          "model_module": "@jupyter-widgets/base",
          "model_name": "LayoutModel",
          "model_module_version": "1.2.0",
          "state": {
            "_model_module": "@jupyter-widgets/base",
            "_model_module_version": "1.2.0",
            "_model_name": "LayoutModel",
            "_view_count": null,
            "_view_module": "@jupyter-widgets/base",
            "_view_module_version": "1.2.0",
            "_view_name": "LayoutView",
            "align_content": null,
            "align_items": null,
            "align_self": null,
            "border": null,
            "bottom": null,
            "display": null,
            "flex": null,
            "flex_flow": null,
            "grid_area": null,
            "grid_auto_columns": null,
            "grid_auto_flow": null,
            "grid_auto_rows": null,
            "grid_column": null,
            "grid_gap": null,
            "grid_row": null,
            "grid_template_areas": null,
            "grid_template_columns": null,
            "grid_template_rows": null,
            "height": null,
            "justify_content": null,
            "justify_items": null,
            "left": null,
            "margin": null,
            "max_height": null,
            "max_width": null,
            "min_height": null,
            "min_width": null,
            "object_fit": null,
            "object_position": null,
            "order": null,
            "overflow": null,
            "overflow_x": null,
            "overflow_y": null,
            "padding": null,
            "right": null,
            "top": null,
            "visibility": null,
            "width": null
          }
        },
        "714e9a3828514508ab157b09b9b2d041": {
          "model_module": "@jupyter-widgets/controls",
          "model_name": "DescriptionStyleModel",
          "model_module_version": "1.5.0",
          "state": {
            "_model_module": "@jupyter-widgets/controls",
            "_model_module_version": "1.5.0",
            "_model_name": "DescriptionStyleModel",
            "_view_count": null,
            "_view_module": "@jupyter-widgets/base",
            "_view_module_version": "1.2.0",
            "_view_name": "StyleView",
            "description_width": ""
          }
        },
        "c2d747f18231474dbf72f4375683b7a8": {
          "model_module": "@jupyter-widgets/controls",
          "model_name": "HBoxModel",
          "model_module_version": "1.5.0",
          "state": {
            "_dom_classes": [],
            "_model_module": "@jupyter-widgets/controls",
            "_model_module_version": "1.5.0",
            "_model_name": "HBoxModel",
            "_view_count": null,
            "_view_module": "@jupyter-widgets/controls",
            "_view_module_version": "1.5.0",
            "_view_name": "HBoxView",
            "box_style": "",
            "children": [
              "IPY_MODEL_21ac2ad72560401a8a4b478a2ec41d9c",
              "IPY_MODEL_69193f44f5e74a89a32cc4f1ad24ee4e",
              "IPY_MODEL_4d6eb679916d4d12abbb5762d4fb3b96"
            ],
            "layout": "IPY_MODEL_9a4b5253c6cc41e2be16d46bf804b405"
          }
        },
        "21ac2ad72560401a8a4b478a2ec41d9c": {
          "model_module": "@jupyter-widgets/controls",
          "model_name": "HTMLModel",
          "model_module_version": "1.5.0",
          "state": {
            "_dom_classes": [],
            "_model_module": "@jupyter-widgets/controls",
            "_model_module_version": "1.5.0",
            "_model_name": "HTMLModel",
            "_view_count": null,
            "_view_module": "@jupyter-widgets/controls",
            "_view_module_version": "1.5.0",
            "_view_name": "HTMLView",
            "description": "",
            "description_tooltip": null,
            "layout": "IPY_MODEL_278f4d065af04770beb0642c19835f3a",
            "placeholder": "​",
            "style": "IPY_MODEL_113505ed967d4ff2977215e156d60497",
            "value": "Refuting Estimates: 100%"
          }
        },
        "69193f44f5e74a89a32cc4f1ad24ee4e": {
          "model_module": "@jupyter-widgets/controls",
          "model_name": "FloatProgressModel",
          "model_module_version": "1.5.0",
          "state": {
            "_dom_classes": [],
            "_model_module": "@jupyter-widgets/controls",
            "_model_module_version": "1.5.0",
            "_model_name": "FloatProgressModel",
            "_view_count": null,
            "_view_module": "@jupyter-widgets/controls",
            "_view_module_version": "1.5.0",
            "_view_name": "ProgressView",
            "bar_style": "success",
            "description": "",
            "description_tooltip": null,
            "layout": "IPY_MODEL_b959c77e93f3401daefa84286972b517",
            "max": 100,
            "min": 0,
            "orientation": "horizontal",
            "style": "IPY_MODEL_c3cb3616dbcf4df199d549ee9e060f3b",
            "value": 100
          }
        },
        "4d6eb679916d4d12abbb5762d4fb3b96": {
          "model_module": "@jupyter-widgets/controls",
          "model_name": "HTMLModel",
          "model_module_version": "1.5.0",
          "state": {
            "_dom_classes": [],
            "_model_module": "@jupyter-widgets/controls",
            "_model_module_version": "1.5.0",
            "_model_name": "HTMLModel",
            "_view_count": null,
            "_view_module": "@jupyter-widgets/controls",
            "_view_module_version": "1.5.0",
            "_view_name": "HTMLView",
            "description": "",
            "description_tooltip": null,
            "layout": "IPY_MODEL_4bd6bb5c0af74a89bea0005baf7a8c16",
            "placeholder": "​",
            "style": "IPY_MODEL_f12027e6ce0d4e1b90fc006b23d23f4d",
            "value": " 100/100 [00:04&lt;00:00, 39.34it/s]"
          }
        },
        "9a4b5253c6cc41e2be16d46bf804b405": {
          "model_module": "@jupyter-widgets/base",
          "model_name": "LayoutModel",
          "model_module_version": "1.2.0",
          "state": {
            "_model_module": "@jupyter-widgets/base",
            "_model_module_version": "1.2.0",
            "_model_name": "LayoutModel",
            "_view_count": null,
            "_view_module": "@jupyter-widgets/base",
            "_view_module_version": "1.2.0",
            "_view_name": "LayoutView",
            "align_content": null,
            "align_items": null,
            "align_self": null,
            "border": null,
            "bottom": null,
            "display": null,
            "flex": null,
            "flex_flow": null,
            "grid_area": null,
            "grid_auto_columns": null,
            "grid_auto_flow": null,
            "grid_auto_rows": null,
            "grid_column": null,
            "grid_gap": null,
            "grid_row": null,
            "grid_template_areas": null,
            "grid_template_columns": null,
            "grid_template_rows": null,
            "height": null,
            "justify_content": null,
            "justify_items": null,
            "left": null,
            "margin": null,
            "max_height": null,
            "max_width": null,
            "min_height": null,
            "min_width": null,
            "object_fit": null,
            "object_position": null,
            "order": null,
            "overflow": null,
            "overflow_x": null,
            "overflow_y": null,
            "padding": null,
            "right": null,
            "top": null,
            "visibility": null,
            "width": null
          }
        },
        "278f4d065af04770beb0642c19835f3a": {
          "model_module": "@jupyter-widgets/base",
          "model_name": "LayoutModel",
          "model_module_version": "1.2.0",
          "state": {
            "_model_module": "@jupyter-widgets/base",
            "_model_module_version": "1.2.0",
            "_model_name": "LayoutModel",
            "_view_count": null,
            "_view_module": "@jupyter-widgets/base",
            "_view_module_version": "1.2.0",
            "_view_name": "LayoutView",
            "align_content": null,
            "align_items": null,
            "align_self": null,
            "border": null,
            "bottom": null,
            "display": null,
            "flex": null,
            "flex_flow": null,
            "grid_area": null,
            "grid_auto_columns": null,
            "grid_auto_flow": null,
            "grid_auto_rows": null,
            "grid_column": null,
            "grid_gap": null,
            "grid_row": null,
            "grid_template_areas": null,
            "grid_template_columns": null,
            "grid_template_rows": null,
            "height": null,
            "justify_content": null,
            "justify_items": null,
            "left": null,
            "margin": null,
            "max_height": null,
            "max_width": null,
            "min_height": null,
            "min_width": null,
            "object_fit": null,
            "object_position": null,
            "order": null,
            "overflow": null,
            "overflow_x": null,
            "overflow_y": null,
            "padding": null,
            "right": null,
            "top": null,
            "visibility": null,
            "width": null
          }
        },
        "113505ed967d4ff2977215e156d60497": {
          "model_module": "@jupyter-widgets/controls",
          "model_name": "DescriptionStyleModel",
          "model_module_version": "1.5.0",
          "state": {
            "_model_module": "@jupyter-widgets/controls",
            "_model_module_version": "1.5.0",
            "_model_name": "DescriptionStyleModel",
            "_view_count": null,
            "_view_module": "@jupyter-widgets/base",
            "_view_module_version": "1.2.0",
            "_view_name": "StyleView",
            "description_width": ""
          }
        },
        "b959c77e93f3401daefa84286972b517": {
          "model_module": "@jupyter-widgets/base",
          "model_name": "LayoutModel",
          "model_module_version": "1.2.0",
          "state": {
            "_model_module": "@jupyter-widgets/base",
            "_model_module_version": "1.2.0",
            "_model_name": "LayoutModel",
            "_view_count": null,
            "_view_module": "@jupyter-widgets/base",
            "_view_module_version": "1.2.0",
            "_view_name": "LayoutView",
            "align_content": null,
            "align_items": null,
            "align_self": null,
            "border": null,
            "bottom": null,
            "display": null,
            "flex": null,
            "flex_flow": null,
            "grid_area": null,
            "grid_auto_columns": null,
            "grid_auto_flow": null,
            "grid_auto_rows": null,
            "grid_column": null,
            "grid_gap": null,
            "grid_row": null,
            "grid_template_areas": null,
            "grid_template_columns": null,
            "grid_template_rows": null,
            "height": null,
            "justify_content": null,
            "justify_items": null,
            "left": null,
            "margin": null,
            "max_height": null,
            "max_width": null,
            "min_height": null,
            "min_width": null,
            "object_fit": null,
            "object_position": null,
            "order": null,
            "overflow": null,
            "overflow_x": null,
            "overflow_y": null,
            "padding": null,
            "right": null,
            "top": null,
            "visibility": null,
            "width": null
          }
        },
        "c3cb3616dbcf4df199d549ee9e060f3b": {
          "model_module": "@jupyter-widgets/controls",
          "model_name": "ProgressStyleModel",
          "model_module_version": "1.5.0",
          "state": {
            "_model_module": "@jupyter-widgets/controls",
            "_model_module_version": "1.5.0",
            "_model_name": "ProgressStyleModel",
            "_view_count": null,
            "_view_module": "@jupyter-widgets/base",
            "_view_module_version": "1.2.0",
            "_view_name": "StyleView",
            "bar_color": "green",
            "description_width": ""
          }
        },
        "4bd6bb5c0af74a89bea0005baf7a8c16": {
          "model_module": "@jupyter-widgets/base",
          "model_name": "LayoutModel",
          "model_module_version": "1.2.0",
          "state": {
            "_model_module": "@jupyter-widgets/base",
            "_model_module_version": "1.2.0",
            "_model_name": "LayoutModel",
            "_view_count": null,
            "_view_module": "@jupyter-widgets/base",
            "_view_module_version": "1.2.0",
            "_view_name": "LayoutView",
            "align_content": null,
            "align_items": null,
            "align_self": null,
            "border": null,
            "bottom": null,
            "display": null,
            "flex": null,
            "flex_flow": null,
            "grid_area": null,
            "grid_auto_columns": null,
            "grid_auto_flow": null,
            "grid_auto_rows": null,
            "grid_column": null,
            "grid_gap": null,
            "grid_row": null,
            "grid_template_areas": null,
            "grid_template_columns": null,
            "grid_template_rows": null,
            "height": null,
            "justify_content": null,
            "justify_items": null,
            "left": null,
            "margin": null,
            "max_height": null,
            "max_width": null,
            "min_height": null,
            "min_width": null,
            "object_fit": null,
            "object_position": null,
            "order": null,
            "overflow": null,
            "overflow_x": null,
            "overflow_y": null,
            "padding": null,
            "right": null,
            "top": null,
            "visibility": null,
            "width": null
          }
        },
        "f12027e6ce0d4e1b90fc006b23d23f4d": {
          "model_module": "@jupyter-widgets/controls",
          "model_name": "DescriptionStyleModel",
          "model_module_version": "1.5.0",
          "state": {
            "_model_module": "@jupyter-widgets/controls",
            "_model_module_version": "1.5.0",
            "_model_name": "DescriptionStyleModel",
            "_view_count": null,
            "_view_module": "@jupyter-widgets/base",
            "_view_module_version": "1.2.0",
            "_view_name": "StyleView",
            "description_width": ""
          }
        }
      }
    }
  },
  "nbformat": 4,
  "nbformat_minor": 0
}